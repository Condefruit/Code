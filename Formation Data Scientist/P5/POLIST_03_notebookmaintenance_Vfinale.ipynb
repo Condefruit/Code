{
 "cells": [
  {
   "cell_type": "markdown",
   "metadata": {},
   "source": [
    "As a consultant for Olist (online solution for marketplaces),\n",
    "we are commissioned to segment their client database. <br>\n",
    "The goal is to establish a base for their communication campaigns. <br> \n",
    "They also require a maintenance contract based on a stability analysis of the different segments over time.\n",
    "\n",
    "pd.show_versions() <br>\n",
    "pandas version : 1.0.5 <br>\n",
    "numpy version : 1.18.5 <br>\n",
    "seaborn version : 0.11.2 <br>\n",
    "matplotlib version : 3.2.2 <br>\n",
    "\n",
    "This is the tryout notebook where I put to the test different clustering algorithms : <br>\n",
    "\n",
    "Usual loadings <br>\n",
    "Part 1 - <a href='#Oper'> Operations on a dataframe <br>\n",
    "$\\;\\;\\;\\;\\;\\;$ <a href='#apply'> Apply function on the dataframe <br>\n",
    "Part 2 - <a href='#create'> Creating the different time selected datafram <br>\n",
    "$\\;\\;\\;\\;\\;\\;\\;\\;\\;\\;\\;\\;$ <a href='#appdf'> Apply on dfs </a> <br>\n",
    "<a href='#reload'> Reloading </a> <br>\n",
    "Part 3 - <a href='#transfo'> Transforming functions </a> <br>\n",
    "$\\;\\;\\;\\;\\;\\;$ <a href='#df0'> 1 year, 4 months and 10 days <br>\n",
    "$\\;\\;\\;\\;\\;\\;$ <a href='#df1'> t0 + 1 month <br>\n",
    "$\\;\\;\\;\\;\\;\\;$ <a href='#df2'> t0 + 3 months <br>\n",
    "$\\;\\;\\;\\;\\;\\;$ <a href='#df3'> t0 + 6 months <br>\n",
    "Part 4 - <a href='#ari'> Ari Score </a>"
   ]
  },
  {
   "cell_type": "markdown",
   "metadata": {},
   "source": [
    "#### Usual imports and options"
   ]
  },
  {
   "cell_type": "code",
   "execution_count": 1,
   "metadata": {},
   "outputs": [],
   "source": [
    "#pip install plotly==5.4.0 # for plotly.express"
   ]
  },
  {
   "cell_type": "code",
   "execution_count": 2,
   "metadata": {},
   "outputs": [],
   "source": [
    "import numpy as np\n",
    "import pandas as pd\n",
    "import matplotlib.pyplot as plt\n",
    "import seaborn as sns\n",
    "import plotly.express as px\n",
    "from math import * #for ceil()"
   ]
  },
  {
   "cell_type": "code",
   "execution_count": 59,
   "metadata": {},
   "outputs": [],
   "source": [
    "import plotly.graph_objects as go"
   ]
  },
  {
   "cell_type": "code",
   "execution_count": 3,
   "metadata": {},
   "outputs": [],
   "source": [
    "# col width\n",
    "pd.set_option('max_colwidth', 120)\n",
    "# option to be able see all columns\n",
    "pd.set_option('max_columns', None)\n",
    "# max lanes display\n",
    "pd.options.display.max_rows = 5000"
   ]
  },
  {
   "cell_type": "code",
   "execution_count": 4,
   "metadata": {},
   "outputs": [],
   "source": [
    "import time\n",
    "from datetime import date, datetime"
   ]
  },
  {
   "cell_type": "code",
   "execution_count": 5,
   "metadata": {},
   "outputs": [],
   "source": [
    "from sklearn.cluster import KMeans\n",
    "from sklearn import cluster, metrics\n",
    "import scipy.cluster.hierarchy as shc\n",
    "from sklearn.cluster import DBSCAN"
   ]
  },
  {
   "cell_type": "code",
   "execution_count": 8,
   "metadata": {},
   "outputs": [
    {
     "name": "stdout",
     "output_type": "stream",
     "text": [
      "total time:  1.2547204494476318 sec\n"
     ]
    }
   ],
   "source": [
    "start = time.time()\n",
    "dorder = pd.read_csv('dorder_clean_pre_fe.csv')\n",
    "dorder.drop(['Unnamed: 0'], axis = 1, inplace=True)\n",
    "#dorder.drop(['Unnamed: 70'], axis = 1, inplace=True)\n",
    "end = time.time()\n",
    "print(\"total time: \",(end - start),\"sec\")"
   ]
  },
  {
   "cell_type": "code",
   "execution_count": 9,
   "metadata": {},
   "outputs": [],
   "source": [
    "# get ANOVA table as R like output\n",
    "import statsmodels.api as sm\n",
    "from statsmodels.formula.api import ols\n",
    "from bioinfokit.analys import stat"
   ]
  },
  {
   "cell_type": "code",
   "execution_count": 10,
   "metadata": {},
   "outputs": [],
   "source": [
    "# Transformers\n",
    "from sklearn import preprocessing\n",
    "from sklearn.preprocessing import RobustScaler\n",
    "from sklearn.preprocessing import OneHotEncoder\n",
    "from sklearn.preprocessing import MinMaxScaler"
   ]
  },
  {
   "cell_type": "code",
   "execution_count": 11,
   "metadata": {},
   "outputs": [],
   "source": [
    "from sklearn import decomposition\n",
    "from sklearn.decomposition import PCA\n",
    "from functions import *"
   ]
  },
  {
   "cell_type": "code",
   "execution_count": 12,
   "metadata": {},
   "outputs": [],
   "source": [
    "from sklearn.cluster import KMeans\n",
    "from sklearn import cluster, metrics\n",
    "import scipy.cluster.hierarchy as shc\n",
    "from sklearn.cluster import DBSCAN"
   ]
  },
  {
   "cell_type": "code",
   "execution_count": 13,
   "metadata": {},
   "outputs": [],
   "source": [
    "#pip install yellowbrick # for Yellobrick visualisations"
   ]
  },
  {
   "cell_type": "code",
   "execution_count": 14,
   "metadata": {},
   "outputs": [],
   "source": [
    "# Visualisation\n",
    "\n",
    "from sklearn.cluster import MiniBatchKMeans\n",
    "from yellowbrick.cluster import KElbowVisualizer, SilhouetteVisualizer, InterclusterDistance, intercluster_distance"
   ]
  },
  {
   "cell_type": "code",
   "execution_count": 15,
   "metadata": {},
   "outputs": [],
   "source": [
    "#preprocessing\n",
    "from sklearn import preprocessing\n",
    "from sklearn.preprocessing import RobustScaler\n",
    "from sklearn.preprocessing import OneHotEncoder\n",
    "from sklearn.preprocessing import MinMaxScaler\n",
    "\n",
    "std_scale = preprocessing.StandardScaler()"
   ]
  },
  {
   "cell_type": "code",
   "execution_count": 120,
   "metadata": {},
   "outputs": [],
   "source": [
    "from sklearn.metrics.cluster import adjusted_rand_score"
   ]
  },
  {
   "cell_type": "markdown",
   "metadata": {},
   "source": [
    "#### fonctions"
   ]
  },
  {
   "cell_type": "code",
   "execution_count": 208,
   "metadata": {},
   "outputs": [],
   "source": [
    "def polarplt(df, cluster_column, selection) :\n",
    "    # selection are the criteria represented in the polar plot\n",
    "\n",
    "    fig = go.Figure()\n",
    "    \n",
    "    names = []    \n",
    "    mean_Number_of_orders = []\n",
    "    selected = list(df)\n",
    "    clusters_uniq = df[cluster_column].unique()\n",
    "\n",
    "    for i in range(len(clusters_uniq)) :\n",
    "        names.append('cluster' + ' ' + str(clusters_uniq[i]))\n",
    "        means_c = []\n",
    "        Mean_cluster = df[df[cluster_column].isin([clusters_uniq[i]])]\n",
    "        for y in range(len(selection)) :\n",
    "            a = Mean_cluster[selection[y]]\n",
    "            norma = ((a - min(a)) / (max(a) - min(a)))\n",
    "            norma = a / max(a)\n",
    "            meana = norma.mean()\n",
    "            means_c.append(norma.mean())\n",
    "    \n",
    "        fig.add_trace(go.Scatterpolar(r=means_c, theta=selected, name=names[i]))\n",
    "    \n",
    "    fig.update_layout(\n",
    "      polar=dict(\n",
    "        radialaxis=dict(\n",
    "          visible=True,\n",
    "          range=[0, 1]\n",
    "        )),\n",
    "      showlegend=True\n",
    "    )\n",
    "    fig.show()"
   ]
  },
  {
   "cell_type": "code",
   "execution_count": 16,
   "metadata": {},
   "outputs": [],
   "source": [
    "#pip install bioinfokit"
   ]
  },
  {
   "cell_type": "code",
   "execution_count": 17,
   "metadata": {},
   "outputs": [],
   "source": [
    "# Boxplot function + ANNOVA + STATS (p value for the whole and 2 by 2)\n",
    "# df : name of the dataframe\n",
    "# x is the name of the qualitative column (example : 'category')\n",
    "# y is the name of the quantitative column (example : 'value')\n",
    "# Tukey = 1 (stats 2 by 2)\n",
    "# showfliers on/off ; sort = 1 : sort the resulting boxplot\n",
    "\n",
    "def boxplots(df, x, y, tukey=1, size=(8,6), showfliers=False, sort = 0, font=50) :\n",
    "\n",
    "    dfnona = df[df[y].notna()]\n",
    "    X = x # qualitative\n",
    "    Y = y # quantitative\n",
    "\n",
    "    if sort == 1 :\n",
    "        modalites = sorted(dfnona[X].unique(), reverse=False)\n",
    "    elif sort == 2 :\n",
    "        modalites = sorted(dfnona[X].unique(), reverse=True)\n",
    "    else :\n",
    "        modalites = dfnona[X].unique()\n",
    "        \n",
    "    groupes = []\n",
    "    for m in modalites:\n",
    "        groupes.append(dfnona[dfnona[X]==m][Y])\n",
    "\n",
    "    # Propriétés graphiques (pas très importantes)    \n",
    "    medianprops = {'color':\"black\"}\n",
    "    meanprops = {'marker':'o', 'markeredgecolor':'black',\n",
    "                'markerfacecolor':'firebrick'}\n",
    "\n",
    "    fig, ax = plt.subplots(figsize=size)\n",
    "    ax.set_title(str(x)+' / '+str(y), fontsize=16)\n",
    "    ax.set_xlabel(y, fontsize=14)\n",
    "    ax.set_ylabel(x, fontsize=14) \n",
    "    # medianpropsdict, default: None / The style of the median\n",
    "    # meanpropsdict, default: None / The style of the mean\n",
    "    # vertbool, default: True / If True, draws vertical boxes. If False, draw horizontal boxes.\n",
    "    # patch_artistbool, default: False / If False produces boxes with the Line2D artist. Otherwise, with Patch artists.\n",
    "    plt.boxplot(\n",
    "        groupes,\n",
    "        labels=modalites,\n",
    "        showfliers=showfliers,\n",
    "        medianprops=medianprops,\n",
    "        vert=False,\n",
    "        patch_artist=True,\n",
    "        showmeans=True,\n",
    "        meanprops=meanprops\n",
    "    )\n",
    "    plt.show()\n",
    "    plt.rcParams.update({\"font.size\" : font})   \n",
    "    \n",
    "    df2 = df.melt(id_vars=[X], value_vars=[Y])\n",
    "    df2.columns = ['catquali', 'attribut', 'value']\n",
    "    \n",
    "    # Ordinary Least Squares (OLS) model\n",
    "    modelanova = ols('value ~ C(catquali)', data=df2).fit()\n",
    "    anova_table = sm.stats.anova_lm(modelanova, typ=2)\n",
    "    print(anova_table)\n",
    "    \n",
    "    # we will use bioinfokit (v1.0.3 or later) for performing tukey HSD test\n",
    "    # #pip install bioinfokit\n",
    "    # check documentation here https://github.com/reneshbedre/bioinfokit\n",
    "    # perform multiple pairwise comparison (Tukey's HSD)\n",
    "    # unequal sample size data, tukey_hsd uses Tukey-Kramer test\n",
    "    if tukey == 1 :\n",
    "        res = stat()\n",
    "        res.tukey_hsd(df=df2, res_var='value', xfac_var='catquali', anova_model='value ~ C(catquali)')\n",
    "        print(res.tukey_summary)"
   ]
  },
  {
   "cell_type": "code",
   "execution_count": 19,
   "metadata": {},
   "outputs": [],
   "source": [
    "# fig  + linear regression\n",
    "from sklearn import linear_model\n",
    "\n",
    "def quantiquanti(df, cat1, cat2, regl = 0, co = 0) :\n",
    "    \n",
    "    X = cat1\n",
    "    Y = cat2\n",
    "    Z = df[[X, Y]].copy().dropna()\n",
    "\n",
    "    reg = linear_model.LinearRegression()\n",
    "    reg.fit(Z[[X]], Z[Y])\n",
    "    rez = reg.predict(Z[[X]])\n",
    "    \n",
    "    if co == 1 :\n",
    "        # Coefficient\n",
    "        print('Coefficients: \\n', reg.coef_)\n",
    "        # The mean squared error\n",
    "        print('Mean squared error: %.2f'\n",
    "          % mean_squared_error(Z[X], Z[Y]))\n",
    "        # Coefficient de détermination: 1 est la prédiction parfaite\n",
    "        print('Coefficient of determination: %.2f'\n",
    "          % r2_score(Z[X], Z[Y]))\n",
    "    \n",
    "    plt.scatter(Z[X], Z[Y],  color='blue')\n",
    "    \n",
    "    if regl == 1 :\n",
    "        plt.plot(Z[X], rez, color='red', linewidth=1)\n",
    "    \n",
    "    plt.xlabel(X)\n",
    "    plt.ylabel(Y)\n",
    "\n",
    "    plt.show()"
   ]
  },
  {
   "cell_type": "markdown",
   "metadata": {},
   "source": [
    "<a id='Oper' />\n",
    "\n",
    "# Part 1 - Operation on a dataframe"
   ]
  },
  {
   "cell_type": "code",
   "execution_count": 17,
   "metadata": {},
   "outputs": [],
   "source": [
    "#from datetime to number of days\n",
    "\n",
    "def trans_datetime(df) :\n",
    "\n",
    "    startt = time.time()\n",
    "\n",
    "    for i in range(df.shape[0]) :\n",
    "        time_in_sec_from_Jan_1970 = datetime.timestamp(datetime.strptime(df.loc[i, 'order_purchase_timestamp'], \"%Y-%m-%d %X\"))\n",
    "        time_in_sec_from_Jan_2016 = (time_in_sec_from_Jan_1970 - ((60 * 60 * 24)) * (35*(365)+11*(366))) #to avoid any loss of info (check the number of diggits)\n",
    "        time_in_days_from_Jan_2016 = (time_in_sec_from_Jan_1970 / (60 * 60 * 24)) - (35*(365)+11*(366))\n",
    "        df.loc[i, 'Time_of_purchase'] = time_in_days_from_Jan_2016\n",
    "        df.loc[i, 'Time_of_purchase_sec'] = time_in_sec_from_Jan_2016\n",
    "\n",
    "    endt = time.time()\n",
    "    print(\"total time: \",(endt - startt),\"sec\")"
   ]
  },
  {
   "cell_type": "code",
   "execution_count": 18,
   "metadata": {},
   "outputs": [],
   "source": [
    "def numb_first_last_rec_freq(df, lastnum_year_2016) :\n",
    "    startt = time.time()\n",
    "\n",
    "    unicusto = df['customer_unique_id'].unique()\n",
    "\n",
    "    df['Number_of_orders'] = 1\n",
    "    df['First_order_time'] = 1\n",
    "    df['Last_order_time'] = 1\n",
    "    df['Recency'] = 1\n",
    "    df['Frequency'] = 1\n",
    "\n",
    "    for i in range(len(unicusto)) :\n",
    "        coco = df[df['customer_unique_id'].isin([unicusto[i]])]\n",
    "        lastcoco = max(coco['Time_of_purchase_sec'])\n",
    "        firstcoco = min(coco['Time_of_purchase_sec'])\n",
    "        indexcoco = coco.index.tolist()\n",
    "        numb = len(coco['order_id'].unique())\n",
    "    \n",
    "        df['Number_of_orders'].loc[indexcoco] = numb\n",
    "        df['First_order_time'].loc[indexcoco] = firstcoco\n",
    "        df['Last_order_time'].loc[indexcoco] = lastcoco\n",
    "        df['Recency'].loc[indexcoco] = (((lastnum_year_2016 * 24 * 60 *60) - lastcoco) / 60 / 60 / 24)\n",
    "        if lastcoco != firstcoco :\n",
    "            # in sec\n",
    "            bob = (df.loc[[indexcoco][0]]['Number_of_orders']/((lastcoco - firstcoco)**(1/4)))\n",
    "            df['Frequency'].loc[indexcoco] = bob\n",
    "        \n",
    "    endt = time.time()\n",
    "    print(\"total time: \",(endt - startt),\"sec\")"
   ]
  },
  {
   "cell_type": "code",
   "execution_count": 19,
   "metadata": {},
   "outputs": [],
   "source": [
    "def total_money_for_one_order(df) :\n",
    "\n",
    "    # Total money spent for one order\n",
    "    start = time.time()\n",
    "\n",
    "    base = df['order_id'].unique() # Selection of all the unique order ids\n",
    "\n",
    "    df['total_payment_value'] = df['payment_value']\n",
    "\n",
    "    order_spending = df.copy()[[\n",
    "        'order_id', 'order_item_id', 'price', 'freight_value', 'payment_sequential',\n",
    "        'payment_installments']]\n",
    "\n",
    "    for i in range(len(base)) :\n",
    "        unique_order_id = order_spending['order_id'].isin([base[i]])\n",
    "        echanti = order_spending[unique_order_id] # selecting one unique order_id\n",
    "    \n",
    "        echantindex = echanti.index.tolist() # Stroring the indexes to attribute later calculated values\n",
    "    \n",
    "        payment_seq = echanti[echanti['payment_sequential'] == 1] # Removing the multiple payment installements\n",
    "    \n",
    "        payment_seq.drop_duplicates() # Droping the multiple reviews\n",
    "    \n",
    "        total = payment_seq['price'].sum() + payment_seq['freight_value'].sum()\n",
    "    \n",
    "        df['total_payment_value'].loc[echantindex] = total\n",
    "        \n",
    "    end = time.time()\n",
    "    print(\"total time: \",(end - start),\"sec\")"
   ]
  },
  {
   "cell_type": "code",
   "execution_count": 20,
   "metadata": {},
   "outputs": [],
   "source": [
    "def total_spent_by_a_customer(df) :\n",
    "\n",
    "    #Total value of all the payments for one customer\n",
    "    start = time.time()\n",
    "\n",
    "    df['tot_customer_spending'] = df['total_payment_value']\n",
    "\n",
    "    basec = df['customer_unique_id'].unique()\n",
    "\n",
    "    for i in range(len(basec)) :\n",
    "        echantc = df[df['customer_unique_id'].isin([basec[i]])]\n",
    "        zuap = echantc['order_id'].unique()\n",
    "        if len(zuap) > 1 :\n",
    "            tota = 0\n",
    "            echantv = echantc.index.tolist()\n",
    "            zuap = echantc['order_id'].unique()\n",
    "            for i in range(len(zuap)) :\n",
    "                tota = tota + echantc[echantc['order_id'].isin([zuap[i]])]['total_payment_value'].iloc[0]\n",
    "            df['tot_customer_spending'].loc[echantv] = tota\n",
    "                \n",
    "    end = time.time()\n",
    "    print(\"total time: \",(end - start),\"sec\")"
   ]
  },
  {
   "cell_type": "code",
   "execution_count": 21,
   "metadata": {},
   "outputs": [],
   "source": [
    "def mean_review_for_an_order(df) :\n",
    "    start = time.time()\n",
    "\n",
    "    #df.insert(13, 'mean_review_score', df['review_score'].copy())\n",
    "    df['mean_review_score'] = df['review_score'].copy()\n",
    "\n",
    "    choci = df.dropna(subset=['review_id'])    # removing the Nan\n",
    "    choco = choci['order_id'].unique()\n",
    "\n",
    "    for i in range(len(choco)) :\n",
    "        revlist = df[df['order_id'].isin([choco[i]])]\n",
    "        revuni = revlist['review_id'].unique()\n",
    "        if len(revuni) > 1 :\n",
    "            note = 0\n",
    "            revindex = revlist.index.tolist()\n",
    "            for i in range(len(revuni)) :\n",
    "                note = note + revlist[revlist['review_id'].isin([revuni[i]])]['review_score'].iloc[0]\n",
    "            df['mean_review_score'].loc[revindex] = note / len(revuni)\n",
    "                \n",
    "    end = time.time()\n",
    "    print(\"total time: \",(end - start),\"sec\")"
   ]
  },
  {
   "cell_type": "code",
   "execution_count": 22,
   "metadata": {},
   "outputs": [],
   "source": [
    "def mean_review_for_one_customer(df) :\n",
    "    start = time.time()\n",
    "\n",
    "    df['Cus_mean_review_score'] = df['review_score']\n",
    "    cuz = df.dropna(subset=['Cus_mean_review_score'])    # removing the na()\n",
    "\n",
    "    unicusty = cuz['customer_unique_id'].unique()\n",
    "\n",
    "    for i in range(len(unicusty)) :\n",
    "        coco = cuz[cuz['customer_unique_id'].isin([unicusty[i]])]    # selecting one unique customer\n",
    "        nb_order = coco['order_id'].unique()\n",
    "        mean_sco = 0\n",
    "        if len(nb_order) > 1 :\n",
    "            indexcoco = coco.index.tolist()   # selecting the index related to this specific customer\n",
    "            for i in range(len(nb_order)) :\n",
    "                mean_sco = mean_sco + coco[coco['order_id'].isin([nb_order[i]])]['review_score'].iloc[0]\n",
    "            df['Cus_mean_review_score'].loc[indexcoco] =  mean_sco / len(nb_order)\n",
    "    \n",
    "    end = time.time()\n",
    "    print(\"total time: \",(end - start),\"sec\")"
   ]
  },
  {
   "cell_type": "code",
   "execution_count": 23,
   "metadata": {},
   "outputs": [],
   "source": [
    "def delivery_time(df) :\n",
    "\n",
    "    # df.insert(24, 'order_delivered_time', np.nan)\n",
    "    # df.insert(26, 'order_estimated_delivery', np.nan)\n",
    "    df['order_delivered_time'] = np.nan\n",
    "    df['order_estimated_delivery'] = np.nan\n",
    "\n",
    "    #from datetime to number of days\n",
    "    startt = time.time()\n",
    "\n",
    "    for i in range(df.shape[0]) :\n",
    "        if (df.loc[i, 'order_delivered_customer_date'] == df.loc[i, 'order_delivered_customer_date']) :\n",
    "            delivered_in_sec_from_Jan_1970 = datetime.timestamp(datetime.strptime(df.loc[i, 'order_delivered_customer_date'],\n",
    "                                                                          \"%Y-%m-%d %X\"))    \n",
    "            delivered_in_days_from_Jan_2016 = (delivered_in_sec_from_Jan_1970 / (60 * 60 * 24)) - (35*(365)+11*(366))\n",
    "            df.loc[i, 'order_delivered_time'] = delivered_in_days_from_Jan_2016\n",
    "    \n",
    "        if (df.loc[i, 'order_estimated_delivery_date'] == df.loc[i, 'order_estimated_delivery_date']) :\n",
    "            estimated_in_sec_from_Jan_1970 = datetime.timestamp(datetime.strptime(df.loc[i, 'order_estimated_delivery_date'],\n",
    "                                                                          \"%Y-%m-%d %X\"))\n",
    "            estimated_in_days_from_Jan_2016 = (estimated_in_sec_from_Jan_1970 / (60 * 60 * 24)) - (35*(365)+11*(366))\n",
    "            df.loc[i, 'order_estimated_delivery'] = estimated_in_days_from_Jan_2016\n",
    "\n",
    "    endt = time.time()\n",
    "    print(\"total time: \",(endt - startt),\"sec\")"
   ]
  },
  {
   "cell_type": "code",
   "execution_count": 24,
   "metadata": {},
   "outputs": [],
   "source": [
    "def delay(df) :\n",
    "\n",
    "    #delay between the estimated time and the delivered time\n",
    "    # df.insert(27, 'delay_delivery', np.nan)\n",
    "    df['delay_delivery'] = np.nan\n",
    "\n",
    "    startt = time.time()\n",
    "\n",
    "    condd = 1\n",
    "    condition = [(condd == 1)]\n",
    "\n",
    "    choice = [df['order_estimated_delivery'] - df['order_delivered_time']] \n",
    "\n",
    "    df['delay_delivery'] = np.select(condlist= condition, choicelist=choice, default = df['delay_delivery'])\n",
    "          \n",
    "    endt = time.time()\n",
    "    print(\"total time: \",(endt - startt),\"sec\")"
   ]
  },
  {
   "cell_type": "code",
   "execution_count": 25,
   "metadata": {},
   "outputs": [],
   "source": [
    "def distance(df) :\n",
    "\n",
    "    #distance between buyer and seller\n",
    "    #df.insert(28, 'distance', np.nan)\n",
    "    df['distance'] = np.nan\n",
    "\n",
    "    startt = time.time()\n",
    "\n",
    "    condd = 1\n",
    "    condition = [(condd == 1)]\n",
    "\n",
    "    choice = [np.sqrt(np.absolute(np.square(df['geo_mlng_customer'] - df['geo_mlng_seller']) \n",
    "                                  + (df['geo_mlat_customer'] - df['geo_mlat_seller'])))] \n",
    "\n",
    "    df['distance'] = np.select(condlist= condition, choicelist=choice, default = df['distance'])\n",
    "          \n",
    "    endt = time.time()\n",
    "    print(\"total time: \",(endt - startt),\"sec\")"
   ]
  },
  {
   "cell_type": "code",
   "execution_count": 26,
   "metadata": {},
   "outputs": [],
   "source": [
    "def afining_the_catstartt(df) :\n",
    "\n",
    "    startt = time.time()\n",
    "\n",
    "    bol = 'categories'\n",
    "    df[bol] = df['product_category_name_english']\n",
    "\n",
    "    condition = [(df[bol] == 'cds_dvds_musicals') | (df[bol] == 'arts_and_craftmanship') \n",
    "                 | (df[bol] == 'flowers') | (df[bol] == 'music') | (df[bol] == 'books_imported') \n",
    "                 | (df[bol] == 'dvds_blu_ray') | (df[bol] == 'cine_photo') \n",
    "                 | (df[bol] == 'tablets_printing_image') | (df[bol] == 'art') | (df[bol] == 'fixed_telephony') \n",
    "                 | (df[bol] == 'books_technical') | (df[bol] == 'audio') \n",
    "                 | (df[bol] == 'books_general_interest') | (df[bol] == 'musical_instruments') \n",
    "                 | (df[bol] == 'telephony'),\n",
    "             \n",
    "                 (df[bol] == 'costruction_tools_tools') | (df[bol] == 'construction_tools_safety') \n",
    "                 | (df[bol] == 'costruction_tools_garden') | (df[bol] == 'agro_industry_and_commerce') \n",
    "                 | (df[bol] == 'industry_commerce_and_business') | (df[bol] == 'air_conditioning') \n",
    "                 | (df[bol] == 'construction_tools_lights') | (df[bol] == 'market_place') \n",
    "                 | (df[bol] == 'home_construction') | (df[bol] == 'construction_tools_construction') \n",
    "                 | (df[bol] == 'office_furniture') | (df[bol] == 'stationery'),\n",
    "             \n",
    "                 (df[bol] == 'security_and_services') | (df[bol] == 'signaling_and_security') \n",
    "                 | (df[bol] == 'computers') | (df[bol] == 'computers_accessories'),\n",
    "             \n",
    "                 (df[bol] == 'fashion_childrens_clothes') | (df[bol] == 'fashion_sport') \n",
    "                 | (df[bol] == 'diapers_and_hygiene') | (df[bol] == 'fashio_female_clothing') \n",
    "                 | (df[bol] == 'fashion_male_clothing') | (df[bol] == 'fashion_underwear_beach') \n",
    "                 | (df[bol] == 'fashion_shoes') | (df[bol] == 'luggage_accessories') \n",
    "                 | (df[bol] == 'fashion_bags_accessories') \n",
    "                 | (df[bol] == 'baby'),\n",
    "             \n",
    "                 (df[bol] == 'party_supplies') | (df[bol] == 'christmas_supplies') | (df[bol] == 'consoles_games') \n",
    "                 | (df[bol] == 'toys') | (df[bol] == 'watches_gifts'),\n",
    "             \n",
    "                 (df[bol] == 'la_cuisine') | (df[bol] == 'home_comfort_2') \n",
    "                 | (df[bol] == 'furniture_mattress_and_upholstery') \n",
    "                 | (df[bol] == 'small_appliances_home_oven_and_coffee') | (df[bol] == 'furniture_bedroom') \n",
    "                 | (df[bol] == 'home_appliances_2') | (df[bol] == 'kitchen_dining_laundry_garden_furniture') \n",
    "                 | (df[bol] == 'furniture_living_room') | (df[bol] == 'small_appliances') \n",
    "                 | (df[bol] == 'home_appliances') | (df[bol] == 'garden_tools') | (df[bol] == 'housewares') \n",
    "                 | (df[bol] == 'furniture_decor') | (df[bol] == 'bed_bath_table'),\n",
    "             \n",
    "                 (df[bol] == 'food_drink') | (df[bol] == 'drinks') | (df[bol] == 'food') \n",
    "                 | (df[bol] == 'perfumery') | (df[bol] == 'sports_leisure')                  \n",
    "    ]\n",
    "\n",
    "    choice = ['arts_video_audio', 'industry_commerce_construction',\n",
    "              'electronics', 'clothing_and_bags', \n",
    "              'cool_stuff', 'home_confort',\n",
    "              'health_beauty'    \n",
    "    ] \n",
    "\n",
    "    df['categories'] = np.select(condlist= condition, choicelist=choice, default = df['categories'])\n",
    "          \n",
    "    endt = time.time()\n",
    "    print(\"total time: \",(endt - startt),\"sec\")"
   ]
  },
  {
   "cell_type": "code",
   "execution_count": 27,
   "metadata": {},
   "outputs": [],
   "source": [
    "def number_of_articles(df) :\n",
    "    startt = time.time()\n",
    "\n",
    "    df['Number_of_articles'] = 1\n",
    "\n",
    "    unicusto = dorder['customer_unique_id'].unique()\n",
    "\n",
    "    for i in range(len(unicusto)) :\n",
    "        sumnumber = 0\n",
    "        coco = df[df['customer_unique_id'].isin([unicusto[i]])]\n",
    "        indexcoco = coco.index.tolist()\n",
    "        oneorder = coco['order_id'].unique()\n",
    "        for y in range(len(oneorder)) :\n",
    "            bibalo = coco[coco['order_id'].isin([oneorder[y]])]\n",
    "            number_of_articles = max(bibalo['order_item_id'])\n",
    "            sumnumber = sumnumber + number_of_articles\n",
    "        df['Number_of_articles'].loc[indexcoco] = sumnumber\n",
    "        \n",
    "    endt = time.time()\n",
    "    print(\"total time: \",(endt - startt),\"sec\")"
   ]
  },
  {
   "cell_type": "code",
   "execution_count": 28,
   "metadata": {},
   "outputs": [],
   "source": [
    "# Categories for one client, I can maybe one hot encod by hand and fill it for each customers\n",
    "def most_used_and_spent(df) :\n",
    "\n",
    "    startt = time.time()\n",
    "\n",
    "    df['Most_used_method_of_payment'] = 1\n",
    "    df['Method_used_to_spend_the_most'] = 1\n",
    "\n",
    "    payment_type = ['credit_card', 'boleto', 'voucher', 'debit_card']\n",
    "\n",
    "    unicusto = df['customer_unique_id'].unique()\n",
    "\n",
    "    for i in range(len(unicusto)) :\n",
    "        coco = df[df['customer_unique_id'].isin([unicusto[i]])] #select one customer\n",
    "        indexcoco = coco.index.tolist() # retrieve the index\n",
    "        single_methods = coco[coco['order_item_id'] == 1] # Remove the order_item above 1\n",
    "        payment_count = []\n",
    "        payment_value = []\n",
    "    \n",
    "        for y in range(len(payment_type)) :\n",
    "            payment_count.append(len(single_methods[single_methods['payment_type'] == payment_type[y]]))\n",
    "            payment_value.append(single_methods[single_methods['payment_type'] == payment_type[y]]['payment_value'].sum())\n",
    "        \n",
    "        max_count = max(payment_count)\n",
    "        max_value = max(payment_value)\n",
    "    \n",
    "        for u in range(len(payment_type)) :\n",
    "            if payment_count[u] == max_count :\n",
    "                df['Most_used_method_of_payment'].loc[indexcoco] = payment_type[u]\n",
    "                break\n",
    "            \n",
    "        for v in range(len(payment_type)) :\n",
    "                if payment_value[v] == max_value :\n",
    "                    df['Method_used_to_spend_the_most'].loc[indexcoco] = payment_type[v]\n",
    "                    break\n",
    "    \n",
    "        # Version to create a new cat or a non cat where 2 methods are equivelent\n",
    "    #     if max_count > sorted(payment_count, reverse = True)[1] :\n",
    "    #         for u in range(len(payment_type)) :\n",
    "    #             if payment_count[u] == max_count :\n",
    "    #                 df['Most_used_method_of_payment'].loc[indexcoco] = payment_type[u]\n",
    "    #                 break\n",
    "    #     else :\n",
    "    #         df['Most_used_method_of_payment'].loc[indexcoco] = 'None'\n",
    "        \n",
    "    #     if max_value > sorted(payment_value, reverse = True)[1] :\n",
    "    #         for v in range(len(payment_type)) :\n",
    "    #             if payment_value[v] == max_value :\n",
    "    #                 df['Method_used_to_spend_the_most'].loc[indexcoco] = payment_type[v]\n",
    "    #                 break\n",
    "    #     else :\n",
    "    #         df['Method_used_to_spend_the_most'].loc[indexcoco] = 'None'\n",
    "        \n",
    "    endt = time.time()\n",
    "    print(\"total time: \",(endt - startt),\"sec\")"
   ]
  },
  {
   "cell_type": "code",
   "execution_count": 29,
   "metadata": {},
   "outputs": [],
   "source": [
    "def mum_a(df) :\n",
    "\n",
    "    # Methods of payment as 1-2-3-4\n",
    "    startt = time.time()\n",
    "\n",
    "    condition = [(df['Most_used_method_of_payment'] == 'credit_card'),\n",
    "             (df['Most_used_method_of_payment'] == 'boleto'),\n",
    "             (df['Most_used_method_of_payment'] == 'voucher'),\n",
    "             (df['Most_used_method_of_payment'] == 'debit_card')           \n",
    "    ]\n",
    "\n",
    "    choice = [1, 2, 3, 4] \n",
    "\n",
    "    df['MUM_of_payment_a'] = np.select(condlist= condition, choicelist=choice, default = 0)\n",
    "          \n",
    "    endt = time.time()\n",
    "    print(\"total time: \",(endt - startt),\"sec\")"
   ]
  },
  {
   "cell_type": "code",
   "execution_count": 30,
   "metadata": {},
   "outputs": [],
   "source": [
    "def mu_a(df) :\n",
    "    \n",
    "    # df.insert(67, 'MU_to_spend_the_most_a', 7)\n",
    "\n",
    "    # M used M of payment as 1-2-3-4\n",
    "    startt = time.time()\n",
    "\n",
    "    condition = [(df['Method_used_to_spend_the_most'] == 'credit_card'),\n",
    "                 (df['Method_used_to_spend_the_most'] == 'boleto'),\n",
    "                 (df['Method_used_to_spend_the_most'] == 'voucher'),\n",
    "                 (df['Method_used_to_spend_the_most'] == 'debit_card')           \n",
    "    ]\n",
    "\n",
    "    choice = [1, 2, 3, 4] \n",
    "\n",
    "    df['MU_to_spend_the_most_a'] = np.select(condlist= condition, choicelist=choice, default = 0)\n",
    "          \n",
    "    endt = time.time()\n",
    "    print(\"total time: \",(endt - startt),\"sec\")"
   ]
  },
  {
   "cell_type": "code",
   "execution_count": 31,
   "metadata": {},
   "outputs": [],
   "source": [
    "def alpha_cat(df) :\n",
    "    \n",
    "    startt = time.time()\n",
    "\n",
    "    df['Preferred category'] = 'None'\n",
    "    category_names = df['categories'].unique().tolist()\n",
    "\n",
    "\n",
    "    for i in range(len(category_names)) :\n",
    "        df[category_names[i]] = 0\n",
    "\n",
    "    unicusto = df['customer_unique_id'].unique()\n",
    "\n",
    "    for i in range(len(unicusto)) :\n",
    "        coco = df[df['customer_unique_id'].isin([unicusto[i]])] #select one customer\n",
    "        indexcoco = coco.index.tolist() # retrieve the index\n",
    "        single_methods = coco[coco['payment_sequential'] == 1] # Remove the payment_sequential above 1\n",
    "    \n",
    "        number_of_article_by_cat = []\n",
    "    \n",
    "        for y in range(len(category_names)) :\n",
    "            number_of_article_by_cat.append(len(single_methods[single_methods['categories'].isin([category_names[y]])]))\n",
    "            if number_of_article_by_cat[y] > 0 :\n",
    "                 df[category_names[y]].loc[indexcoco] = number_of_article_by_cat[y]\n",
    "                \n",
    "        max_orders = max(number_of_article_by_cat)\n",
    "        for v in range(len(category_names)) :\n",
    "            if number_of_article_by_cat[v] == max_orders :\n",
    "                df['Preferred category'].loc[indexcoco] = category_names[v]\n",
    "                           \n",
    "    endt = time.time()\n",
    "    print(\"total time: \",(endt - startt),\"sec\")"
   ]
  },
  {
   "cell_type": "markdown",
   "metadata": {},
   "source": [
    "<a id='apply' />\n",
    "\n",
    "## Apply function on the df"
   ]
  },
  {
   "cell_type": "code",
   "execution_count": 32,
   "metadata": {},
   "outputs": [],
   "source": [
    "def apply_all(df) :\n",
    "    \n",
    "    startt = time.time()\n",
    "    \n",
    "    trans_datetime(df)\n",
    "    print('time of purchase done')\n",
    "    print('--'*5)\n",
    "    \n",
    "    last = max(df['order_purchase_timestamp'])\n",
    "    print('date of the last order of the dataframe', last)\n",
    "    print('--'*5)\n",
    "    lastnum = datetime.timestamp(datetime.strptime(last, \"%Y-%m-%d %X\"))\n",
    "    lastnum_year_2016 = (lastnum / (60 * 60 * 24)) - (35*(365)+11*(366))\n",
    "    \n",
    "    numb_first_last_rec_freq(df, lastnum_year_2016)\n",
    "    df['Recency'] = df['Recency'] - min(df['Recency'])\n",
    "    print('Number of orders, first, last, Recency, done')\n",
    "    print('--'*5)\n",
    "    \n",
    "    total_money_for_one_order(df)\n",
    "    print('total spent for one order, done')\n",
    "    print('--'*5)\n",
    "    \n",
    "    total_spent_by_a_customer(df)\n",
    "    print('total spent by a customer, done')\n",
    "    print('--'*5)\n",
    "    \n",
    "    mean_review_for_an_order(df)\n",
    "    print('mean review for an order, done')\n",
    "    print('--'*5)\n",
    "    \n",
    "    mean_review_for_one_customer(df)\n",
    "    print('mean review for one customer, done')\n",
    "    print('--'*5)\n",
    "    \n",
    "    delivery_time(df)\n",
    "    print('delivery time, done')\n",
    "    print('--'*5)\n",
    "    \n",
    "    delay(df)\n",
    "    print('delay, done')\n",
    "    print('--'*5)\n",
    "    \n",
    "    distance(df)\n",
    "    print('distance, done')\n",
    "    print('--'*5)\n",
    "    \n",
    "    afining_the_catstartt(df)\n",
    "    print('new categories, done')\n",
    "    print('--'*5)\n",
    "    \n",
    "    number_of_articles(df)\n",
    "    print('number of articles per client, done')\n",
    "    print('--'*5)\n",
    "    \n",
    "    most_used_and_spent(df)\n",
    "    print('most used and spending the most methods, done')\n",
    "    print('--'*5)\n",
    "    \n",
    "    mum_a(df)\n",
    "    print('alpha mum, done')\n",
    "    print('--'*5)\n",
    "    \n",
    "    mu_a(df)\n",
    "    print('alpha mus, done')\n",
    "    print('--'*5)\n",
    "    \n",
    "    alpha_cat(df)\n",
    "    print('alpha mus, done')\n",
    "    print('--'*5)\n",
    "    \n",
    "    endt = time.time()\n",
    "    print(\"total time: \",(endt - startt),\"sec\")\n",
    "    \n",
    "    return df"
   ]
  },
  {
   "cell_type": "markdown",
   "metadata": {},
   "source": [
    "<a id='create' />\n",
    "\n",
    "# Part 2 - Creating the different time selected dataframes"
   ]
  },
  {
   "cell_type": "code",
   "execution_count": 33,
   "metadata": {},
   "outputs": [
    {
     "data": {
      "text/plain": [
       "'2016-09-04 21:15:19'"
      ]
     },
     "execution_count": 33,
     "metadata": {},
     "output_type": "execute_result"
    }
   ],
   "source": [
    "min(dorder['order_purchase_timestamp'])"
   ]
  },
  {
   "cell_type": "code",
   "execution_count": 34,
   "metadata": {},
   "outputs": [
    {
     "data": {
      "text/plain": [
       "'2018-09-03 09:06:57'"
      ]
     },
     "execution_count": 34,
     "metadata": {},
     "output_type": "execute_result"
    }
   ],
   "source": [
    "max(dorder['order_purchase_timestamp'])"
   ]
  },
  {
   "cell_type": "code",
   "execution_count": 35,
   "metadata": {},
   "outputs": [
    {
     "data": {
      "text/plain": [
       "116975"
      ]
     },
     "execution_count": 35,
     "metadata": {},
     "output_type": "execute_result"
    }
   ],
   "source": [
    "len(dorder)"
   ]
  },
  {
   "cell_type": "code",
   "execution_count": 36,
   "metadata": {},
   "outputs": [
    {
     "data": {
      "text/plain": [
       "28066"
      ]
     },
     "execution_count": 36,
     "metadata": {},
     "output_type": "execute_result"
    }
   ],
   "source": [
    "len(dorder[dorder['order_purchase_timestamp'] < '2017-09-05 01:00:00'])"
   ]
  },
  {
   "cell_type": "code",
   "execution_count": 37,
   "metadata": {},
   "outputs": [
    {
     "data": {
      "text/plain": [
       "57259"
      ]
     },
     "execution_count": 37,
     "metadata": {},
     "output_type": "execute_result"
    }
   ],
   "source": [
    "len(dorder[dorder['order_purchase_timestamp'] < '2018-01-15 01:00:00'])"
   ]
  },
  {
   "cell_type": "markdown",
   "metadata": {},
   "source": [
    "#### With this date, we have more than 50% of the database"
   ]
  },
  {
   "cell_type": "code",
   "execution_count": 38,
   "metadata": {},
   "outputs": [],
   "source": [
    "df_base = dorder[dorder['order_purchase_timestamp'] < '2018-01-15 01:00:00'].reset_index()"
   ]
  },
  {
   "cell_type": "markdown",
   "metadata": {},
   "source": [
    "#### T0 + 1 month"
   ]
  },
  {
   "cell_type": "code",
   "execution_count": 39,
   "metadata": {},
   "outputs": [],
   "source": [
    "df_t1 = dorder[dorder['order_purchase_timestamp'] < '2018-02-15 01:00:00'].reset_index()"
   ]
  },
  {
   "cell_type": "markdown",
   "metadata": {},
   "source": [
    "#### T0 + 3 month"
   ]
  },
  {
   "cell_type": "code",
   "execution_count": 40,
   "metadata": {},
   "outputs": [],
   "source": [
    "df_t2 = dorder[dorder['order_purchase_timestamp'] < '2018-04-15 01:00:00'].reset_index()"
   ]
  },
  {
   "cell_type": "markdown",
   "metadata": {},
   "source": [
    "#### T0 + 6 month"
   ]
  },
  {
   "cell_type": "code",
   "execution_count": 41,
   "metadata": {},
   "outputs": [],
   "source": [
    "df_t3 = dorder[dorder['order_purchase_timestamp'] < '2018-07-15 01:00:00'].reset_index()"
   ]
  },
  {
   "cell_type": "markdown",
   "metadata": {},
   "source": [
    "---------------------------\n",
    "<a id='appdf' />\n",
    "\n",
    "### Apply on dfs"
   ]
  },
  {
   "cell_type": "code",
   "execution_count": 53,
   "metadata": {},
   "outputs": [
    {
     "data": {
      "text/plain": [
       "(116975, 44)"
      ]
     },
     "execution_count": 53,
     "metadata": {},
     "output_type": "execute_result"
    }
   ],
   "source": [
    "dorder.shape"
   ]
  },
  {
   "cell_type": "code",
   "execution_count": 42,
   "metadata": {},
   "outputs": [
    {
     "name": "stdout",
     "output_type": "stream",
     "text": [
      "total time:  19.283905029296875 sec\n",
      "time of purchase done\n",
      "----------\n",
      "date of the last order of the dataframe 2018-01-15 00:56:23\n",
      "----------\n"
     ]
    },
    {
     "name": "stderr",
     "output_type": "stream",
     "text": [
      "C:\\ProgramData\\Anaconda3\\lib\\site-packages\\pandas\\core\\indexing.py:1732: SettingWithCopyWarning: \n",
      "A value is trying to be set on a copy of a slice from a DataFrame\n",
      "\n",
      "See the caveats in the documentation: https://pandas.pydata.org/pandas-docs/stable/user_guide/indexing.html#returning-a-view-versus-a-copy\n",
      "  self._setitem_single_block(indexer, value, name)\n"
     ]
    },
    {
     "name": "stdout",
     "output_type": "stream",
     "text": [
      "total time:  106.30836868286133 sec\n",
      "Number of orders, first, last, Recency, done\n",
      "----------\n",
      "total time:  105.19814205169678 sec\n",
      "total spent for one order, done\n",
      "----------\n",
      "total time:  43.944117307662964 sec\n",
      "total spent by a customer, done\n",
      "----------\n",
      "total time:  44.07697319984436 sec\n",
      "mean review for an order, done\n",
      "----------\n",
      "total time:  42.8795382976532 sec\n",
      "mean review for one customer, done\n",
      "----------\n",
      "total time:  22.44675064086914 sec\n",
      "delivery time, done\n",
      "----------\n",
      "total time:  0.000499725341796875 sec\n",
      "delay, done\n",
      "----------\n",
      "total time:  0.0009999275207519531 sec\n",
      "distance, done\n",
      "----------\n",
      "total time:  0.1240224838256836 sec\n",
      "new categories, done\n",
      "----------\n",
      "total time:  230.00233960151672 sec\n",
      "number of articles per client, done\n",
      "----------\n",
      "total time:  160.7046308517456 sec\n",
      "most used and spending the most methods, done\n",
      "----------\n",
      "total time:  0.008501529693603516 sec\n",
      "alpha mum, done\n",
      "----------\n",
      "total time:  0.008001565933227539 sec\n",
      "alpha mus, done\n",
      "----------\n",
      "total time:  169.66237688064575 sec\n",
      "alpha mus, done\n",
      "----------\n",
      "total time:  944.6726729869843 sec\n"
     ]
    }
   ],
   "source": [
    "df_base_fe = apply_all(df_base)"
   ]
  },
  {
   "cell_type": "code",
   "execution_count": 48,
   "metadata": {},
   "outputs": [
    {
     "data": {
      "text/plain": [
       "(57259, 77)"
      ]
     },
     "execution_count": 48,
     "metadata": {},
     "output_type": "execute_result"
    }
   ],
   "source": [
    "df_base_fe.shape"
   ]
  },
  {
   "cell_type": "code",
   "execution_count": 49,
   "metadata": {},
   "outputs": [],
   "source": [
    "#df_base_fe.to_csv('df_t0.csv')"
   ]
  },
  {
   "cell_type": "markdown",
   "metadata": {},
   "source": [
    "----------------\n",
    "## t1 = 1 month"
   ]
  },
  {
   "cell_type": "code",
   "execution_count": 43,
   "metadata": {},
   "outputs": [
    {
     "name": "stdout",
     "output_type": "stream",
     "text": [
      "total time:  60.1438262462616 sec\n",
      "time of purchase done\n",
      "----------\n",
      "date of the last order of the dataframe 2018-02-15 00:30:30\n",
      "----------\n",
      "total time:  126.25950217247009 sec\n",
      "Number of orders, first, last, Recency, done\n",
      "----------\n",
      "total time:  126.14472818374634 sec\n",
      "total spent for one order, done\n",
      "----------\n",
      "total time:  55.269877910614014 sec\n",
      "total spent by a customer, done\n",
      "----------\n",
      "total time:  57.87659573554993 sec\n",
      "mean review for an order, done\n",
      "----------\n",
      "total time:  56.626359939575195 sec\n",
      "mean review for one customer, done\n",
      "----------\n",
      "total time:  26.678210020065308 sec\n",
      "delivery time, done\n",
      "----------\n",
      "total time:  0.0009999275207519531 sec\n",
      "delay, done\n",
      "----------\n",
      "total time:  0.0010006427764892578 sec\n",
      "distance, done\n",
      "----------\n",
      "total time:  0.1435248851776123 sec\n",
      "new categories, done\n",
      "----------\n",
      "total time:  241.3147943019867 sec\n",
      "number of articles per client, done\n",
      "----------\n",
      "total time:  192.16782069206238 sec\n",
      "most used and spending the most methods, done\n",
      "----------\n",
      "total time:  0.009001493453979492 sec\n",
      "alpha mum, done\n",
      "----------\n",
      "total time:  0.009001493453979492 sec\n",
      "alpha mus, done\n",
      "----------\n",
      "total time:  205.69210648536682 sec\n",
      "alpha mus, done\n",
      "----------\n",
      "total time:  1148.3643527030945 sec\n"
     ]
    }
   ],
   "source": [
    "df_t1_fe = apply_all(df_t1)"
   ]
  },
  {
   "cell_type": "code",
   "execution_count": 51,
   "metadata": {},
   "outputs": [
    {
     "data": {
      "text/plain": [
       "(65769, 77)"
      ]
     },
     "execution_count": 51,
     "metadata": {},
     "output_type": "execute_result"
    }
   ],
   "source": [
    "df_t1_fe.shape"
   ]
  },
  {
   "cell_type": "code",
   "execution_count": 54,
   "metadata": {},
   "outputs": [],
   "source": [
    "#df_t1_fe.to_csv('df_t1.csv')"
   ]
  },
  {
   "cell_type": "markdown",
   "metadata": {},
   "source": [
    "-----------------------\n",
    "## t2 = 3 months"
   ]
  },
  {
   "cell_type": "code",
   "execution_count": 44,
   "metadata": {},
   "outputs": [
    {
     "name": "stdout",
     "output_type": "stream",
     "text": [
      "total time:  33.668445110321045 sec\n",
      "time of purchase done\n",
      "----------\n",
      "date of the last order of the dataframe 2018-04-15 00:49:43\n",
      "----------\n",
      "total time:  177.31109404563904 sec\n",
      "Number of orders, first, last, Recency, done\n",
      "----------\n",
      "total time:  177.8766131401062 sec\n",
      "total spent for one order, done\n",
      "----------\n",
      "total time:  84.39876914024353 sec\n",
      "total spent by a customer, done\n",
      "----------\n",
      "total time:  85.40092086791992 sec\n",
      "mean review for an order, done\n",
      "----------\n",
      "total time:  84.44376850128174 sec\n",
      "mean review for one customer, done\n",
      "----------\n",
      "total time:  95.08130097389221 sec\n",
      "delivery time, done\n",
      "----------\n",
      "total time:  0.0010001659393310547 sec\n",
      "delay, done\n",
      "----------\n",
      "total time:  0.0015001296997070312 sec\n",
      "distance, done\n",
      "----------\n",
      "total time:  0.17603135108947754 sec\n",
      "new categories, done\n",
      "----------\n",
      "total time:  238.20808506011963 sec\n",
      "number of articles per client, done\n",
      "----------\n",
      "total time:  258.88194155693054 sec\n",
      "most used and spending the most methods, done\n",
      "----------\n",
      "total time:  0.011002540588378906 sec\n",
      "alpha mum, done\n",
      "----------\n",
      "total time:  0.011002063751220703 sec\n",
      "alpha mus, done\n",
      "----------\n",
      "total time:  275.8465003967285 sec\n",
      "alpha mus, done\n",
      "----------\n",
      "total time:  1511.3534796237946 sec\n"
     ]
    }
   ],
   "source": [
    "df_t2_fe = apply_all(df_t2)"
   ]
  },
  {
   "cell_type": "code",
   "execution_count": 55,
   "metadata": {},
   "outputs": [
    {
     "data": {
      "text/plain": [
       "(82183, 77)"
      ]
     },
     "execution_count": 55,
     "metadata": {},
     "output_type": "execute_result"
    }
   ],
   "source": [
    "df_t2_fe.shape"
   ]
  },
  {
   "cell_type": "code",
   "execution_count": 57,
   "metadata": {},
   "outputs": [],
   "source": [
    "#df_t2_fe.to_csv('df_t2.csv')"
   ]
  },
  {
   "cell_type": "markdown",
   "metadata": {},
   "source": [
    "-----------------\n",
    "## t3 = 6 months"
   ]
  },
  {
   "cell_type": "code",
   "execution_count": 58,
   "metadata": {},
   "outputs": [
    {
     "data": {
      "text/plain": [
       "(104813, 45)"
      ]
     },
     "execution_count": 58,
     "metadata": {},
     "output_type": "execute_result"
    }
   ],
   "source": [
    "df_t3.shape"
   ]
  },
  {
   "cell_type": "code",
   "execution_count": 59,
   "metadata": {},
   "outputs": [
    {
     "name": "stdout",
     "output_type": "stream",
     "text": [
      "total time:  41.976911783218384 sec\n",
      "time of purchase done\n",
      "----------\n",
      "date of the last order of the dataframe 2018-07-15 00:25:32\n",
      "----------\n",
      "total time:  314.51853346824646 sec\n",
      "Number of orders, first, last, Recency, done\n",
      "----------\n",
      "total time:  305.9405188560486 sec\n",
      "total spent for one order, done\n",
      "----------\n",
      "total time:  166.68393087387085 sec\n",
      "total spent by a customer, done\n",
      "----------\n",
      "total time:  166.80045127868652 sec\n",
      "mean review for an order, done\n",
      "----------\n",
      "total time:  164.89511442184448 sec\n",
      "mean review for one customer, done\n",
      "----------\n",
      "total time:  52.8613338470459 sec\n",
      "delivery time, done\n",
      "----------\n",
      "total time:  0.0014998912811279297 sec\n",
      "delay, done\n",
      "----------\n",
      "total time:  0.0035004615783691406 sec\n",
      "distance, done\n",
      "----------\n",
      "total time:  0.2410426139831543 sec\n",
      "new categories, done\n",
      "----------\n",
      "total time:  304.2297170162201 sec\n",
      "number of articles per client, done\n",
      "----------\n",
      "total time:  367.76243448257446 sec\n",
      "most used and spending the most methods, done\n",
      "----------\n",
      "total time:  0.014502525329589844 sec\n",
      "alpha mum, done\n",
      "----------\n",
      "total time:  0.014002323150634766 sec\n",
      "alpha mus, done\n",
      "----------\n",
      "total time:  366.39919424057007 sec\n",
      "alpha mus, done\n",
      "----------\n",
      "total time:  2252.4072003364563 sec\n"
     ]
    }
   ],
   "source": [
    "df_t3_fe = apply_all(df_t3)"
   ]
  },
  {
   "cell_type": "code",
   "execution_count": 60,
   "metadata": {},
   "outputs": [
    {
     "data": {
      "text/plain": [
       "(104813, 77)"
      ]
     },
     "execution_count": 60,
     "metadata": {},
     "output_type": "execute_result"
    }
   ],
   "source": [
    "df_t3_fe.shape"
   ]
  },
  {
   "cell_type": "code",
   "execution_count": 62,
   "metadata": {},
   "outputs": [],
   "source": [
    "#df_t3_fe.to_csv('df_t3.csv')"
   ]
  },
  {
   "cell_type": "markdown",
   "metadata": {},
   "source": [
    "-----------------------"
   ]
  },
  {
   "cell_type": "markdown",
   "metadata": {},
   "source": [
    "<a id='reload' />\n",
    "\n",
    "### Reloading"
   ]
  },
  {
   "cell_type": "code",
   "execution_count": 22,
   "metadata": {},
   "outputs": [],
   "source": [
    "# Reloading\n",
    "\n",
    "df0 = pd.read_csv('df_t0.csv')\n",
    "df1 = pd.read_csv('df_t1.csv')\n",
    "df2 = pd.read_csv('df_t2.csv')\n",
    "df3 = pd.read_csv('df_t3.csv')"
   ]
  },
  {
   "cell_type": "markdown",
   "metadata": {},
   "source": [
    "<a id='transfo' />\n",
    "\n",
    "# Part 3 - Transforming functions"
   ]
  },
  {
   "cell_type": "code",
   "execution_count": 23,
   "metadata": {},
   "outputs": [],
   "source": [
    "def transforming(df) :\n",
    "    \n",
    "    print(df.shape)\n",
    "    print('--'*5)\n",
    "    df.drop_duplicates(subset =\"customer_unique_id\", inplace = True)\n",
    "    print(df.shape)\n",
    "    df['log_Spending'] = np.log1p(df['tot_customer_spending'])\n",
    "    \n",
    "    selected_full = ['Cus_mean_review_score', 'Number_of_orders', 'Recency', 'Number_of_articles', 'log_Spending',\n",
    "                 'cool_stuff', 'pet_shop', 'home_confort', 'health_beauty', 'electronics',\n",
    "                 'industry_commerce_construction', 'arts_video_audio', 'clothing_and_bags', 'auto',\n",
    "                 'MUM_of_payment_a', 'delay_delivery', 'distance']\n",
    "\n",
    "    print('--'*5)\n",
    "    print(df.shape)\n",
    "    print('--'*5)\n",
    "    df_full = df[selected_full]\n",
    "    df_full = df_full.dropna()\n",
    "    print(df_full.shape)\n",
    "    \n",
    "    return df_full"
   ]
  },
  {
   "cell_type": "code",
   "execution_count": 24,
   "metadata": {},
   "outputs": [],
   "source": [
    "def transformag(df) :\n",
    "\n",
    "    dfs_full_reduce = std_scale.fit_transform(df)\n",
    "    \n",
    "    n_compo = dfs_full_reduce.shape[1]\n",
    "    pca = decomposition.PCA(n_components=n_compo)\n",
    "    pca.fit(dfs_full_reduce)\n",
    "    print('--'*5)\n",
    "    print(pca.explained_variance_ratio_.cumsum())\n",
    "    print('--'*10)\n",
    "    print('--'*10)\n",
    "    \n",
    "    return dfs_full_reduce"
   ]
  },
  {
   "cell_type": "markdown",
   "metadata": {},
   "source": [
    "<a id='df0' />\n",
    "\n",
    "### t0 = 1 year, 4 months and 10 days"
   ]
  },
  {
   "cell_type": "code",
   "execution_count": 25,
   "metadata": {},
   "outputs": [
    {
     "name": "stdout",
     "output_type": "stream",
     "text": [
      "(57259, 78)\n",
      "----------\n",
      "(45927, 78)\n",
      "----------\n",
      "(45927, 79)\n",
      "----------\n",
      "(44798, 17)\n"
     ]
    }
   ],
   "source": [
    "df0 = transforming(df0)"
   ]
  },
  {
   "cell_type": "code",
   "execution_count": 26,
   "metadata": {},
   "outputs": [
    {
     "data": {
      "text/html": [
       "<div>\n",
       "<style scoped>\n",
       "    .dataframe tbody tr th:only-of-type {\n",
       "        vertical-align: middle;\n",
       "    }\n",
       "\n",
       "    .dataframe tbody tr th {\n",
       "        vertical-align: top;\n",
       "    }\n",
       "\n",
       "    .dataframe thead th {\n",
       "        text-align: right;\n",
       "    }\n",
       "</style>\n",
       "<table border=\"1\" class=\"dataframe\">\n",
       "  <thead>\n",
       "    <tr style=\"text-align: right;\">\n",
       "      <th></th>\n",
       "      <th>Cus_mean_review_score</th>\n",
       "      <th>Number_of_orders</th>\n",
       "      <th>Recency</th>\n",
       "      <th>Number_of_articles</th>\n",
       "      <th>log_Spending</th>\n",
       "      <th>cool_stuff</th>\n",
       "      <th>pet_shop</th>\n",
       "      <th>home_confort</th>\n",
       "      <th>health_beauty</th>\n",
       "      <th>electronics</th>\n",
       "      <th>industry_commerce_construction</th>\n",
       "      <th>arts_video_audio</th>\n",
       "      <th>clothing_and_bags</th>\n",
       "      <th>auto</th>\n",
       "      <th>MUM_of_payment_a</th>\n",
       "      <th>delay_delivery</th>\n",
       "      <th>distance</th>\n",
       "    </tr>\n",
       "  </thead>\n",
       "  <tbody>\n",
       "    <tr>\n",
       "      <th>0</th>\n",
       "      <td>5.0</td>\n",
       "      <td>1</td>\n",
       "      <td>123.706493</td>\n",
       "      <td>1</td>\n",
       "      <td>4.293059</td>\n",
       "      <td>1</td>\n",
       "      <td>0</td>\n",
       "      <td>0</td>\n",
       "      <td>0</td>\n",
       "      <td>0</td>\n",
       "      <td>0</td>\n",
       "      <td>0</td>\n",
       "      <td>0</td>\n",
       "      <td>0</td>\n",
       "      <td>1</td>\n",
       "      <td>8.01125</td>\n",
       "      <td>2.945252</td>\n",
       "    </tr>\n",
       "  </tbody>\n",
       "</table>\n",
       "</div>"
      ],
      "text/plain": [
       "   Cus_mean_review_score  Number_of_orders     Recency  Number_of_articles  \\\n",
       "0                    5.0                 1  123.706493                   1   \n",
       "\n",
       "   log_Spending  cool_stuff  pet_shop  home_confort  health_beauty  \\\n",
       "0      4.293059           1         0             0              0   \n",
       "\n",
       "   electronics  industry_commerce_construction  arts_video_audio  \\\n",
       "0            0                               0                 0   \n",
       "\n",
       "   clothing_and_bags  auto  MUM_of_payment_a  delay_delivery  distance  \n",
       "0                  0     0                 1         8.01125  2.945252  "
      ]
     },
     "execution_count": 26,
     "metadata": {},
     "output_type": "execute_result"
    }
   ],
   "source": [
    "df0.head(1)"
   ]
  },
  {
   "cell_type": "code",
   "execution_count": 27,
   "metadata": {},
   "outputs": [
    {
     "name": "stdout",
     "output_type": "stream",
     "text": [
      "----------\n",
      "[0.11181384 0.19133542 0.26608278 0.33643204 0.40268093 0.46678859\n",
      " 0.52984218 0.59188143 0.65298523 0.71262081 0.77200019 0.82940166\n",
      " 0.88291114 0.92524522 0.96545803 0.99851279 1.        ]\n",
      "--------------------\n",
      "--------------------\n"
     ]
    }
   ],
   "source": [
    "df0_fr = transformag(df0)"
   ]
  },
  {
   "cell_type": "code",
   "execution_count": 28,
   "metadata": {},
   "outputs": [
    {
     "data": {
      "text/plain": [
       "(44798, 17)"
      ]
     },
     "execution_count": 28,
     "metadata": {},
     "output_type": "execute_result"
    }
   ],
   "source": [
    "df0.shape"
   ]
  },
  {
   "cell_type": "code",
   "execution_count": 29,
   "metadata": {},
   "outputs": [
    {
     "data": {
      "text/html": [
       "<div>\n",
       "<style scoped>\n",
       "    .dataframe tbody tr th:only-of-type {\n",
       "        vertical-align: middle;\n",
       "    }\n",
       "\n",
       "    .dataframe tbody tr th {\n",
       "        vertical-align: top;\n",
       "    }\n",
       "\n",
       "    .dataframe thead th {\n",
       "        text-align: right;\n",
       "    }\n",
       "</style>\n",
       "<table border=\"1\" class=\"dataframe\">\n",
       "  <thead>\n",
       "    <tr style=\"text-align: right;\">\n",
       "      <th></th>\n",
       "      <th>Cus_mean_review_score</th>\n",
       "      <th>Number_of_orders</th>\n",
       "      <th>Recency</th>\n",
       "      <th>Number_of_articles</th>\n",
       "      <th>log_Spending</th>\n",
       "      <th>cool_stuff</th>\n",
       "      <th>pet_shop</th>\n",
       "      <th>home_confort</th>\n",
       "      <th>health_beauty</th>\n",
       "      <th>electronics</th>\n",
       "      <th>industry_commerce_construction</th>\n",
       "      <th>arts_video_audio</th>\n",
       "      <th>clothing_and_bags</th>\n",
       "      <th>auto</th>\n",
       "      <th>MUM_of_payment_a</th>\n",
       "      <th>delay_delivery</th>\n",
       "      <th>distance</th>\n",
       "    </tr>\n",
       "  </thead>\n",
       "  <tbody>\n",
       "    <tr>\n",
       "      <th>0</th>\n",
       "      <td>5.0</td>\n",
       "      <td>1</td>\n",
       "      <td>123.706493</td>\n",
       "      <td>1</td>\n",
       "      <td>4.293059</td>\n",
       "      <td>1</td>\n",
       "      <td>0</td>\n",
       "      <td>0</td>\n",
       "      <td>0</td>\n",
       "      <td>0</td>\n",
       "      <td>0</td>\n",
       "      <td>0</td>\n",
       "      <td>0</td>\n",
       "      <td>0</td>\n",
       "      <td>1</td>\n",
       "      <td>8.011250</td>\n",
       "      <td>2.945252</td>\n",
       "    </tr>\n",
       "    <tr>\n",
       "      <th>1</th>\n",
       "      <td>5.0</td>\n",
       "      <td>1</td>\n",
       "      <td>200.586146</td>\n",
       "      <td>1</td>\n",
       "      <td>4.315620</td>\n",
       "      <td>1</td>\n",
       "      <td>0</td>\n",
       "      <td>0</td>\n",
       "      <td>0</td>\n",
       "      <td>0</td>\n",
       "      <td>0</td>\n",
       "      <td>0</td>\n",
       "      <td>0</td>\n",
       "      <td>0</td>\n",
       "      <td>2</td>\n",
       "      <td>12.139248</td>\n",
       "      <td>7.887528</td>\n",
       "    </tr>\n",
       "  </tbody>\n",
       "</table>\n",
       "</div>"
      ],
      "text/plain": [
       "   Cus_mean_review_score  Number_of_orders     Recency  Number_of_articles  \\\n",
       "0                    5.0                 1  123.706493                   1   \n",
       "1                    5.0                 1  200.586146                   1   \n",
       "\n",
       "   log_Spending  cool_stuff  pet_shop  home_confort  health_beauty  \\\n",
       "0      4.293059           1         0             0              0   \n",
       "1      4.315620           1         0             0              0   \n",
       "\n",
       "   electronics  industry_commerce_construction  arts_video_audio  \\\n",
       "0            0                               0                 0   \n",
       "1            0                               0                 0   \n",
       "\n",
       "   clothing_and_bags  auto  MUM_of_payment_a  delay_delivery  distance  \n",
       "0                  0     0                 1        8.011250  2.945252  \n",
       "1                  0     0                 2       12.139248  7.887528  "
      ]
     },
     "execution_count": 29,
     "metadata": {},
     "output_type": "execute_result"
    }
   ],
   "source": [
    "df0.head(2)"
   ]
  },
  {
   "cell_type": "code",
   "execution_count": 30,
   "metadata": {},
   "outputs": [
    {
     "data": {
      "text/plain": [
       "(44798, 17)"
      ]
     },
     "execution_count": 30,
     "metadata": {},
     "output_type": "execute_result"
    }
   ],
   "source": [
    "df0_fr.shape"
   ]
  },
  {
   "cell_type": "code",
   "execution_count": 31,
   "metadata": {},
   "outputs": [
    {
     "name": "stdout",
     "output_type": "stream",
     "text": [
      "[0.11181384 0.19133542 0.26608278 0.33643204 0.40268093 0.46678859\n",
      " 0.52984218]\n"
     ]
    }
   ],
   "source": [
    "pca = decomposition.PCA(n_components=7)\n",
    "pca.fit(df0_fr)\n",
    "print(pca.explained_variance_ratio_.cumsum())\n",
    "X_trans_0 = pca.transform(df0_fr)"
   ]
  },
  {
   "cell_type": "code",
   "execution_count": 151,
   "metadata": {},
   "outputs": [
    {
     "data": {
      "image/png": "[encoded data removed]",
      "text/plain": [
       "<Figure size 648x432 with 2 Axes>"
      ]
     },
     "metadata": {},
     "output_type": "display_data"
    },
    {
     "data": {
      "text/plain": [
       "<AxesSubplot:title={'center':'Distortion Score Elbow for KMeans Clustering'}, xlabel='k', ylabel='distortion score'>"
      ]
     },
     "execution_count": 151,
     "metadata": {},
     "output_type": "execute_result"
    }
   ],
   "source": [
    "plt.rcParams[\"figure.figsize\"] = (9,6)\n",
    "\n",
    "# Instantiate the clustering model and visualizer\n",
    "model = KMeans()\n",
    "visualizer = KElbowVisualizer(model, k=(2,20))\n",
    "\n",
    "visualizer.fit(X_trans_0)    # Fit the data to the visualizer\n",
    "visualizer.poof()    # Draw/show/poof the data"
   ]
  },
  {
   "cell_type": "code",
   "execution_count": 161,
   "metadata": {},
   "outputs": [
    {
     "name": "stdout",
     "output_type": "stream",
     "text": [
      "total time:  24.431675910949707 sec\n"
     ]
    }
   ],
   "source": [
    "# Best number of clusters with davies\n",
    "startt = time.time()\n",
    "\n",
    "davies_ad_0 = []\n",
    "\n",
    "K_range = range(3, 18)\n",
    "for k in K_range:\n",
    "    \n",
    "    cls_ad_0 = cluster.KMeans(n_clusters=k)\n",
    "    cls_ad_0.fit(X_trans_0)\n",
    "    dav_ad_0 = metrics.davies_bouldin_score(X_trans_0, cls_ad_0.labels_)\n",
    "    davies_ad_0.append(dav_ad_0)\n",
    "    \n",
    "    #print(k)\n",
    "    \n",
    "endt = time.time()\n",
    "print(\"total time: \",(endt - startt),\"sec\")"
   ]
  },
  {
   "cell_type": "code",
   "execution_count": 162,
   "metadata": {},
   "outputs": [
    {
     "data": {
      "text/plain": [
       "Text(0, 0.5, 'davies_bouldin')"
      ]
     },
     "execution_count": 162,
     "metadata": {},
     "output_type": "execute_result"
    },
    {
     "data": {
      "image/png": "[encoded data removed]",
      "text/plain": [
       "<Figure size 648x432 with 1 Axes>"
      ]
     },
     "metadata": {},
     "output_type": "display_data"
    }
   ],
   "source": [
    "plt.plot(K_range, davies_ad_0, 'o-')\n",
    "plt.xlabel('nombre de clusters')\n",
    "plt.ylabel('davies_bouldin')"
   ]
  },
  {
   "cell_type": "code",
   "execution_count": 165,
   "metadata": {},
   "outputs": [
    {
     "name": "stdout",
     "output_type": "stream",
     "text": [
      "total time:  73.38448762893677 sec\n"
     ]
    }
   ],
   "source": [
    "# Best number of clusters\n",
    "startt = time.time()\n",
    "\n",
    "silhouette_ad_0 = []\n",
    "\n",
    "K_range = range(5, 14)\n",
    "for k in K_range:\n",
    "    \n",
    "    cls_ad_0 = cluster.KMeans(n_clusters=k)\n",
    "    cls_ad_0.fit(X_trans_0)\n",
    "    silh_ad_0 = metrics.silhouette_score(X_trans_0, cls_ad_0.labels_)\n",
    "    silhouette_ad_0.append(silh_ad_0)\n",
    "    \n",
    "    #print(k)\n",
    "    \n",
    "endt = time.time()\n",
    "print(\"total time: \",(endt - startt),\"sec\")"
   ]
  },
  {
   "cell_type": "code",
   "execution_count": 167,
   "metadata": {},
   "outputs": [
    {
     "data": {
      "text/plain": [
       "Text(0, 0.5, 'silhouette')"
      ]
     },
     "execution_count": 167,
     "metadata": {},
     "output_type": "execute_result"
    },
    {
     "data": {
      "image/png": "[encoded data removed]",
      "text/plain": [
       "<Figure size 648x432 with 1 Axes>"
      ]
     },
     "metadata": {},
     "output_type": "display_data"
    }
   ],
   "source": [
    "plt.plot(K_range, silhouette_ad_0, 'o-')\n",
    "plt.xlabel('nombre de clusters')\n",
    "plt.ylabel('silhouette')"
   ]
  },
  {
   "cell_type": "code",
   "execution_count": 32,
   "metadata": {},
   "outputs": [],
   "source": [
    "model_df0 = KMeans(n_clusters=9)\n",
    "model_df0.fit(X_trans_0)\n",
    "model_df0.labels_\n",
    "\n",
    "df0['cluster'] = model_df0.labels_"
   ]
  },
  {
   "cell_type": "code",
   "execution_count": 33,
   "metadata": {},
   "outputs": [
    {
     "data": {
      "text/plain": [
       "1    43548\n",
       "2     1149\n",
       "3       80\n",
       "4       14\n",
       "5        5\n",
       "9        1\n",
       "6        1\n",
       "Name: Number_of_orders, dtype: int64"
      ]
     },
     "execution_count": 33,
     "metadata": {},
     "output_type": "execute_result"
    }
   ],
   "source": [
    "df0['Number_of_orders'].value_counts()"
   ]
  },
  {
   "cell_type": "code",
   "execution_count": 34,
   "metadata": {},
   "outputs": [
    {
     "data": {
      "text/plain": [
       "7    13777\n",
       "5     8000\n",
       "3     6967\n",
       "1     4648\n",
       "4     3764\n",
       "0     3042\n",
       "2     3041\n",
       "6     1051\n",
       "8      508\n",
       "Name: cluster, dtype: int64"
      ]
     },
     "execution_count": 34,
     "metadata": {},
     "output_type": "execute_result"
    }
   ],
   "source": [
    "df0['cluster'].value_counts()"
   ]
  },
  {
   "cell_type": "code",
   "execution_count": 35,
   "metadata": {},
   "outputs": [
    {
     "data": {
      "image/png": "[encoded data removed]",
      "text/plain": [
       "<Figure size 864x432 with 1 Axes>"
      ]
     },
     "metadata": {},
     "output_type": "display_data"
    },
    {
     "name": "stdout",
     "output_type": "stream",
     "text": [
      "                  sum_sq       df           F  PR(>F)\n",
      "C(catquali)   716.747071      8.0  3994.84004     0.0\n",
      "Residual     1004.495306  44789.0         NaN     NaN\n"
     ]
    }
   ],
   "source": [
    "boxplots(df0, 'cluster', 'Number_of_orders', tukey=0, size=(12,6), showfliers=True, sort = 1, font=12)"
   ]
  },
  {
   "cell_type": "code",
   "execution_count": 36,
   "metadata": {},
   "outputs": [
    {
     "data": {
      "image/png": "[encoded data removed]",
      "text/plain": [
       "<Figure size 864x288 with 1 Axes>"
      ]
     },
     "metadata": {},
     "output_type": "display_data"
    },
    {
     "name": "stdout",
     "output_type": "stream",
     "text": [
      "                   sum_sq       df            F  PR(>F)\n",
      "C(catquali)  21988.254041      8.0  2537.956289     0.0\n",
      "Residual     48505.165092  44789.0          NaN     NaN\n"
     ]
    }
   ],
   "source": [
    "boxplots(df0, 'cluster', 'Cus_mean_review_score', tukey=0, size=(12,4), showfliers=True, sort = 1, font=12)"
   ]
  },
  {
   "cell_type": "code",
   "execution_count": 37,
   "metadata": {},
   "outputs": [
    {
     "data": {
      "text/plain": [
       "array([3, 4, 0, 7, 8, 1, 6, 5, 2])"
      ]
     },
     "execution_count": 37,
     "metadata": {},
     "output_type": "execute_result"
    }
   ],
   "source": [
    "df0['cluster'].unique()"
   ]
  },
  {
   "cell_type": "code",
   "execution_count": 206,
   "metadata": {},
   "outputs": [],
   "source": [
    "selection = ['Cus_mean_review_score', 'Number_of_orders', 'Recency', 'Number_of_articles', 'log_Spending',\n",
    "             'cool_stuff', 'pet_shop', 'home_confort', 'health_beauty', 'electronics',\n",
    "             'industry_commerce_construction', 'arts_video_audio', 'clothing_and_bags', 'auto',\n",
    "             'MUM_of_payment_a', 'delay_delivery', 'distance']"
   ]
  },
  {
   "cell_type": "code",
   "execution_count": 209,
   "metadata": {},
   "outputs": [
    {
     "data": {
      "application/vnd.plotly.v1+json": {
       "config": {
        "plotlyServerURL": "https://plot.ly"
       },
       "data": [
        {
         "name": "cluster 3",
         "r": [
          0.8809100043060367,
          0.5046648485718387,
          0.29133147886780497,
          0.17960863116597395,
          0.5909073689971888,
          0.17838859384718486,
          0.00028706760442084113,
          0.0015071049232094158,
          0.00028706760442084113,
          0.00014353380221042057,
          0.0008612028132625233,
          0.0007176690110521028,
          0.0008612028132625233,
          0.00043060140663126167,
          0.3094588775656667,
          0.21239688977763152,
          0.18191117091401224
         ],
         "theta": [
          "Cus_mean_review_score",
          "Number_of_orders",
          "Recency",
          "Number_of_articles",
          "log_Spending",
          "cool_stuff",
          "pet_shop",
          "home_confort",
          "health_beauty",
          "electronics",
          "industry_commerce_construction",
          "arts_video_audio",
          "clothing_and_bags",
          "auto",
          "MUM_of_payment_a",
          "delay_delivery",
          "distance",
          "cluster"
         ],
         "type": "scatterpolar"
        },
        {
         "name": "cluster 4",
         "r": [
          0.8445802337938383,
          0.5099628055260361,
          0.291506070760693,
          0.11920828905420401,
          0.5597865234880884,
          0.005712008501594049,
          0.0017268862911795962,
          0.002789585547290117,
          0.0010626992561105207,
          0.11346971307120629,
          0.001594048884165781,
          0.005357775416223872,
          0.00026567481402763017,
          0.002789585547290117,
          0.3633767268862912,
          0.24779143809202314,
          0.16212643992687356
         ],
         "theta": [
          "Cus_mean_review_score",
          "Number_of_orders",
          "Recency",
          "Number_of_articles",
          "log_Spending",
          "cool_stuff",
          "pet_shop",
          "home_confort",
          "health_beauty",
          "electronics",
          "industry_commerce_construction",
          "arts_video_audio",
          "clothing_and_bags",
          "auto",
          "MUM_of_payment_a",
          "delay_delivery",
          "distance",
          "cluster"
         ],
         "type": "scatterpolar"
        },
        {
         "name": "cluster 0",
         "r": [
          0.3252465483234829,
          0.5004930966469427,
          0.22763968772498713,
          0.22130177514793226,
          0.5909303621719002,
          0.057034845496383955,
          0.005917159763313609,
          0.16951566951566732,
          0.06525312294543063,
          0.014464168310322156,
          0.027722989261450774,
          0.02901051939513478,
          0.027942143326758713,
          0.022682445759368838,
          0.32511505588428663,
          -0.1893590636902514,
          0.1652946319938448
         ],
         "theta": [
          "Cus_mean_review_score",
          "Number_of_orders",
          "Recency",
          "Number_of_articles",
          "log_Spending",
          "cool_stuff",
          "pet_shop",
          "home_confort",
          "health_beauty",
          "electronics",
          "industry_commerce_construction",
          "arts_video_audio",
          "clothing_and_bags",
          "auto",
          "MUM_of_payment_a",
          "delay_delivery",
          "distance",
          "cluster"
         ],
         "type": "scatterpolar"
        },
        {
         "name": "cluster 7",
         "r": [
          0.8921027799956286,
          0.5006169703128402,
          0.3332229752883897,
          0.2739529650867388,
          0.5898703560244344,
          0.0007984321695579589,
          0.010331228375795386,
          0.4055672497640996,
          7.258474268708717e-05,
          null,
          0.005298686216157364,
          0.04643608913406402,
          null,
          0.01945271104013936,
          0.32376424475575233,
          0.11892325272440324,
          0.19128516105052767
         ],
         "theta": [
          "Cus_mean_review_score",
          "Number_of_orders",
          "Recency",
          "Number_of_articles",
          "log_Spending",
          "cool_stuff",
          "pet_shop",
          "home_confort",
          "health_beauty",
          "electronics",
          "industry_commerce_construction",
          "arts_video_audio",
          "clothing_and_bags",
          "auto",
          "MUM_of_payment_a",
          "delay_delivery",
          "distance",
          "cluster"
         ],
         "type": "scatterpolar"
        },
        {
         "name": "cluster 8",
         "r": [
          0.8163057742782155,
          0.20472440944882078,
          0.2706932682416103,
          0.12889013873265856,
          0.6742316101592432,
          0.02821522309711287,
          0.005905511811023622,
          0.058070866141732284,
          0.11773528308961423,
          0.012467191601049867,
          0.01968503937007874,
          0.027559055118110236,
          0.018372703412073487,
          0.005249343832020997,
          0.3110236220472441,
          0.28757543628877746,
          0.18939051656648176
         ],
         "theta": [
          "Cus_mean_review_score",
          "Number_of_orders",
          "Recency",
          "Number_of_articles",
          "log_Spending",
          "cool_stuff",
          "pet_shop",
          "home_confort",
          "health_beauty",
          "electronics",
          "industry_commerce_construction",
          "arts_video_audio",
          "clothing_and_bags",
          "auto",
          "MUM_of_payment_a",
          "delay_delivery",
          "distance",
          "cluster"
         ],
         "type": "scatterpolar"
        },
        {
         "name": "cluster 1",
         "r": [
          0.8266781411359794,
          0.504302925989673,
          0.32902737952071526,
          0.14543889845094665,
          0.588242187653445,
          0.012693631669535283,
          0.014952667814113597,
          0.08046471600688468,
          0.03270223752151463,
          0.005593803786574871,
          0.045826161790018034,
          0.013930722891566265,
          0.010327022375215147,
          0.04216867469879482,
          0.2915232358003442,
          0.10546884609336196,
          0.20283649844667248
         ],
         "theta": [
          "Cus_mean_review_score",
          "Number_of_orders",
          "Recency",
          "Number_of_articles",
          "log_Spending",
          "cool_stuff",
          "pet_shop",
          "home_confort",
          "health_beauty",
          "electronics",
          "industry_commerce_construction",
          "arts_video_audio",
          "clothing_and_bags",
          "auto",
          "MUM_of_payment_a",
          "delay_delivery",
          "distance",
          "cluster"
         ],
         "type": "scatterpolar"
        },
        {
         "name": "cluster 6",
         "r": [
          0.7616682524579778,
          0.26847446875991166,
          0.3008931829675021,
          0.17924727772491886,
          0.5862357430566314,
          0.008959720900729464,
          0.00570884871550904,
          0.12690294957183643,
          0.005233111322549952,
          0.004915953060577226,
          0.004947668886774499,
          0.003924833491912465,
          0.011893434823977164,
          0.003805899143672693,
          0.3120837297811608,
          0.18202643370770494,
          0.18360461107474085
         ],
         "theta": [
          "Cus_mean_review_score",
          "Number_of_orders",
          "Recency",
          "Number_of_articles",
          "log_Spending",
          "cool_stuff",
          "pet_shop",
          "home_confort",
          "health_beauty",
          "electronics",
          "industry_commerce_construction",
          "arts_video_audio",
          "clothing_and_bags",
          "auto",
          "MUM_of_payment_a",
          "delay_delivery",
          "distance",
          "cluster"
         ],
         "type": "scatterpolar"
        },
        {
         "name": "cluster 5",
         "r": [
          0.8863250000000281,
          1,
          0.3080109872075841,
          0.3551250000000169,
          0.5819226631783163,
          0.000125,
          0.000125,
          0.00075,
          0.5325625,
          null,
          null,
          0.00025,
          null,
          null,
          0.31828125,
          0.2305201777722553,
          0.19046425154494284
         ],
         "theta": [
          "Cus_mean_review_score",
          "Number_of_orders",
          "Recency",
          "Number_of_articles",
          "log_Spending",
          "cool_stuff",
          "pet_shop",
          "home_confort",
          "health_beauty",
          "electronics",
          "industry_commerce_construction",
          "arts_video_audio",
          "clothing_and_bags",
          "auto",
          "MUM_of_payment_a",
          "delay_delivery",
          "distance",
          "cluster"
         ],
         "type": "scatterpolar"
        },
        {
         "name": "cluster 2",
         "r": [
          0.8602543023128341,
          0.2593719171325222,
          0.3191809250097529,
          0.16329215013859172,
          0.6103293198916401,
          0.00739888194672805,
          0.0006576783952647156,
          0.004932587964485367,
          0.0009865175928970734,
          0.001644195988161789,
          0.0023018743834265043,
          0.001644195988161789,
          0.15972189599286862,
          0.0006576783952647156,
          0.3224268332785268,
          0.2663110458826185,
          0.20479934038200845
         ],
         "theta": [
          "Cus_mean_review_score",
          "Number_of_orders",
          "Recency",
          "Number_of_articles",
          "log_Spending",
          "cool_stuff",
          "pet_shop",
          "home_confort",
          "health_beauty",
          "electronics",
          "industry_commerce_construction",
          "arts_video_audio",
          "clothing_and_bags",
          "auto",
          "MUM_of_payment_a",
          "delay_delivery",
          "distance",
          "cluster"
         ],
         "type": "scatterpolar"
        }
       ],
       "layout": {
        "polar": {
         "radialaxis": {
          "range": [
           0,
           1
          ],
          "visible": true
         }
        },
        "showlegend": true,
        "template": {
         "data": {
          "bar": [
           {
            "error_x": {
             "color": "#2a3f5f"
            },
            "error_y": {
             "color": "#2a3f5f"
            },
            "marker": {
             "line": {
              "color": "#E5ECF6",
              "width": 0.5
             },
             "pattern": {
              "fillmode": "overlay",
              "size": 10,
              "solidity": 0.2
             }
            },
            "type": "bar"
           }
          ],
          "barpolar": [
           {
            "marker": {
             "line": {
              "color": "#E5ECF6",
              "width": 0.5
             },
             "pattern": {
              "fillmode": "overlay",
              "size": 10,
              "solidity": 0.2
             }
            },
            "type": "barpolar"
           }
          ],
          "carpet": [
           {
            "aaxis": {
             "endlinecolor": "#2a3f5f",
             "gridcolor": "white",
             "linecolor": "white",
             "minorgridcolor": "white",
             "startlinecolor": "#2a3f5f"
            },
            "baxis": {
             "endlinecolor": "#2a3f5f",
             "gridcolor": "white",
             "linecolor": "white",
             "minorgridcolor": "white",
             "startlinecolor": "#2a3f5f"
            },
            "type": "carpet"
           }
          ],
          "choropleth": [
           {
            "colorbar": {
             "outlinewidth": 0,
             "ticks": ""
            },
            "type": "choropleth"
           }
          ],
          "contour": [
           {
            "colorbar": {
             "outlinewidth": 0,
             "ticks": ""
            },
            "colorscale": [
             [
              0,
              "#0d0887"
             ],
             [
              0.1111111111111111,
              "#46039f"
             ],
             [
              0.2222222222222222,
              "#7201a8"
             ],
             [
              0.3333333333333333,
              "#9c179e"
             ],
             [
              0.4444444444444444,
              "#bd3786"
             ],
             [
              0.5555555555555556,
              "#d8576b"
             ],
             [
              0.6666666666666666,
              "#ed7953"
             ],
             [
              0.7777777777777778,
              "#fb9f3a"
             ],
             [
              0.8888888888888888,
              "#fdca26"
             ],
             [
              1,
              "#f0f921"
             ]
            ],
            "type": "contour"
           }
          ],
          "contourcarpet": [
           {
            "colorbar": {
             "outlinewidth": 0,
             "ticks": ""
            },
            "type": "contourcarpet"
           }
          ],
          "heatmap": [
           {
            "colorbar": {
             "outlinewidth": 0,
             "ticks": ""
            },
            "colorscale": [
             [
              0,
              "#0d0887"
             ],
             [
              0.1111111111111111,
              "#46039f"
             ],
             [
              0.2222222222222222,
              "#7201a8"
             ],
             [
              0.3333333333333333,
              "#9c179e"
             ],
             [
              0.4444444444444444,
              "#bd3786"
             ],
             [
              0.5555555555555556,
              "#d8576b"
             ],
             [
              0.6666666666666666,
              "#ed7953"
             ],
             [
              0.7777777777777778,
              "#fb9f3a"
             ],
             [
              0.8888888888888888,
              "#fdca26"
             ],
             [
              1,
              "#f0f921"
             ]
            ],
            "type": "heatmap"
           }
          ],
          "heatmapgl": [
           {
            "colorbar": {
             "outlinewidth": 0,
             "ticks": ""
            },
            "colorscale": [
             [
              0,
              "#0d0887"
             ],
             [
              0.1111111111111111,
              "#46039f"
             ],
             [
              0.2222222222222222,
              "#7201a8"
             ],
             [
              0.3333333333333333,
              "#9c179e"
             ],
             [
              0.4444444444444444,
              "#bd3786"
             ],
             [
              0.5555555555555556,
              "#d8576b"
             ],
             [
              0.6666666666666666,
              "#ed7953"
             ],
             [
              0.7777777777777778,
              "#fb9f3a"
             ],
             [
              0.8888888888888888,
              "#fdca26"
             ],
             [
              1,
              "#f0f921"
             ]
            ],
            "type": "heatmapgl"
           }
          ],
          "histogram": [
           {
            "marker": {
             "pattern": {
              "fillmode": "overlay",
              "size": 10,
              "solidity": 0.2
             }
            },
            "type": "histogram"
           }
          ],
          "histogram2d": [
           {
            "colorbar": {
             "outlinewidth": 0,
             "ticks": ""
            },
            "colorscale": [
             [
              0,
              "#0d0887"
             ],
             [
              0.1111111111111111,
              "#46039f"
             ],
             [
              0.2222222222222222,
              "#7201a8"
             ],
             [
              0.3333333333333333,
              "#9c179e"
             ],
             [
              0.4444444444444444,
              "#bd3786"
             ],
             [
              0.5555555555555556,
              "#d8576b"
             ],
             [
              0.6666666666666666,
              "#ed7953"
             ],
             [
              0.7777777777777778,
              "#fb9f3a"
             ],
             [
              0.8888888888888888,
              "#fdca26"
             ],
             [
              1,
              "#f0f921"
             ]
            ],
            "type": "histogram2d"
           }
          ],
          "histogram2dcontour": [
           {
            "colorbar": {
             "outlinewidth": 0,
             "ticks": ""
            },
            "colorscale": [
             [
              0,
              "#0d0887"
             ],
             [
              0.1111111111111111,
              "#46039f"
             ],
             [
              0.2222222222222222,
              "#7201a8"
             ],
             [
              0.3333333333333333,
              "#9c179e"
             ],
             [
              0.4444444444444444,
              "#bd3786"
             ],
             [
              0.5555555555555556,
              "#d8576b"
             ],
             [
              0.6666666666666666,
              "#ed7953"
             ],
             [
              0.7777777777777778,
              "#fb9f3a"
             ],
             [
              0.8888888888888888,
              "#fdca26"
             ],
             [
              1,
              "#f0f921"
             ]
            ],
            "type": "histogram2dcontour"
           }
          ],
          "mesh3d": [
           {
            "colorbar": {
             "outlinewidth": 0,
             "ticks": ""
            },
            "type": "mesh3d"
           }
          ],
          "parcoords": [
           {
            "line": {
             "colorbar": {
              "outlinewidth": 0,
              "ticks": ""
             }
            },
            "type": "parcoords"
           }
          ],
          "pie": [
           {
            "automargin": true,
            "type": "pie"
           }
          ],
          "scatter": [
           {
            "marker": {
             "colorbar": {
              "outlinewidth": 0,
              "ticks": ""
             }
            },
            "type": "scatter"
           }
          ],
          "scatter3d": [
           {
            "line": {
             "colorbar": {
              "outlinewidth": 0,
              "ticks": ""
             }
            },
            "marker": {
             "colorbar": {
              "outlinewidth": 0,
              "ticks": ""
             }
            },
            "type": "scatter3d"
           }
          ],
          "scattercarpet": [
           {
            "marker": {
             "colorbar": {
              "outlinewidth": 0,
              "ticks": ""
             }
            },
            "type": "scattercarpet"
           }
          ],
          "scattergeo": [
           {
            "marker": {
             "colorbar": {
              "outlinewidth": 0,
              "ticks": ""
             }
            },
            "type": "scattergeo"
           }
          ],
          "scattergl": [
           {
            "marker": {
             "colorbar": {
              "outlinewidth": 0,
              "ticks": ""
             }
            },
            "type": "scattergl"
           }
          ],
          "scattermapbox": [
           {
            "marker": {
             "colorbar": {
              "outlinewidth": 0,
              "ticks": ""
             }
            },
            "type": "scattermapbox"
           }
          ],
          "scatterpolar": [
           {
            "marker": {
             "colorbar": {
              "outlinewidth": 0,
              "ticks": ""
             }
            },
            "type": "scatterpolar"
           }
          ],
          "scatterpolargl": [
           {
            "marker": {
             "colorbar": {
              "outlinewidth": 0,
              "ticks": ""
             }
            },
            "type": "scatterpolargl"
           }
          ],
          "scatterternary": [
           {
            "marker": {
             "colorbar": {
              "outlinewidth": 0,
              "ticks": ""
             }
            },
            "type": "scatterternary"
           }
          ],
          "surface": [
           {
            "colorbar": {
             "outlinewidth": 0,
             "ticks": ""
            },
            "colorscale": [
             [
              0,
              "#0d0887"
             ],
             [
              0.1111111111111111,
              "#46039f"
             ],
             [
              0.2222222222222222,
              "#7201a8"
             ],
             [
              0.3333333333333333,
              "#9c179e"
             ],
             [
              0.4444444444444444,
              "#bd3786"
             ],
             [
              0.5555555555555556,
              "#d8576b"
             ],
             [
              0.6666666666666666,
              "#ed7953"
             ],
             [
              0.7777777777777778,
              "#fb9f3a"
             ],
             [
              0.8888888888888888,
              "#fdca26"
             ],
             [
              1,
              "#f0f921"
             ]
            ],
            "type": "surface"
           }
          ],
          "table": [
           {
            "cells": {
             "fill": {
              "color": "#EBF0F8"
             },
             "line": {
              "color": "white"
             }
            },
            "header": {
             "fill": {
              "color": "#C8D4E3"
             },
             "line": {
              "color": "white"
             }
            },
            "type": "table"
           }
          ]
         },
         "layout": {
          "annotationdefaults": {
           "arrowcolor": "#2a3f5f",
           "arrowhead": 0,
           "arrowwidth": 1
          },
          "autotypenumbers": "strict",
          "coloraxis": {
           "colorbar": {
            "outlinewidth": 0,
            "ticks": ""
           }
          },
          "colorscale": {
           "diverging": [
            [
             0,
             "#8e0152"
            ],
            [
             0.1,
             "#c51b7d"
            ],
            [
             0.2,
             "#de77ae"
            ],
            [
             0.3,
             "#f1b6da"
            ],
            [
             0.4,
             "#fde0ef"
            ],
            [
             0.5,
             "#f7f7f7"
            ],
            [
             0.6,
             "#e6f5d0"
            ],
            [
             0.7,
             "#b8e186"
            ],
            [
             0.8,
             "#7fbc41"
            ],
            [
             0.9,
             "#4d9221"
            ],
            [
             1,
             "#276419"
            ]
           ],
           "sequential": [
            [
             0,
             "#0d0887"
            ],
            [
             0.1111111111111111,
             "#46039f"
            ],
            [
             0.2222222222222222,
             "#7201a8"
            ],
            [
             0.3333333333333333,
             "#9c179e"
            ],
            [
             0.4444444444444444,
             "#bd3786"
            ],
            [
             0.5555555555555556,
             "#d8576b"
            ],
            [
             0.6666666666666666,
             "#ed7953"
            ],
            [
             0.7777777777777778,
             "#fb9f3a"
            ],
            [
             0.8888888888888888,
             "#fdca26"
            ],
            [
             1,
             "#f0f921"
            ]
           ],
           "sequentialminus": [
            [
             0,
             "#0d0887"
            ],
            [
             0.1111111111111111,
             "#46039f"
            ],
            [
             0.2222222222222222,
             "#7201a8"
            ],
            [
             0.3333333333333333,
             "#9c179e"
            ],
            [
             0.4444444444444444,
             "#bd3786"
            ],
            [
             0.5555555555555556,
             "#d8576b"
            ],
            [
             0.6666666666666666,
             "#ed7953"
            ],
            [
             0.7777777777777778,
             "#fb9f3a"
            ],
            [
             0.8888888888888888,
             "#fdca26"
            ],
            [
             1,
             "#f0f921"
            ]
           ]
          },
          "colorway": [
           "#636efa",
           "#EF553B",
           "#00cc96",
           "#ab63fa",
           "#FFA15A",
           "#19d3f3",
           "#FF6692",
           "#B6E880",
           "#FF97FF",
           "#FECB52"
          ],
          "font": {
           "color": "#2a3f5f"
          },
          "geo": {
           "bgcolor": "white",
           "lakecolor": "white",
           "landcolor": "#E5ECF6",
           "showlakes": true,
           "showland": true,
           "subunitcolor": "white"
          },
          "hoverlabel": {
           "align": "left"
          },
          "hovermode": "closest",
          "mapbox": {
           "style": "light"
          },
          "paper_bgcolor": "white",
          "plot_bgcolor": "#E5ECF6",
          "polar": {
           "angularaxis": {
            "gridcolor": "white",
            "linecolor": "white",
            "ticks": ""
           },
           "bgcolor": "#E5ECF6",
           "radialaxis": {
            "gridcolor": "white",
            "linecolor": "white",
            "ticks": ""
           }
          },
          "scene": {
           "xaxis": {
            "backgroundcolor": "#E5ECF6",
            "gridcolor": "white",
            "gridwidth": 2,
            "linecolor": "white",
            "showbackground": true,
            "ticks": "",
            "zerolinecolor": "white"
           },
           "yaxis": {
            "backgroundcolor": "#E5ECF6",
            "gridcolor": "white",
            "gridwidth": 2,
            "linecolor": "white",
            "showbackground": true,
            "ticks": "",
            "zerolinecolor": "white"
           },
           "zaxis": {
            "backgroundcolor": "#E5ECF6",
            "gridcolor": "white",
            "gridwidth": 2,
            "linecolor": "white",
            "showbackground": true,
            "ticks": "",
            "zerolinecolor": "white"
           }
          },
          "shapedefaults": {
           "line": {
            "color": "#2a3f5f"
           }
          },
          "ternary": {
           "aaxis": {
            "gridcolor": "white",
            "linecolor": "white",
            "ticks": ""
           },
           "baxis": {
            "gridcolor": "white",
            "linecolor": "white",
            "ticks": ""
           },
           "bgcolor": "#E5ECF6",
           "caxis": {
            "gridcolor": "white",
            "linecolor": "white",
            "ticks": ""
           }
          },
          "title": {
           "x": 0.05
          },
          "xaxis": {
           "automargin": true,
           "gridcolor": "white",
           "linecolor": "white",
           "ticks": "",
           "title": {
            "standoff": 15
           },
           "zerolinecolor": "white",
           "zerolinewidth": 2
          },
          "yaxis": {
           "automargin": true,
           "gridcolor": "white",
           "linecolor": "white",
           "ticks": "",
           "title": {
            "standoff": 15
           },
           "zerolinecolor": "white",
           "zerolinewidth": 2
          }
         }
        }
       }
      },
      "text/html": [
       "<div>                            <div id=\"da9de928-ce3f-4c52-86c5-e063622216fe\" class=\"plotly-graph-div\" style=\"height:525px; width:100%;\"></div>            <script type=\"text/javascript\">                require([\"plotly\"], function(Plotly) {                    window.PLOTLYENV=window.PLOTLYENV || {};                                    if (document.getElementById(\"da9de928-ce3f-4c52-86c5-e063622216fe\")) {                    Plotly.newPlot(                        \"da9de928-ce3f-4c52-86c5-e063622216fe\",                        [{\"name\":\"cluster 3\",\"r\":[0.8809100043060367,0.5046648485718387,0.29133147886780497,0.17960863116597395,0.5909073689971888,0.17838859384718486,0.00028706760442084113,0.0015071049232094158,0.00028706760442084113,0.00014353380221042057,0.0008612028132625233,0.0007176690110521028,0.0008612028132625233,0.00043060140663126167,0.3094588775656667,0.21239688977763152,0.18191117091401224],\"theta\":[\"Cus_mean_review_score\",\"Number_of_orders\",\"Recency\",\"Number_of_articles\",\"log_Spending\",\"cool_stuff\",\"pet_shop\",\"home_confort\",\"health_beauty\",\"electronics\",\"industry_commerce_construction\",\"arts_video_audio\",\"clothing_and_bags\",\"auto\",\"MUM_of_payment_a\",\"delay_delivery\",\"distance\",\"cluster\"],\"type\":\"scatterpolar\"},{\"name\":\"cluster 4\",\"r\":[0.8445802337938383,0.5099628055260361,0.291506070760693,0.11920828905420401,0.5597865234880884,0.005712008501594049,0.0017268862911795962,0.002789585547290117,0.0010626992561105207,0.11346971307120629,0.001594048884165781,0.005357775416223872,0.00026567481402763017,0.002789585547290117,0.3633767268862912,0.24779143809202314,0.16212643992687356],\"theta\":[\"Cus_mean_review_score\",\"Number_of_orders\",\"Recency\",\"Number_of_articles\",\"log_Spending\",\"cool_stuff\",\"pet_shop\",\"home_confort\",\"health_beauty\",\"electronics\",\"industry_commerce_construction\",\"arts_video_audio\",\"clothing_and_bags\",\"auto\",\"MUM_of_payment_a\",\"delay_delivery\",\"distance\",\"cluster\"],\"type\":\"scatterpolar\"},{\"name\":\"cluster 0\",\"r\":[0.3252465483234829,0.5004930966469427,0.22763968772498713,0.22130177514793226,0.5909303621719002,0.057034845496383955,0.005917159763313609,0.16951566951566732,0.06525312294543063,0.014464168310322156,0.027722989261450774,0.02901051939513478,0.027942143326758713,0.022682445759368838,0.32511505588428663,-0.1893590636902514,0.1652946319938448],\"theta\":[\"Cus_mean_review_score\",\"Number_of_orders\",\"Recency\",\"Number_of_articles\",\"log_Spending\",\"cool_stuff\",\"pet_shop\",\"home_confort\",\"health_beauty\",\"electronics\",\"industry_commerce_construction\",\"arts_video_audio\",\"clothing_and_bags\",\"auto\",\"MUM_of_payment_a\",\"delay_delivery\",\"distance\",\"cluster\"],\"type\":\"scatterpolar\"},{\"name\":\"cluster 7\",\"r\":[0.8921027799956286,0.5006169703128402,0.3332229752883897,0.2739529650867388,0.5898703560244344,0.0007984321695579589,0.010331228375795386,0.4055672497640996,7.258474268708717e-05,null,0.005298686216157364,0.04643608913406402,null,0.01945271104013936,0.32376424475575233,0.11892325272440324,0.19128516105052767],\"theta\":[\"Cus_mean_review_score\",\"Number_of_orders\",\"Recency\",\"Number_of_articles\",\"log_Spending\",\"cool_stuff\",\"pet_shop\",\"home_confort\",\"health_beauty\",\"electronics\",\"industry_commerce_construction\",\"arts_video_audio\",\"clothing_and_bags\",\"auto\",\"MUM_of_payment_a\",\"delay_delivery\",\"distance\",\"cluster\"],\"type\":\"scatterpolar\"},{\"name\":\"cluster 8\",\"r\":[0.8163057742782155,0.20472440944882078,0.2706932682416103,0.12889013873265856,0.6742316101592432,0.02821522309711287,0.005905511811023622,0.058070866141732284,0.11773528308961423,0.012467191601049867,0.01968503937007874,0.027559055118110236,0.018372703412073487,0.005249343832020997,0.3110236220472441,0.28757543628877746,0.18939051656648176],\"theta\":[\"Cus_mean_review_score\",\"Number_of_orders\",\"Recency\",\"Number_of_articles\",\"log_Spending\",\"cool_stuff\",\"pet_shop\",\"home_confort\",\"health_beauty\",\"electronics\",\"industry_commerce_construction\",\"arts_video_audio\",\"clothing_and_bags\",\"auto\",\"MUM_of_payment_a\",\"delay_delivery\",\"distance\",\"cluster\"],\"type\":\"scatterpolar\"},{\"name\":\"cluster 1\",\"r\":[0.8266781411359794,0.504302925989673,0.32902737952071526,0.14543889845094665,0.588242187653445,0.012693631669535283,0.014952667814113597,0.08046471600688468,0.03270223752151463,0.005593803786574871,0.045826161790018034,0.013930722891566265,0.010327022375215147,0.04216867469879482,0.2915232358003442,0.10546884609336196,0.20283649844667248],\"theta\":[\"Cus_mean_review_score\",\"Number_of_orders\",\"Recency\",\"Number_of_articles\",\"log_Spending\",\"cool_stuff\",\"pet_shop\",\"home_confort\",\"health_beauty\",\"electronics\",\"industry_commerce_construction\",\"arts_video_audio\",\"clothing_and_bags\",\"auto\",\"MUM_of_payment_a\",\"delay_delivery\",\"distance\",\"cluster\"],\"type\":\"scatterpolar\"},{\"name\":\"cluster 6\",\"r\":[0.7616682524579778,0.26847446875991166,0.3008931829675021,0.17924727772491886,0.5862357430566314,0.008959720900729464,0.00570884871550904,0.12690294957183643,0.005233111322549952,0.004915953060577226,0.004947668886774499,0.003924833491912465,0.011893434823977164,0.003805899143672693,0.3120837297811608,0.18202643370770494,0.18360461107474085],\"theta\":[\"Cus_mean_review_score\",\"Number_of_orders\",\"Recency\",\"Number_of_articles\",\"log_Spending\",\"cool_stuff\",\"pet_shop\",\"home_confort\",\"health_beauty\",\"electronics\",\"industry_commerce_construction\",\"arts_video_audio\",\"clothing_and_bags\",\"auto\",\"MUM_of_payment_a\",\"delay_delivery\",\"distance\",\"cluster\"],\"type\":\"scatterpolar\"},{\"name\":\"cluster 5\",\"r\":[0.8863250000000281,1.0,0.3080109872075841,0.3551250000000169,0.5819226631783163,0.000125,0.000125,0.00075,0.5325625,null,null,0.00025,null,null,0.31828125,0.2305201777722553,0.19046425154494284],\"theta\":[\"Cus_mean_review_score\",\"Number_of_orders\",\"Recency\",\"Number_of_articles\",\"log_Spending\",\"cool_stuff\",\"pet_shop\",\"home_confort\",\"health_beauty\",\"electronics\",\"industry_commerce_construction\",\"arts_video_audio\",\"clothing_and_bags\",\"auto\",\"MUM_of_payment_a\",\"delay_delivery\",\"distance\",\"cluster\"],\"type\":\"scatterpolar\"},{\"name\":\"cluster 2\",\"r\":[0.8602543023128341,0.2593719171325222,0.3191809250097529,0.16329215013859172,0.6103293198916401,0.00739888194672805,0.0006576783952647156,0.004932587964485367,0.0009865175928970734,0.001644195988161789,0.0023018743834265043,0.001644195988161789,0.15972189599286862,0.0006576783952647156,0.3224268332785268,0.2663110458826185,0.20479934038200845],\"theta\":[\"Cus_mean_review_score\",\"Number_of_orders\",\"Recency\",\"Number_of_articles\",\"log_Spending\",\"cool_stuff\",\"pet_shop\",\"home_confort\",\"health_beauty\",\"electronics\",\"industry_commerce_construction\",\"arts_video_audio\",\"clothing_and_bags\",\"auto\",\"MUM_of_payment_a\",\"delay_delivery\",\"distance\",\"cluster\"],\"type\":\"scatterpolar\"}],                        {\"template\":{\"data\":{\"bar\":[{\"error_x\":{\"color\":\"#2a3f5f\"},\"error_y\":{\"color\":\"#2a3f5f\"},\"marker\":{\"line\":{\"color\":\"#E5ECF6\",\"width\":0.5},\"pattern\":{\"fillmode\":\"overlay\",\"size\":10,\"solidity\":0.2}},\"type\":\"bar\"}],\"barpolar\":[{\"marker\":{\"line\":{\"color\":\"#E5ECF6\",\"width\":0.5},\"pattern\":{\"fillmode\":\"overlay\",\"size\":10,\"solidity\":0.2}},\"type\":\"barpolar\"}],\"carpet\":[{\"aaxis\":{\"endlinecolor\":\"#2a3f5f\",\"gridcolor\":\"white\",\"linecolor\":\"white\",\"minorgridcolor\":\"white\",\"startlinecolor\":\"#2a3f5f\"},\"baxis\":{\"endlinecolor\":\"#2a3f5f\",\"gridcolor\":\"white\",\"linecolor\":\"white\",\"minorgridcolor\":\"white\",\"startlinecolor\":\"#2a3f5f\"},\"type\":\"carpet\"}],\"choropleth\":[{\"colorbar\":{\"outlinewidth\":0,\"ticks\":\"\"},\"type\":\"choropleth\"}],\"contour\":[{\"colorbar\":{\"outlinewidth\":0,\"ticks\":\"\"},\"colorscale\":[[0.0,\"#0d0887\"],[0.1111111111111111,\"#46039f\"],[0.2222222222222222,\"#7201a8\"],[0.3333333333333333,\"#9c179e\"],[0.4444444444444444,\"#bd3786\"],[0.5555555555555556,\"#d8576b\"],[0.6666666666666666,\"#ed7953\"],[0.7777777777777778,\"#fb9f3a\"],[0.8888888888888888,\"#fdca26\"],[1.0,\"#f0f921\"]],\"type\":\"contour\"}],\"contourcarpet\":[{\"colorbar\":{\"outlinewidth\":0,\"ticks\":\"\"},\"type\":\"contourcarpet\"}],\"heatmap\":[{\"colorbar\":{\"outlinewidth\":0,\"ticks\":\"\"},\"colorscale\":[[0.0,\"#0d0887\"],[0.1111111111111111,\"#46039f\"],[0.2222222222222222,\"#7201a8\"],[0.3333333333333333,\"#9c179e\"],[0.4444444444444444,\"#bd3786\"],[0.5555555555555556,\"#d8576b\"],[0.6666666666666666,\"#ed7953\"],[0.7777777777777778,\"#fb9f3a\"],[0.8888888888888888,\"#fdca26\"],[1.0,\"#f0f921\"]],\"type\":\"heatmap\"}],\"heatmapgl\":[{\"colorbar\":{\"outlinewidth\":0,\"ticks\":\"\"},\"colorscale\":[[0.0,\"#0d0887\"],[0.1111111111111111,\"#46039f\"],[0.2222222222222222,\"#7201a8\"],[0.3333333333333333,\"#9c179e\"],[0.4444444444444444,\"#bd3786\"],[0.5555555555555556,\"#d8576b\"],[0.6666666666666666,\"#ed7953\"],[0.7777777777777778,\"#fb9f3a\"],[0.8888888888888888,\"#fdca26\"],[1.0,\"#f0f921\"]],\"type\":\"heatmapgl\"}],\"histogram\":[{\"marker\":{\"pattern\":{\"fillmode\":\"overlay\",\"size\":10,\"solidity\":0.2}},\"type\":\"histogram\"}],\"histogram2d\":[{\"colorbar\":{\"outlinewidth\":0,\"ticks\":\"\"},\"colorscale\":[[0.0,\"#0d0887\"],[0.1111111111111111,\"#46039f\"],[0.2222222222222222,\"#7201a8\"],[0.3333333333333333,\"#9c179e\"],[0.4444444444444444,\"#bd3786\"],[0.5555555555555556,\"#d8576b\"],[0.6666666666666666,\"#ed7953\"],[0.7777777777777778,\"#fb9f3a\"],[0.8888888888888888,\"#fdca26\"],[1.0,\"#f0f921\"]],\"type\":\"histogram2d\"}],\"histogram2dcontour\":[{\"colorbar\":{\"outlinewidth\":0,\"ticks\":\"\"},\"colorscale\":[[0.0,\"#0d0887\"],[0.1111111111111111,\"#46039f\"],[0.2222222222222222,\"#7201a8\"],[0.3333333333333333,\"#9c179e\"],[0.4444444444444444,\"#bd3786\"],[0.5555555555555556,\"#d8576b\"],[0.6666666666666666,\"#ed7953\"],[0.7777777777777778,\"#fb9f3a\"],[0.8888888888888888,\"#fdca26\"],[1.0,\"#f0f921\"]],\"type\":\"histogram2dcontour\"}],\"mesh3d\":[{\"colorbar\":{\"outlinewidth\":0,\"ticks\":\"\"},\"type\":\"mesh3d\"}],\"parcoords\":[{\"line\":{\"colorbar\":{\"outlinewidth\":0,\"ticks\":\"\"}},\"type\":\"parcoords\"}],\"pie\":[{\"automargin\":true,\"type\":\"pie\"}],\"scatter\":[{\"marker\":{\"colorbar\":{\"outlinewidth\":0,\"ticks\":\"\"}},\"type\":\"scatter\"}],\"scatter3d\":[{\"line\":{\"colorbar\":{\"outlinewidth\":0,\"ticks\":\"\"}},\"marker\":{\"colorbar\":{\"outlinewidth\":0,\"ticks\":\"\"}},\"type\":\"scatter3d\"}],\"scattercarpet\":[{\"marker\":{\"colorbar\":{\"outlinewidth\":0,\"ticks\":\"\"}},\"type\":\"scattercarpet\"}],\"scattergeo\":[{\"marker\":{\"colorbar\":{\"outlinewidth\":0,\"ticks\":\"\"}},\"type\":\"scattergeo\"}],\"scattergl\":[{\"marker\":{\"colorbar\":{\"outlinewidth\":0,\"ticks\":\"\"}},\"type\":\"scattergl\"}],\"scattermapbox\":[{\"marker\":{\"colorbar\":{\"outlinewidth\":0,\"ticks\":\"\"}},\"type\":\"scattermapbox\"}],\"scatterpolar\":[{\"marker\":{\"colorbar\":{\"outlinewidth\":0,\"ticks\":\"\"}},\"type\":\"scatterpolar\"}],\"scatterpolargl\":[{\"marker\":{\"colorbar\":{\"outlinewidth\":0,\"ticks\":\"\"}},\"type\":\"scatterpolargl\"}],\"scatterternary\":[{\"marker\":{\"colorbar\":{\"outlinewidth\":0,\"ticks\":\"\"}},\"type\":\"scatterternary\"}],\"surface\":[{\"colorbar\":{\"outlinewidth\":0,\"ticks\":\"\"},\"colorscale\":[[0.0,\"#0d0887\"],[0.1111111111111111,\"#46039f\"],[0.2222222222222222,\"#7201a8\"],[0.3333333333333333,\"#9c179e\"],[0.4444444444444444,\"#bd3786\"],[0.5555555555555556,\"#d8576b\"],[0.6666666666666666,\"#ed7953\"],[0.7777777777777778,\"#fb9f3a\"],[0.8888888888888888,\"#fdca26\"],[1.0,\"#f0f921\"]],\"type\":\"surface\"}],\"table\":[{\"cells\":{\"fill\":{\"color\":\"#EBF0F8\"},\"line\":{\"color\":\"white\"}},\"header\":{\"fill\":{\"color\":\"#C8D4E3\"},\"line\":{\"color\":\"white\"}},\"type\":\"table\"}]},\"layout\":{\"annotationdefaults\":{\"arrowcolor\":\"#2a3f5f\",\"arrowhead\":0,\"arrowwidth\":1},\"autotypenumbers\":\"strict\",\"coloraxis\":{\"colorbar\":{\"outlinewidth\":0,\"ticks\":\"\"}},\"colorscale\":{\"diverging\":[[0,\"#8e0152\"],[0.1,\"#c51b7d\"],[0.2,\"#de77ae\"],[0.3,\"#f1b6da\"],[0.4,\"#fde0ef\"],[0.5,\"#f7f7f7\"],[0.6,\"#e6f5d0\"],[0.7,\"#b8e186\"],[0.8,\"#7fbc41\"],[0.9,\"#4d9221\"],[1,\"#276419\"]],\"sequential\":[[0.0,\"#0d0887\"],[0.1111111111111111,\"#46039f\"],[0.2222222222222222,\"#7201a8\"],[0.3333333333333333,\"#9c179e\"],[0.4444444444444444,\"#bd3786\"],[0.5555555555555556,\"#d8576b\"],[0.6666666666666666,\"#ed7953\"],[0.7777777777777778,\"#fb9f3a\"],[0.8888888888888888,\"#fdca26\"],[1.0,\"#f0f921\"]],\"sequentialminus\":[[0.0,\"#0d0887\"],[0.1111111111111111,\"#46039f\"],[0.2222222222222222,\"#7201a8\"],[0.3333333333333333,\"#9c179e\"],[0.4444444444444444,\"#bd3786\"],[0.5555555555555556,\"#d8576b\"],[0.6666666666666666,\"#ed7953\"],[0.7777777777777778,\"#fb9f3a\"],[0.8888888888888888,\"#fdca26\"],[1.0,\"#f0f921\"]]},\"colorway\":[\"#636efa\",\"#EF553B\",\"#00cc96\",\"#ab63fa\",\"#FFA15A\",\"#19d3f3\",\"#FF6692\",\"#B6E880\",\"#FF97FF\",\"#FECB52\"],\"font\":{\"color\":\"#2a3f5f\"},\"geo\":{\"bgcolor\":\"white\",\"lakecolor\":\"white\",\"landcolor\":\"#E5ECF6\",\"showlakes\":true,\"showland\":true,\"subunitcolor\":\"white\"},\"hoverlabel\":{\"align\":\"left\"},\"hovermode\":\"closest\",\"mapbox\":{\"style\":\"light\"},\"paper_bgcolor\":\"white\",\"plot_bgcolor\":\"#E5ECF6\",\"polar\":{\"angularaxis\":{\"gridcolor\":\"white\",\"linecolor\":\"white\",\"ticks\":\"\"},\"bgcolor\":\"#E5ECF6\",\"radialaxis\":{\"gridcolor\":\"white\",\"linecolor\":\"white\",\"ticks\":\"\"}},\"scene\":{\"xaxis\":{\"backgroundcolor\":\"#E5ECF6\",\"gridcolor\":\"white\",\"gridwidth\":2,\"linecolor\":\"white\",\"showbackground\":true,\"ticks\":\"\",\"zerolinecolor\":\"white\"},\"yaxis\":{\"backgroundcolor\":\"#E5ECF6\",\"gridcolor\":\"white\",\"gridwidth\":2,\"linecolor\":\"white\",\"showbackground\":true,\"ticks\":\"\",\"zerolinecolor\":\"white\"},\"zaxis\":{\"backgroundcolor\":\"#E5ECF6\",\"gridcolor\":\"white\",\"gridwidth\":2,\"linecolor\":\"white\",\"showbackground\":true,\"ticks\":\"\",\"zerolinecolor\":\"white\"}},\"shapedefaults\":{\"line\":{\"color\":\"#2a3f5f\"}},\"ternary\":{\"aaxis\":{\"gridcolor\":\"white\",\"linecolor\":\"white\",\"ticks\":\"\"},\"baxis\":{\"gridcolor\":\"white\",\"linecolor\":\"white\",\"ticks\":\"\"},\"bgcolor\":\"#E5ECF6\",\"caxis\":{\"gridcolor\":\"white\",\"linecolor\":\"white\",\"ticks\":\"\"}},\"title\":{\"x\":0.05},\"xaxis\":{\"automargin\":true,\"gridcolor\":\"white\",\"linecolor\":\"white\",\"ticks\":\"\",\"title\":{\"standoff\":15},\"zerolinecolor\":\"white\",\"zerolinewidth\":2},\"yaxis\":{\"automargin\":true,\"gridcolor\":\"white\",\"linecolor\":\"white\",\"ticks\":\"\",\"title\":{\"standoff\":15},\"zerolinecolor\":\"white\",\"zerolinewidth\":2}}},\"polar\":{\"radialaxis\":{\"visible\":true,\"range\":[0,1]}},\"showlegend\":true},                        {\"responsive\": true}                    ).then(function(){\n",
       "                            \n",
       "var gd = document.getElementById('da9de928-ce3f-4c52-86c5-e063622216fe');\n",
       "var x = new MutationObserver(function (mutations, observer) {{\n",
       "        var display = window.getComputedStyle(gd).display;\n",
       "        if (!display || display === 'none') {{\n",
       "            console.log([gd, 'removed!']);\n",
       "            Plotly.purge(gd);\n",
       "            observer.disconnect();\n",
       "        }}\n",
       "}});\n",
       "\n",
       "// Listen for the removal of the full notebook cells\n",
       "var notebookContainer = gd.closest('#notebook-container');\n",
       "if (notebookContainer) {{\n",
       "    x.observe(notebookContainer, {childList: true});\n",
       "}}\n",
       "\n",
       "// Listen for the clearing of the current output cell\n",
       "var outputEl = gd.closest('.output');\n",
       "if (outputEl) {{\n",
       "    x.observe(outputEl, {childList: true});\n",
       "}}\n",
       "\n",
       "                        })                };                });            </script>        </div>"
      ]
     },
     "metadata": {},
     "output_type": "display_data"
    }
   ],
   "source": [
    "polarplt(df0, 'cluster', selection)"
   ]
  },
  {
   "cell_type": "markdown",
   "metadata": {},
   "source": [
    "<a id='df1' />\n",
    "\n",
    "### t1 = t0 + 1 month"
   ]
  },
  {
   "cell_type": "code",
   "execution_count": 91,
   "metadata": {},
   "outputs": [
    {
     "name": "stdout",
     "output_type": "stream",
     "text": [
      "(65769, 78)\n",
      "----------\n",
      "(52779, 78)\n",
      "----------\n",
      "(52779, 79)\n",
      "----------\n",
      "(51514, 17)\n"
     ]
    }
   ],
   "source": [
    "df1 = transforming(df1)"
   ]
  },
  {
   "cell_type": "code",
   "execution_count": 92,
   "metadata": {},
   "outputs": [
    {
     "name": "stdout",
     "output_type": "stream",
     "text": [
      "----------\n",
      "[0.11231328 0.19186971 0.26603035 0.33681215 0.40294414 0.46666903\n",
      " 0.5296189  0.59152515 0.65280841 0.71259236 0.77211179 0.8301619\n",
      " 0.88307171 0.92520113 0.96564811 0.99848321 1.        ]\n",
      "--------------------\n",
      "--------------------\n"
     ]
    }
   ],
   "source": [
    "df1_fr = transformag(df1)"
   ]
  },
  {
   "cell_type": "code",
   "execution_count": 93,
   "metadata": {},
   "outputs": [
    {
     "name": "stdout",
     "output_type": "stream",
     "text": [
      "[0.11231328 0.19186971 0.26603035 0.33681215 0.40294414 0.46666903\n",
      " 0.5296189 ]\n"
     ]
    }
   ],
   "source": [
    "pca1 = decomposition.PCA(n_components=7)\n",
    "pca1.fit(df1_fr)\n",
    "print(pca1.explained_variance_ratio_.cumsum())\n",
    "X_trans_1 = pca1.transform(df1_fr)"
   ]
  },
  {
   "cell_type": "code",
   "execution_count": 94,
   "metadata": {},
   "outputs": [
    {
     "data": {
      "image/png": "[encoded data removed]",
      "text/plain": [
       "<Figure size 648x432 with 2 Axes>"
      ]
     },
     "metadata": {},
     "output_type": "display_data"
    },
    {
     "data": {
      "text/plain": [
       "<AxesSubplot:title={'center':'Distortion Score Elbow for KMeans Clustering'}, xlabel='k', ylabel='distortion score'>"
      ]
     },
     "execution_count": 94,
     "metadata": {},
     "output_type": "execute_result"
    }
   ],
   "source": [
    "plt.rcParams[\"figure.figsize\"] = (9,6)\n",
    "\n",
    "# Instantiate the clustering model and visualizer\n",
    "model = KMeans()\n",
    "visualizer = KElbowVisualizer(model, k=(2,20))\n",
    "\n",
    "visualizer.fit(X_trans_1)    # Fit the data to the visualizer\n",
    "visualizer.poof()    # Draw/show/poof the data"
   ]
  },
  {
   "cell_type": "code",
   "execution_count": 95,
   "metadata": {},
   "outputs": [
    {
     "name": "stdout",
     "output_type": "stream",
     "text": [
      "total time:  16.3523690700531 sec\n"
     ]
    }
   ],
   "source": [
    "# Best number of clusters with davies\n",
    "startt = time.time()\n",
    "\n",
    "davies_ad_1 = []\n",
    "\n",
    "K_range = range(3, 18)\n",
    "for k in K_range:\n",
    "    \n",
    "    cls_ad_1 = cluster.KMeans(n_clusters=k)\n",
    "    cls_ad_1.fit(X_trans_1)\n",
    "    dav_ad_1 = metrics.davies_bouldin_score(X_trans_1, cls_ad_1.labels_)\n",
    "    davies_ad_1.append(dav_ad_1)\n",
    "    \n",
    "    #print(k)\n",
    "    \n",
    "endt = time.time()\n",
    "print(\"total time: \",(endt - startt),\"sec\")"
   ]
  },
  {
   "cell_type": "code",
   "execution_count": 96,
   "metadata": {},
   "outputs": [
    {
     "data": {
      "text/plain": [
       "Text(0, 0.5, 'davies_bouldin')"
      ]
     },
     "execution_count": 96,
     "metadata": {},
     "output_type": "execute_result"
    },
    {
     "data": {
      "image/png": "[encoded data removed]",
      "text/plain": [
       "<Figure size 648x432 with 1 Axes>"
      ]
     },
     "metadata": {},
     "output_type": "display_data"
    }
   ],
   "source": [
    "plt.plot(K_range, davies_ad_1, 'o-')\n",
    "plt.xlabel('nombre de clusters')\n",
    "plt.ylabel('davies_bouldin')"
   ]
  },
  {
   "cell_type": "code",
   "execution_count": 97,
   "metadata": {},
   "outputs": [
    {
     "name": "stdout",
     "output_type": "stream",
     "text": [
      "total time:  226.1276798248291 sec\n"
     ]
    }
   ],
   "source": [
    "# Best number of clusters\n",
    "startt = time.time()\n",
    "\n",
    "silhouette_ad_1 = []\n",
    "\n",
    "K_range = range(5, 14)\n",
    "for k in K_range:\n",
    "    \n",
    "    cls_ad_1 = cluster.KMeans(n_clusters=k)\n",
    "    cls_ad_1.fit(X_trans_1)\n",
    "    silh_ad_1 = metrics.silhouette_score(X_trans_1, cls_ad_1.labels_)\n",
    "    silhouette_ad_1.append(silh_ad_1)\n",
    "    \n",
    "    #print(k)\n",
    "    \n",
    "endt = time.time()\n",
    "print(\"total time: \",(endt - startt),\"sec\")"
   ]
  },
  {
   "cell_type": "code",
   "execution_count": 98,
   "metadata": {},
   "outputs": [
    {
     "data": {
      "text/plain": [
       "Text(0, 0.5, 'silhouette')"
      ]
     },
     "execution_count": 98,
     "metadata": {},
     "output_type": "execute_result"
    },
    {
     "data": {
      "image/png": "[encoded data removed]",
      "text/plain": [
       "<Figure size 648x432 with 1 Axes>"
      ]
     },
     "metadata": {},
     "output_type": "display_data"
    }
   ],
   "source": [
    "plt.plot(K_range, silhouette_ad_1, 'o-')\n",
    "plt.xlabel('nombre de clusters')\n",
    "plt.ylabel('silhouette')"
   ]
  },
  {
   "cell_type": "code",
   "execution_count": 116,
   "metadata": {},
   "outputs": [],
   "source": [
    "model_df1 = KMeans(n_clusters=9)\n",
    "model_df1.fit(X_trans_1)\n",
    "model_df1.labels_\n",
    "\n",
    "df1['cluster_t1'] = model_df1.labels_"
   ]
  },
  {
   "cell_type": "code",
   "execution_count": 117,
   "metadata": {},
   "outputs": [
    {
     "data": {
      "text/plain": [
       "1    15583\n",
       "8     9085\n",
       "4     7650\n",
       "6     5776\n",
       "5     4607\n",
       "0     3621\n",
       "7     3410\n",
       "3     1182\n",
       "2      600\n",
       "Name: cluster_t1, dtype: int64"
      ]
     },
     "execution_count": 117,
     "metadata": {},
     "output_type": "execute_result"
    }
   ],
   "source": [
    "df1['cluster_t1'].value_counts()"
   ]
  },
  {
   "cell_type": "code",
   "execution_count": 210,
   "metadata": {},
   "outputs": [
    {
     "data": {
      "application/vnd.plotly.v1+json": {
       "config": {
        "plotlyServerURL": "https://plot.ly"
       },
       "data": [
        {
         "name": "cluster 3",
         "r": [
          0.7540806542583203,
          0.2291515591007962,
          0.3061392088970851,
          0.18001504042113248,
          0.58623273688087,
          0.008883248730964455,
          0.004471839497220209,
          0.12669204737732673,
          0.004230118443316413,
          0.004794134235758599,
          0.007152745731425933,
          0.004018612521150592,
          0.01353637901861252,
          0.005499153976311337,
          0.3142978003384095,
          0.1787156666307115,
          0.1811073608522894
         ],
         "theta": [
          "Cus_mean_review_score",
          "Number_of_orders",
          "Recency",
          "Number_of_articles",
          "log_Spending",
          "cool_stuff",
          "pet_shop",
          "home_confort",
          "health_beauty",
          "electronics",
          "industry_commerce_construction",
          "arts_video_audio",
          "clothing_and_bags",
          "auto",
          "MUM_of_payment_a",
          "delay_delivery",
          "distance",
          "cluster_t1",
          "cluster_M0",
          "cluster"
         ],
         "type": "scatterpolar"
        },
        {
         "name": "cluster 4",
         "r": [
          0.8748235294117889,
          0.5049019607843137,
          0.31072590632496516,
          0.09000000000000358,
          0.5908218120624029,
          0.08954248366013413,
          0.00013071895424836603,
          0.0012418300653594771,
          0.000392156862745098,
          null,
          0.001437908496732026,
          0.000392156862745098,
          0.000784313725490196,
          0.00065359477124183,
          0.31052287581699345,
          0.21182167916563213,
          0.20336140434265967
         ],
         "theta": [
          "Cus_mean_review_score",
          "Number_of_orders",
          "Recency",
          "Number_of_articles",
          "log_Spending",
          "cool_stuff",
          "pet_shop",
          "home_confort",
          "health_beauty",
          "electronics",
          "industry_commerce_construction",
          "arts_video_audio",
          "clothing_and_bags",
          "auto",
          "MUM_of_payment_a",
          "delay_delivery",
          "distance",
          "cluster_t1",
          "cluster_M0",
          "cluster"
         ],
         "type": "scatterpolar"
        },
        {
         "name": "cluster 0",
         "r": [
          0.3195249930958444,
          0.5006904170118752,
          0.1853052934664706,
          0.22049157691246402,
          0.5884150252208218,
          0.04984810825738746,
          0.004694835680751174,
          0.15796741231703887,
          0.07249378624689312,
          0.019055509527754765,
          0.03212740495259125,
          0.028928472797569733,
          0.027616680475006903,
          0.013325048329190832,
          0.3191107428887048,
          -0.24698938324260702,
          0.16563424304133897
         ],
         "theta": [
          "Cus_mean_review_score",
          "Number_of_orders",
          "Recency",
          "Number_of_articles",
          "log_Spending",
          "cool_stuff",
          "pet_shop",
          "home_confort",
          "health_beauty",
          "electronics",
          "industry_commerce_construction",
          "arts_video_audio",
          "clothing_and_bags",
          "auto",
          "MUM_of_payment_a",
          "delay_delivery",
          "distance",
          "cluster_t1",
          "cluster_M0",
          "cluster"
         ],
         "type": "scatterpolar"
        },
        {
         "name": "cluster 7",
         "r": [
          0.8583479960899326,
          0.26011730205278594,
          0.32631000336953125,
          0.16351068286552836,
          0.6113910290437452,
          0.007331378299120235,
          0.0008797653958944282,
          0.007038123167155425,
          0.001466275659824047,
          0.001466275659824047,
          0.0020527859237536657,
          0.0016129032258064516,
          0.159530791788864,
          0.0008797653958944282,
          0.31979472140762466,
          0.26428901107405284,
          0.21161792781315605
         ],
         "theta": [
          "Cus_mean_review_score",
          "Number_of_orders",
          "Recency",
          "Number_of_articles",
          "log_Spending",
          "cool_stuff",
          "pet_shop",
          "home_confort",
          "health_beauty",
          "electronics",
          "industry_commerce_construction",
          "arts_video_audio",
          "clothing_and_bags",
          "auto",
          "MUM_of_payment_a",
          "delay_delivery",
          "distance",
          "cluster_t1",
          "cluster_M0",
          "cluster"
         ],
         "type": "scatterpolar"
        },
        {
         "name": "cluster 8",
         "r": [
          0.8854045129334379,
          0.5001100715465052,
          0.3069174098679241,
          0.3557879288204319,
          0.5628085870289394,
          0.0001100715465052284,
          0.0001100715465052284,
          0.0007705008255365987,
          0.5334067143643368,
          null,
          null,
          0.0004402861860209136,
          null,
          null,
          0.3183819482663731,
          0.19965206571216282,
          0.20091331286441008
         ],
         "theta": [
          "Cus_mean_review_score",
          "Number_of_orders",
          "Recency",
          "Number_of_articles",
          "log_Spending",
          "cool_stuff",
          "pet_shop",
          "home_confort",
          "health_beauty",
          "electronics",
          "industry_commerce_construction",
          "arts_video_audio",
          "clothing_and_bags",
          "auto",
          "MUM_of_payment_a",
          "delay_delivery",
          "distance",
          "cluster_t1",
          "cluster_M0",
          "cluster"
         ],
         "type": "scatterpolar"
        },
        {
         "name": "cluster 1",
         "r": [
          0.8902650324070841,
          0.5008342424436887,
          0.3319031026059825,
          0.18266700891995932,
          0.588287607333118,
          0.0007700699480202786,
          0.012706154142334596,
          0.4027144965667715,
          null,
          null,
          0.008214079445549638,
          0.03210763866606888,
          null,
          0.019765128665853816,
          0.32639735609317844,
          0.11690205224709614,
          0.20412480522444357
         ],
         "theta": [
          "Cus_mean_review_score",
          "Number_of_orders",
          "Recency",
          "Number_of_articles",
          "log_Spending",
          "cool_stuff",
          "pet_shop",
          "home_confort",
          "health_beauty",
          "electronics",
          "industry_commerce_construction",
          "arts_video_audio",
          "clothing_and_bags",
          "auto",
          "MUM_of_payment_a",
          "delay_delivery",
          "distance",
          "cluster_t1",
          "cluster_M0",
          "cluster"
         ],
         "type": "scatterpolar"
        },
        {
         "name": "cluster 6",
         "r": [
          0.836236149584501,
          0.5043282548476454,
          0.333636899764436,
          0.1930690212372974,
          0.5864795887427652,
          0.010560941828254847,
          0.017572714681440442,
          0.08552631578947369,
          0.04778393351800554,
          0.011599722991689751,
          0.04248903508772033,
          0.01675034626038781,
          0.008483379501385042,
          0.03944482917820811,
          0.2918975069252078,
          0.10708348871048022,
          0.2102228042667079
         ],
         "theta": [
          "Cus_mean_review_score",
          "Number_of_orders",
          "Recency",
          "Number_of_articles",
          "log_Spending",
          "cool_stuff",
          "pet_shop",
          "home_confort",
          "health_beauty",
          "electronics",
          "industry_commerce_construction",
          "arts_video_audio",
          "clothing_and_bags",
          "auto",
          "MUM_of_payment_a",
          "delay_delivery",
          "distance",
          "cluster_t1",
          "cluster_M0",
          "cluster"
         ],
         "type": "scatterpolar"
        },
        {
         "name": "cluster 5",
         "r": [
          0.8450835684827498,
          0.5130236596483612,
          0.2670537950376865,
          0.11901454308661714,
          0.5543390770984633,
          0.0036900369003690036,
          0.0017364879531148252,
          0.0036900369003690036,
          0.001519426958975472,
          0.11595398306925174,
          0.0034729759062296505,
          0.0046306345416395325,
          0.00021706099413935315,
          0.002387670935532885,
          0.35456913392663336,
          0.24795947176644073,
          0.17095557128985345
         ],
         "theta": [
          "Cus_mean_review_score",
          "Number_of_orders",
          "Recency",
          "Number_of_articles",
          "log_Spending",
          "cool_stuff",
          "pet_shop",
          "home_confort",
          "health_beauty",
          "electronics",
          "industry_commerce_construction",
          "arts_video_audio",
          "clothing_and_bags",
          "auto",
          "MUM_of_payment_a",
          "delay_delivery",
          "distance",
          "cluster_t1",
          "cluster_M0",
          "cluster"
         ],
         "type": "scatterpolar"
        },
        {
         "name": "cluster 2",
         "r": [
          0.809716666666667,
          0.2051851851851875,
          0.26815720883583327,
          0.129761904761905,
          0.6758148339010162,
          0.020416666666666666,
          0.006666666666666667,
          0.02599999999999997,
          0.11730158730158777,
          0.013333333333333329,
          0.015833333333333335,
          0.025,
          0.013333333333333329,
          0.007083333333333333,
          0.31333333333333335,
          0.2826322901433944,
          0.17923996273278553
         ],
         "theta": [
          "Cus_mean_review_score",
          "Number_of_orders",
          "Recency",
          "Number_of_articles",
          "log_Spending",
          "cool_stuff",
          "pet_shop",
          "home_confort",
          "health_beauty",
          "electronics",
          "industry_commerce_construction",
          "arts_video_audio",
          "clothing_and_bags",
          "auto",
          "MUM_of_payment_a",
          "delay_delivery",
          "distance",
          "cluster_t1",
          "cluster_M0",
          "cluster"
         ],
         "type": "scatterpolar"
        }
       ],
       "layout": {
        "polar": {
         "radialaxis": {
          "range": [
           0,
           1
          ],
          "visible": true
         }
        },
        "showlegend": true,
        "template": {
         "data": {
          "bar": [
           {
            "error_x": {
             "color": "#2a3f5f"
            },
            "error_y": {
             "color": "#2a3f5f"
            },
            "marker": {
             "line": {
              "color": "#E5ECF6",
              "width": 0.5
             },
             "pattern": {
              "fillmode": "overlay",
              "size": 10,
              "solidity": 0.2
             }
            },
            "type": "bar"
           }
          ],
          "barpolar": [
           {
            "marker": {
             "line": {
              "color": "#E5ECF6",
              "width": 0.5
             },
             "pattern": {
              "fillmode": "overlay",
              "size": 10,
              "solidity": 0.2
             }
            },
            "type": "barpolar"
           }
          ],
          "carpet": [
           {
            "aaxis": {
             "endlinecolor": "#2a3f5f",
             "gridcolor": "white",
             "linecolor": "white",
             "minorgridcolor": "white",
             "startlinecolor": "#2a3f5f"
            },
            "baxis": {
             "endlinecolor": "#2a3f5f",
             "gridcolor": "white",
             "linecolor": "white",
             "minorgridcolor": "white",
             "startlinecolor": "#2a3f5f"
            },
            "type": "carpet"
           }
          ],
          "choropleth": [
           {
            "colorbar": {
             "outlinewidth": 0,
             "ticks": ""
            },
            "type": "choropleth"
           }
          ],
          "contour": [
           {
            "colorbar": {
             "outlinewidth": 0,
             "ticks": ""
            },
            "colorscale": [
             [
              0,
              "#0d0887"
             ],
             [
              0.1111111111111111,
              "#46039f"
             ],
             [
              0.2222222222222222,
              "#7201a8"
             ],
             [
              0.3333333333333333,
              "#9c179e"
             ],
             [
              0.4444444444444444,
              "#bd3786"
             ],
             [
              0.5555555555555556,
              "#d8576b"
             ],
             [
              0.6666666666666666,
              "#ed7953"
             ],
             [
              0.7777777777777778,
              "#fb9f3a"
             ],
             [
              0.8888888888888888,
              "#fdca26"
             ],
             [
              1,
              "#f0f921"
             ]
            ],
            "type": "contour"
           }
          ],
          "contourcarpet": [
           {
            "colorbar": {
             "outlinewidth": 0,
             "ticks": ""
            },
            "type": "contourcarpet"
           }
          ],
          "heatmap": [
           {
            "colorbar": {
             "outlinewidth": 0,
             "ticks": ""
            },
            "colorscale": [
             [
              0,
              "#0d0887"
             ],
             [
              0.1111111111111111,
              "#46039f"
             ],
             [
              0.2222222222222222,
              "#7201a8"
             ],
             [
              0.3333333333333333,
              "#9c179e"
             ],
             [
              0.4444444444444444,
              "#bd3786"
             ],
             [
              0.5555555555555556,
              "#d8576b"
             ],
             [
              0.6666666666666666,
              "#ed7953"
             ],
             [
              0.7777777777777778,
              "#fb9f3a"
             ],
             [
              0.8888888888888888,
              "#fdca26"
             ],
             [
              1,
              "#f0f921"
             ]
            ],
            "type": "heatmap"
           }
          ],
          "heatmapgl": [
           {
            "colorbar": {
             "outlinewidth": 0,
             "ticks": ""
            },
            "colorscale": [
             [
              0,
              "#0d0887"
             ],
             [
              0.1111111111111111,
              "#46039f"
             ],
             [
              0.2222222222222222,
              "#7201a8"
             ],
             [
              0.3333333333333333,
              "#9c179e"
             ],
             [
              0.4444444444444444,
              "#bd3786"
             ],
             [
              0.5555555555555556,
              "#d8576b"
             ],
             [
              0.6666666666666666,
              "#ed7953"
             ],
             [
              0.7777777777777778,
              "#fb9f3a"
             ],
             [
              0.8888888888888888,
              "#fdca26"
             ],
             [
              1,
              "#f0f921"
             ]
            ],
            "type": "heatmapgl"
           }
          ],
          "histogram": [
           {
            "marker": {
             "pattern": {
              "fillmode": "overlay",
              "size": 10,
              "solidity": 0.2
             }
            },
            "type": "histogram"
           }
          ],
          "histogram2d": [
           {
            "colorbar": {
             "outlinewidth": 0,
             "ticks": ""
            },
            "colorscale": [
             [
              0,
              "#0d0887"
             ],
             [
              0.1111111111111111,
              "#46039f"
             ],
             [
              0.2222222222222222,
              "#7201a8"
             ],
             [
              0.3333333333333333,
              "#9c179e"
             ],
             [
              0.4444444444444444,
              "#bd3786"
             ],
             [
              0.5555555555555556,
              "#d8576b"
             ],
             [
              0.6666666666666666,
              "#ed7953"
             ],
             [
              0.7777777777777778,
              "#fb9f3a"
             ],
             [
              0.8888888888888888,
              "#fdca26"
             ],
             [
              1,
              "#f0f921"
             ]
            ],
            "type": "histogram2d"
           }
          ],
          "histogram2dcontour": [
           {
            "colorbar": {
             "outlinewidth": 0,
             "ticks": ""
            },
            "colorscale": [
             [
              0,
              "#0d0887"
             ],
             [
              0.1111111111111111,
              "#46039f"
             ],
             [
              0.2222222222222222,
              "#7201a8"
             ],
             [
              0.3333333333333333,
              "#9c179e"
             ],
             [
              0.4444444444444444,
              "#bd3786"
             ],
             [
              0.5555555555555556,
              "#d8576b"
             ],
             [
              0.6666666666666666,
              "#ed7953"
             ],
             [
              0.7777777777777778,
              "#fb9f3a"
             ],
             [
              0.8888888888888888,
              "#fdca26"
             ],
             [
              1,
              "#f0f921"
             ]
            ],
            "type": "histogram2dcontour"
           }
          ],
          "mesh3d": [
           {
            "colorbar": {
             "outlinewidth": 0,
             "ticks": ""
            },
            "type": "mesh3d"
           }
          ],
          "parcoords": [
           {
            "line": {
             "colorbar": {
              "outlinewidth": 0,
              "ticks": ""
             }
            },
            "type": "parcoords"
           }
          ],
          "pie": [
           {
            "automargin": true,
            "type": "pie"
           }
          ],
          "scatter": [
           {
            "marker": {
             "colorbar": {
              "outlinewidth": 0,
              "ticks": ""
             }
            },
            "type": "scatter"
           }
          ],
          "scatter3d": [
           {
            "line": {
             "colorbar": {
              "outlinewidth": 0,
              "ticks": ""
             }
            },
            "marker": {
             "colorbar": {
              "outlinewidth": 0,
              "ticks": ""
             }
            },
            "type": "scatter3d"
           }
          ],
          "scattercarpet": [
           {
            "marker": {
             "colorbar": {
              "outlinewidth": 0,
              "ticks": ""
             }
            },
            "type": "scattercarpet"
           }
          ],
          "scattergeo": [
           {
            "marker": {
             "colorbar": {
              "outlinewidth": 0,
              "ticks": ""
             }
            },
            "type": "scattergeo"
           }
          ],
          "scattergl": [
           {
            "marker": {
             "colorbar": {
              "outlinewidth": 0,
              "ticks": ""
             }
            },
            "type": "scattergl"
           }
          ],
          "scattermapbox": [
           {
            "marker": {
             "colorbar": {
              "outlinewidth": 0,
              "ticks": ""
             }
            },
            "type": "scattermapbox"
           }
          ],
          "scatterpolar": [
           {
            "marker": {
             "colorbar": {
              "outlinewidth": 0,
              "ticks": ""
             }
            },
            "type": "scatterpolar"
           }
          ],
          "scatterpolargl": [
           {
            "marker": {
             "colorbar": {
              "outlinewidth": 0,
              "ticks": ""
             }
            },
            "type": "scatterpolargl"
           }
          ],
          "scatterternary": [
           {
            "marker": {
             "colorbar": {
              "outlinewidth": 0,
              "ticks": ""
             }
            },
            "type": "scatterternary"
           }
          ],
          "surface": [
           {
            "colorbar": {
             "outlinewidth": 0,
             "ticks": ""
            },
            "colorscale": [
             [
              0,
              "#0d0887"
             ],
             [
              0.1111111111111111,
              "#46039f"
             ],
             [
              0.2222222222222222,
              "#7201a8"
             ],
             [
              0.3333333333333333,
              "#9c179e"
             ],
             [
              0.4444444444444444,
              "#bd3786"
             ],
             [
              0.5555555555555556,
              "#d8576b"
             ],
             [
              0.6666666666666666,
              "#ed7953"
             ],
             [
              0.7777777777777778,
              "#fb9f3a"
             ],
             [
              0.8888888888888888,
              "#fdca26"
             ],
             [
              1,
              "#f0f921"
             ]
            ],
            "type": "surface"
           }
          ],
          "table": [
           {
            "cells": {
             "fill": {
              "color": "#EBF0F8"
             },
             "line": {
              "color": "white"
             }
            },
            "header": {
             "fill": {
              "color": "#C8D4E3"
             },
             "line": {
              "color": "white"
             }
            },
            "type": "table"
           }
          ]
         },
         "layout": {
          "annotationdefaults": {
           "arrowcolor": "#2a3f5f",
           "arrowhead": 0,
           "arrowwidth": 1
          },
          "autotypenumbers": "strict",
          "coloraxis": {
           "colorbar": {
            "outlinewidth": 0,
            "ticks": ""
           }
          },
          "colorscale": {
           "diverging": [
            [
             0,
             "#8e0152"
            ],
            [
             0.1,
             "#c51b7d"
            ],
            [
             0.2,
             "#de77ae"
            ],
            [
             0.3,
             "#f1b6da"
            ],
            [
             0.4,
             "#fde0ef"
            ],
            [
             0.5,
             "#f7f7f7"
            ],
            [
             0.6,
             "#e6f5d0"
            ],
            [
             0.7,
             "#b8e186"
            ],
            [
             0.8,
             "#7fbc41"
            ],
            [
             0.9,
             "#4d9221"
            ],
            [
             1,
             "#276419"
            ]
           ],
           "sequential": [
            [
             0,
             "#0d0887"
            ],
            [
             0.1111111111111111,
             "#46039f"
            ],
            [
             0.2222222222222222,
             "#7201a8"
            ],
            [
             0.3333333333333333,
             "#9c179e"
            ],
            [
             0.4444444444444444,
             "#bd3786"
            ],
            [
             0.5555555555555556,
             "#d8576b"
            ],
            [
             0.6666666666666666,
             "#ed7953"
            ],
            [
             0.7777777777777778,
             "#fb9f3a"
            ],
            [
             0.8888888888888888,
             "#fdca26"
            ],
            [
             1,
             "#f0f921"
            ]
           ],
           "sequentialminus": [
            [
             0,
             "#0d0887"
            ],
            [
             0.1111111111111111,
             "#46039f"
            ],
            [
             0.2222222222222222,
             "#7201a8"
            ],
            [
             0.3333333333333333,
             "#9c179e"
            ],
            [
             0.4444444444444444,
             "#bd3786"
            ],
            [
             0.5555555555555556,
             "#d8576b"
            ],
            [
             0.6666666666666666,
             "#ed7953"
            ],
            [
             0.7777777777777778,
             "#fb9f3a"
            ],
            [
             0.8888888888888888,
             "#fdca26"
            ],
            [
             1,
             "#f0f921"
            ]
           ]
          },
          "colorway": [
           "#636efa",
           "#EF553B",
           "#00cc96",
           "#ab63fa",
           "#FFA15A",
           "#19d3f3",
           "#FF6692",
           "#B6E880",
           "#FF97FF",
           "#FECB52"
          ],
          "font": {
           "color": "#2a3f5f"
          },
          "geo": {
           "bgcolor": "white",
           "lakecolor": "white",
           "landcolor": "#E5ECF6",
           "showlakes": true,
           "showland": true,
           "subunitcolor": "white"
          },
          "hoverlabel": {
           "align": "left"
          },
          "hovermode": "closest",
          "mapbox": {
           "style": "light"
          },
          "paper_bgcolor": "white",
          "plot_bgcolor": "#E5ECF6",
          "polar": {
           "angularaxis": {
            "gridcolor": "white",
            "linecolor": "white",
            "ticks": ""
           },
           "bgcolor": "#E5ECF6",
           "radialaxis": {
            "gridcolor": "white",
            "linecolor": "white",
            "ticks": ""
           }
          },
          "scene": {
           "xaxis": {
            "backgroundcolor": "#E5ECF6",
            "gridcolor": "white",
            "gridwidth": 2,
            "linecolor": "white",
            "showbackground": true,
            "ticks": "",
            "zerolinecolor": "white"
           },
           "yaxis": {
            "backgroundcolor": "#E5ECF6",
            "gridcolor": "white",
            "gridwidth": 2,
            "linecolor": "white",
            "showbackground": true,
            "ticks": "",
            "zerolinecolor": "white"
           },
           "zaxis": {
            "backgroundcolor": "#E5ECF6",
            "gridcolor": "white",
            "gridwidth": 2,
            "linecolor": "white",
            "showbackground": true,
            "ticks": "",
            "zerolinecolor": "white"
           }
          },
          "shapedefaults": {
           "line": {
            "color": "#2a3f5f"
           }
          },
          "ternary": {
           "aaxis": {
            "gridcolor": "white",
            "linecolor": "white",
            "ticks": ""
           },
           "baxis": {
            "gridcolor": "white",
            "linecolor": "white",
            "ticks": ""
           },
           "bgcolor": "#E5ECF6",
           "caxis": {
            "gridcolor": "white",
            "linecolor": "white",
            "ticks": ""
           }
          },
          "title": {
           "x": 0.05
          },
          "xaxis": {
           "automargin": true,
           "gridcolor": "white",
           "linecolor": "white",
           "ticks": "",
           "title": {
            "standoff": 15
           },
           "zerolinecolor": "white",
           "zerolinewidth": 2
          },
          "yaxis": {
           "automargin": true,
           "gridcolor": "white",
           "linecolor": "white",
           "ticks": "",
           "title": {
            "standoff": 15
           },
           "zerolinecolor": "white",
           "zerolinewidth": 2
          }
         }
        }
       }
      },
      "text/html": [
       "<div>                            <div id=\"233306b2-0747-4576-a19b-ab4b24ff31a9\" class=\"plotly-graph-div\" style=\"height:525px; width:100%;\"></div>            <script type=\"text/javascript\">                require([\"plotly\"], function(Plotly) {                    window.PLOTLYENV=window.PLOTLYENV || {};                                    if (document.getElementById(\"233306b2-0747-4576-a19b-ab4b24ff31a9\")) {                    Plotly.newPlot(                        \"233306b2-0747-4576-a19b-ab4b24ff31a9\",                        [{\"name\":\"cluster 3\",\"r\":[0.7540806542583203,0.2291515591007962,0.3061392088970851,0.18001504042113248,0.58623273688087,0.008883248730964455,0.004471839497220209,0.12669204737732673,0.004230118443316413,0.004794134235758599,0.007152745731425933,0.004018612521150592,0.01353637901861252,0.005499153976311337,0.3142978003384095,0.1787156666307115,0.1811073608522894],\"theta\":[\"Cus_mean_review_score\",\"Number_of_orders\",\"Recency\",\"Number_of_articles\",\"log_Spending\",\"cool_stuff\",\"pet_shop\",\"home_confort\",\"health_beauty\",\"electronics\",\"industry_commerce_construction\",\"arts_video_audio\",\"clothing_and_bags\",\"auto\",\"MUM_of_payment_a\",\"delay_delivery\",\"distance\",\"cluster_t1\",\"cluster_M0\",\"cluster\"],\"type\":\"scatterpolar\"},{\"name\":\"cluster 4\",\"r\":[0.8748235294117889,0.5049019607843137,0.31072590632496516,0.09000000000000358,0.5908218120624029,0.08954248366013413,0.00013071895424836603,0.0012418300653594771,0.000392156862745098,null,0.001437908496732026,0.000392156862745098,0.000784313725490196,0.00065359477124183,0.31052287581699345,0.21182167916563213,0.20336140434265967],\"theta\":[\"Cus_mean_review_score\",\"Number_of_orders\",\"Recency\",\"Number_of_articles\",\"log_Spending\",\"cool_stuff\",\"pet_shop\",\"home_confort\",\"health_beauty\",\"electronics\",\"industry_commerce_construction\",\"arts_video_audio\",\"clothing_and_bags\",\"auto\",\"MUM_of_payment_a\",\"delay_delivery\",\"distance\",\"cluster_t1\",\"cluster_M0\",\"cluster\"],\"type\":\"scatterpolar\"},{\"name\":\"cluster 0\",\"r\":[0.3195249930958444,0.5006904170118752,0.1853052934664706,0.22049157691246402,0.5884150252208218,0.04984810825738746,0.004694835680751174,0.15796741231703887,0.07249378624689312,0.019055509527754765,0.03212740495259125,0.028928472797569733,0.027616680475006903,0.013325048329190832,0.3191107428887048,-0.24698938324260702,0.16563424304133897],\"theta\":[\"Cus_mean_review_score\",\"Number_of_orders\",\"Recency\",\"Number_of_articles\",\"log_Spending\",\"cool_stuff\",\"pet_shop\",\"home_confort\",\"health_beauty\",\"electronics\",\"industry_commerce_construction\",\"arts_video_audio\",\"clothing_and_bags\",\"auto\",\"MUM_of_payment_a\",\"delay_delivery\",\"distance\",\"cluster_t1\",\"cluster_M0\",\"cluster\"],\"type\":\"scatterpolar\"},{\"name\":\"cluster 7\",\"r\":[0.8583479960899326,0.26011730205278594,0.32631000336953125,0.16351068286552836,0.6113910290437452,0.007331378299120235,0.0008797653958944282,0.007038123167155425,0.001466275659824047,0.001466275659824047,0.0020527859237536657,0.0016129032258064516,0.159530791788864,0.0008797653958944282,0.31979472140762466,0.26428901107405284,0.21161792781315605],\"theta\":[\"Cus_mean_review_score\",\"Number_of_orders\",\"Recency\",\"Number_of_articles\",\"log_Spending\",\"cool_stuff\",\"pet_shop\",\"home_confort\",\"health_beauty\",\"electronics\",\"industry_commerce_construction\",\"arts_video_audio\",\"clothing_and_bags\",\"auto\",\"MUM_of_payment_a\",\"delay_delivery\",\"distance\",\"cluster_t1\",\"cluster_M0\",\"cluster\"],\"type\":\"scatterpolar\"},{\"name\":\"cluster 8\",\"r\":[0.8854045129334379,0.5001100715465052,0.3069174098679241,0.3557879288204319,0.5628085870289394,0.0001100715465052284,0.0001100715465052284,0.0007705008255365987,0.5334067143643368,null,null,0.0004402861860209136,null,null,0.3183819482663731,0.19965206571216282,0.20091331286441008],\"theta\":[\"Cus_mean_review_score\",\"Number_of_orders\",\"Recency\",\"Number_of_articles\",\"log_Spending\",\"cool_stuff\",\"pet_shop\",\"home_confort\",\"health_beauty\",\"electronics\",\"industry_commerce_construction\",\"arts_video_audio\",\"clothing_and_bags\",\"auto\",\"MUM_of_payment_a\",\"delay_delivery\",\"distance\",\"cluster_t1\",\"cluster_M0\",\"cluster\"],\"type\":\"scatterpolar\"},{\"name\":\"cluster 1\",\"r\":[0.8902650324070841,0.5008342424436887,0.3319031026059825,0.18266700891995932,0.588287607333118,0.0007700699480202786,0.012706154142334596,0.4027144965667715,null,null,0.008214079445549638,0.03210763866606888,null,0.019765128665853816,0.32639735609317844,0.11690205224709614,0.20412480522444357],\"theta\":[\"Cus_mean_review_score\",\"Number_of_orders\",\"Recency\",\"Number_of_articles\",\"log_Spending\",\"cool_stuff\",\"pet_shop\",\"home_confort\",\"health_beauty\",\"electronics\",\"industry_commerce_construction\",\"arts_video_audio\",\"clothing_and_bags\",\"auto\",\"MUM_of_payment_a\",\"delay_delivery\",\"distance\",\"cluster_t1\",\"cluster_M0\",\"cluster\"],\"type\":\"scatterpolar\"},{\"name\":\"cluster 6\",\"r\":[0.836236149584501,0.5043282548476454,0.333636899764436,0.1930690212372974,0.5864795887427652,0.010560941828254847,0.017572714681440442,0.08552631578947369,0.04778393351800554,0.011599722991689751,0.04248903508772033,0.01675034626038781,0.008483379501385042,0.03944482917820811,0.2918975069252078,0.10708348871048022,0.2102228042667079],\"theta\":[\"Cus_mean_review_score\",\"Number_of_orders\",\"Recency\",\"Number_of_articles\",\"log_Spending\",\"cool_stuff\",\"pet_shop\",\"home_confort\",\"health_beauty\",\"electronics\",\"industry_commerce_construction\",\"arts_video_audio\",\"clothing_and_bags\",\"auto\",\"MUM_of_payment_a\",\"delay_delivery\",\"distance\",\"cluster_t1\",\"cluster_M0\",\"cluster\"],\"type\":\"scatterpolar\"},{\"name\":\"cluster 5\",\"r\":[0.8450835684827498,0.5130236596483612,0.2670537950376865,0.11901454308661714,0.5543390770984633,0.0036900369003690036,0.0017364879531148252,0.0036900369003690036,0.001519426958975472,0.11595398306925174,0.0034729759062296505,0.0046306345416395325,0.00021706099413935315,0.002387670935532885,0.35456913392663336,0.24795947176644073,0.17095557128985345],\"theta\":[\"Cus_mean_review_score\",\"Number_of_orders\",\"Recency\",\"Number_of_articles\",\"log_Spending\",\"cool_stuff\",\"pet_shop\",\"home_confort\",\"health_beauty\",\"electronics\",\"industry_commerce_construction\",\"arts_video_audio\",\"clothing_and_bags\",\"auto\",\"MUM_of_payment_a\",\"delay_delivery\",\"distance\",\"cluster_t1\",\"cluster_M0\",\"cluster\"],\"type\":\"scatterpolar\"},{\"name\":\"cluster 2\",\"r\":[0.809716666666667,0.2051851851851875,0.26815720883583327,0.129761904761905,0.6758148339010162,0.020416666666666666,0.006666666666666667,0.02599999999999997,0.11730158730158777,0.013333333333333329,0.015833333333333335,0.025,0.013333333333333329,0.007083333333333333,0.31333333333333335,0.2826322901433944,0.17923996273278553],\"theta\":[\"Cus_mean_review_score\",\"Number_of_orders\",\"Recency\",\"Number_of_articles\",\"log_Spending\",\"cool_stuff\",\"pet_shop\",\"home_confort\",\"health_beauty\",\"electronics\",\"industry_commerce_construction\",\"arts_video_audio\",\"clothing_and_bags\",\"auto\",\"MUM_of_payment_a\",\"delay_delivery\",\"distance\",\"cluster_t1\",\"cluster_M0\",\"cluster\"],\"type\":\"scatterpolar\"}],                        {\"template\":{\"data\":{\"bar\":[{\"error_x\":{\"color\":\"#2a3f5f\"},\"error_y\":{\"color\":\"#2a3f5f\"},\"marker\":{\"line\":{\"color\":\"#E5ECF6\",\"width\":0.5},\"pattern\":{\"fillmode\":\"overlay\",\"size\":10,\"solidity\":0.2}},\"type\":\"bar\"}],\"barpolar\":[{\"marker\":{\"line\":{\"color\":\"#E5ECF6\",\"width\":0.5},\"pattern\":{\"fillmode\":\"overlay\",\"size\":10,\"solidity\":0.2}},\"type\":\"barpolar\"}],\"carpet\":[{\"aaxis\":{\"endlinecolor\":\"#2a3f5f\",\"gridcolor\":\"white\",\"linecolor\":\"white\",\"minorgridcolor\":\"white\",\"startlinecolor\":\"#2a3f5f\"},\"baxis\":{\"endlinecolor\":\"#2a3f5f\",\"gridcolor\":\"white\",\"linecolor\":\"white\",\"minorgridcolor\":\"white\",\"startlinecolor\":\"#2a3f5f\"},\"type\":\"carpet\"}],\"choropleth\":[{\"colorbar\":{\"outlinewidth\":0,\"ticks\":\"\"},\"type\":\"choropleth\"}],\"contour\":[{\"colorbar\":{\"outlinewidth\":0,\"ticks\":\"\"},\"colorscale\":[[0.0,\"#0d0887\"],[0.1111111111111111,\"#46039f\"],[0.2222222222222222,\"#7201a8\"],[0.3333333333333333,\"#9c179e\"],[0.4444444444444444,\"#bd3786\"],[0.5555555555555556,\"#d8576b\"],[0.6666666666666666,\"#ed7953\"],[0.7777777777777778,\"#fb9f3a\"],[0.8888888888888888,\"#fdca26\"],[1.0,\"#f0f921\"]],\"type\":\"contour\"}],\"contourcarpet\":[{\"colorbar\":{\"outlinewidth\":0,\"ticks\":\"\"},\"type\":\"contourcarpet\"}],\"heatmap\":[{\"colorbar\":{\"outlinewidth\":0,\"ticks\":\"\"},\"colorscale\":[[0.0,\"#0d0887\"],[0.1111111111111111,\"#46039f\"],[0.2222222222222222,\"#7201a8\"],[0.3333333333333333,\"#9c179e\"],[0.4444444444444444,\"#bd3786\"],[0.5555555555555556,\"#d8576b\"],[0.6666666666666666,\"#ed7953\"],[0.7777777777777778,\"#fb9f3a\"],[0.8888888888888888,\"#fdca26\"],[1.0,\"#f0f921\"]],\"type\":\"heatmap\"}],\"heatmapgl\":[{\"colorbar\":{\"outlinewidth\":0,\"ticks\":\"\"},\"colorscale\":[[0.0,\"#0d0887\"],[0.1111111111111111,\"#46039f\"],[0.2222222222222222,\"#7201a8\"],[0.3333333333333333,\"#9c179e\"],[0.4444444444444444,\"#bd3786\"],[0.5555555555555556,\"#d8576b\"],[0.6666666666666666,\"#ed7953\"],[0.7777777777777778,\"#fb9f3a\"],[0.8888888888888888,\"#fdca26\"],[1.0,\"#f0f921\"]],\"type\":\"heatmapgl\"}],\"histogram\":[{\"marker\":{\"pattern\":{\"fillmode\":\"overlay\",\"size\":10,\"solidity\":0.2}},\"type\":\"histogram\"}],\"histogram2d\":[{\"colorbar\":{\"outlinewidth\":0,\"ticks\":\"\"},\"colorscale\":[[0.0,\"#0d0887\"],[0.1111111111111111,\"#46039f\"],[0.2222222222222222,\"#7201a8\"],[0.3333333333333333,\"#9c179e\"],[0.4444444444444444,\"#bd3786\"],[0.5555555555555556,\"#d8576b\"],[0.6666666666666666,\"#ed7953\"],[0.7777777777777778,\"#fb9f3a\"],[0.8888888888888888,\"#fdca26\"],[1.0,\"#f0f921\"]],\"type\":\"histogram2d\"}],\"histogram2dcontour\":[{\"colorbar\":{\"outlinewidth\":0,\"ticks\":\"\"},\"colorscale\":[[0.0,\"#0d0887\"],[0.1111111111111111,\"#46039f\"],[0.2222222222222222,\"#7201a8\"],[0.3333333333333333,\"#9c179e\"],[0.4444444444444444,\"#bd3786\"],[0.5555555555555556,\"#d8576b\"],[0.6666666666666666,\"#ed7953\"],[0.7777777777777778,\"#fb9f3a\"],[0.8888888888888888,\"#fdca26\"],[1.0,\"#f0f921\"]],\"type\":\"histogram2dcontour\"}],\"mesh3d\":[{\"colorbar\":{\"outlinewidth\":0,\"ticks\":\"\"},\"type\":\"mesh3d\"}],\"parcoords\":[{\"line\":{\"colorbar\":{\"outlinewidth\":0,\"ticks\":\"\"}},\"type\":\"parcoords\"}],\"pie\":[{\"automargin\":true,\"type\":\"pie\"}],\"scatter\":[{\"marker\":{\"colorbar\":{\"outlinewidth\":0,\"ticks\":\"\"}},\"type\":\"scatter\"}],\"scatter3d\":[{\"line\":{\"colorbar\":{\"outlinewidth\":0,\"ticks\":\"\"}},\"marker\":{\"colorbar\":{\"outlinewidth\":0,\"ticks\":\"\"}},\"type\":\"scatter3d\"}],\"scattercarpet\":[{\"marker\":{\"colorbar\":{\"outlinewidth\":0,\"ticks\":\"\"}},\"type\":\"scattercarpet\"}],\"scattergeo\":[{\"marker\":{\"colorbar\":{\"outlinewidth\":0,\"ticks\":\"\"}},\"type\":\"scattergeo\"}],\"scattergl\":[{\"marker\":{\"colorbar\":{\"outlinewidth\":0,\"ticks\":\"\"}},\"type\":\"scattergl\"}],\"scattermapbox\":[{\"marker\":{\"colorbar\":{\"outlinewidth\":0,\"ticks\":\"\"}},\"type\":\"scattermapbox\"}],\"scatterpolar\":[{\"marker\":{\"colorbar\":{\"outlinewidth\":0,\"ticks\":\"\"}},\"type\":\"scatterpolar\"}],\"scatterpolargl\":[{\"marker\":{\"colorbar\":{\"outlinewidth\":0,\"ticks\":\"\"}},\"type\":\"scatterpolargl\"}],\"scatterternary\":[{\"marker\":{\"colorbar\":{\"outlinewidth\":0,\"ticks\":\"\"}},\"type\":\"scatterternary\"}],\"surface\":[{\"colorbar\":{\"outlinewidth\":0,\"ticks\":\"\"},\"colorscale\":[[0.0,\"#0d0887\"],[0.1111111111111111,\"#46039f\"],[0.2222222222222222,\"#7201a8\"],[0.3333333333333333,\"#9c179e\"],[0.4444444444444444,\"#bd3786\"],[0.5555555555555556,\"#d8576b\"],[0.6666666666666666,\"#ed7953\"],[0.7777777777777778,\"#fb9f3a\"],[0.8888888888888888,\"#fdca26\"],[1.0,\"#f0f921\"]],\"type\":\"surface\"}],\"table\":[{\"cells\":{\"fill\":{\"color\":\"#EBF0F8\"},\"line\":{\"color\":\"white\"}},\"header\":{\"fill\":{\"color\":\"#C8D4E3\"},\"line\":{\"color\":\"white\"}},\"type\":\"table\"}]},\"layout\":{\"annotationdefaults\":{\"arrowcolor\":\"#2a3f5f\",\"arrowhead\":0,\"arrowwidth\":1},\"autotypenumbers\":\"strict\",\"coloraxis\":{\"colorbar\":{\"outlinewidth\":0,\"ticks\":\"\"}},\"colorscale\":{\"diverging\":[[0,\"#8e0152\"],[0.1,\"#c51b7d\"],[0.2,\"#de77ae\"],[0.3,\"#f1b6da\"],[0.4,\"#fde0ef\"],[0.5,\"#f7f7f7\"],[0.6,\"#e6f5d0\"],[0.7,\"#b8e186\"],[0.8,\"#7fbc41\"],[0.9,\"#4d9221\"],[1,\"#276419\"]],\"sequential\":[[0.0,\"#0d0887\"],[0.1111111111111111,\"#46039f\"],[0.2222222222222222,\"#7201a8\"],[0.3333333333333333,\"#9c179e\"],[0.4444444444444444,\"#bd3786\"],[0.5555555555555556,\"#d8576b\"],[0.6666666666666666,\"#ed7953\"],[0.7777777777777778,\"#fb9f3a\"],[0.8888888888888888,\"#fdca26\"],[1.0,\"#f0f921\"]],\"sequentialminus\":[[0.0,\"#0d0887\"],[0.1111111111111111,\"#46039f\"],[0.2222222222222222,\"#7201a8\"],[0.3333333333333333,\"#9c179e\"],[0.4444444444444444,\"#bd3786\"],[0.5555555555555556,\"#d8576b\"],[0.6666666666666666,\"#ed7953\"],[0.7777777777777778,\"#fb9f3a\"],[0.8888888888888888,\"#fdca26\"],[1.0,\"#f0f921\"]]},\"colorway\":[\"#636efa\",\"#EF553B\",\"#00cc96\",\"#ab63fa\",\"#FFA15A\",\"#19d3f3\",\"#FF6692\",\"#B6E880\",\"#FF97FF\",\"#FECB52\"],\"font\":{\"color\":\"#2a3f5f\"},\"geo\":{\"bgcolor\":\"white\",\"lakecolor\":\"white\",\"landcolor\":\"#E5ECF6\",\"showlakes\":true,\"showland\":true,\"subunitcolor\":\"white\"},\"hoverlabel\":{\"align\":\"left\"},\"hovermode\":\"closest\",\"mapbox\":{\"style\":\"light\"},\"paper_bgcolor\":\"white\",\"plot_bgcolor\":\"#E5ECF6\",\"polar\":{\"angularaxis\":{\"gridcolor\":\"white\",\"linecolor\":\"white\",\"ticks\":\"\"},\"bgcolor\":\"#E5ECF6\",\"radialaxis\":{\"gridcolor\":\"white\",\"linecolor\":\"white\",\"ticks\":\"\"}},\"scene\":{\"xaxis\":{\"backgroundcolor\":\"#E5ECF6\",\"gridcolor\":\"white\",\"gridwidth\":2,\"linecolor\":\"white\",\"showbackground\":true,\"ticks\":\"\",\"zerolinecolor\":\"white\"},\"yaxis\":{\"backgroundcolor\":\"#E5ECF6\",\"gridcolor\":\"white\",\"gridwidth\":2,\"linecolor\":\"white\",\"showbackground\":true,\"ticks\":\"\",\"zerolinecolor\":\"white\"},\"zaxis\":{\"backgroundcolor\":\"#E5ECF6\",\"gridcolor\":\"white\",\"gridwidth\":2,\"linecolor\":\"white\",\"showbackground\":true,\"ticks\":\"\",\"zerolinecolor\":\"white\"}},\"shapedefaults\":{\"line\":{\"color\":\"#2a3f5f\"}},\"ternary\":{\"aaxis\":{\"gridcolor\":\"white\",\"linecolor\":\"white\",\"ticks\":\"\"},\"baxis\":{\"gridcolor\":\"white\",\"linecolor\":\"white\",\"ticks\":\"\"},\"bgcolor\":\"#E5ECF6\",\"caxis\":{\"gridcolor\":\"white\",\"linecolor\":\"white\",\"ticks\":\"\"}},\"title\":{\"x\":0.05},\"xaxis\":{\"automargin\":true,\"gridcolor\":\"white\",\"linecolor\":\"white\",\"ticks\":\"\",\"title\":{\"standoff\":15},\"zerolinecolor\":\"white\",\"zerolinewidth\":2},\"yaxis\":{\"automargin\":true,\"gridcolor\":\"white\",\"linecolor\":\"white\",\"ticks\":\"\",\"title\":{\"standoff\":15},\"zerolinecolor\":\"white\",\"zerolinewidth\":2}}},\"polar\":{\"radialaxis\":{\"visible\":true,\"range\":[0,1]}},\"showlegend\":true},                        {\"responsive\": true}                    ).then(function(){\n",
       "                            \n",
       "var gd = document.getElementById('233306b2-0747-4576-a19b-ab4b24ff31a9');\n",
       "var x = new MutationObserver(function (mutations, observer) {{\n",
       "        var display = window.getComputedStyle(gd).display;\n",
       "        if (!display || display === 'none') {{\n",
       "            console.log([gd, 'removed!']);\n",
       "            Plotly.purge(gd);\n",
       "            observer.disconnect();\n",
       "        }}\n",
       "}});\n",
       "\n",
       "// Listen for the removal of the full notebook cells\n",
       "var notebookContainer = gd.closest('#notebook-container');\n",
       "if (notebookContainer) {{\n",
       "    x.observe(notebookContainer, {childList: true});\n",
       "}}\n",
       "\n",
       "// Listen for the clearing of the current output cell\n",
       "var outputEl = gd.closest('.output');\n",
       "if (outputEl) {{\n",
       "    x.observe(outputEl, {childList: true});\n",
       "}}\n",
       "\n",
       "                        })                };                });            </script>        </div>"
      ]
     },
     "metadata": {},
     "output_type": "display_data"
    }
   ],
   "source": [
    "polarplt(df1, 'cluster_t1', selection)"
   ]
  },
  {
   "cell_type": "markdown",
   "metadata": {},
   "source": [
    "#### prediction with M0 model (trained at t0 with t0 dataframe {F0})"
   ]
  },
  {
   "cell_type": "code",
   "execution_count": 119,
   "metadata": {},
   "outputs": [],
   "source": [
    "df1['cluster_M0'] = model_df0.predict(X_trans_1)"
   ]
  },
  {
   "cell_type": "code",
   "execution_count": 211,
   "metadata": {},
   "outputs": [
    {
     "data": {
      "application/vnd.plotly.v1+json": {
       "config": {
        "plotlyServerURL": "https://plot.ly"
       },
       "data": [
        {
         "name": "cluster 3",
         "r": [
          0.8580438405332854,
          0.504230226893988,
          0.3067666129630022,
          0.17944280647781014,
          0.5917953156595068,
          0.1781822843225305,
          0.00012818869375721061,
          0.0015382643250865273,
          0.0006409434687860531,
          null,
          0.0008973208563004743,
          0.00025637738751442123,
          0.0005127547750288425,
          0.0006409434687860531,
          0.3059223176515831,
          0.2182316478960032,
          0.20396113788317538
         ],
         "theta": [
          "Cus_mean_review_score",
          "Number_of_orders",
          "Recency",
          "Number_of_articles",
          "log_Spending",
          "cool_stuff",
          "pet_shop",
          "home_confort",
          "health_beauty",
          "electronics",
          "industry_commerce_construction",
          "arts_video_audio",
          "clothing_and_bags",
          "auto",
          "MUM_of_payment_a",
          "delay_delivery",
          "distance",
          "cluster_t1",
          "cluster_M0",
          "cluster"
         ],
         "type": "scatterpolar"
        },
        {
         "name": "cluster 4",
         "r": [
          0.8649413388543897,
          0.5140326662065793,
          0.2621107679475434,
          0.1201288244766595,
          0.5468076919075018,
          0.010582010582010581,
          0.001610305958132045,
          0.008971704623878536,
          0.00046008741660915573,
          0.11536691971475388,
          0.002300437083045779,
          0.005521048999309869,
          0.00023004370830457787,
          0.002070393374741201,
          0.3701403266620658,
          0.2704670106522038,
          0.17758209435861624
         ],
         "theta": [
          "Cus_mean_review_score",
          "Number_of_orders",
          "Recency",
          "Number_of_articles",
          "log_Spending",
          "cool_stuff",
          "pet_shop",
          "home_confort",
          "health_beauty",
          "electronics",
          "industry_commerce_construction",
          "arts_video_audio",
          "clothing_and_bags",
          "auto",
          "MUM_of_payment_a",
          "delay_delivery",
          "distance",
          "cluster_t1",
          "cluster_M0",
          "cluster"
         ],
         "type": "scatterpolar"
        },
        {
         "name": "cluster 0",
         "r": [
          0.32951398316591285,
          0.5009503122454521,
          0.18524879689080628,
          0.2219386369807317,
          0.5800883405209682,
          0.04181373879989139,
          0.005566114580505023,
          0.15322653633812935,
          0.07588922074395874,
          0.03380396415965246,
          0.03203909856095562,
          0.03950583763236492,
          0.023893565028509367,
          0.013983165897366277,
          0.32840076024979636,
          -0.1646837971364875,
          0.16482708334290871
         ],
         "theta": [
          "Cus_mean_review_score",
          "Number_of_orders",
          "Recency",
          "Number_of_articles",
          "log_Spending",
          "cool_stuff",
          "pet_shop",
          "home_confort",
          "health_beauty",
          "electronics",
          "industry_commerce_construction",
          "arts_video_audio",
          "clothing_and_bags",
          "auto",
          "MUM_of_payment_a",
          "delay_delivery",
          "distance",
          "cluster_t1",
          "cluster_M0",
          "cluster"
         ],
         "type": "scatterpolar"
        },
        {
         "name": "cluster 7",
         "r": [
          0.8916279653570685,
          0.5007844860047697,
          0.33701204268833185,
          0.18247144470940652,
          0.5917897559291866,
          0.001192418727249906,
          0.013304882640893686,
          0.40545374670515877,
          0.000125517760763148,
          null,
          0.008095895569223044,
          0.030615873812812257,
          null,
          0.02108698380820886,
          0.32151374419480355,
          0.1185559419045716,
          0.21197470785685976
         ],
         "theta": [
          "Cus_mean_review_score",
          "Number_of_orders",
          "Recency",
          "Number_of_articles",
          "log_Spending",
          "cool_stuff",
          "pet_shop",
          "home_confort",
          "health_beauty",
          "electronics",
          "industry_commerce_construction",
          "arts_video_audio",
          "clothing_and_bags",
          "auto",
          "MUM_of_payment_a",
          "delay_delivery",
          "distance",
          "cluster_t1",
          "cluster_M0",
          "cluster"
         ],
         "type": "scatterpolar"
        },
        {
         "name": "cluster 8",
         "r": [
          0.8114405360134005,
          0.20491345616973985,
          0.268975296687584,
          0.1299353912419241,
          0.6768821361880687,
          0.02051926298157454,
          0.006700167504187605,
          0.02579564489112225,
          0.1177315147164398,
          0.013400335008375204,
          0.015912897822445562,
          0.023450586264656615,
          0.012283640424343939,
          0.00711892797319933,
          0.3132328308207705,
          0.2839039990564086,
          0.1806288212974968
         ],
         "theta": [
          "Cus_mean_review_score",
          "Number_of_orders",
          "Recency",
          "Number_of_articles",
          "log_Spending",
          "cool_stuff",
          "pet_shop",
          "home_confort",
          "health_beauty",
          "electronics",
          "industry_commerce_construction",
          "arts_video_audio",
          "clothing_and_bags",
          "auto",
          "MUM_of_payment_a",
          "delay_delivery",
          "distance",
          "cluster_t1",
          "cluster_M0",
          "cluster"
         ],
         "type": "scatterpolar"
        },
        {
         "name": "cluster 1",
         "r": [
          0.8334334522245258,
          0.5054439647080908,
          0.3214985681938584,
          0.19432451035603646,
          0.5881249903282306,
          0.012201989862962268,
          0.014154308241036292,
          0.057443213816406984,
          0.01370377323071147,
          0.05350103247606533,
          0.04617983855828909,
          0.01497090294724986,
          0.016707339966209874,
          0.041643201301545016,
          0.2949127088417496,
          0.10526176527903797,
          0.20641551708230602
         ],
         "theta": [
          "Cus_mean_review_score",
          "Number_of_orders",
          "Recency",
          "Number_of_articles",
          "log_Spending",
          "cool_stuff",
          "pet_shop",
          "home_confort",
          "health_beauty",
          "electronics",
          "industry_commerce_construction",
          "arts_video_audio",
          "clothing_and_bags",
          "auto",
          "MUM_of_payment_a",
          "delay_delivery",
          "distance",
          "cluster_t1",
          "cluster_M0",
          "cluster"
         ],
         "type": "scatterpolar"
        },
        {
         "name": "cluster 6",
         "r": [
          0.7530256844482088,
          0.22886173944598864,
          0.3060700819070222,
          0.18021450747953782,
          0.5871576785261446,
          0.008467400508044034,
          0.003870811660820128,
          0.12694044594976026,
          0.0046570702794242165,
          0.004586508608523848,
          0.007081825879455005,
          0.0037044877222692633,
          0.013124470787468248,
          0.005080440304826418,
          0.31371718882303135,
          0.17806652866049175,
          0.18031128353074252
         ],
         "theta": [
          "Cus_mean_review_score",
          "Number_of_orders",
          "Recency",
          "Number_of_articles",
          "log_Spending",
          "cool_stuff",
          "pet_shop",
          "home_confort",
          "health_beauty",
          "electronics",
          "industry_commerce_construction",
          "arts_video_audio",
          "clothing_and_bags",
          "auto",
          "MUM_of_payment_a",
          "delay_delivery",
          "distance",
          "cluster_t1",
          "cluster_M0",
          "cluster"
         ],
         "type": "scatterpolar"
        },
        {
         "name": "cluster 5",
         "r": [
          0.8860105865831578,
          0.5001620395376472,
          0.31127418665356077,
          0.3551906665226657,
          0.5654682948895197,
          null,
          0.00010802635843145727,
          0.0005401317921572864,
          0.5326239602463001,
          0.00010802635843145727,
          null,
          0.0005401317921572864,
          null,
          null,
          0.31746246084044505,
          0.20186517598732373,
          0.17441759154115144
         ],
         "theta": [
          "Cus_mean_review_score",
          "Number_of_orders",
          "Recency",
          "Number_of_articles",
          "log_Spending",
          "cool_stuff",
          "pet_shop",
          "home_confort",
          "health_beauty",
          "electronics",
          "industry_commerce_construction",
          "arts_video_audio",
          "clothing_and_bags",
          "auto",
          "MUM_of_payment_a",
          "delay_delivery",
          "distance",
          "cluster_t1",
          "cluster_M0",
          "cluster"
         ],
         "type": "scatterpolar"
        },
        {
         "name": "cluster 2",
         "r": [
          0.8574746580061027,
          0.2604812518452908,
          0.32535328637948113,
          0.1638196465477315,
          0.6105488893503006,
          0.007971656333038087,
          0.0008857395925597874,
          0.007381163271331562,
          0.002066725715972837,
          0.0014762326542663124,
          0.0014762326542663124,
          0.0016238559196929435,
          0.15964401703995043,
          0.0008857395925597874,
          0.3200472394449365,
          0.26167557466107183,
          0.20623818771283575
         ],
         "theta": [
          "Cus_mean_review_score",
          "Number_of_orders",
          "Recency",
          "Number_of_articles",
          "log_Spending",
          "cool_stuff",
          "pet_shop",
          "home_confort",
          "health_beauty",
          "electronics",
          "industry_commerce_construction",
          "arts_video_audio",
          "clothing_and_bags",
          "auto",
          "MUM_of_payment_a",
          "delay_delivery",
          "distance",
          "cluster_t1",
          "cluster_M0",
          "cluster"
         ],
         "type": "scatterpolar"
        }
       ],
       "layout": {
        "polar": {
         "radialaxis": {
          "range": [
           0,
           1
          ],
          "visible": true
         }
        },
        "showlegend": true,
        "template": {
         "data": {
          "bar": [
           {
            "error_x": {
             "color": "#2a3f5f"
            },
            "error_y": {
             "color": "#2a3f5f"
            },
            "marker": {
             "line": {
              "color": "#E5ECF6",
              "width": 0.5
             },
             "pattern": {
              "fillmode": "overlay",
              "size": 10,
              "solidity": 0.2
             }
            },
            "type": "bar"
           }
          ],
          "barpolar": [
           {
            "marker": {
             "line": {
              "color": "#E5ECF6",
              "width": 0.5
             },
             "pattern": {
              "fillmode": "overlay",
              "size": 10,
              "solidity": 0.2
             }
            },
            "type": "barpolar"
           }
          ],
          "carpet": [
           {
            "aaxis": {
             "endlinecolor": "#2a3f5f",
             "gridcolor": "white",
             "linecolor": "white",
             "minorgridcolor": "white",
             "startlinecolor": "#2a3f5f"
            },
            "baxis": {
             "endlinecolor": "#2a3f5f",
             "gridcolor": "white",
             "linecolor": "white",
             "minorgridcolor": "white",
             "startlinecolor": "#2a3f5f"
            },
            "type": "carpet"
           }
          ],
          "choropleth": [
           {
            "colorbar": {
             "outlinewidth": 0,
             "ticks": ""
            },
            "type": "choropleth"
           }
          ],
          "contour": [
           {
            "colorbar": {
             "outlinewidth": 0,
             "ticks": ""
            },
            "colorscale": [
             [
              0,
              "#0d0887"
             ],
             [
              0.1111111111111111,
              "#46039f"
             ],
             [
              0.2222222222222222,
              "#7201a8"
             ],
             [
              0.3333333333333333,
              "#9c179e"
             ],
             [
              0.4444444444444444,
              "#bd3786"
             ],
             [
              0.5555555555555556,
              "#d8576b"
             ],
             [
              0.6666666666666666,
              "#ed7953"
             ],
             [
              0.7777777777777778,
              "#fb9f3a"
             ],
             [
              0.8888888888888888,
              "#fdca26"
             ],
             [
              1,
              "#f0f921"
             ]
            ],
            "type": "contour"
           }
          ],
          "contourcarpet": [
           {
            "colorbar": {
             "outlinewidth": 0,
             "ticks": ""
            },
            "type": "contourcarpet"
           }
          ],
          "heatmap": [
           {
            "colorbar": {
             "outlinewidth": 0,
             "ticks": ""
            },
            "colorscale": [
             [
              0,
              "#0d0887"
             ],
             [
              0.1111111111111111,
              "#46039f"
             ],
             [
              0.2222222222222222,
              "#7201a8"
             ],
             [
              0.3333333333333333,
              "#9c179e"
             ],
             [
              0.4444444444444444,
              "#bd3786"
             ],
             [
              0.5555555555555556,
              "#d8576b"
             ],
             [
              0.6666666666666666,
              "#ed7953"
             ],
             [
              0.7777777777777778,
              "#fb9f3a"
             ],
             [
              0.8888888888888888,
              "#fdca26"
             ],
             [
              1,
              "#f0f921"
             ]
            ],
            "type": "heatmap"
           }
          ],
          "heatmapgl": [
           {
            "colorbar": {
             "outlinewidth": 0,
             "ticks": ""
            },
            "colorscale": [
             [
              0,
              "#0d0887"
             ],
             [
              0.1111111111111111,
              "#46039f"
             ],
             [
              0.2222222222222222,
              "#7201a8"
             ],
             [
              0.3333333333333333,
              "#9c179e"
             ],
             [
              0.4444444444444444,
              "#bd3786"
             ],
             [
              0.5555555555555556,
              "#d8576b"
             ],
             [
              0.6666666666666666,
              "#ed7953"
             ],
             [
              0.7777777777777778,
              "#fb9f3a"
             ],
             [
              0.8888888888888888,
              "#fdca26"
             ],
             [
              1,
              "#f0f921"
             ]
            ],
            "type": "heatmapgl"
           }
          ],
          "histogram": [
           {
            "marker": {
             "pattern": {
              "fillmode": "overlay",
              "size": 10,
              "solidity": 0.2
             }
            },
            "type": "histogram"
           }
          ],
          "histogram2d": [
           {
            "colorbar": {
             "outlinewidth": 0,
             "ticks": ""
            },
            "colorscale": [
             [
              0,
              "#0d0887"
             ],
             [
              0.1111111111111111,
              "#46039f"
             ],
             [
              0.2222222222222222,
              "#7201a8"
             ],
             [
              0.3333333333333333,
              "#9c179e"
             ],
             [
              0.4444444444444444,
              "#bd3786"
             ],
             [
              0.5555555555555556,
              "#d8576b"
             ],
             [
              0.6666666666666666,
              "#ed7953"
             ],
             [
              0.7777777777777778,
              "#fb9f3a"
             ],
             [
              0.8888888888888888,
              "#fdca26"
             ],
             [
              1,
              "#f0f921"
             ]
            ],
            "type": "histogram2d"
           }
          ],
          "histogram2dcontour": [
           {
            "colorbar": {
             "outlinewidth": 0,
             "ticks": ""
            },
            "colorscale": [
             [
              0,
              "#0d0887"
             ],
             [
              0.1111111111111111,
              "#46039f"
             ],
             [
              0.2222222222222222,
              "#7201a8"
             ],
             [
              0.3333333333333333,
              "#9c179e"
             ],
             [
              0.4444444444444444,
              "#bd3786"
             ],
             [
              0.5555555555555556,
              "#d8576b"
             ],
             [
              0.6666666666666666,
              "#ed7953"
             ],
             [
              0.7777777777777778,
              "#fb9f3a"
             ],
             [
              0.8888888888888888,
              "#fdca26"
             ],
             [
              1,
              "#f0f921"
             ]
            ],
            "type": "histogram2dcontour"
           }
          ],
          "mesh3d": [
           {
            "colorbar": {
             "outlinewidth": 0,
             "ticks": ""
            },
            "type": "mesh3d"
           }
          ],
          "parcoords": [
           {
            "line": {
             "colorbar": {
              "outlinewidth": 0,
              "ticks": ""
             }
            },
            "type": "parcoords"
           }
          ],
          "pie": [
           {
            "automargin": true,
            "type": "pie"
           }
          ],
          "scatter": [
           {
            "marker": {
             "colorbar": {
              "outlinewidth": 0,
              "ticks": ""
             }
            },
            "type": "scatter"
           }
          ],
          "scatter3d": [
           {
            "line": {
             "colorbar": {
              "outlinewidth": 0,
              "ticks": ""
             }
            },
            "marker": {
             "colorbar": {
              "outlinewidth": 0,
              "ticks": ""
             }
            },
            "type": "scatter3d"
           }
          ],
          "scattercarpet": [
           {
            "marker": {
             "colorbar": {
              "outlinewidth": 0,
              "ticks": ""
             }
            },
            "type": "scattercarpet"
           }
          ],
          "scattergeo": [
           {
            "marker": {
             "colorbar": {
              "outlinewidth": 0,
              "ticks": ""
             }
            },
            "type": "scattergeo"
           }
          ],
          "scattergl": [
           {
            "marker": {
             "colorbar": {
              "outlinewidth": 0,
              "ticks": ""
             }
            },
            "type": "scattergl"
           }
          ],
          "scattermapbox": [
           {
            "marker": {
             "colorbar": {
              "outlinewidth": 0,
              "ticks": ""
             }
            },
            "type": "scattermapbox"
           }
          ],
          "scatterpolar": [
           {
            "marker": {
             "colorbar": {
              "outlinewidth": 0,
              "ticks": ""
             }
            },
            "type": "scatterpolar"
           }
          ],
          "scatterpolargl": [
           {
            "marker": {
             "colorbar": {
              "outlinewidth": 0,
              "ticks": ""
             }
            },
            "type": "scatterpolargl"
           }
          ],
          "scatterternary": [
           {
            "marker": {
             "colorbar": {
              "outlinewidth": 0,
              "ticks": ""
             }
            },
            "type": "scatterternary"
           }
          ],
          "surface": [
           {
            "colorbar": {
             "outlinewidth": 0,
             "ticks": ""
            },
            "colorscale": [
             [
              0,
              "#0d0887"
             ],
             [
              0.1111111111111111,
              "#46039f"
             ],
             [
              0.2222222222222222,
              "#7201a8"
             ],
             [
              0.3333333333333333,
              "#9c179e"
             ],
             [
              0.4444444444444444,
              "#bd3786"
             ],
             [
              0.5555555555555556,
              "#d8576b"
             ],
             [
              0.6666666666666666,
              "#ed7953"
             ],
             [
              0.7777777777777778,
              "#fb9f3a"
             ],
             [
              0.8888888888888888,
              "#fdca26"
             ],
             [
              1,
              "#f0f921"
             ]
            ],
            "type": "surface"
           }
          ],
          "table": [
           {
            "cells": {
             "fill": {
              "color": "#EBF0F8"
             },
             "line": {
              "color": "white"
             }
            },
            "header": {
             "fill": {
              "color": "#C8D4E3"
             },
             "line": {
              "color": "white"
             }
            },
            "type": "table"
           }
          ]
         },
         "layout": {
          "annotationdefaults": {
           "arrowcolor": "#2a3f5f",
           "arrowhead": 0,
           "arrowwidth": 1
          },
          "autotypenumbers": "strict",
          "coloraxis": {
           "colorbar": {
            "outlinewidth": 0,
            "ticks": ""
           }
          },
          "colorscale": {
           "diverging": [
            [
             0,
             "#8e0152"
            ],
            [
             0.1,
             "#c51b7d"
            ],
            [
             0.2,
             "#de77ae"
            ],
            [
             0.3,
             "#f1b6da"
            ],
            [
             0.4,
             "#fde0ef"
            ],
            [
             0.5,
             "#f7f7f7"
            ],
            [
             0.6,
             "#e6f5d0"
            ],
            [
             0.7,
             "#b8e186"
            ],
            [
             0.8,
             "#7fbc41"
            ],
            [
             0.9,
             "#4d9221"
            ],
            [
             1,
             "#276419"
            ]
           ],
           "sequential": [
            [
             0,
             "#0d0887"
            ],
            [
             0.1111111111111111,
             "#46039f"
            ],
            [
             0.2222222222222222,
             "#7201a8"
            ],
            [
             0.3333333333333333,
             "#9c179e"
            ],
            [
             0.4444444444444444,
             "#bd3786"
            ],
            [
             0.5555555555555556,
             "#d8576b"
            ],
            [
             0.6666666666666666,
             "#ed7953"
            ],
            [
             0.7777777777777778,
             "#fb9f3a"
            ],
            [
             0.8888888888888888,
             "#fdca26"
            ],
            [
             1,
             "#f0f921"
            ]
           ],
           "sequentialminus": [
            [
             0,
             "#0d0887"
            ],
            [
             0.1111111111111111,
             "#46039f"
            ],
            [
             0.2222222222222222,
             "#7201a8"
            ],
            [
             0.3333333333333333,
             "#9c179e"
            ],
            [
             0.4444444444444444,
             "#bd3786"
            ],
            [
             0.5555555555555556,
             "#d8576b"
            ],
            [
             0.6666666666666666,
             "#ed7953"
            ],
            [
             0.7777777777777778,
             "#fb9f3a"
            ],
            [
             0.8888888888888888,
             "#fdca26"
            ],
            [
             1,
             "#f0f921"
            ]
           ]
          },
          "colorway": [
           "#636efa",
           "#EF553B",
           "#00cc96",
           "#ab63fa",
           "#FFA15A",
           "#19d3f3",
           "#FF6692",
           "#B6E880",
           "#FF97FF",
           "#FECB52"
          ],
          "font": {
           "color": "#2a3f5f"
          },
          "geo": {
           "bgcolor": "white",
           "lakecolor": "white",
           "landcolor": "#E5ECF6",
           "showlakes": true,
           "showland": true,
           "subunitcolor": "white"
          },
          "hoverlabel": {
           "align": "left"
          },
          "hovermode": "closest",
          "mapbox": {
           "style": "light"
          },
          "paper_bgcolor": "white",
          "plot_bgcolor": "#E5ECF6",
          "polar": {
           "angularaxis": {
            "gridcolor": "white",
            "linecolor": "white",
            "ticks": ""
           },
           "bgcolor": "#E5ECF6",
           "radialaxis": {
            "gridcolor": "white",
            "linecolor": "white",
            "ticks": ""
           }
          },
          "scene": {
           "xaxis": {
            "backgroundcolor": "#E5ECF6",
            "gridcolor": "white",
            "gridwidth": 2,
            "linecolor": "white",
            "showbackground": true,
            "ticks": "",
            "zerolinecolor": "white"
           },
           "yaxis": {
            "backgroundcolor": "#E5ECF6",
            "gridcolor": "white",
            "gridwidth": 2,
            "linecolor": "white",
            "showbackground": true,
            "ticks": "",
            "zerolinecolor": "white"
           },
           "zaxis": {
            "backgroundcolor": "#E5ECF6",
            "gridcolor": "white",
            "gridwidth": 2,
            "linecolor": "white",
            "showbackground": true,
            "ticks": "",
            "zerolinecolor": "white"
           }
          },
          "shapedefaults": {
           "line": {
            "color": "#2a3f5f"
           }
          },
          "ternary": {
           "aaxis": {
            "gridcolor": "white",
            "linecolor": "white",
            "ticks": ""
           },
           "baxis": {
            "gridcolor": "white",
            "linecolor": "white",
            "ticks": ""
           },
           "bgcolor": "#E5ECF6",
           "caxis": {
            "gridcolor": "white",
            "linecolor": "white",
            "ticks": ""
           }
          },
          "title": {
           "x": 0.05
          },
          "xaxis": {
           "automargin": true,
           "gridcolor": "white",
           "linecolor": "white",
           "ticks": "",
           "title": {
            "standoff": 15
           },
           "zerolinecolor": "white",
           "zerolinewidth": 2
          },
          "yaxis": {
           "automargin": true,
           "gridcolor": "white",
           "linecolor": "white",
           "ticks": "",
           "title": {
            "standoff": 15
           },
           "zerolinecolor": "white",
           "zerolinewidth": 2
          }
         }
        }
       }
      },
      "text/html": [
       "<div>                            <div id=\"81471c2e-3dd4-4290-bb20-d8fb4234e3a3\" class=\"plotly-graph-div\" style=\"height:525px; width:100%;\"></div>            <script type=\"text/javascript\">                require([\"plotly\"], function(Plotly) {                    window.PLOTLYENV=window.PLOTLYENV || {};                                    if (document.getElementById(\"81471c2e-3dd4-4290-bb20-d8fb4234e3a3\")) {                    Plotly.newPlot(                        \"81471c2e-3dd4-4290-bb20-d8fb4234e3a3\",                        [{\"name\":\"cluster 3\",\"r\":[0.8580438405332854,0.504230226893988,0.3067666129630022,0.17944280647781014,0.5917953156595068,0.1781822843225305,0.00012818869375721061,0.0015382643250865273,0.0006409434687860531,null,0.0008973208563004743,0.00025637738751442123,0.0005127547750288425,0.0006409434687860531,0.3059223176515831,0.2182316478960032,0.20396113788317538],\"theta\":[\"Cus_mean_review_score\",\"Number_of_orders\",\"Recency\",\"Number_of_articles\",\"log_Spending\",\"cool_stuff\",\"pet_shop\",\"home_confort\",\"health_beauty\",\"electronics\",\"industry_commerce_construction\",\"arts_video_audio\",\"clothing_and_bags\",\"auto\",\"MUM_of_payment_a\",\"delay_delivery\",\"distance\",\"cluster_t1\",\"cluster_M0\",\"cluster\"],\"type\":\"scatterpolar\"},{\"name\":\"cluster 4\",\"r\":[0.8649413388543897,0.5140326662065793,0.2621107679475434,0.1201288244766595,0.5468076919075018,0.010582010582010581,0.001610305958132045,0.008971704623878536,0.00046008741660915573,0.11536691971475388,0.002300437083045779,0.005521048999309869,0.00023004370830457787,0.002070393374741201,0.3701403266620658,0.2704670106522038,0.17758209435861624],\"theta\":[\"Cus_mean_review_score\",\"Number_of_orders\",\"Recency\",\"Number_of_articles\",\"log_Spending\",\"cool_stuff\",\"pet_shop\",\"home_confort\",\"health_beauty\",\"electronics\",\"industry_commerce_construction\",\"arts_video_audio\",\"clothing_and_bags\",\"auto\",\"MUM_of_payment_a\",\"delay_delivery\",\"distance\",\"cluster_t1\",\"cluster_M0\",\"cluster\"],\"type\":\"scatterpolar\"},{\"name\":\"cluster 0\",\"r\":[0.32951398316591285,0.5009503122454521,0.18524879689080628,0.2219386369807317,0.5800883405209682,0.04181373879989139,0.005566114580505023,0.15322653633812935,0.07588922074395874,0.03380396415965246,0.03203909856095562,0.03950583763236492,0.023893565028509367,0.013983165897366277,0.32840076024979636,-0.1646837971364875,0.16482708334290871],\"theta\":[\"Cus_mean_review_score\",\"Number_of_orders\",\"Recency\",\"Number_of_articles\",\"log_Spending\",\"cool_stuff\",\"pet_shop\",\"home_confort\",\"health_beauty\",\"electronics\",\"industry_commerce_construction\",\"arts_video_audio\",\"clothing_and_bags\",\"auto\",\"MUM_of_payment_a\",\"delay_delivery\",\"distance\",\"cluster_t1\",\"cluster_M0\",\"cluster\"],\"type\":\"scatterpolar\"},{\"name\":\"cluster 7\",\"r\":[0.8916279653570685,0.5007844860047697,0.33701204268833185,0.18247144470940652,0.5917897559291866,0.001192418727249906,0.013304882640893686,0.40545374670515877,0.000125517760763148,null,0.008095895569223044,0.030615873812812257,null,0.02108698380820886,0.32151374419480355,0.1185559419045716,0.21197470785685976],\"theta\":[\"Cus_mean_review_score\",\"Number_of_orders\",\"Recency\",\"Number_of_articles\",\"log_Spending\",\"cool_stuff\",\"pet_shop\",\"home_confort\",\"health_beauty\",\"electronics\",\"industry_commerce_construction\",\"arts_video_audio\",\"clothing_and_bags\",\"auto\",\"MUM_of_payment_a\",\"delay_delivery\",\"distance\",\"cluster_t1\",\"cluster_M0\",\"cluster\"],\"type\":\"scatterpolar\"},{\"name\":\"cluster 8\",\"r\":[0.8114405360134005,0.20491345616973985,0.268975296687584,0.1299353912419241,0.6768821361880687,0.02051926298157454,0.006700167504187605,0.02579564489112225,0.1177315147164398,0.013400335008375204,0.015912897822445562,0.023450586264656615,0.012283640424343939,0.00711892797319933,0.3132328308207705,0.2839039990564086,0.1806288212974968],\"theta\":[\"Cus_mean_review_score\",\"Number_of_orders\",\"Recency\",\"Number_of_articles\",\"log_Spending\",\"cool_stuff\",\"pet_shop\",\"home_confort\",\"health_beauty\",\"electronics\",\"industry_commerce_construction\",\"arts_video_audio\",\"clothing_and_bags\",\"auto\",\"MUM_of_payment_a\",\"delay_delivery\",\"distance\",\"cluster_t1\",\"cluster_M0\",\"cluster\"],\"type\":\"scatterpolar\"},{\"name\":\"cluster 1\",\"r\":[0.8334334522245258,0.5054439647080908,0.3214985681938584,0.19432451035603646,0.5881249903282306,0.012201989862962268,0.014154308241036292,0.057443213816406984,0.01370377323071147,0.05350103247606533,0.04617983855828909,0.01497090294724986,0.016707339966209874,0.041643201301545016,0.2949127088417496,0.10526176527903797,0.20641551708230602],\"theta\":[\"Cus_mean_review_score\",\"Number_of_orders\",\"Recency\",\"Number_of_articles\",\"log_Spending\",\"cool_stuff\",\"pet_shop\",\"home_confort\",\"health_beauty\",\"electronics\",\"industry_commerce_construction\",\"arts_video_audio\",\"clothing_and_bags\",\"auto\",\"MUM_of_payment_a\",\"delay_delivery\",\"distance\",\"cluster_t1\",\"cluster_M0\",\"cluster\"],\"type\":\"scatterpolar\"},{\"name\":\"cluster 6\",\"r\":[0.7530256844482088,0.22886173944598864,0.3060700819070222,0.18021450747953782,0.5871576785261446,0.008467400508044034,0.003870811660820128,0.12694044594976026,0.0046570702794242165,0.004586508608523848,0.007081825879455005,0.0037044877222692633,0.013124470787468248,0.005080440304826418,0.31371718882303135,0.17806652866049175,0.18031128353074252],\"theta\":[\"Cus_mean_review_score\",\"Number_of_orders\",\"Recency\",\"Number_of_articles\",\"log_Spending\",\"cool_stuff\",\"pet_shop\",\"home_confort\",\"health_beauty\",\"electronics\",\"industry_commerce_construction\",\"arts_video_audio\",\"clothing_and_bags\",\"auto\",\"MUM_of_payment_a\",\"delay_delivery\",\"distance\",\"cluster_t1\",\"cluster_M0\",\"cluster\"],\"type\":\"scatterpolar\"},{\"name\":\"cluster 5\",\"r\":[0.8860105865831578,0.5001620395376472,0.31127418665356077,0.3551906665226657,0.5654682948895197,null,0.00010802635843145727,0.0005401317921572864,0.5326239602463001,0.00010802635843145727,null,0.0005401317921572864,null,null,0.31746246084044505,0.20186517598732373,0.17441759154115144],\"theta\":[\"Cus_mean_review_score\",\"Number_of_orders\",\"Recency\",\"Number_of_articles\",\"log_Spending\",\"cool_stuff\",\"pet_shop\",\"home_confort\",\"health_beauty\",\"electronics\",\"industry_commerce_construction\",\"arts_video_audio\",\"clothing_and_bags\",\"auto\",\"MUM_of_payment_a\",\"delay_delivery\",\"distance\",\"cluster_t1\",\"cluster_M0\",\"cluster\"],\"type\":\"scatterpolar\"},{\"name\":\"cluster 2\",\"r\":[0.8574746580061027,0.2604812518452908,0.32535328637948113,0.1638196465477315,0.6105488893503006,0.007971656333038087,0.0008857395925597874,0.007381163271331562,0.002066725715972837,0.0014762326542663124,0.0014762326542663124,0.0016238559196929435,0.15964401703995043,0.0008857395925597874,0.3200472394449365,0.26167557466107183,0.20623818771283575],\"theta\":[\"Cus_mean_review_score\",\"Number_of_orders\",\"Recency\",\"Number_of_articles\",\"log_Spending\",\"cool_stuff\",\"pet_shop\",\"home_confort\",\"health_beauty\",\"electronics\",\"industry_commerce_construction\",\"arts_video_audio\",\"clothing_and_bags\",\"auto\",\"MUM_of_payment_a\",\"delay_delivery\",\"distance\",\"cluster_t1\",\"cluster_M0\",\"cluster\"],\"type\":\"scatterpolar\"}],                        {\"template\":{\"data\":{\"bar\":[{\"error_x\":{\"color\":\"#2a3f5f\"},\"error_y\":{\"color\":\"#2a3f5f\"},\"marker\":{\"line\":{\"color\":\"#E5ECF6\",\"width\":0.5},\"pattern\":{\"fillmode\":\"overlay\",\"size\":10,\"solidity\":0.2}},\"type\":\"bar\"}],\"barpolar\":[{\"marker\":{\"line\":{\"color\":\"#E5ECF6\",\"width\":0.5},\"pattern\":{\"fillmode\":\"overlay\",\"size\":10,\"solidity\":0.2}},\"type\":\"barpolar\"}],\"carpet\":[{\"aaxis\":{\"endlinecolor\":\"#2a3f5f\",\"gridcolor\":\"white\",\"linecolor\":\"white\",\"minorgridcolor\":\"white\",\"startlinecolor\":\"#2a3f5f\"},\"baxis\":{\"endlinecolor\":\"#2a3f5f\",\"gridcolor\":\"white\",\"linecolor\":\"white\",\"minorgridcolor\":\"white\",\"startlinecolor\":\"#2a3f5f\"},\"type\":\"carpet\"}],\"choropleth\":[{\"colorbar\":{\"outlinewidth\":0,\"ticks\":\"\"},\"type\":\"choropleth\"}],\"contour\":[{\"colorbar\":{\"outlinewidth\":0,\"ticks\":\"\"},\"colorscale\":[[0.0,\"#0d0887\"],[0.1111111111111111,\"#46039f\"],[0.2222222222222222,\"#7201a8\"],[0.3333333333333333,\"#9c179e\"],[0.4444444444444444,\"#bd3786\"],[0.5555555555555556,\"#d8576b\"],[0.6666666666666666,\"#ed7953\"],[0.7777777777777778,\"#fb9f3a\"],[0.8888888888888888,\"#fdca26\"],[1.0,\"#f0f921\"]],\"type\":\"contour\"}],\"contourcarpet\":[{\"colorbar\":{\"outlinewidth\":0,\"ticks\":\"\"},\"type\":\"contourcarpet\"}],\"heatmap\":[{\"colorbar\":{\"outlinewidth\":0,\"ticks\":\"\"},\"colorscale\":[[0.0,\"#0d0887\"],[0.1111111111111111,\"#46039f\"],[0.2222222222222222,\"#7201a8\"],[0.3333333333333333,\"#9c179e\"],[0.4444444444444444,\"#bd3786\"],[0.5555555555555556,\"#d8576b\"],[0.6666666666666666,\"#ed7953\"],[0.7777777777777778,\"#fb9f3a\"],[0.8888888888888888,\"#fdca26\"],[1.0,\"#f0f921\"]],\"type\":\"heatmap\"}],\"heatmapgl\":[{\"colorbar\":{\"outlinewidth\":0,\"ticks\":\"\"},\"colorscale\":[[0.0,\"#0d0887\"],[0.1111111111111111,\"#46039f\"],[0.2222222222222222,\"#7201a8\"],[0.3333333333333333,\"#9c179e\"],[0.4444444444444444,\"#bd3786\"],[0.5555555555555556,\"#d8576b\"],[0.6666666666666666,\"#ed7953\"],[0.7777777777777778,\"#fb9f3a\"],[0.8888888888888888,\"#fdca26\"],[1.0,\"#f0f921\"]],\"type\":\"heatmapgl\"}],\"histogram\":[{\"marker\":{\"pattern\":{\"fillmode\":\"overlay\",\"size\":10,\"solidity\":0.2}},\"type\":\"histogram\"}],\"histogram2d\":[{\"colorbar\":{\"outlinewidth\":0,\"ticks\":\"\"},\"colorscale\":[[0.0,\"#0d0887\"],[0.1111111111111111,\"#46039f\"],[0.2222222222222222,\"#7201a8\"],[0.3333333333333333,\"#9c179e\"],[0.4444444444444444,\"#bd3786\"],[0.5555555555555556,\"#d8576b\"],[0.6666666666666666,\"#ed7953\"],[0.7777777777777778,\"#fb9f3a\"],[0.8888888888888888,\"#fdca26\"],[1.0,\"#f0f921\"]],\"type\":\"histogram2d\"}],\"histogram2dcontour\":[{\"colorbar\":{\"outlinewidth\":0,\"ticks\":\"\"},\"colorscale\":[[0.0,\"#0d0887\"],[0.1111111111111111,\"#46039f\"],[0.2222222222222222,\"#7201a8\"],[0.3333333333333333,\"#9c179e\"],[0.4444444444444444,\"#bd3786\"],[0.5555555555555556,\"#d8576b\"],[0.6666666666666666,\"#ed7953\"],[0.7777777777777778,\"#fb9f3a\"],[0.8888888888888888,\"#fdca26\"],[1.0,\"#f0f921\"]],\"type\":\"histogram2dcontour\"}],\"mesh3d\":[{\"colorbar\":{\"outlinewidth\":0,\"ticks\":\"\"},\"type\":\"mesh3d\"}],\"parcoords\":[{\"line\":{\"colorbar\":{\"outlinewidth\":0,\"ticks\":\"\"}},\"type\":\"parcoords\"}],\"pie\":[{\"automargin\":true,\"type\":\"pie\"}],\"scatter\":[{\"marker\":{\"colorbar\":{\"outlinewidth\":0,\"ticks\":\"\"}},\"type\":\"scatter\"}],\"scatter3d\":[{\"line\":{\"colorbar\":{\"outlinewidth\":0,\"ticks\":\"\"}},\"marker\":{\"colorbar\":{\"outlinewidth\":0,\"ticks\":\"\"}},\"type\":\"scatter3d\"}],\"scattercarpet\":[{\"marker\":{\"colorbar\":{\"outlinewidth\":0,\"ticks\":\"\"}},\"type\":\"scattercarpet\"}],\"scattergeo\":[{\"marker\":{\"colorbar\":{\"outlinewidth\":0,\"ticks\":\"\"}},\"type\":\"scattergeo\"}],\"scattergl\":[{\"marker\":{\"colorbar\":{\"outlinewidth\":0,\"ticks\":\"\"}},\"type\":\"scattergl\"}],\"scattermapbox\":[{\"marker\":{\"colorbar\":{\"outlinewidth\":0,\"ticks\":\"\"}},\"type\":\"scattermapbox\"}],\"scatterpolar\":[{\"marker\":{\"colorbar\":{\"outlinewidth\":0,\"ticks\":\"\"}},\"type\":\"scatterpolar\"}],\"scatterpolargl\":[{\"marker\":{\"colorbar\":{\"outlinewidth\":0,\"ticks\":\"\"}},\"type\":\"scatterpolargl\"}],\"scatterternary\":[{\"marker\":{\"colorbar\":{\"outlinewidth\":0,\"ticks\":\"\"}},\"type\":\"scatterternary\"}],\"surface\":[{\"colorbar\":{\"outlinewidth\":0,\"ticks\":\"\"},\"colorscale\":[[0.0,\"#0d0887\"],[0.1111111111111111,\"#46039f\"],[0.2222222222222222,\"#7201a8\"],[0.3333333333333333,\"#9c179e\"],[0.4444444444444444,\"#bd3786\"],[0.5555555555555556,\"#d8576b\"],[0.6666666666666666,\"#ed7953\"],[0.7777777777777778,\"#fb9f3a\"],[0.8888888888888888,\"#fdca26\"],[1.0,\"#f0f921\"]],\"type\":\"surface\"}],\"table\":[{\"cells\":{\"fill\":{\"color\":\"#EBF0F8\"},\"line\":{\"color\":\"white\"}},\"header\":{\"fill\":{\"color\":\"#C8D4E3\"},\"line\":{\"color\":\"white\"}},\"type\":\"table\"}]},\"layout\":{\"annotationdefaults\":{\"arrowcolor\":\"#2a3f5f\",\"arrowhead\":0,\"arrowwidth\":1},\"autotypenumbers\":\"strict\",\"coloraxis\":{\"colorbar\":{\"outlinewidth\":0,\"ticks\":\"\"}},\"colorscale\":{\"diverging\":[[0,\"#8e0152\"],[0.1,\"#c51b7d\"],[0.2,\"#de77ae\"],[0.3,\"#f1b6da\"],[0.4,\"#fde0ef\"],[0.5,\"#f7f7f7\"],[0.6,\"#e6f5d0\"],[0.7,\"#b8e186\"],[0.8,\"#7fbc41\"],[0.9,\"#4d9221\"],[1,\"#276419\"]],\"sequential\":[[0.0,\"#0d0887\"],[0.1111111111111111,\"#46039f\"],[0.2222222222222222,\"#7201a8\"],[0.3333333333333333,\"#9c179e\"],[0.4444444444444444,\"#bd3786\"],[0.5555555555555556,\"#d8576b\"],[0.6666666666666666,\"#ed7953\"],[0.7777777777777778,\"#fb9f3a\"],[0.8888888888888888,\"#fdca26\"],[1.0,\"#f0f921\"]],\"sequentialminus\":[[0.0,\"#0d0887\"],[0.1111111111111111,\"#46039f\"],[0.2222222222222222,\"#7201a8\"],[0.3333333333333333,\"#9c179e\"],[0.4444444444444444,\"#bd3786\"],[0.5555555555555556,\"#d8576b\"],[0.6666666666666666,\"#ed7953\"],[0.7777777777777778,\"#fb9f3a\"],[0.8888888888888888,\"#fdca26\"],[1.0,\"#f0f921\"]]},\"colorway\":[\"#636efa\",\"#EF553B\",\"#00cc96\",\"#ab63fa\",\"#FFA15A\",\"#19d3f3\",\"#FF6692\",\"#B6E880\",\"#FF97FF\",\"#FECB52\"],\"font\":{\"color\":\"#2a3f5f\"},\"geo\":{\"bgcolor\":\"white\",\"lakecolor\":\"white\",\"landcolor\":\"#E5ECF6\",\"showlakes\":true,\"showland\":true,\"subunitcolor\":\"white\"},\"hoverlabel\":{\"align\":\"left\"},\"hovermode\":\"closest\",\"mapbox\":{\"style\":\"light\"},\"paper_bgcolor\":\"white\",\"plot_bgcolor\":\"#E5ECF6\",\"polar\":{\"angularaxis\":{\"gridcolor\":\"white\",\"linecolor\":\"white\",\"ticks\":\"\"},\"bgcolor\":\"#E5ECF6\",\"radialaxis\":{\"gridcolor\":\"white\",\"linecolor\":\"white\",\"ticks\":\"\"}},\"scene\":{\"xaxis\":{\"backgroundcolor\":\"#E5ECF6\",\"gridcolor\":\"white\",\"gridwidth\":2,\"linecolor\":\"white\",\"showbackground\":true,\"ticks\":\"\",\"zerolinecolor\":\"white\"},\"yaxis\":{\"backgroundcolor\":\"#E5ECF6\",\"gridcolor\":\"white\",\"gridwidth\":2,\"linecolor\":\"white\",\"showbackground\":true,\"ticks\":\"\",\"zerolinecolor\":\"white\"},\"zaxis\":{\"backgroundcolor\":\"#E5ECF6\",\"gridcolor\":\"white\",\"gridwidth\":2,\"linecolor\":\"white\",\"showbackground\":true,\"ticks\":\"\",\"zerolinecolor\":\"white\"}},\"shapedefaults\":{\"line\":{\"color\":\"#2a3f5f\"}},\"ternary\":{\"aaxis\":{\"gridcolor\":\"white\",\"linecolor\":\"white\",\"ticks\":\"\"},\"baxis\":{\"gridcolor\":\"white\",\"linecolor\":\"white\",\"ticks\":\"\"},\"bgcolor\":\"#E5ECF6\",\"caxis\":{\"gridcolor\":\"white\",\"linecolor\":\"white\",\"ticks\":\"\"}},\"title\":{\"x\":0.05},\"xaxis\":{\"automargin\":true,\"gridcolor\":\"white\",\"linecolor\":\"white\",\"ticks\":\"\",\"title\":{\"standoff\":15},\"zerolinecolor\":\"white\",\"zerolinewidth\":2},\"yaxis\":{\"automargin\":true,\"gridcolor\":\"white\",\"linecolor\":\"white\",\"ticks\":\"\",\"title\":{\"standoff\":15},\"zerolinecolor\":\"white\",\"zerolinewidth\":2}}},\"polar\":{\"radialaxis\":{\"visible\":true,\"range\":[0,1]}},\"showlegend\":true},                        {\"responsive\": true}                    ).then(function(){\n",
       "                            \n",
       "var gd = document.getElementById('81471c2e-3dd4-4290-bb20-d8fb4234e3a3');\n",
       "var x = new MutationObserver(function (mutations, observer) {{\n",
       "        var display = window.getComputedStyle(gd).display;\n",
       "        if (!display || display === 'none') {{\n",
       "            console.log([gd, 'removed!']);\n",
       "            Plotly.purge(gd);\n",
       "            observer.disconnect();\n",
       "        }}\n",
       "}});\n",
       "\n",
       "// Listen for the removal of the full notebook cells\n",
       "var notebookContainer = gd.closest('#notebook-container');\n",
       "if (notebookContainer) {{\n",
       "    x.observe(notebookContainer, {childList: true});\n",
       "}}\n",
       "\n",
       "// Listen for the clearing of the current output cell\n",
       "var outputEl = gd.closest('.output');\n",
       "if (outputEl) {{\n",
       "    x.observe(outputEl, {childList: true});\n",
       "}}\n",
       "\n",
       "                        })                };                });            </script>        </div>"
      ]
     },
     "metadata": {},
     "output_type": "display_data"
    }
   ],
   "source": [
    "polarplt(df1, 'cluster_M0', selection)"
   ]
  },
  {
   "cell_type": "code",
   "execution_count": 122,
   "metadata": {},
   "outputs": [
    {
     "data": {
      "text/plain": [
       "0.9288137950574238"
      ]
     },
     "execution_count": 122,
     "metadata": {},
     "output_type": "execute_result"
    }
   ],
   "source": [
    "Ari_01 = adjusted_rand_score(df1['cluster_t1'], df1['cluster_M0'])\n",
    "Ari_01"
   ]
  },
  {
   "cell_type": "code",
   "execution_count": null,
   "metadata": {},
   "outputs": [],
   "source": []
  },
  {
   "cell_type": "code",
   "execution_count": null,
   "metadata": {},
   "outputs": [],
   "source": []
  },
  {
   "cell_type": "code",
   "execution_count": null,
   "metadata": {},
   "outputs": [],
   "source": []
  },
  {
   "cell_type": "markdown",
   "metadata": {},
   "source": [
    "<a id='df2' />\n",
    "\n",
    "### t2 = t0 + 3 months"
   ]
  },
  {
   "cell_type": "code",
   "execution_count": 99,
   "metadata": {},
   "outputs": [
    {
     "name": "stdout",
     "output_type": "stream",
     "text": [
      "(82183, 78)\n",
      "----------\n",
      "(66066, 78)\n",
      "----------\n",
      "(66066, 79)\n",
      "----------\n",
      "(64411, 17)\n"
     ]
    }
   ],
   "source": [
    "df2 = transforming(df2)"
   ]
  },
  {
   "cell_type": "code",
   "execution_count": 100,
   "metadata": {},
   "outputs": [
    {
     "name": "stdout",
     "output_type": "stream",
     "text": [
      "----------\n",
      "[0.11237804 0.19703383 0.2710954  0.34199815 0.40834627 0.47147937\n",
      " 0.53428441 0.59657895 0.65822671 0.71820945 0.77783202 0.83580081\n",
      " 0.88708051 0.92849179 0.9666174  0.9985879  1.        ]\n",
      "--------------------\n",
      "--------------------\n"
     ]
    }
   ],
   "source": [
    "df2_fr = transformag(df2)"
   ]
  },
  {
   "cell_type": "code",
   "execution_count": 101,
   "metadata": {},
   "outputs": [
    {
     "name": "stdout",
     "output_type": "stream",
     "text": [
      "[0.11237804 0.19703383 0.2710954  0.34199815 0.40834627 0.47147937\n",
      " 0.53428441]\n"
     ]
    }
   ],
   "source": [
    "pca2 = decomposition.PCA(n_components=7)\n",
    "pca2.fit(df2_fr)\n",
    "print(pca2.explained_variance_ratio_.cumsum())\n",
    "X_trans_2 = pca2.transform(df2_fr)"
   ]
  },
  {
   "cell_type": "code",
   "execution_count": 102,
   "metadata": {},
   "outputs": [
    {
     "data": {
      "image/png": "[encoded data removed]",
      "text/plain": [
       "<Figure size 648x432 with 2 Axes>"
      ]
     },
     "metadata": {},
     "output_type": "display_data"
    },
    {
     "data": {
      "text/plain": [
       "<AxesSubplot:title={'center':'Distortion Score Elbow for KMeans Clustering'}, xlabel='k', ylabel='distortion score'>"
      ]
     },
     "execution_count": 102,
     "metadata": {},
     "output_type": "execute_result"
    }
   ],
   "source": [
    "plt.rcParams[\"figure.figsize\"] = (9,6)\n",
    "\n",
    "# Instantiate the clustering model and visualizer\n",
    "model = KMeans()\n",
    "visualizer = KElbowVisualizer(model, k=(2,20))\n",
    "\n",
    "visualizer.fit(X_trans_2)    # Fit the data to the visualizer\n",
    "visualizer.poof()    # Draw/show/poof the data"
   ]
  },
  {
   "cell_type": "code",
   "execution_count": 103,
   "metadata": {},
   "outputs": [
    {
     "name": "stdout",
     "output_type": "stream",
     "text": [
      "total time:  19.82797908782959 sec\n"
     ]
    }
   ],
   "source": [
    "# Best number of clusters with davies\n",
    "startt = time.time()\n",
    "\n",
    "davies_ad_2 = []\n",
    "\n",
    "K_range = range(3, 18)\n",
    "for k in K_range:\n",
    "    \n",
    "    cls_ad_2 = cluster.KMeans(n_clusters=k)\n",
    "    cls_ad_2.fit(X_trans_2)\n",
    "    dav_ad_2 = metrics.davies_bouldin_score(X_trans_2, cls_ad_2.labels_)\n",
    "    davies_ad_2.append(dav_ad_2)\n",
    "    \n",
    "    #print(k)\n",
    "    \n",
    "endt = time.time()\n",
    "print(\"total time: \",(endt - startt),\"sec\")"
   ]
  },
  {
   "cell_type": "code",
   "execution_count": 104,
   "metadata": {},
   "outputs": [
    {
     "data": {
      "text/plain": [
       "Text(0, 0.5, 'davies_bouldin')"
      ]
     },
     "execution_count": 104,
     "metadata": {},
     "output_type": "execute_result"
    },
    {
     "data": {
      "image/png": "[encoded data removed]",
      "text/plain": [
       "<Figure size 648x432 with 1 Axes>"
      ]
     },
     "metadata": {},
     "output_type": "display_data"
    }
   ],
   "source": [
    "plt.plot(K_range, davies_ad_2, 'o-')\n",
    "plt.xlabel('nombre de clusters')\n",
    "plt.ylabel('davies_bouldin')"
   ]
  },
  {
   "cell_type": "code",
   "execution_count": 105,
   "metadata": {},
   "outputs": [
    {
     "name": "stdout",
     "output_type": "stream",
     "text": [
      "total time:  358.4819037914276 sec\n"
     ]
    }
   ],
   "source": [
    "# Best number of clusters\n",
    "startt = time.time()\n",
    "\n",
    "silhouette_ad_2 = []\n",
    "\n",
    "K_range = range(5, 14)\n",
    "for k in K_range:\n",
    "    \n",
    "    cls_ad_2 = cluster.KMeans(n_clusters=k)\n",
    "    cls_ad_2.fit(X_trans_2)\n",
    "    silh_ad_2 = metrics.silhouette_score(X_trans_2, cls_ad_2.labels_)\n",
    "    silhouette_ad_2.append(silh_ad_2)\n",
    "    \n",
    "    #print(k)\n",
    "    \n",
    "endt = time.time()\n",
    "print(\"total time: \",(endt - startt),\"sec\")"
   ]
  },
  {
   "cell_type": "code",
   "execution_count": 106,
   "metadata": {},
   "outputs": [
    {
     "data": {
      "text/plain": [
       "Text(0, 0.5, 'silhouette')"
      ]
     },
     "execution_count": 106,
     "metadata": {},
     "output_type": "execute_result"
    },
    {
     "data": {
      "image/png": "[encoded data removed]",
      "text/plain": [
       "<Figure size 648x432 with 1 Axes>"
      ]
     },
     "metadata": {},
     "output_type": "display_data"
    }
   ],
   "source": [
    "plt.plot(K_range, silhouette_ad_2, 'o-')\n",
    "plt.xlabel('nombre de clusters')\n",
    "plt.ylabel('silhouette')"
   ]
  },
  {
   "cell_type": "code",
   "execution_count": 123,
   "metadata": {},
   "outputs": [],
   "source": [
    "model_df2 = KMeans(n_clusters=9)\n",
    "model_df2.fit(X_trans_2)\n",
    "model_df2.labels_\n",
    "\n",
    "df2['cluster_t2'] = model_df2.labels_"
   ]
  },
  {
   "cell_type": "code",
   "execution_count": 124,
   "metadata": {},
   "outputs": [
    {
     "data": {
      "text/plain": [
       "0    19871\n",
       "7    11629\n",
       "6     9041\n",
       "1     6645\n",
       "3     6011\n",
       "2     4849\n",
       "5     4160\n",
       "8     1458\n",
       "4      747\n",
       "Name: cluster_t2, dtype: int64"
      ]
     },
     "execution_count": 124,
     "metadata": {},
     "output_type": "execute_result"
    }
   ],
   "source": [
    "df2['cluster_t2'].value_counts()"
   ]
  },
  {
   "cell_type": "code",
   "execution_count": 125,
   "metadata": {},
   "outputs": [],
   "source": [
    "df2['cluster_M0'] = model_df0.predict(X_trans_2)"
   ]
  },
  {
   "cell_type": "code",
   "execution_count": 126,
   "metadata": {},
   "outputs": [
    {
     "data": {
      "text/plain": [
       "0.8872556073100312"
      ]
     },
     "execution_count": 126,
     "metadata": {},
     "output_type": "execute_result"
    }
   ],
   "source": [
    "Ari_02 = adjusted_rand_score(df2['cluster_t2'], df2['cluster_M0'])\n",
    "Ari_02"
   ]
  },
  {
   "cell_type": "code",
   "execution_count": 214,
   "metadata": {},
   "outputs": [
    {
     "data": {
      "application/vnd.plotly.v1+json": {
       "config": {
        "plotlyServerURL": "https://plot.ly"
       },
       "data": [
        {
         "name": "cluster 3",
         "r": [
          0.8293129263017931,
          0.5062385626351689,
          0.28950669856091976,
          0.10878540856913539,
          0.5706088405767435,
          0.002828148394609882,
          0.012776576276825873,
          0.018798868740642155,
          0.00349359507569456,
          0.0008318083513558476,
          0.06038928630843348,
          0.009648976875727832,
          0.0026617867243387125,
          0.05758886485887028,
          0.3007403094327067,
          0.08989870395869169,
          0.1723077841287998
         ],
         "theta": [
          "Cus_mean_review_score",
          "Number_of_orders",
          "Recency",
          "Number_of_articles",
          "log_Spending",
          "cool_stuff",
          "pet_shop",
          "home_confort",
          "health_beauty",
          "electronics",
          "industry_commerce_construction",
          "arts_video_audio",
          "clothing_and_bags",
          "auto",
          "MUM_of_payment_a",
          "delay_delivery",
          "distance",
          "cluster_t2",
          "cluster_M0"
         ],
         "type": "scatterpolar"
        },
        {
         "name": "cluster 4",
         "r": [
          0.8000535475234279,
          0.2057117358322207,
          0.28711960703086226,
          0.1315739147064456,
          0.6737544916346138,
          0.02242302543507363,
          0.004016064257028112,
          0.02570281124497988,
          0.11672085166061136,
          0.010441767068273095,
          0.013052208835341365,
          0.028112449799196786,
          0.013386880856760375,
          0.007362784471218206,
          0.3102409638554217,
          0.2679778220839902,
          0.17925886826513412
         ],
         "theta": [
          "Cus_mean_review_score",
          "Number_of_orders",
          "Recency",
          "Number_of_articles",
          "log_Spending",
          "cool_stuff",
          "pet_shop",
          "home_confort",
          "health_beauty",
          "electronics",
          "industry_commerce_construction",
          "arts_video_audio",
          "clothing_and_bags",
          "auto",
          "MUM_of_payment_a",
          "delay_delivery",
          "distance",
          "cluster_t2",
          "cluster_M0"
         ],
         "type": "scatterpolar"
        },
        {
         "name": "cluster 0",
         "r": [
          0.8804388304563939,
          0.50022646067133,
          0.3503243836027914,
          0.2731618942177042,
          0.5749563888205982,
          0.0006038951235468774,
          0.01529867646318756,
          0.40954154295204065,
          5.032459362890645e-05,
          null,
          0.0023149313069296966,
          0.059517219398453856,
          null,
          0.013486991092546927,
          0.31947310150470537,
          0.08514981879983745,
          0.17914251306519557
         ],
         "theta": [
          "Cus_mean_review_score",
          "Number_of_orders",
          "Recency",
          "Number_of_articles",
          "log_Spending",
          "cool_stuff",
          "pet_shop",
          "home_confort",
          "health_beauty",
          "electronics",
          "industry_commerce_construction",
          "arts_video_audio",
          "clothing_and_bags",
          "auto",
          "MUM_of_payment_a",
          "delay_delivery",
          "distance",
          "cluster_t2",
          "cluster_M0"
         ],
         "type": "scatterpolar"
        },
        {
         "name": "cluster 7",
         "r": [
          0.8806604179207184,
          0.5000429959583799,
          0.3194753945959229,
          0.35632183908050913,
          0.565627540702716,
          null,
          8.599191675982457e-05,
          0.0008599191675982457,
          0.5340527990368905,
          8.599191675982457e-05,
          null,
          0.00017198383351964914,
          null,
          8.599191675982457e-05,
          0.31653624559291427,
          0.1904619332062494,
          0.16805210648845534
         ],
         "theta": [
          "Cus_mean_review_score",
          "Number_of_orders",
          "Recency",
          "Number_of_articles",
          "log_Spending",
          "cool_stuff",
          "pet_shop",
          "home_confort",
          "health_beauty",
          "electronics",
          "industry_commerce_construction",
          "arts_video_audio",
          "clothing_and_bags",
          "auto",
          "MUM_of_payment_a",
          "delay_delivery",
          "distance",
          "cluster_t2",
          "cluster_M0"
         ],
         "type": "scatterpolar"
        },
        {
         "name": "cluster 8",
         "r": [
          0.7449695168419467,
          0.18084133516232573,
          0.31324422282737807,
          0.1634430727023317,
          0.5871843185290361,
          0.009876543209876527,
          0.004311189496374682,
          0.12611454046639223,
          0.0054869684499314125,
          0.005384087791495194,
          0.006249047401310769,
          0.0037722908093278463,
          0.011659807956104253,
          0.0032007315957933236,
          0.3136145404663923,
          0.16724338591170976,
          0.15958017239546413
         ],
         "theta": [
          "Cus_mean_review_score",
          "Number_of_orders",
          "Recency",
          "Number_of_articles",
          "log_Spending",
          "cool_stuff",
          "pet_shop",
          "home_confort",
          "health_beauty",
          "electronics",
          "industry_commerce_construction",
          "arts_video_audio",
          "clothing_and_bags",
          "auto",
          "MUM_of_payment_a",
          "delay_delivery",
          "distance",
          "cluster_t2",
          "cluster_M0"
         ],
         "type": "scatterpolar"
        },
        {
         "name": "cluster 1",
         "r": [
          0.8375319789315457,
          0.5135440180586908,
          0.2740419407027282,
          0.12094808126412213,
          0.5562849968337975,
          0.0030097817908201654,
          0.0018811136192626034,
          0.004815650865312265,
          0.0018058690744920992,
          0.0838339989581592,
          0.002558314522197141,
          0.01667920742412847,
          0.00030097817908201655,
          0.001580135440180587,
          0.35835214446952596,
          0.2323075175921562,
          0.17048247276907103
         ],
         "theta": [
          "Cus_mean_review_score",
          "Number_of_orders",
          "Recency",
          "Number_of_articles",
          "log_Spending",
          "cool_stuff",
          "pet_shop",
          "home_confort",
          "health_beauty",
          "electronics",
          "industry_commerce_construction",
          "arts_video_audio",
          "clothing_and_bags",
          "auto",
          "MUM_of_payment_a",
          "delay_delivery",
          "distance",
          "cluster_t2",
          "cluster_M0"
         ],
         "type": "scatterpolar"
        },
        {
         "name": "cluster 6",
         "r": [
          0.8694060391549879,
          0.5056962725362238,
          0.33710692219597044,
          0.08998820189507914,
          0.5814031860008526,
          0.08939829664860913,
          0.00022121446742616967,
          0.0011613759539873907,
          0.0005530361685654242,
          0.0007742506359915939,
          0.000663643402278509,
          0.0012166795708439331,
          0.0007742506359915939,
          0.0008848578697046787,
          0.3079858422740847,
          0.1874799365423409,
          0.14087402988165432
         ],
         "theta": [
          "Cus_mean_review_score",
          "Number_of_orders",
          "Recency",
          "Number_of_articles",
          "log_Spending",
          "cool_stuff",
          "pet_shop",
          "home_confort",
          "health_beauty",
          "electronics",
          "industry_commerce_construction",
          "arts_video_audio",
          "clothing_and_bags",
          "auto",
          "MUM_of_payment_a",
          "delay_delivery",
          "distance",
          "cluster_t2",
          "cluster_M0"
         ],
         "type": "scatterpolar"
        },
        {
         "name": "cluster 5",
         "r": [
          0.8458092948717998,
          0.2606370192307692,
          0.34036134920392874,
          0.11391826923077661,
          0.5983000264376807,
          0.0069711538461538465,
          0.0006009615384615385,
          0.00985576923076923,
          0.0014423076923076924,
          0.0014423076923076924,
          0.0014423076923076924,
          0.0018028846153846155,
          0.11086538461539168,
          0.0008413461538461539,
          0.3180889423076923,
          0.24939228650710518,
          0.18202211401025403
         ],
         "theta": [
          "Cus_mean_review_score",
          "Number_of_orders",
          "Recency",
          "Number_of_articles",
          "log_Spending",
          "cool_stuff",
          "pet_shop",
          "home_confort",
          "health_beauty",
          "electronics",
          "industry_commerce_construction",
          "arts_video_audio",
          "clothing_and_bags",
          "auto",
          "MUM_of_payment_a",
          "delay_delivery",
          "distance",
          "cluster_t2",
          "cluster_M0"
         ],
         "type": "scatterpolar"
        },
        {
         "name": "cluster 2",
         "r": [
          0.29870076304394505,
          0.5011342544854609,
          0.17275252173979463,
          0.2679934007011755,
          0.5871110222523553,
          0.05939368942049907,
          0.006805526912765519,
          0.14394720560940558,
          0.092699525675397,
          0.034646318828624456,
          0.019179212208702827,
          0.03650237162301515,
          0.024953598680140236,
          0.04062693338832749,
          0.31583831717879973,
          -0.4293726864138679,
          0.148926076290028
         ],
         "theta": [
          "Cus_mean_review_score",
          "Number_of_orders",
          "Recency",
          "Number_of_articles",
          "log_Spending",
          "cool_stuff",
          "pet_shop",
          "home_confort",
          "health_beauty",
          "electronics",
          "industry_commerce_construction",
          "arts_video_audio",
          "clothing_and_bags",
          "auto",
          "MUM_of_payment_a",
          "delay_delivery",
          "distance",
          "cluster_t2",
          "cluster_M0"
         ],
         "type": "scatterpolar"
        }
       ],
       "layout": {
        "polar": {
         "radialaxis": {
          "range": [
           0,
           1
          ],
          "visible": true
         }
        },
        "showlegend": true,
        "template": {
         "data": {
          "bar": [
           {
            "error_x": {
             "color": "#2a3f5f"
            },
            "error_y": {
             "color": "#2a3f5f"
            },
            "marker": {
             "line": {
              "color": "#E5ECF6",
              "width": 0.5
             },
             "pattern": {
              "fillmode": "overlay",
              "size": 10,
              "solidity": 0.2
             }
            },
            "type": "bar"
           }
          ],
          "barpolar": [
           {
            "marker": {
             "line": {
              "color": "#E5ECF6",
              "width": 0.5
             },
             "pattern": {
              "fillmode": "overlay",
              "size": 10,
              "solidity": 0.2
             }
            },
            "type": "barpolar"
           }
          ],
          "carpet": [
           {
            "aaxis": {
             "endlinecolor": "#2a3f5f",
             "gridcolor": "white",
             "linecolor": "white",
             "minorgridcolor": "white",
             "startlinecolor": "#2a3f5f"
            },
            "baxis": {
             "endlinecolor": "#2a3f5f",
             "gridcolor": "white",
             "linecolor": "white",
             "minorgridcolor": "white",
             "startlinecolor": "#2a3f5f"
            },
            "type": "carpet"
           }
          ],
          "choropleth": [
           {
            "colorbar": {
             "outlinewidth": 0,
             "ticks": ""
            },
            "type": "choropleth"
           }
          ],
          "contour": [
           {
            "colorbar": {
             "outlinewidth": 0,
             "ticks": ""
            },
            "colorscale": [
             [
              0,
              "#0d0887"
             ],
             [
              0.1111111111111111,
              "#46039f"
             ],
             [
              0.2222222222222222,
              "#7201a8"
             ],
             [
              0.3333333333333333,
              "#9c179e"
             ],
             [
              0.4444444444444444,
              "#bd3786"
             ],
             [
              0.5555555555555556,
              "#d8576b"
             ],
             [
              0.6666666666666666,
              "#ed7953"
             ],
             [
              0.7777777777777778,
              "#fb9f3a"
             ],
             [
              0.8888888888888888,
              "#fdca26"
             ],
             [
              1,
              "#f0f921"
             ]
            ],
            "type": "contour"
           }
          ],
          "contourcarpet": [
           {
            "colorbar": {
             "outlinewidth": 0,
             "ticks": ""
            },
            "type": "contourcarpet"
           }
          ],
          "heatmap": [
           {
            "colorbar": {
             "outlinewidth": 0,
             "ticks": ""
            },
            "colorscale": [
             [
              0,
              "#0d0887"
             ],
             [
              0.1111111111111111,
              "#46039f"
             ],
             [
              0.2222222222222222,
              "#7201a8"
             ],
             [
              0.3333333333333333,
              "#9c179e"
             ],
             [
              0.4444444444444444,
              "#bd3786"
             ],
             [
              0.5555555555555556,
              "#d8576b"
             ],
             [
              0.6666666666666666,
              "#ed7953"
             ],
             [
              0.7777777777777778,
              "#fb9f3a"
             ],
             [
              0.8888888888888888,
              "#fdca26"
             ],
             [
              1,
              "#f0f921"
             ]
            ],
            "type": "heatmap"
           }
          ],
          "heatmapgl": [
           {
            "colorbar": {
             "outlinewidth": 0,
             "ticks": ""
            },
            "colorscale": [
             [
              0,
              "#0d0887"
             ],
             [
              0.1111111111111111,
              "#46039f"
             ],
             [
              0.2222222222222222,
              "#7201a8"
             ],
             [
              0.3333333333333333,
              "#9c179e"
             ],
             [
              0.4444444444444444,
              "#bd3786"
             ],
             [
              0.5555555555555556,
              "#d8576b"
             ],
             [
              0.6666666666666666,
              "#ed7953"
             ],
             [
              0.7777777777777778,
              "#fb9f3a"
             ],
             [
              0.8888888888888888,
              "#fdca26"
             ],
             [
              1,
              "#f0f921"
             ]
            ],
            "type": "heatmapgl"
           }
          ],
          "histogram": [
           {
            "marker": {
             "pattern": {
              "fillmode": "overlay",
              "size": 10,
              "solidity": 0.2
             }
            },
            "type": "histogram"
           }
          ],
          "histogram2d": [
           {
            "colorbar": {
             "outlinewidth": 0,
             "ticks": ""
            },
            "colorscale": [
             [
              0,
              "#0d0887"
             ],
             [
              0.1111111111111111,
              "#46039f"
             ],
             [
              0.2222222222222222,
              "#7201a8"
             ],
             [
              0.3333333333333333,
              "#9c179e"
             ],
             [
              0.4444444444444444,
              "#bd3786"
             ],
             [
              0.5555555555555556,
              "#d8576b"
             ],
             [
              0.6666666666666666,
              "#ed7953"
             ],
             [
              0.7777777777777778,
              "#fb9f3a"
             ],
             [
              0.8888888888888888,
              "#fdca26"
             ],
             [
              1,
              "#f0f921"
             ]
            ],
            "type": "histogram2d"
           }
          ],
          "histogram2dcontour": [
           {
            "colorbar": {
             "outlinewidth": 0,
             "ticks": ""
            },
            "colorscale": [
             [
              0,
              "#0d0887"
             ],
             [
              0.1111111111111111,
              "#46039f"
             ],
             [
              0.2222222222222222,
              "#7201a8"
             ],
             [
              0.3333333333333333,
              "#9c179e"
             ],
             [
              0.4444444444444444,
              "#bd3786"
             ],
             [
              0.5555555555555556,
              "#d8576b"
             ],
             [
              0.6666666666666666,
              "#ed7953"
             ],
             [
              0.7777777777777778,
              "#fb9f3a"
             ],
             [
              0.8888888888888888,
              "#fdca26"
             ],
             [
              1,
              "#f0f921"
             ]
            ],
            "type": "histogram2dcontour"
           }
          ],
          "mesh3d": [
           {
            "colorbar": {
             "outlinewidth": 0,
             "ticks": ""
            },
            "type": "mesh3d"
           }
          ],
          "parcoords": [
           {
            "line": {
             "colorbar": {
              "outlinewidth": 0,
              "ticks": ""
             }
            },
            "type": "parcoords"
           }
          ],
          "pie": [
           {
            "automargin": true,
            "type": "pie"
           }
          ],
          "scatter": [
           {
            "marker": {
             "colorbar": {
              "outlinewidth": 0,
              "ticks": ""
             }
            },
            "type": "scatter"
           }
          ],
          "scatter3d": [
           {
            "line": {
             "colorbar": {
              "outlinewidth": 0,
              "ticks": ""
             }
            },
            "marker": {
             "colorbar": {
              "outlinewidth": 0,
              "ticks": ""
             }
            },
            "type": "scatter3d"
           }
          ],
          "scattercarpet": [
           {
            "marker": {
             "colorbar": {
              "outlinewidth": 0,
              "ticks": ""
             }
            },
            "type": "scattercarpet"
           }
          ],
          "scattergeo": [
           {
            "marker": {
             "colorbar": {
              "outlinewidth": 0,
              "ticks": ""
             }
            },
            "type": "scattergeo"
           }
          ],
          "scattergl": [
           {
            "marker": {
             "colorbar": {
              "outlinewidth": 0,
              "ticks": ""
             }
            },
            "type": "scattergl"
           }
          ],
          "scattermapbox": [
           {
            "marker": {
             "colorbar": {
              "outlinewidth": 0,
              "ticks": ""
             }
            },
            "type": "scattermapbox"
           }
          ],
          "scatterpolar": [
           {
            "marker": {
             "colorbar": {
              "outlinewidth": 0,
              "ticks": ""
             }
            },
            "type": "scatterpolar"
           }
          ],
          "scatterpolargl": [
           {
            "marker": {
             "colorbar": {
              "outlinewidth": 0,
              "ticks": ""
             }
            },
            "type": "scatterpolargl"
           }
          ],
          "scatterternary": [
           {
            "marker": {
             "colorbar": {
              "outlinewidth": 0,
              "ticks": ""
             }
            },
            "type": "scatterternary"
           }
          ],
          "surface": [
           {
            "colorbar": {
             "outlinewidth": 0,
             "ticks": ""
            },
            "colorscale": [
             [
              0,
              "#0d0887"
             ],
             [
              0.1111111111111111,
              "#46039f"
             ],
             [
              0.2222222222222222,
              "#7201a8"
             ],
             [
              0.3333333333333333,
              "#9c179e"
             ],
             [
              0.4444444444444444,
              "#bd3786"
             ],
             [
              0.5555555555555556,
              "#d8576b"
             ],
             [
              0.6666666666666666,
              "#ed7953"
             ],
             [
              0.7777777777777778,
              "#fb9f3a"
             ],
             [
              0.8888888888888888,
              "#fdca26"
             ],
             [
              1,
              "#f0f921"
             ]
            ],
            "type": "surface"
           }
          ],
          "table": [
           {
            "cells": {
             "fill": {
              "color": "#EBF0F8"
             },
             "line": {
              "color": "white"
             }
            },
            "header": {
             "fill": {
              "color": "#C8D4E3"
             },
             "line": {
              "color": "white"
             }
            },
            "type": "table"
           }
          ]
         },
         "layout": {
          "annotationdefaults": {
           "arrowcolor": "#2a3f5f",
           "arrowhead": 0,
           "arrowwidth": 1
          },
          "autotypenumbers": "strict",
          "coloraxis": {
           "colorbar": {
            "outlinewidth": 0,
            "ticks": ""
           }
          },
          "colorscale": {
           "diverging": [
            [
             0,
             "#8e0152"
            ],
            [
             0.1,
             "#c51b7d"
            ],
            [
             0.2,
             "#de77ae"
            ],
            [
             0.3,
             "#f1b6da"
            ],
            [
             0.4,
             "#fde0ef"
            ],
            [
             0.5,
             "#f7f7f7"
            ],
            [
             0.6,
             "#e6f5d0"
            ],
            [
             0.7,
             "#b8e186"
            ],
            [
             0.8,
             "#7fbc41"
            ],
            [
             0.9,
             "#4d9221"
            ],
            [
             1,
             "#276419"
            ]
           ],
           "sequential": [
            [
             0,
             "#0d0887"
            ],
            [
             0.1111111111111111,
             "#46039f"
            ],
            [
             0.2222222222222222,
             "#7201a8"
            ],
            [
             0.3333333333333333,
             "#9c179e"
            ],
            [
             0.4444444444444444,
             "#bd3786"
            ],
            [
             0.5555555555555556,
             "#d8576b"
            ],
            [
             0.6666666666666666,
             "#ed7953"
            ],
            [
             0.7777777777777778,
             "#fb9f3a"
            ],
            [
             0.8888888888888888,
             "#fdca26"
            ],
            [
             1,
             "#f0f921"
            ]
           ],
           "sequentialminus": [
            [
             0,
             "#0d0887"
            ],
            [
             0.1111111111111111,
             "#46039f"
            ],
            [
             0.2222222222222222,
             "#7201a8"
            ],
            [
             0.3333333333333333,
             "#9c179e"
            ],
            [
             0.4444444444444444,
             "#bd3786"
            ],
            [
             0.5555555555555556,
             "#d8576b"
            ],
            [
             0.6666666666666666,
             "#ed7953"
            ],
            [
             0.7777777777777778,
             "#fb9f3a"
            ],
            [
             0.8888888888888888,
             "#fdca26"
            ],
            [
             1,
             "#f0f921"
            ]
           ]
          },
          "colorway": [
           "#636efa",
           "#EF553B",
           "#00cc96",
           "#ab63fa",
           "#FFA15A",
           "#19d3f3",
           "#FF6692",
           "#B6E880",
           "#FF97FF",
           "#FECB52"
          ],
          "font": {
           "color": "#2a3f5f"
          },
          "geo": {
           "bgcolor": "white",
           "lakecolor": "white",
           "landcolor": "#E5ECF6",
           "showlakes": true,
           "showland": true,
           "subunitcolor": "white"
          },
          "hoverlabel": {
           "align": "left"
          },
          "hovermode": "closest",
          "mapbox": {
           "style": "light"
          },
          "paper_bgcolor": "white",
          "plot_bgcolor": "#E5ECF6",
          "polar": {
           "angularaxis": {
            "gridcolor": "white",
            "linecolor": "white",
            "ticks": ""
           },
           "bgcolor": "#E5ECF6",
           "radialaxis": {
            "gridcolor": "white",
            "linecolor": "white",
            "ticks": ""
           }
          },
          "scene": {
           "xaxis": {
            "backgroundcolor": "#E5ECF6",
            "gridcolor": "white",
            "gridwidth": 2,
            "linecolor": "white",
            "showbackground": true,
            "ticks": "",
            "zerolinecolor": "white"
           },
           "yaxis": {
            "backgroundcolor": "#E5ECF6",
            "gridcolor": "white",
            "gridwidth": 2,
            "linecolor": "white",
            "showbackground": true,
            "ticks": "",
            "zerolinecolor": "white"
           },
           "zaxis": {
            "backgroundcolor": "#E5ECF6",
            "gridcolor": "white",
            "gridwidth": 2,
            "linecolor": "white",
            "showbackground": true,
            "ticks": "",
            "zerolinecolor": "white"
           }
          },
          "shapedefaults": {
           "line": {
            "color": "#2a3f5f"
           }
          },
          "ternary": {
           "aaxis": {
            "gridcolor": "white",
            "linecolor": "white",
            "ticks": ""
           },
           "baxis": {
            "gridcolor": "white",
            "linecolor": "white",
            "ticks": ""
           },
           "bgcolor": "#E5ECF6",
           "caxis": {
            "gridcolor": "white",
            "linecolor": "white",
            "ticks": ""
           }
          },
          "title": {
           "x": 0.05
          },
          "xaxis": {
           "automargin": true,
           "gridcolor": "white",
           "linecolor": "white",
           "ticks": "",
           "title": {
            "standoff": 15
           },
           "zerolinecolor": "white",
           "zerolinewidth": 2
          },
          "yaxis": {
           "automargin": true,
           "gridcolor": "white",
           "linecolor": "white",
           "ticks": "",
           "title": {
            "standoff": 15
           },
           "zerolinecolor": "white",
           "zerolinewidth": 2
          }
         }
        }
       }
      },
      "text/html": [
       "<div>                            <div id=\"d1097b5d-cfbe-497d-be60-badbf9ccf039\" class=\"plotly-graph-div\" style=\"height:525px; width:100%;\"></div>            <script type=\"text/javascript\">                require([\"plotly\"], function(Plotly) {                    window.PLOTLYENV=window.PLOTLYENV || {};                                    if (document.getElementById(\"d1097b5d-cfbe-497d-be60-badbf9ccf039\")) {                    Plotly.newPlot(                        \"d1097b5d-cfbe-497d-be60-badbf9ccf039\",                        [{\"name\":\"cluster 3\",\"r\":[0.8293129263017931,0.5062385626351689,0.28950669856091976,0.10878540856913539,0.5706088405767435,0.002828148394609882,0.012776576276825873,0.018798868740642155,0.00349359507569456,0.0008318083513558476,0.06038928630843348,0.009648976875727832,0.0026617867243387125,0.05758886485887028,0.3007403094327067,0.08989870395869169,0.1723077841287998],\"theta\":[\"Cus_mean_review_score\",\"Number_of_orders\",\"Recency\",\"Number_of_articles\",\"log_Spending\",\"cool_stuff\",\"pet_shop\",\"home_confort\",\"health_beauty\",\"electronics\",\"industry_commerce_construction\",\"arts_video_audio\",\"clothing_and_bags\",\"auto\",\"MUM_of_payment_a\",\"delay_delivery\",\"distance\",\"cluster_t2\",\"cluster_M0\"],\"type\":\"scatterpolar\"},{\"name\":\"cluster 4\",\"r\":[0.8000535475234279,0.2057117358322207,0.28711960703086226,0.1315739147064456,0.6737544916346138,0.02242302543507363,0.004016064257028112,0.02570281124497988,0.11672085166061136,0.010441767068273095,0.013052208835341365,0.028112449799196786,0.013386880856760375,0.007362784471218206,0.3102409638554217,0.2679778220839902,0.17925886826513412],\"theta\":[\"Cus_mean_review_score\",\"Number_of_orders\",\"Recency\",\"Number_of_articles\",\"log_Spending\",\"cool_stuff\",\"pet_shop\",\"home_confort\",\"health_beauty\",\"electronics\",\"industry_commerce_construction\",\"arts_video_audio\",\"clothing_and_bags\",\"auto\",\"MUM_of_payment_a\",\"delay_delivery\",\"distance\",\"cluster_t2\",\"cluster_M0\"],\"type\":\"scatterpolar\"},{\"name\":\"cluster 0\",\"r\":[0.8804388304563939,0.50022646067133,0.3503243836027914,0.2731618942177042,0.5749563888205982,0.0006038951235468774,0.01529867646318756,0.40954154295204065,5.032459362890645e-05,null,0.0023149313069296966,0.059517219398453856,null,0.013486991092546927,0.31947310150470537,0.08514981879983745,0.17914251306519557],\"theta\":[\"Cus_mean_review_score\",\"Number_of_orders\",\"Recency\",\"Number_of_articles\",\"log_Spending\",\"cool_stuff\",\"pet_shop\",\"home_confort\",\"health_beauty\",\"electronics\",\"industry_commerce_construction\",\"arts_video_audio\",\"clothing_and_bags\",\"auto\",\"MUM_of_payment_a\",\"delay_delivery\",\"distance\",\"cluster_t2\",\"cluster_M0\"],\"type\":\"scatterpolar\"},{\"name\":\"cluster 7\",\"r\":[0.8806604179207184,0.5000429959583799,0.3194753945959229,0.35632183908050913,0.565627540702716,null,8.599191675982457e-05,0.0008599191675982457,0.5340527990368905,8.599191675982457e-05,null,0.00017198383351964914,null,8.599191675982457e-05,0.31653624559291427,0.1904619332062494,0.16805210648845534],\"theta\":[\"Cus_mean_review_score\",\"Number_of_orders\",\"Recency\",\"Number_of_articles\",\"log_Spending\",\"cool_stuff\",\"pet_shop\",\"home_confort\",\"health_beauty\",\"electronics\",\"industry_commerce_construction\",\"arts_video_audio\",\"clothing_and_bags\",\"auto\",\"MUM_of_payment_a\",\"delay_delivery\",\"distance\",\"cluster_t2\",\"cluster_M0\"],\"type\":\"scatterpolar\"},{\"name\":\"cluster 8\",\"r\":[0.7449695168419467,0.18084133516232573,0.31324422282737807,0.1634430727023317,0.5871843185290361,0.009876543209876527,0.004311189496374682,0.12611454046639223,0.0054869684499314125,0.005384087791495194,0.006249047401310769,0.0037722908093278463,0.011659807956104253,0.0032007315957933236,0.3136145404663923,0.16724338591170976,0.15958017239546413],\"theta\":[\"Cus_mean_review_score\",\"Number_of_orders\",\"Recency\",\"Number_of_articles\",\"log_Spending\",\"cool_stuff\",\"pet_shop\",\"home_confort\",\"health_beauty\",\"electronics\",\"industry_commerce_construction\",\"arts_video_audio\",\"clothing_and_bags\",\"auto\",\"MUM_of_payment_a\",\"delay_delivery\",\"distance\",\"cluster_t2\",\"cluster_M0\"],\"type\":\"scatterpolar\"},{\"name\":\"cluster 1\",\"r\":[0.8375319789315457,0.5135440180586908,0.2740419407027282,0.12094808126412213,0.5562849968337975,0.0030097817908201654,0.0018811136192626034,0.004815650865312265,0.0018058690744920992,0.0838339989581592,0.002558314522197141,0.01667920742412847,0.00030097817908201655,0.001580135440180587,0.35835214446952596,0.2323075175921562,0.17048247276907103],\"theta\":[\"Cus_mean_review_score\",\"Number_of_orders\",\"Recency\",\"Number_of_articles\",\"log_Spending\",\"cool_stuff\",\"pet_shop\",\"home_confort\",\"health_beauty\",\"electronics\",\"industry_commerce_construction\",\"arts_video_audio\",\"clothing_and_bags\",\"auto\",\"MUM_of_payment_a\",\"delay_delivery\",\"distance\",\"cluster_t2\",\"cluster_M0\"],\"type\":\"scatterpolar\"},{\"name\":\"cluster 6\",\"r\":[0.8694060391549879,0.5056962725362238,0.33710692219597044,0.08998820189507914,0.5814031860008526,0.08939829664860913,0.00022121446742616967,0.0011613759539873907,0.0005530361685654242,0.0007742506359915939,0.000663643402278509,0.0012166795708439331,0.0007742506359915939,0.0008848578697046787,0.3079858422740847,0.1874799365423409,0.14087402988165432],\"theta\":[\"Cus_mean_review_score\",\"Number_of_orders\",\"Recency\",\"Number_of_articles\",\"log_Spending\",\"cool_stuff\",\"pet_shop\",\"home_confort\",\"health_beauty\",\"electronics\",\"industry_commerce_construction\",\"arts_video_audio\",\"clothing_and_bags\",\"auto\",\"MUM_of_payment_a\",\"delay_delivery\",\"distance\",\"cluster_t2\",\"cluster_M0\"],\"type\":\"scatterpolar\"},{\"name\":\"cluster 5\",\"r\":[0.8458092948717998,0.2606370192307692,0.34036134920392874,0.11391826923077661,0.5983000264376807,0.0069711538461538465,0.0006009615384615385,0.00985576923076923,0.0014423076923076924,0.0014423076923076924,0.0014423076923076924,0.0018028846153846155,0.11086538461539168,0.0008413461538461539,0.3180889423076923,0.24939228650710518,0.18202211401025403],\"theta\":[\"Cus_mean_review_score\",\"Number_of_orders\",\"Recency\",\"Number_of_articles\",\"log_Spending\",\"cool_stuff\",\"pet_shop\",\"home_confort\",\"health_beauty\",\"electronics\",\"industry_commerce_construction\",\"arts_video_audio\",\"clothing_and_bags\",\"auto\",\"MUM_of_payment_a\",\"delay_delivery\",\"distance\",\"cluster_t2\",\"cluster_M0\"],\"type\":\"scatterpolar\"},{\"name\":\"cluster 2\",\"r\":[0.29870076304394505,0.5011342544854609,0.17275252173979463,0.2679934007011755,0.5871110222523553,0.05939368942049907,0.006805526912765519,0.14394720560940558,0.092699525675397,0.034646318828624456,0.019179212208702827,0.03650237162301515,0.024953598680140236,0.04062693338832749,0.31583831717879973,-0.4293726864138679,0.148926076290028],\"theta\":[\"Cus_mean_review_score\",\"Number_of_orders\",\"Recency\",\"Number_of_articles\",\"log_Spending\",\"cool_stuff\",\"pet_shop\",\"home_confort\",\"health_beauty\",\"electronics\",\"industry_commerce_construction\",\"arts_video_audio\",\"clothing_and_bags\",\"auto\",\"MUM_of_payment_a\",\"delay_delivery\",\"distance\",\"cluster_t2\",\"cluster_M0\"],\"type\":\"scatterpolar\"}],                        {\"template\":{\"data\":{\"bar\":[{\"error_x\":{\"color\":\"#2a3f5f\"},\"error_y\":{\"color\":\"#2a3f5f\"},\"marker\":{\"line\":{\"color\":\"#E5ECF6\",\"width\":0.5},\"pattern\":{\"fillmode\":\"overlay\",\"size\":10,\"solidity\":0.2}},\"type\":\"bar\"}],\"barpolar\":[{\"marker\":{\"line\":{\"color\":\"#E5ECF6\",\"width\":0.5},\"pattern\":{\"fillmode\":\"overlay\",\"size\":10,\"solidity\":0.2}},\"type\":\"barpolar\"}],\"carpet\":[{\"aaxis\":{\"endlinecolor\":\"#2a3f5f\",\"gridcolor\":\"white\",\"linecolor\":\"white\",\"minorgridcolor\":\"white\",\"startlinecolor\":\"#2a3f5f\"},\"baxis\":{\"endlinecolor\":\"#2a3f5f\",\"gridcolor\":\"white\",\"linecolor\":\"white\",\"minorgridcolor\":\"white\",\"startlinecolor\":\"#2a3f5f\"},\"type\":\"carpet\"}],\"choropleth\":[{\"colorbar\":{\"outlinewidth\":0,\"ticks\":\"\"},\"type\":\"choropleth\"}],\"contour\":[{\"colorbar\":{\"outlinewidth\":0,\"ticks\":\"\"},\"colorscale\":[[0.0,\"#0d0887\"],[0.1111111111111111,\"#46039f\"],[0.2222222222222222,\"#7201a8\"],[0.3333333333333333,\"#9c179e\"],[0.4444444444444444,\"#bd3786\"],[0.5555555555555556,\"#d8576b\"],[0.6666666666666666,\"#ed7953\"],[0.7777777777777778,\"#fb9f3a\"],[0.8888888888888888,\"#fdca26\"],[1.0,\"#f0f921\"]],\"type\":\"contour\"}],\"contourcarpet\":[{\"colorbar\":{\"outlinewidth\":0,\"ticks\":\"\"},\"type\":\"contourcarpet\"}],\"heatmap\":[{\"colorbar\":{\"outlinewidth\":0,\"ticks\":\"\"},\"colorscale\":[[0.0,\"#0d0887\"],[0.1111111111111111,\"#46039f\"],[0.2222222222222222,\"#7201a8\"],[0.3333333333333333,\"#9c179e\"],[0.4444444444444444,\"#bd3786\"],[0.5555555555555556,\"#d8576b\"],[0.6666666666666666,\"#ed7953\"],[0.7777777777777778,\"#fb9f3a\"],[0.8888888888888888,\"#fdca26\"],[1.0,\"#f0f921\"]],\"type\":\"heatmap\"}],\"heatmapgl\":[{\"colorbar\":{\"outlinewidth\":0,\"ticks\":\"\"},\"colorscale\":[[0.0,\"#0d0887\"],[0.1111111111111111,\"#46039f\"],[0.2222222222222222,\"#7201a8\"],[0.3333333333333333,\"#9c179e\"],[0.4444444444444444,\"#bd3786\"],[0.5555555555555556,\"#d8576b\"],[0.6666666666666666,\"#ed7953\"],[0.7777777777777778,\"#fb9f3a\"],[0.8888888888888888,\"#fdca26\"],[1.0,\"#f0f921\"]],\"type\":\"heatmapgl\"}],\"histogram\":[{\"marker\":{\"pattern\":{\"fillmode\":\"overlay\",\"size\":10,\"solidity\":0.2}},\"type\":\"histogram\"}],\"histogram2d\":[{\"colorbar\":{\"outlinewidth\":0,\"ticks\":\"\"},\"colorscale\":[[0.0,\"#0d0887\"],[0.1111111111111111,\"#46039f\"],[0.2222222222222222,\"#7201a8\"],[0.3333333333333333,\"#9c179e\"],[0.4444444444444444,\"#bd3786\"],[0.5555555555555556,\"#d8576b\"],[0.6666666666666666,\"#ed7953\"],[0.7777777777777778,\"#fb9f3a\"],[0.8888888888888888,\"#fdca26\"],[1.0,\"#f0f921\"]],\"type\":\"histogram2d\"}],\"histogram2dcontour\":[{\"colorbar\":{\"outlinewidth\":0,\"ticks\":\"\"},\"colorscale\":[[0.0,\"#0d0887\"],[0.1111111111111111,\"#46039f\"],[0.2222222222222222,\"#7201a8\"],[0.3333333333333333,\"#9c179e\"],[0.4444444444444444,\"#bd3786\"],[0.5555555555555556,\"#d8576b\"],[0.6666666666666666,\"#ed7953\"],[0.7777777777777778,\"#fb9f3a\"],[0.8888888888888888,\"#fdca26\"],[1.0,\"#f0f921\"]],\"type\":\"histogram2dcontour\"}],\"mesh3d\":[{\"colorbar\":{\"outlinewidth\":0,\"ticks\":\"\"},\"type\":\"mesh3d\"}],\"parcoords\":[{\"line\":{\"colorbar\":{\"outlinewidth\":0,\"ticks\":\"\"}},\"type\":\"parcoords\"}],\"pie\":[{\"automargin\":true,\"type\":\"pie\"}],\"scatter\":[{\"marker\":{\"colorbar\":{\"outlinewidth\":0,\"ticks\":\"\"}},\"type\":\"scatter\"}],\"scatter3d\":[{\"line\":{\"colorbar\":{\"outlinewidth\":0,\"ticks\":\"\"}},\"marker\":{\"colorbar\":{\"outlinewidth\":0,\"ticks\":\"\"}},\"type\":\"scatter3d\"}],\"scattercarpet\":[{\"marker\":{\"colorbar\":{\"outlinewidth\":0,\"ticks\":\"\"}},\"type\":\"scattercarpet\"}],\"scattergeo\":[{\"marker\":{\"colorbar\":{\"outlinewidth\":0,\"ticks\":\"\"}},\"type\":\"scattergeo\"}],\"scattergl\":[{\"marker\":{\"colorbar\":{\"outlinewidth\":0,\"ticks\":\"\"}},\"type\":\"scattergl\"}],\"scattermapbox\":[{\"marker\":{\"colorbar\":{\"outlinewidth\":0,\"ticks\":\"\"}},\"type\":\"scattermapbox\"}],\"scatterpolar\":[{\"marker\":{\"colorbar\":{\"outlinewidth\":0,\"ticks\":\"\"}},\"type\":\"scatterpolar\"}],\"scatterpolargl\":[{\"marker\":{\"colorbar\":{\"outlinewidth\":0,\"ticks\":\"\"}},\"type\":\"scatterpolargl\"}],\"scatterternary\":[{\"marker\":{\"colorbar\":{\"outlinewidth\":0,\"ticks\":\"\"}},\"type\":\"scatterternary\"}],\"surface\":[{\"colorbar\":{\"outlinewidth\":0,\"ticks\":\"\"},\"colorscale\":[[0.0,\"#0d0887\"],[0.1111111111111111,\"#46039f\"],[0.2222222222222222,\"#7201a8\"],[0.3333333333333333,\"#9c179e\"],[0.4444444444444444,\"#bd3786\"],[0.5555555555555556,\"#d8576b\"],[0.6666666666666666,\"#ed7953\"],[0.7777777777777778,\"#fb9f3a\"],[0.8888888888888888,\"#fdca26\"],[1.0,\"#f0f921\"]],\"type\":\"surface\"}],\"table\":[{\"cells\":{\"fill\":{\"color\":\"#EBF0F8\"},\"line\":{\"color\":\"white\"}},\"header\":{\"fill\":{\"color\":\"#C8D4E3\"},\"line\":{\"color\":\"white\"}},\"type\":\"table\"}]},\"layout\":{\"annotationdefaults\":{\"arrowcolor\":\"#2a3f5f\",\"arrowhead\":0,\"arrowwidth\":1},\"autotypenumbers\":\"strict\",\"coloraxis\":{\"colorbar\":{\"outlinewidth\":0,\"ticks\":\"\"}},\"colorscale\":{\"diverging\":[[0,\"#8e0152\"],[0.1,\"#c51b7d\"],[0.2,\"#de77ae\"],[0.3,\"#f1b6da\"],[0.4,\"#fde0ef\"],[0.5,\"#f7f7f7\"],[0.6,\"#e6f5d0\"],[0.7,\"#b8e186\"],[0.8,\"#7fbc41\"],[0.9,\"#4d9221\"],[1,\"#276419\"]],\"sequential\":[[0.0,\"#0d0887\"],[0.1111111111111111,\"#46039f\"],[0.2222222222222222,\"#7201a8\"],[0.3333333333333333,\"#9c179e\"],[0.4444444444444444,\"#bd3786\"],[0.5555555555555556,\"#d8576b\"],[0.6666666666666666,\"#ed7953\"],[0.7777777777777778,\"#fb9f3a\"],[0.8888888888888888,\"#fdca26\"],[1.0,\"#f0f921\"]],\"sequentialminus\":[[0.0,\"#0d0887\"],[0.1111111111111111,\"#46039f\"],[0.2222222222222222,\"#7201a8\"],[0.3333333333333333,\"#9c179e\"],[0.4444444444444444,\"#bd3786\"],[0.5555555555555556,\"#d8576b\"],[0.6666666666666666,\"#ed7953\"],[0.7777777777777778,\"#fb9f3a\"],[0.8888888888888888,\"#fdca26\"],[1.0,\"#f0f921\"]]},\"colorway\":[\"#636efa\",\"#EF553B\",\"#00cc96\",\"#ab63fa\",\"#FFA15A\",\"#19d3f3\",\"#FF6692\",\"#B6E880\",\"#FF97FF\",\"#FECB52\"],\"font\":{\"color\":\"#2a3f5f\"},\"geo\":{\"bgcolor\":\"white\",\"lakecolor\":\"white\",\"landcolor\":\"#E5ECF6\",\"showlakes\":true,\"showland\":true,\"subunitcolor\":\"white\"},\"hoverlabel\":{\"align\":\"left\"},\"hovermode\":\"closest\",\"mapbox\":{\"style\":\"light\"},\"paper_bgcolor\":\"white\",\"plot_bgcolor\":\"#E5ECF6\",\"polar\":{\"angularaxis\":{\"gridcolor\":\"white\",\"linecolor\":\"white\",\"ticks\":\"\"},\"bgcolor\":\"#E5ECF6\",\"radialaxis\":{\"gridcolor\":\"white\",\"linecolor\":\"white\",\"ticks\":\"\"}},\"scene\":{\"xaxis\":{\"backgroundcolor\":\"#E5ECF6\",\"gridcolor\":\"white\",\"gridwidth\":2,\"linecolor\":\"white\",\"showbackground\":true,\"ticks\":\"\",\"zerolinecolor\":\"white\"},\"yaxis\":{\"backgroundcolor\":\"#E5ECF6\",\"gridcolor\":\"white\",\"gridwidth\":2,\"linecolor\":\"white\",\"showbackground\":true,\"ticks\":\"\",\"zerolinecolor\":\"white\"},\"zaxis\":{\"backgroundcolor\":\"#E5ECF6\",\"gridcolor\":\"white\",\"gridwidth\":2,\"linecolor\":\"white\",\"showbackground\":true,\"ticks\":\"\",\"zerolinecolor\":\"white\"}},\"shapedefaults\":{\"line\":{\"color\":\"#2a3f5f\"}},\"ternary\":{\"aaxis\":{\"gridcolor\":\"white\",\"linecolor\":\"white\",\"ticks\":\"\"},\"baxis\":{\"gridcolor\":\"white\",\"linecolor\":\"white\",\"ticks\":\"\"},\"bgcolor\":\"#E5ECF6\",\"caxis\":{\"gridcolor\":\"white\",\"linecolor\":\"white\",\"ticks\":\"\"}},\"title\":{\"x\":0.05},\"xaxis\":{\"automargin\":true,\"gridcolor\":\"white\",\"linecolor\":\"white\",\"ticks\":\"\",\"title\":{\"standoff\":15},\"zerolinecolor\":\"white\",\"zerolinewidth\":2},\"yaxis\":{\"automargin\":true,\"gridcolor\":\"white\",\"linecolor\":\"white\",\"ticks\":\"\",\"title\":{\"standoff\":15},\"zerolinecolor\":\"white\",\"zerolinewidth\":2}}},\"polar\":{\"radialaxis\":{\"visible\":true,\"range\":[0,1]}},\"showlegend\":true},                        {\"responsive\": true}                    ).then(function(){\n",
       "                            \n",
       "var gd = document.getElementById('d1097b5d-cfbe-497d-be60-badbf9ccf039');\n",
       "var x = new MutationObserver(function (mutations, observer) {{\n",
       "        var display = window.getComputedStyle(gd).display;\n",
       "        if (!display || display === 'none') {{\n",
       "            console.log([gd, 'removed!']);\n",
       "            Plotly.purge(gd);\n",
       "            observer.disconnect();\n",
       "        }}\n",
       "}});\n",
       "\n",
       "// Listen for the removal of the full notebook cells\n",
       "var notebookContainer = gd.closest('#notebook-container');\n",
       "if (notebookContainer) {{\n",
       "    x.observe(notebookContainer, {childList: true});\n",
       "}}\n",
       "\n",
       "// Listen for the clearing of the current output cell\n",
       "var outputEl = gd.closest('.output');\n",
       "if (outputEl) {{\n",
       "    x.observe(outputEl, {childList: true});\n",
       "}}\n",
       "\n",
       "                        })                };                });            </script>        </div>"
      ]
     },
     "metadata": {},
     "output_type": "display_data"
    }
   ],
   "source": [
    "polarplt(df2, 'cluster_t2', selection)"
   ]
  },
  {
   "cell_type": "code",
   "execution_count": 215,
   "metadata": {},
   "outputs": [
    {
     "data": {
      "application/vnd.plotly.v1+json": {
       "config": {
        "plotlyServerURL": "https://plot.ly"
       },
       "data": [
        {
         "name": "cluster 3",
         "r": [
          0.843259449619895,
          0.5044437305921405,
          0.3300385668965702,
          0.15338136539548344,
          0.5826109855589902,
          0.15243296162022468,
          null,
          0.0022486347574686796,
          0.0005353892279687332,
          null,
          null,
          0.0005353892279687332,
          0.00064246707356248,
          0.00064246707356248,
          0.30158475211478747,
          0.19021353717586917,
          0.1414214664648369
         ],
         "theta": [
          "Cus_mean_review_score",
          "Number_of_orders",
          "Recency",
          "Number_of_articles",
          "log_Spending",
          "cool_stuff",
          "pet_shop",
          "home_confort",
          "health_beauty",
          "electronics",
          "industry_commerce_construction",
          "arts_video_audio",
          "clothing_and_bags",
          "auto",
          "MUM_of_payment_a",
          "delay_delivery",
          "distance",
          "cluster_t2",
          "cluster_M0"
         ],
         "type": "scatterpolar"
        },
        {
         "name": "cluster 4",
         "r": [
          0.8614501435168004,
          0.34581305378756944,
          0.2678724521622229,
          0.12300636465744358,
          0.5397908659368027,
          0.015911643579183826,
          0.0008423811306626732,
          0.001497566454511419,
          0.0009359790340696368,
          0.09038677533623737,
          0.00018719580681392738,
          0.008236615499812807,
          0.0008423811306626732,
          0.0005615874204417821,
          0.3683545488581056,
          0.24875483271069315,
          0.17114459559071485
         ],
         "theta": [
          "Cus_mean_review_score",
          "Number_of_orders",
          "Recency",
          "Number_of_articles",
          "log_Spending",
          "cool_stuff",
          "pet_shop",
          "home_confort",
          "health_beauty",
          "electronics",
          "industry_commerce_construction",
          "arts_video_audio",
          "clothing_and_bags",
          "auto",
          "MUM_of_payment_a",
          "delay_delivery",
          "distance",
          "cluster_t2",
          "cluster_M0"
         ],
         "type": "scatterpolar"
        },
        {
         "name": "cluster 0",
         "r": [
          0.31735911147677637,
          0.5009255450431921,
          0.16537039833855002,
          0.26815096668037847,
          0.5867464538845929,
          0.03290826820238585,
          0.005758946935417519,
          0.15960510078157136,
          0.1157959687371452,
          0.06550802139037433,
          0.019374742904154814,
          0.03784450843274383,
          0.014397367338543809,
          0.019796380090497737,
          0.31756478815302347,
          -0.3350085059603495,
          0.15484242817156918
         ],
         "theta": [
          "Cus_mean_review_score",
          "Number_of_orders",
          "Recency",
          "Number_of_articles",
          "log_Spending",
          "cool_stuff",
          "pet_shop",
          "home_confort",
          "health_beauty",
          "electronics",
          "industry_commerce_construction",
          "arts_video_audio",
          "clothing_and_bags",
          "auto",
          "MUM_of_payment_a",
          "delay_delivery",
          "distance",
          "cluster_t2",
          "cluster_M0"
         ],
         "type": "scatterpolar"
        },
        {
         "name": "cluster 7",
         "r": [
          0.866477328855036,
          0.5001481774177615,
          0.34228379399966147,
          0.21995455892514604,
          0.5931842060153075,
          0.0005433171984589549,
          0.01210115578385854,
          0.4074138101353354,
          0.00019756989034871086,
          0.0009878494517435543,
          0.004445322532845995,
          0.0384569791563781,
          null,
          0.018275214857255754,
          0.32390348710856465,
          0.15551161291662585,
          0.19090874860436507
         ],
         "theta": [
          "Cus_mean_review_score",
          "Number_of_orders",
          "Recency",
          "Number_of_articles",
          "log_Spending",
          "cool_stuff",
          "pet_shop",
          "home_confort",
          "health_beauty",
          "electronics",
          "industry_commerce_construction",
          "arts_video_audio",
          "clothing_and_bags",
          "auto",
          "MUM_of_payment_a",
          "delay_delivery",
          "distance",
          "cluster_t2",
          "cluster_M0"
         ],
         "type": "scatterpolar"
        },
        {
         "name": "cluster 8",
         "r": [
          0.801275440976934,
          0.20503542891602883,
          0.28829610515213777,
          0.1317438780125355,
          0.6756843757193162,
          0.022388059701492536,
          0.004070556309362279,
          0.025508819538670246,
          0.11785229695677521,
          0.012663952962460423,
          0.014586160108548168,
          0.023066485753052916,
          0.013229308005427409,
          0.007123473541383989,
          0.3093622795115332,
          0.2686269451330436,
          0.17990576675488706
         ],
         "theta": [
          "Cus_mean_review_score",
          "Number_of_orders",
          "Recency",
          "Number_of_articles",
          "log_Spending",
          "cool_stuff",
          "pet_shop",
          "home_confort",
          "health_beauty",
          "electronics",
          "industry_commerce_construction",
          "arts_video_audio",
          "clothing_and_bags",
          "auto",
          "MUM_of_payment_a",
          "delay_delivery",
          "distance",
          "cluster_t2",
          "cluster_M0"
         ],
         "type": "scatterpolar"
        },
        {
         "name": "cluster 1",
         "r": [
          0.865004413062687,
          0.5064724919093851,
          0.3226753908248439,
          0.1672130458538127,
          0.5848031550283499,
          0.004118858487790526,
          0.01491615180935579,
          0.03942335981170932,
          0.0033833480435422184,
          0.048984995586937335,
          0.049119839168382376,
          0.008311268020005884,
          0.005589879376287144,
          0.04427772874374802,
          0.2979552809649897,
          0.09772688587814157,
          0.2012058702723724
         ],
         "theta": [
          "Cus_mean_review_score",
          "Number_of_orders",
          "Recency",
          "Number_of_articles",
          "log_Spending",
          "cool_stuff",
          "pet_shop",
          "home_confort",
          "health_beauty",
          "electronics",
          "industry_commerce_construction",
          "arts_video_audio",
          "clothing_and_bags",
          "auto",
          "MUM_of_payment_a",
          "delay_delivery",
          "distance",
          "cluster_t2",
          "cluster_M0"
         ],
         "type": "scatterpolar"
        },
        {
         "name": "cluster 6",
         "r": [
          0.7392655495169101,
          0.18040458937198323,
          0.3118580098068492,
          0.16457201086956494,
          0.5882722427965165,
          0.00883152173913044,
          0.003979037267080746,
          0.1252830615942028,
          0.006114130434782609,
          0.005366847826086953,
          0.007411067193675895,
          0.003930512422360248,
          0.01188858695652174,
          0.0036231884057971006,
          0.31368885869565216,
          0.16454430542912635,
          0.1597222565706214
         ],
         "theta": [
          "Cus_mean_review_score",
          "Number_of_orders",
          "Recency",
          "Number_of_articles",
          "log_Spending",
          "cool_stuff",
          "pet_shop",
          "home_confort",
          "health_beauty",
          "electronics",
          "industry_commerce_construction",
          "arts_video_audio",
          "clothing_and_bags",
          "auto",
          "MUM_of_payment_a",
          "delay_delivery",
          "distance",
          "cluster_t2",
          "cluster_M0"
         ],
         "type": "scatterpolar"
        },
        {
         "name": "cluster 5",
         "r": [
          0.8895118964310742,
          0.5002186843946816,
          0.3222242557660602,
          0.3562806158153071,
          0.565282203992669,
          null,
          8.74737578726382e-05,
          0.0008747375787263821,
          0.533589923023093,
          0.0002624212736179146,
          null,
          0.0006123163051084675,
          null,
          8.74737578726382e-05,
          0.31648005598320506,
          0.11766757663948127,
          0.16691415693150166
         ],
         "theta": [
          "Cus_mean_review_score",
          "Number_of_orders",
          "Recency",
          "Number_of_articles",
          "log_Spending",
          "cool_stuff",
          "pet_shop",
          "home_confort",
          "health_beauty",
          "electronics",
          "industry_commerce_construction",
          "arts_video_audio",
          "clothing_and_bags",
          "auto",
          "MUM_of_payment_a",
          "delay_delivery",
          "distance",
          "cluster_t2",
          "cluster_M0"
         ],
         "type": "scatterpolar"
        },
        {
         "name": "cluster 2",
         "r": [
          0.8384333413021,
          0.26045900071718864,
          0.3383595134717781,
          0.11388955295243396,
          0.5982181635696824,
          0.006813291895768587,
          0.0007171886206072197,
          0.005259383217786278,
          0.0016734401147501792,
          0.0009562514941429596,
          0.0014343772412144394,
          0.0017929715515180493,
          0.11085345445852975,
          0.0008367200573750896,
          0.3172961989003108,
          0.2419483269936962,
          0.20124787956180412
         ],
         "theta": [
          "Cus_mean_review_score",
          "Number_of_orders",
          "Recency",
          "Number_of_articles",
          "log_Spending",
          "cool_stuff",
          "pet_shop",
          "home_confort",
          "health_beauty",
          "electronics",
          "industry_commerce_construction",
          "arts_video_audio",
          "clothing_and_bags",
          "auto",
          "MUM_of_payment_a",
          "delay_delivery",
          "distance",
          "cluster_t2",
          "cluster_M0"
         ],
         "type": "scatterpolar"
        }
       ],
       "layout": {
        "polar": {
         "radialaxis": {
          "range": [
           0,
           1
          ],
          "visible": true
         }
        },
        "showlegend": true,
        "template": {
         "data": {
          "bar": [
           {
            "error_x": {
             "color": "#2a3f5f"
            },
            "error_y": {
             "color": "#2a3f5f"
            },
            "marker": {
             "line": {
              "color": "#E5ECF6",
              "width": 0.5
             },
             "pattern": {
              "fillmode": "overlay",
              "size": 10,
              "solidity": 0.2
             }
            },
            "type": "bar"
           }
          ],
          "barpolar": [
           {
            "marker": {
             "line": {
              "color": "#E5ECF6",
              "width": 0.5
             },
             "pattern": {
              "fillmode": "overlay",
              "size": 10,
              "solidity": 0.2
             }
            },
            "type": "barpolar"
           }
          ],
          "carpet": [
           {
            "aaxis": {
             "endlinecolor": "#2a3f5f",
             "gridcolor": "white",
             "linecolor": "white",
             "minorgridcolor": "white",
             "startlinecolor": "#2a3f5f"
            },
            "baxis": {
             "endlinecolor": "#2a3f5f",
             "gridcolor": "white",
             "linecolor": "white",
             "minorgridcolor": "white",
             "startlinecolor": "#2a3f5f"
            },
            "type": "carpet"
           }
          ],
          "choropleth": [
           {
            "colorbar": {
             "outlinewidth": 0,
             "ticks": ""
            },
            "type": "choropleth"
           }
          ],
          "contour": [
           {
            "colorbar": {
             "outlinewidth": 0,
             "ticks": ""
            },
            "colorscale": [
             [
              0,
              "#0d0887"
             ],
             [
              0.1111111111111111,
              "#46039f"
             ],
             [
              0.2222222222222222,
              "#7201a8"
             ],
             [
              0.3333333333333333,
              "#9c179e"
             ],
             [
              0.4444444444444444,
              "#bd3786"
             ],
             [
              0.5555555555555556,
              "#d8576b"
             ],
             [
              0.6666666666666666,
              "#ed7953"
             ],
             [
              0.7777777777777778,
              "#fb9f3a"
             ],
             [
              0.8888888888888888,
              "#fdca26"
             ],
             [
              1,
              "#f0f921"
             ]
            ],
            "type": "contour"
           }
          ],
          "contourcarpet": [
           {
            "colorbar": {
             "outlinewidth": 0,
             "ticks": ""
            },
            "type": "contourcarpet"
           }
          ],
          "heatmap": [
           {
            "colorbar": {
             "outlinewidth": 0,
             "ticks": ""
            },
            "colorscale": [
             [
              0,
              "#0d0887"
             ],
             [
              0.1111111111111111,
              "#46039f"
             ],
             [
              0.2222222222222222,
              "#7201a8"
             ],
             [
              0.3333333333333333,
              "#9c179e"
             ],
             [
              0.4444444444444444,
              "#bd3786"
             ],
             [
              0.5555555555555556,
              "#d8576b"
             ],
             [
              0.6666666666666666,
              "#ed7953"
             ],
             [
              0.7777777777777778,
              "#fb9f3a"
             ],
             [
              0.8888888888888888,
              "#fdca26"
             ],
             [
              1,
              "#f0f921"
             ]
            ],
            "type": "heatmap"
           }
          ],
          "heatmapgl": [
           {
            "colorbar": {
             "outlinewidth": 0,
             "ticks": ""
            },
            "colorscale": [
             [
              0,
              "#0d0887"
             ],
             [
              0.1111111111111111,
              "#46039f"
             ],
             [
              0.2222222222222222,
              "#7201a8"
             ],
             [
              0.3333333333333333,
              "#9c179e"
             ],
             [
              0.4444444444444444,
              "#bd3786"
             ],
             [
              0.5555555555555556,
              "#d8576b"
             ],
             [
              0.6666666666666666,
              "#ed7953"
             ],
             [
              0.7777777777777778,
              "#fb9f3a"
             ],
             [
              0.8888888888888888,
              "#fdca26"
             ],
             [
              1,
              "#f0f921"
             ]
            ],
            "type": "heatmapgl"
           }
          ],
          "histogram": [
           {
            "marker": {
             "pattern": {
              "fillmode": "overlay",
              "size": 10,
              "solidity": 0.2
             }
            },
            "type": "histogram"
           }
          ],
          "histogram2d": [
           {
            "colorbar": {
             "outlinewidth": 0,
             "ticks": ""
            },
            "colorscale": [
             [
              0,
              "#0d0887"
             ],
             [
              0.1111111111111111,
              "#46039f"
             ],
             [
              0.2222222222222222,
              "#7201a8"
             ],
             [
              0.3333333333333333,
              "#9c179e"
             ],
             [
              0.4444444444444444,
              "#bd3786"
             ],
             [
              0.5555555555555556,
              "#d8576b"
             ],
             [
              0.6666666666666666,
              "#ed7953"
             ],
             [
              0.7777777777777778,
              "#fb9f3a"
             ],
             [
              0.8888888888888888,
              "#fdca26"
             ],
             [
              1,
              "#f0f921"
             ]
            ],
            "type": "histogram2d"
           }
          ],
          "histogram2dcontour": [
           {
            "colorbar": {
             "outlinewidth": 0,
             "ticks": ""
            },
            "colorscale": [
             [
              0,
              "#0d0887"
             ],
             [
              0.1111111111111111,
              "#46039f"
             ],
             [
              0.2222222222222222,
              "#7201a8"
             ],
             [
              0.3333333333333333,
              "#9c179e"
             ],
             [
              0.4444444444444444,
              "#bd3786"
             ],
             [
              0.5555555555555556,
              "#d8576b"
             ],
             [
              0.6666666666666666,
              "#ed7953"
             ],
             [
              0.7777777777777778,
              "#fb9f3a"
             ],
             [
              0.8888888888888888,
              "#fdca26"
             ],
             [
              1,
              "#f0f921"
             ]
            ],
            "type": "histogram2dcontour"
           }
          ],
          "mesh3d": [
           {
            "colorbar": {
             "outlinewidth": 0,
             "ticks": ""
            },
            "type": "mesh3d"
           }
          ],
          "parcoords": [
           {
            "line": {
             "colorbar": {
              "outlinewidth": 0,
              "ticks": ""
             }
            },
            "type": "parcoords"
           }
          ],
          "pie": [
           {
            "automargin": true,
            "type": "pie"
           }
          ],
          "scatter": [
           {
            "marker": {
             "colorbar": {
              "outlinewidth": 0,
              "ticks": ""
             }
            },
            "type": "scatter"
           }
          ],
          "scatter3d": [
           {
            "line": {
             "colorbar": {
              "outlinewidth": 0,
              "ticks": ""
             }
            },
            "marker": {
             "colorbar": {
              "outlinewidth": 0,
              "ticks": ""
             }
            },
            "type": "scatter3d"
           }
          ],
          "scattercarpet": [
           {
            "marker": {
             "colorbar": {
              "outlinewidth": 0,
              "ticks": ""
             }
            },
            "type": "scattercarpet"
           }
          ],
          "scattergeo": [
           {
            "marker": {
             "colorbar": {
              "outlinewidth": 0,
              "ticks": ""
             }
            },
            "type": "scattergeo"
           }
          ],
          "scattergl": [
           {
            "marker": {
             "colorbar": {
              "outlinewidth": 0,
              "ticks": ""
             }
            },
            "type": "scattergl"
           }
          ],
          "scattermapbox": [
           {
            "marker": {
             "colorbar": {
              "outlinewidth": 0,
              "ticks": ""
             }
            },
            "type": "scattermapbox"
           }
          ],
          "scatterpolar": [
           {
            "marker": {
             "colorbar": {
              "outlinewidth": 0,
              "ticks": ""
             }
            },
            "type": "scatterpolar"
           }
          ],
          "scatterpolargl": [
           {
            "marker": {
             "colorbar": {
              "outlinewidth": 0,
              "ticks": ""
             }
            },
            "type": "scatterpolargl"
           }
          ],
          "scatterternary": [
           {
            "marker": {
             "colorbar": {
              "outlinewidth": 0,
              "ticks": ""
             }
            },
            "type": "scatterternary"
           }
          ],
          "surface": [
           {
            "colorbar": {
             "outlinewidth": 0,
             "ticks": ""
            },
            "colorscale": [
             [
              0,
              "#0d0887"
             ],
             [
              0.1111111111111111,
              "#46039f"
             ],
             [
              0.2222222222222222,
              "#7201a8"
             ],
             [
              0.3333333333333333,
              "#9c179e"
             ],
             [
              0.4444444444444444,
              "#bd3786"
             ],
             [
              0.5555555555555556,
              "#d8576b"
             ],
             [
              0.6666666666666666,
              "#ed7953"
             ],
             [
              0.7777777777777778,
              "#fb9f3a"
             ],
             [
              0.8888888888888888,
              "#fdca26"
             ],
             [
              1,
              "#f0f921"
             ]
            ],
            "type": "surface"
           }
          ],
          "table": [
           {
            "cells": {
             "fill": {
              "color": "#EBF0F8"
             },
             "line": {
              "color": "white"
             }
            },
            "header": {
             "fill": {
              "color": "#C8D4E3"
             },
             "line": {
              "color": "white"
             }
            },
            "type": "table"
           }
          ]
         },
         "layout": {
          "annotationdefaults": {
           "arrowcolor": "#2a3f5f",
           "arrowhead": 0,
           "arrowwidth": 1
          },
          "autotypenumbers": "strict",
          "coloraxis": {
           "colorbar": {
            "outlinewidth": 0,
            "ticks": ""
           }
          },
          "colorscale": {
           "diverging": [
            [
             0,
             "#8e0152"
            ],
            [
             0.1,
             "#c51b7d"
            ],
            [
             0.2,
             "#de77ae"
            ],
            [
             0.3,
             "#f1b6da"
            ],
            [
             0.4,
             "#fde0ef"
            ],
            [
             0.5,
             "#f7f7f7"
            ],
            [
             0.6,
             "#e6f5d0"
            ],
            [
             0.7,
             "#b8e186"
            ],
            [
             0.8,
             "#7fbc41"
            ],
            [
             0.9,
             "#4d9221"
            ],
            [
             1,
             "#276419"
            ]
           ],
           "sequential": [
            [
             0,
             "#0d0887"
            ],
            [
             0.1111111111111111,
             "#46039f"
            ],
            [
             0.2222222222222222,
             "#7201a8"
            ],
            [
             0.3333333333333333,
             "#9c179e"
            ],
            [
             0.4444444444444444,
             "#bd3786"
            ],
            [
             0.5555555555555556,
             "#d8576b"
            ],
            [
             0.6666666666666666,
             "#ed7953"
            ],
            [
             0.7777777777777778,
             "#fb9f3a"
            ],
            [
             0.8888888888888888,
             "#fdca26"
            ],
            [
             1,
             "#f0f921"
            ]
           ],
           "sequentialminus": [
            [
             0,
             "#0d0887"
            ],
            [
             0.1111111111111111,
             "#46039f"
            ],
            [
             0.2222222222222222,
             "#7201a8"
            ],
            [
             0.3333333333333333,
             "#9c179e"
            ],
            [
             0.4444444444444444,
             "#bd3786"
            ],
            [
             0.5555555555555556,
             "#d8576b"
            ],
            [
             0.6666666666666666,
             "#ed7953"
            ],
            [
             0.7777777777777778,
             "#fb9f3a"
            ],
            [
             0.8888888888888888,
             "#fdca26"
            ],
            [
             1,
             "#f0f921"
            ]
           ]
          },
          "colorway": [
           "#636efa",
           "#EF553B",
           "#00cc96",
           "#ab63fa",
           "#FFA15A",
           "#19d3f3",
           "#FF6692",
           "#B6E880",
           "#FF97FF",
           "#FECB52"
          ],
          "font": {
           "color": "#2a3f5f"
          },
          "geo": {
           "bgcolor": "white",
           "lakecolor": "white",
           "landcolor": "#E5ECF6",
           "showlakes": true,
           "showland": true,
           "subunitcolor": "white"
          },
          "hoverlabel": {
           "align": "left"
          },
          "hovermode": "closest",
          "mapbox": {
           "style": "light"
          },
          "paper_bgcolor": "white",
          "plot_bgcolor": "#E5ECF6",
          "polar": {
           "angularaxis": {
            "gridcolor": "white",
            "linecolor": "white",
            "ticks": ""
           },
           "bgcolor": "#E5ECF6",
           "radialaxis": {
            "gridcolor": "white",
            "linecolor": "white",
            "ticks": ""
           }
          },
          "scene": {
           "xaxis": {
            "backgroundcolor": "#E5ECF6",
            "gridcolor": "white",
            "gridwidth": 2,
            "linecolor": "white",
            "showbackground": true,
            "ticks": "",
            "zerolinecolor": "white"
           },
           "yaxis": {
            "backgroundcolor": "#E5ECF6",
            "gridcolor": "white",
            "gridwidth": 2,
            "linecolor": "white",
            "showbackground": true,
            "ticks": "",
            "zerolinecolor": "white"
           },
           "zaxis": {
            "backgroundcolor": "#E5ECF6",
            "gridcolor": "white",
            "gridwidth": 2,
            "linecolor": "white",
            "showbackground": true,
            "ticks": "",
            "zerolinecolor": "white"
           }
          },
          "shapedefaults": {
           "line": {
            "color": "#2a3f5f"
           }
          },
          "ternary": {
           "aaxis": {
            "gridcolor": "white",
            "linecolor": "white",
            "ticks": ""
           },
           "baxis": {
            "gridcolor": "white",
            "linecolor": "white",
            "ticks": ""
           },
           "bgcolor": "#E5ECF6",
           "caxis": {
            "gridcolor": "white",
            "linecolor": "white",
            "ticks": ""
           }
          },
          "title": {
           "x": 0.05
          },
          "xaxis": {
           "automargin": true,
           "gridcolor": "white",
           "linecolor": "white",
           "ticks": "",
           "title": {
            "standoff": 15
           },
           "zerolinecolor": "white",
           "zerolinewidth": 2
          },
          "yaxis": {
           "automargin": true,
           "gridcolor": "white",
           "linecolor": "white",
           "ticks": "",
           "title": {
            "standoff": 15
           },
           "zerolinecolor": "white",
           "zerolinewidth": 2
          }
         }
        }
       }
      },
      "text/html": [
       "<div>                            <div id=\"e1e65852-e63e-4c14-af8b-af466c24a5e5\" class=\"plotly-graph-div\" style=\"height:525px; width:100%;\"></div>            <script type=\"text/javascript\">                require([\"plotly\"], function(Plotly) {                    window.PLOTLYENV=window.PLOTLYENV || {};                                    if (document.getElementById(\"e1e65852-e63e-4c14-af8b-af466c24a5e5\")) {                    Plotly.newPlot(                        \"e1e65852-e63e-4c14-af8b-af466c24a5e5\",                        [{\"name\":\"cluster 3\",\"r\":[0.843259449619895,0.5044437305921405,0.3300385668965702,0.15338136539548344,0.5826109855589902,0.15243296162022468,null,0.0022486347574686796,0.0005353892279687332,null,null,0.0005353892279687332,0.00064246707356248,0.00064246707356248,0.30158475211478747,0.19021353717586917,0.1414214664648369],\"theta\":[\"Cus_mean_review_score\",\"Number_of_orders\",\"Recency\",\"Number_of_articles\",\"log_Spending\",\"cool_stuff\",\"pet_shop\",\"home_confort\",\"health_beauty\",\"electronics\",\"industry_commerce_construction\",\"arts_video_audio\",\"clothing_and_bags\",\"auto\",\"MUM_of_payment_a\",\"delay_delivery\",\"distance\",\"cluster_t2\",\"cluster_M0\"],\"type\":\"scatterpolar\"},{\"name\":\"cluster 4\",\"r\":[0.8614501435168004,0.34581305378756944,0.2678724521622229,0.12300636465744358,0.5397908659368027,0.015911643579183826,0.0008423811306626732,0.001497566454511419,0.0009359790340696368,0.09038677533623737,0.00018719580681392738,0.008236615499812807,0.0008423811306626732,0.0005615874204417821,0.3683545488581056,0.24875483271069315,0.17114459559071485],\"theta\":[\"Cus_mean_review_score\",\"Number_of_orders\",\"Recency\",\"Number_of_articles\",\"log_Spending\",\"cool_stuff\",\"pet_shop\",\"home_confort\",\"health_beauty\",\"electronics\",\"industry_commerce_construction\",\"arts_video_audio\",\"clothing_and_bags\",\"auto\",\"MUM_of_payment_a\",\"delay_delivery\",\"distance\",\"cluster_t2\",\"cluster_M0\"],\"type\":\"scatterpolar\"},{\"name\":\"cluster 0\",\"r\":[0.31735911147677637,0.5009255450431921,0.16537039833855002,0.26815096668037847,0.5867464538845929,0.03290826820238585,0.005758946935417519,0.15960510078157136,0.1157959687371452,0.06550802139037433,0.019374742904154814,0.03784450843274383,0.014397367338543809,0.019796380090497737,0.31756478815302347,-0.3350085059603495,0.15484242817156918],\"theta\":[\"Cus_mean_review_score\",\"Number_of_orders\",\"Recency\",\"Number_of_articles\",\"log_Spending\",\"cool_stuff\",\"pet_shop\",\"home_confort\",\"health_beauty\",\"electronics\",\"industry_commerce_construction\",\"arts_video_audio\",\"clothing_and_bags\",\"auto\",\"MUM_of_payment_a\",\"delay_delivery\",\"distance\",\"cluster_t2\",\"cluster_M0\"],\"type\":\"scatterpolar\"},{\"name\":\"cluster 7\",\"r\":[0.866477328855036,0.5001481774177615,0.34228379399966147,0.21995455892514604,0.5931842060153075,0.0005433171984589549,0.01210115578385854,0.4074138101353354,0.00019756989034871086,0.0009878494517435543,0.004445322532845995,0.0384569791563781,null,0.018275214857255754,0.32390348710856465,0.15551161291662585,0.19090874860436507],\"theta\":[\"Cus_mean_review_score\",\"Number_of_orders\",\"Recency\",\"Number_of_articles\",\"log_Spending\",\"cool_stuff\",\"pet_shop\",\"home_confort\",\"health_beauty\",\"electronics\",\"industry_commerce_construction\",\"arts_video_audio\",\"clothing_and_bags\",\"auto\",\"MUM_of_payment_a\",\"delay_delivery\",\"distance\",\"cluster_t2\",\"cluster_M0\"],\"type\":\"scatterpolar\"},{\"name\":\"cluster 8\",\"r\":[0.801275440976934,0.20503542891602883,0.28829610515213777,0.1317438780125355,0.6756843757193162,0.022388059701492536,0.004070556309362279,0.025508819538670246,0.11785229695677521,0.012663952962460423,0.014586160108548168,0.023066485753052916,0.013229308005427409,0.007123473541383989,0.3093622795115332,0.2686269451330436,0.17990576675488706],\"theta\":[\"Cus_mean_review_score\",\"Number_of_orders\",\"Recency\",\"Number_of_articles\",\"log_Spending\",\"cool_stuff\",\"pet_shop\",\"home_confort\",\"health_beauty\",\"electronics\",\"industry_commerce_construction\",\"arts_video_audio\",\"clothing_and_bags\",\"auto\",\"MUM_of_payment_a\",\"delay_delivery\",\"distance\",\"cluster_t2\",\"cluster_M0\"],\"type\":\"scatterpolar\"},{\"name\":\"cluster 1\",\"r\":[0.865004413062687,0.5064724919093851,0.3226753908248439,0.1672130458538127,0.5848031550283499,0.004118858487790526,0.01491615180935579,0.03942335981170932,0.0033833480435422184,0.048984995586937335,0.049119839168382376,0.008311268020005884,0.005589879376287144,0.04427772874374802,0.2979552809649897,0.09772688587814157,0.2012058702723724],\"theta\":[\"Cus_mean_review_score\",\"Number_of_orders\",\"Recency\",\"Number_of_articles\",\"log_Spending\",\"cool_stuff\",\"pet_shop\",\"home_confort\",\"health_beauty\",\"electronics\",\"industry_commerce_construction\",\"arts_video_audio\",\"clothing_and_bags\",\"auto\",\"MUM_of_payment_a\",\"delay_delivery\",\"distance\",\"cluster_t2\",\"cluster_M0\"],\"type\":\"scatterpolar\"},{\"name\":\"cluster 6\",\"r\":[0.7392655495169101,0.18040458937198323,0.3118580098068492,0.16457201086956494,0.5882722427965165,0.00883152173913044,0.003979037267080746,0.1252830615942028,0.006114130434782609,0.005366847826086953,0.007411067193675895,0.003930512422360248,0.01188858695652174,0.0036231884057971006,0.31368885869565216,0.16454430542912635,0.1597222565706214],\"theta\":[\"Cus_mean_review_score\",\"Number_of_orders\",\"Recency\",\"Number_of_articles\",\"log_Spending\",\"cool_stuff\",\"pet_shop\",\"home_confort\",\"health_beauty\",\"electronics\",\"industry_commerce_construction\",\"arts_video_audio\",\"clothing_and_bags\",\"auto\",\"MUM_of_payment_a\",\"delay_delivery\",\"distance\",\"cluster_t2\",\"cluster_M0\"],\"type\":\"scatterpolar\"},{\"name\":\"cluster 5\",\"r\":[0.8895118964310742,0.5002186843946816,0.3222242557660602,0.3562806158153071,0.565282203992669,null,8.74737578726382e-05,0.0008747375787263821,0.533589923023093,0.0002624212736179146,null,0.0006123163051084675,null,8.74737578726382e-05,0.31648005598320506,0.11766757663948127,0.16691415693150166],\"theta\":[\"Cus_mean_review_score\",\"Number_of_orders\",\"Recency\",\"Number_of_articles\",\"log_Spending\",\"cool_stuff\",\"pet_shop\",\"home_confort\",\"health_beauty\",\"electronics\",\"industry_commerce_construction\",\"arts_video_audio\",\"clothing_and_bags\",\"auto\",\"MUM_of_payment_a\",\"delay_delivery\",\"distance\",\"cluster_t2\",\"cluster_M0\"],\"type\":\"scatterpolar\"},{\"name\":\"cluster 2\",\"r\":[0.8384333413021,0.26045900071718864,0.3383595134717781,0.11388955295243396,0.5982181635696824,0.006813291895768587,0.0007171886206072197,0.005259383217786278,0.0016734401147501792,0.0009562514941429596,0.0014343772412144394,0.0017929715515180493,0.11085345445852975,0.0008367200573750896,0.3172961989003108,0.2419483269936962,0.20124787956180412],\"theta\":[\"Cus_mean_review_score\",\"Number_of_orders\",\"Recency\",\"Number_of_articles\",\"log_Spending\",\"cool_stuff\",\"pet_shop\",\"home_confort\",\"health_beauty\",\"electronics\",\"industry_commerce_construction\",\"arts_video_audio\",\"clothing_and_bags\",\"auto\",\"MUM_of_payment_a\",\"delay_delivery\",\"distance\",\"cluster_t2\",\"cluster_M0\"],\"type\":\"scatterpolar\"}],                        {\"template\":{\"data\":{\"bar\":[{\"error_x\":{\"color\":\"#2a3f5f\"},\"error_y\":{\"color\":\"#2a3f5f\"},\"marker\":{\"line\":{\"color\":\"#E5ECF6\",\"width\":0.5},\"pattern\":{\"fillmode\":\"overlay\",\"size\":10,\"solidity\":0.2}},\"type\":\"bar\"}],\"barpolar\":[{\"marker\":{\"line\":{\"color\":\"#E5ECF6\",\"width\":0.5},\"pattern\":{\"fillmode\":\"overlay\",\"size\":10,\"solidity\":0.2}},\"type\":\"barpolar\"}],\"carpet\":[{\"aaxis\":{\"endlinecolor\":\"#2a3f5f\",\"gridcolor\":\"white\",\"linecolor\":\"white\",\"minorgridcolor\":\"white\",\"startlinecolor\":\"#2a3f5f\"},\"baxis\":{\"endlinecolor\":\"#2a3f5f\",\"gridcolor\":\"white\",\"linecolor\":\"white\",\"minorgridcolor\":\"white\",\"startlinecolor\":\"#2a3f5f\"},\"type\":\"carpet\"}],\"choropleth\":[{\"colorbar\":{\"outlinewidth\":0,\"ticks\":\"\"},\"type\":\"choropleth\"}],\"contour\":[{\"colorbar\":{\"outlinewidth\":0,\"ticks\":\"\"},\"colorscale\":[[0.0,\"#0d0887\"],[0.1111111111111111,\"#46039f\"],[0.2222222222222222,\"#7201a8\"],[0.3333333333333333,\"#9c179e\"],[0.4444444444444444,\"#bd3786\"],[0.5555555555555556,\"#d8576b\"],[0.6666666666666666,\"#ed7953\"],[0.7777777777777778,\"#fb9f3a\"],[0.8888888888888888,\"#fdca26\"],[1.0,\"#f0f921\"]],\"type\":\"contour\"}],\"contourcarpet\":[{\"colorbar\":{\"outlinewidth\":0,\"ticks\":\"\"},\"type\":\"contourcarpet\"}],\"heatmap\":[{\"colorbar\":{\"outlinewidth\":0,\"ticks\":\"\"},\"colorscale\":[[0.0,\"#0d0887\"],[0.1111111111111111,\"#46039f\"],[0.2222222222222222,\"#7201a8\"],[0.3333333333333333,\"#9c179e\"],[0.4444444444444444,\"#bd3786\"],[0.5555555555555556,\"#d8576b\"],[0.6666666666666666,\"#ed7953\"],[0.7777777777777778,\"#fb9f3a\"],[0.8888888888888888,\"#fdca26\"],[1.0,\"#f0f921\"]],\"type\":\"heatmap\"}],\"heatmapgl\":[{\"colorbar\":{\"outlinewidth\":0,\"ticks\":\"\"},\"colorscale\":[[0.0,\"#0d0887\"],[0.1111111111111111,\"#46039f\"],[0.2222222222222222,\"#7201a8\"],[0.3333333333333333,\"#9c179e\"],[0.4444444444444444,\"#bd3786\"],[0.5555555555555556,\"#d8576b\"],[0.6666666666666666,\"#ed7953\"],[0.7777777777777778,\"#fb9f3a\"],[0.8888888888888888,\"#fdca26\"],[1.0,\"#f0f921\"]],\"type\":\"heatmapgl\"}],\"histogram\":[{\"marker\":{\"pattern\":{\"fillmode\":\"overlay\",\"size\":10,\"solidity\":0.2}},\"type\":\"histogram\"}],\"histogram2d\":[{\"colorbar\":{\"outlinewidth\":0,\"ticks\":\"\"},\"colorscale\":[[0.0,\"#0d0887\"],[0.1111111111111111,\"#46039f\"],[0.2222222222222222,\"#7201a8\"],[0.3333333333333333,\"#9c179e\"],[0.4444444444444444,\"#bd3786\"],[0.5555555555555556,\"#d8576b\"],[0.6666666666666666,\"#ed7953\"],[0.7777777777777778,\"#fb9f3a\"],[0.8888888888888888,\"#fdca26\"],[1.0,\"#f0f921\"]],\"type\":\"histogram2d\"}],\"histogram2dcontour\":[{\"colorbar\":{\"outlinewidth\":0,\"ticks\":\"\"},\"colorscale\":[[0.0,\"#0d0887\"],[0.1111111111111111,\"#46039f\"],[0.2222222222222222,\"#7201a8\"],[0.3333333333333333,\"#9c179e\"],[0.4444444444444444,\"#bd3786\"],[0.5555555555555556,\"#d8576b\"],[0.6666666666666666,\"#ed7953\"],[0.7777777777777778,\"#fb9f3a\"],[0.8888888888888888,\"#fdca26\"],[1.0,\"#f0f921\"]],\"type\":\"histogram2dcontour\"}],\"mesh3d\":[{\"colorbar\":{\"outlinewidth\":0,\"ticks\":\"\"},\"type\":\"mesh3d\"}],\"parcoords\":[{\"line\":{\"colorbar\":{\"outlinewidth\":0,\"ticks\":\"\"}},\"type\":\"parcoords\"}],\"pie\":[{\"automargin\":true,\"type\":\"pie\"}],\"scatter\":[{\"marker\":{\"colorbar\":{\"outlinewidth\":0,\"ticks\":\"\"}},\"type\":\"scatter\"}],\"scatter3d\":[{\"line\":{\"colorbar\":{\"outlinewidth\":0,\"ticks\":\"\"}},\"marker\":{\"colorbar\":{\"outlinewidth\":0,\"ticks\":\"\"}},\"type\":\"scatter3d\"}],\"scattercarpet\":[{\"marker\":{\"colorbar\":{\"outlinewidth\":0,\"ticks\":\"\"}},\"type\":\"scattercarpet\"}],\"scattergeo\":[{\"marker\":{\"colorbar\":{\"outlinewidth\":0,\"ticks\":\"\"}},\"type\":\"scattergeo\"}],\"scattergl\":[{\"marker\":{\"colorbar\":{\"outlinewidth\":0,\"ticks\":\"\"}},\"type\":\"scattergl\"}],\"scattermapbox\":[{\"marker\":{\"colorbar\":{\"outlinewidth\":0,\"ticks\":\"\"}},\"type\":\"scattermapbox\"}],\"scatterpolar\":[{\"marker\":{\"colorbar\":{\"outlinewidth\":0,\"ticks\":\"\"}},\"type\":\"scatterpolar\"}],\"scatterpolargl\":[{\"marker\":{\"colorbar\":{\"outlinewidth\":0,\"ticks\":\"\"}},\"type\":\"scatterpolargl\"}],\"scatterternary\":[{\"marker\":{\"colorbar\":{\"outlinewidth\":0,\"ticks\":\"\"}},\"type\":\"scatterternary\"}],\"surface\":[{\"colorbar\":{\"outlinewidth\":0,\"ticks\":\"\"},\"colorscale\":[[0.0,\"#0d0887\"],[0.1111111111111111,\"#46039f\"],[0.2222222222222222,\"#7201a8\"],[0.3333333333333333,\"#9c179e\"],[0.4444444444444444,\"#bd3786\"],[0.5555555555555556,\"#d8576b\"],[0.6666666666666666,\"#ed7953\"],[0.7777777777777778,\"#fb9f3a\"],[0.8888888888888888,\"#fdca26\"],[1.0,\"#f0f921\"]],\"type\":\"surface\"}],\"table\":[{\"cells\":{\"fill\":{\"color\":\"#EBF0F8\"},\"line\":{\"color\":\"white\"}},\"header\":{\"fill\":{\"color\":\"#C8D4E3\"},\"line\":{\"color\":\"white\"}},\"type\":\"table\"}]},\"layout\":{\"annotationdefaults\":{\"arrowcolor\":\"#2a3f5f\",\"arrowhead\":0,\"arrowwidth\":1},\"autotypenumbers\":\"strict\",\"coloraxis\":{\"colorbar\":{\"outlinewidth\":0,\"ticks\":\"\"}},\"colorscale\":{\"diverging\":[[0,\"#8e0152\"],[0.1,\"#c51b7d\"],[0.2,\"#de77ae\"],[0.3,\"#f1b6da\"],[0.4,\"#fde0ef\"],[0.5,\"#f7f7f7\"],[0.6,\"#e6f5d0\"],[0.7,\"#b8e186\"],[0.8,\"#7fbc41\"],[0.9,\"#4d9221\"],[1,\"#276419\"]],\"sequential\":[[0.0,\"#0d0887\"],[0.1111111111111111,\"#46039f\"],[0.2222222222222222,\"#7201a8\"],[0.3333333333333333,\"#9c179e\"],[0.4444444444444444,\"#bd3786\"],[0.5555555555555556,\"#d8576b\"],[0.6666666666666666,\"#ed7953\"],[0.7777777777777778,\"#fb9f3a\"],[0.8888888888888888,\"#fdca26\"],[1.0,\"#f0f921\"]],\"sequentialminus\":[[0.0,\"#0d0887\"],[0.1111111111111111,\"#46039f\"],[0.2222222222222222,\"#7201a8\"],[0.3333333333333333,\"#9c179e\"],[0.4444444444444444,\"#bd3786\"],[0.5555555555555556,\"#d8576b\"],[0.6666666666666666,\"#ed7953\"],[0.7777777777777778,\"#fb9f3a\"],[0.8888888888888888,\"#fdca26\"],[1.0,\"#f0f921\"]]},\"colorway\":[\"#636efa\",\"#EF553B\",\"#00cc96\",\"#ab63fa\",\"#FFA15A\",\"#19d3f3\",\"#FF6692\",\"#B6E880\",\"#FF97FF\",\"#FECB52\"],\"font\":{\"color\":\"#2a3f5f\"},\"geo\":{\"bgcolor\":\"white\",\"lakecolor\":\"white\",\"landcolor\":\"#E5ECF6\",\"showlakes\":true,\"showland\":true,\"subunitcolor\":\"white\"},\"hoverlabel\":{\"align\":\"left\"},\"hovermode\":\"closest\",\"mapbox\":{\"style\":\"light\"},\"paper_bgcolor\":\"white\",\"plot_bgcolor\":\"#E5ECF6\",\"polar\":{\"angularaxis\":{\"gridcolor\":\"white\",\"linecolor\":\"white\",\"ticks\":\"\"},\"bgcolor\":\"#E5ECF6\",\"radialaxis\":{\"gridcolor\":\"white\",\"linecolor\":\"white\",\"ticks\":\"\"}},\"scene\":{\"xaxis\":{\"backgroundcolor\":\"#E5ECF6\",\"gridcolor\":\"white\",\"gridwidth\":2,\"linecolor\":\"white\",\"showbackground\":true,\"ticks\":\"\",\"zerolinecolor\":\"white\"},\"yaxis\":{\"backgroundcolor\":\"#E5ECF6\",\"gridcolor\":\"white\",\"gridwidth\":2,\"linecolor\":\"white\",\"showbackground\":true,\"ticks\":\"\",\"zerolinecolor\":\"white\"},\"zaxis\":{\"backgroundcolor\":\"#E5ECF6\",\"gridcolor\":\"white\",\"gridwidth\":2,\"linecolor\":\"white\",\"showbackground\":true,\"ticks\":\"\",\"zerolinecolor\":\"white\"}},\"shapedefaults\":{\"line\":{\"color\":\"#2a3f5f\"}},\"ternary\":{\"aaxis\":{\"gridcolor\":\"white\",\"linecolor\":\"white\",\"ticks\":\"\"},\"baxis\":{\"gridcolor\":\"white\",\"linecolor\":\"white\",\"ticks\":\"\"},\"bgcolor\":\"#E5ECF6\",\"caxis\":{\"gridcolor\":\"white\",\"linecolor\":\"white\",\"ticks\":\"\"}},\"title\":{\"x\":0.05},\"xaxis\":{\"automargin\":true,\"gridcolor\":\"white\",\"linecolor\":\"white\",\"ticks\":\"\",\"title\":{\"standoff\":15},\"zerolinecolor\":\"white\",\"zerolinewidth\":2},\"yaxis\":{\"automargin\":true,\"gridcolor\":\"white\",\"linecolor\":\"white\",\"ticks\":\"\",\"title\":{\"standoff\":15},\"zerolinecolor\":\"white\",\"zerolinewidth\":2}}},\"polar\":{\"radialaxis\":{\"visible\":true,\"range\":[0,1]}},\"showlegend\":true},                        {\"responsive\": true}                    ).then(function(){\n",
       "                            \n",
       "var gd = document.getElementById('e1e65852-e63e-4c14-af8b-af466c24a5e5');\n",
       "var x = new MutationObserver(function (mutations, observer) {{\n",
       "        var display = window.getComputedStyle(gd).display;\n",
       "        if (!display || display === 'none') {{\n",
       "            console.log([gd, 'removed!']);\n",
       "            Plotly.purge(gd);\n",
       "            observer.disconnect();\n",
       "        }}\n",
       "}});\n",
       "\n",
       "// Listen for the removal of the full notebook cells\n",
       "var notebookContainer = gd.closest('#notebook-container');\n",
       "if (notebookContainer) {{\n",
       "    x.observe(notebookContainer, {childList: true});\n",
       "}}\n",
       "\n",
       "// Listen for the clearing of the current output cell\n",
       "var outputEl = gd.closest('.output');\n",
       "if (outputEl) {{\n",
       "    x.observe(outputEl, {childList: true});\n",
       "}}\n",
       "\n",
       "                        })                };                });            </script>        </div>"
      ]
     },
     "metadata": {},
     "output_type": "display_data"
    }
   ],
   "source": [
    "polarplt(df2, 'cluster_M0', selection)"
   ]
  },
  {
   "cell_type": "markdown",
   "metadata": {},
   "source": [
    "<a id='df3' />\n",
    "\n",
    "### t3 = t0 + 6 months"
   ]
  },
  {
   "cell_type": "code",
   "execution_count": 108,
   "metadata": {},
   "outputs": [
    {
     "name": "stdout",
     "output_type": "stream",
     "text": [
      "(104813, 78)\n",
      "----------\n",
      "(84324, 78)\n",
      "----------\n",
      "(84324, 79)\n",
      "----------\n",
      "(82332, 17)\n"
     ]
    }
   ],
   "source": [
    "df3 = transforming(df3)"
   ]
  },
  {
   "cell_type": "code",
   "execution_count": 109,
   "metadata": {},
   "outputs": [
    {
     "name": "stdout",
     "output_type": "stream",
     "text": [
      "----------\n",
      "[0.11246748 0.18968295 0.26340296 0.334127   0.40066688 0.4649461\n",
      " 0.52795807 0.5901392  0.65188383 0.71259311 0.77224727 0.83017083\n",
      " 0.88391928 0.92568221 0.96687368 0.99880276 1.        ]\n",
      "--------------------\n",
      "--------------------\n"
     ]
    }
   ],
   "source": [
    "df3_fr = transformag(df3)"
   ]
  },
  {
   "cell_type": "code",
   "execution_count": 115,
   "metadata": {},
   "outputs": [
    {
     "name": "stdout",
     "output_type": "stream",
     "text": [
      "[0.11246748 0.18968295 0.26340296 0.334127   0.40066688 0.4649461\n",
      " 0.52795807]\n"
     ]
    }
   ],
   "source": [
    "pca3 = decomposition.PCA(n_components=7)\n",
    "pca3.fit(df3_fr)\n",
    "print(pca3.explained_variance_ratio_.cumsum())\n",
    "X_trans_3 = pca3.transform(df3_fr)"
   ]
  },
  {
   "cell_type": "code",
   "execution_count": 111,
   "metadata": {},
   "outputs": [
    {
     "name": "stdout",
     "output_type": "stream",
     "text": [
      "total time:  25.064398288726807 sec\n"
     ]
    }
   ],
   "source": [
    "# Best number of clusters with davies\n",
    "startt = time.time()\n",
    "\n",
    "davies_ad_3 = []\n",
    "\n",
    "K_range = range(3, 18)\n",
    "for k in K_range:\n",
    "    \n",
    "    cls_ad_3 = cluster.KMeans(n_clusters=k)\n",
    "    cls_ad_3.fit(X_trans_3)\n",
    "    dav_ad_3 = metrics.davies_bouldin_score(X_trans_3, cls_ad_3.labels_)\n",
    "    davies_ad_3.append(dav_ad_3)\n",
    "    \n",
    "    #print(k)\n",
    "    \n",
    "endt = time.time()\n",
    "print(\"total time: \",(endt - startt),\"sec\")"
   ]
  },
  {
   "cell_type": "code",
   "execution_count": 112,
   "metadata": {},
   "outputs": [
    {
     "data": {
      "text/plain": [
       "Text(0, 0.5, 'davies_bouldin')"
      ]
     },
     "execution_count": 112,
     "metadata": {},
     "output_type": "execute_result"
    },
    {
     "data": {
      "image/png": "[encoded data removed]",
      "text/plain": [
       "<Figure size 648x432 with 1 Axes>"
      ]
     },
     "metadata": {},
     "output_type": "display_data"
    }
   ],
   "source": [
    "plt.plot(K_range, davies_ad_3, 'o-')\n",
    "plt.xlabel('nombre de clusters')\n",
    "plt.ylabel('davies_bouldin')"
   ]
  },
  {
   "cell_type": "code",
   "execution_count": 113,
   "metadata": {},
   "outputs": [
    {
     "name": "stdout",
     "output_type": "stream",
     "text": [
      "total time:  618.025447845459 sec\n"
     ]
    }
   ],
   "source": [
    "# Best number of clusters\n",
    "startt = time.time()\n",
    "\n",
    "silhouette_ad_3 = []\n",
    "\n",
    "K_range = range(5, 14)\n",
    "for k in K_range:\n",
    "    \n",
    "    cls_ad_3 = cluster.KMeans(n_clusters=k)\n",
    "    cls_ad_3.fit(X_trans_3)\n",
    "    silh_ad_3 = metrics.silhouette_score(X_trans_3, cls_ad_3.labels_)\n",
    "    silhouette_ad_3.append(silh_ad_3)\n",
    "    \n",
    "    #print(k)\n",
    "    \n",
    "endt = time.time()\n",
    "print(\"total time: \",(endt - startt),\"sec\")"
   ]
  },
  {
   "cell_type": "code",
   "execution_count": 114,
   "metadata": {},
   "outputs": [
    {
     "data": {
      "text/plain": [
       "Text(0, 0.5, 'silhouette')"
      ]
     },
     "execution_count": 114,
     "metadata": {},
     "output_type": "execute_result"
    },
    {
     "data": {
      "image/png": "[encoded data removed]",
      "text/plain": [
       "<Figure size 648x432 with 1 Axes>"
      ]
     },
     "metadata": {},
     "output_type": "display_data"
    }
   ],
   "source": [
    "plt.plot(K_range, silhouette_ad_3, 'o-')\n",
    "plt.xlabel('nombre de clusters')\n",
    "plt.ylabel('silhouette')"
   ]
  },
  {
   "cell_type": "code",
   "execution_count": 127,
   "metadata": {},
   "outputs": [],
   "source": [
    "model_df3 = KMeans(n_clusters=9)\n",
    "model_df3.fit(X_trans_3)\n",
    "model_df3.labels_\n",
    "\n",
    "df3['cluster_t3'] = model_df3.labels_"
   ]
  },
  {
   "cell_type": "code",
   "execution_count": 128,
   "metadata": {},
   "outputs": [
    {
     "data": {
      "text/plain": [
       "1    20571\n",
       "7    15086\n",
       "6    11594\n",
       "2     8960\n",
       "5     8717\n",
       "4     7836\n",
       "8     6207\n",
       "0     1806\n",
       "3     1555\n",
       "Name: cluster_t3, dtype: int64"
      ]
     },
     "execution_count": 128,
     "metadata": {},
     "output_type": "execute_result"
    }
   ],
   "source": [
    "df3['cluster_t3'].value_counts()"
   ]
  },
  {
   "cell_type": "code",
   "execution_count": 130,
   "metadata": {},
   "outputs": [],
   "source": [
    "df3['cluster_M0'] = model_df0.predict(X_trans_3)"
   ]
  },
  {
   "cell_type": "code",
   "execution_count": 148,
   "metadata": {},
   "outputs": [
    {
     "name": "stderr",
     "output_type": "stream",
     "text": [
      "C:\\ProgramData\\Anaconda3\\lib\\site-packages\\sklearn\\metrics\\cluster\\_supervised.py:389: RuntimeWarning:\n",
      "\n",
      "overflow encountered in longlong_scalars\n",
      "\n"
     ]
    },
    {
     "data": {
      "text/plain": [
       "-1.493859299608148"
      ]
     },
     "execution_count": 148,
     "metadata": {},
     "output_type": "execute_result"
    }
   ],
   "source": [
    "adjusted_rand_score(df3['cluster_t3'], df3['cluster_M0'])"
   ]
  },
  {
   "cell_type": "code",
   "execution_count": 151,
   "metadata": {},
   "outputs": [
    {
     "data": {
      "text/plain": [
       "(82332, 19)"
      ]
     },
     "execution_count": 151,
     "metadata": {},
     "output_type": "execute_result"
    }
   ],
   "source": [
    "df3.shape"
   ]
  },
  {
   "cell_type": "code",
   "execution_count": 188,
   "metadata": {},
   "outputs": [],
   "source": [
    "max_ari = df3.sample(n=75562)"
   ]
  },
  {
   "cell_type": "code",
   "execution_count": 189,
   "metadata": {},
   "outputs": [
    {
     "data": {
      "text/plain": [
       "0.6286037269077777"
      ]
     },
     "execution_count": 189,
     "metadata": {},
     "output_type": "execute_result"
    }
   ],
   "source": [
    "adjusted_rand_score(test['cluster_t3'], test['cluster_M0'])"
   ]
  },
  {
   "cell_type": "code",
   "execution_count": 191,
   "metadata": {},
   "outputs": [
    {
     "data": {
      "text/plain": [
       "0.6286037269077773"
      ]
     },
     "execution_count": 191,
     "metadata": {},
     "output_type": "execute_result"
    }
   ],
   "source": [
    "aridf3 = 0\n",
    "itera = 50\n",
    "\n",
    "for i in range(itera) :\n",
    "    max_ari_samples = df3.sample(n=75562)\n",
    "    max_ari_result = adjusted_rand_score(test['cluster_t3'], test['cluster_M0'])\n",
    "    aridf3 += max_ari_result\n",
    "    \n",
    "ari_result = aridf3/itera\n",
    "ari_result"
   ]
  },
  {
   "cell_type": "code",
   "execution_count": 217,
   "metadata": {},
   "outputs": [
    {
     "data": {
      "application/vnd.plotly.v1+json": {
       "config": {
        "plotlyServerURL": "https://plot.ly"
       },
       "data": [
        {
         "name": "cluster 3",
         "r": [
          0.7357742050732421,
          0.16906037870668375,
          0.3441820699673703,
          0.18792425866380869,
          0.5854624109045495,
          0.004372990353697751,
          0.0022508038585209,
          0.14268488745980712,
          0.005466237942122186,
          0.005466237942122186,
          0.007556270096463023,
          0.0020670647680293983,
          0.005787781350482315,
          0.0038585209003215433,
          0.31414790996784564,
          0.1949199313176511,
          0.1552720499708856
         ],
         "theta": [
          "Cus_mean_review_score",
          "Number_of_orders",
          "Recency",
          "Number_of_articles",
          "log_Spending",
          "cool_stuff",
          "pet_shop",
          "home_confort",
          "health_beauty",
          "electronics",
          "industry_commerce_construction",
          "arts_video_audio",
          "clothing_and_bags",
          "auto",
          "MUM_of_payment_a",
          "delay_delivery",
          "distance",
          "cluster_t3",
          "cluster_M0"
         ],
         "type": "scatterpolar"
        },
        {
         "name": "cluster 4",
         "r": [
          0.8547600816743469,
          0.5040199081163859,
          0.26217607076256977,
          0.11939765186321029,
          0.5611557794729066,
          0.0015313935681470138,
          0.01990811638591115,
          0.003381827462991322,
          0.0010209290454313426,
          0.0011485451761102604,
          0.06196826612216818,
          0.0010209290454313426,
          0.0007656967840735069,
          0.05313084907265725,
          0.3096286370597244,
          0.23118495532375793,
          0.17082110446975837
         ],
         "theta": [
          "Cus_mean_review_score",
          "Number_of_orders",
          "Recency",
          "Number_of_articles",
          "log_Spending",
          "cool_stuff",
          "pet_shop",
          "home_confort",
          "health_beauty",
          "electronics",
          "industry_commerce_construction",
          "arts_video_audio",
          "clothing_and_bags",
          "auto",
          "MUM_of_payment_a",
          "delay_delivery",
          "distance",
          "cluster_t3",
          "cluster_M0"
         ],
         "type": "scatterpolar"
        },
        {
         "name": "cluster 0",
         "r": [
          0.8261590992986342,
          0.16662052417866255,
          0.29669505767794635,
          0.12814428096820468,
          0.678887009743503,
          0.02833148763381327,
          0.008068343616516377,
          0.05614617940199378,
          0.05144228233929282,
          0.0161960132890366,
          0.008157991878922098,
          0.011904761904761902,
          0.032207456626061275,
          0.010520487264673311,
          0.30398671096345514,
          0.17282570152292437,
          0.17337847833338055
         ],
         "theta": [
          "Cus_mean_review_score",
          "Number_of_orders",
          "Recency",
          "Number_of_articles",
          "log_Spending",
          "cool_stuff",
          "pet_shop",
          "home_confort",
          "health_beauty",
          "electronics",
          "industry_commerce_construction",
          "arts_video_audio",
          "clothing_and_bags",
          "auto",
          "MUM_of_payment_a",
          "delay_delivery",
          "distance",
          "cluster_t3",
          "cluster_M0"
         ],
         "type": "scatterpolar"
        },
        {
         "name": "cluster 7",
         "r": [
          0.8883998409120801,
          1,
          0.33282313692493654,
          0.36311812276280114,
          0.567467706949228,
          0.00026514649343762427,
          6.628662335940607e-05,
          0.0011268725971099033,
          0.2719408723319634,
          6.628662335940607e-05,
          0.00013257324671881213,
          0.00033143311679703034,
          null,
          6.628662335940607e-05,
          0.31570661540501127,
          0.19865020014528495,
          0.16502090773716946
         ],
         "theta": [
          "Cus_mean_review_score",
          "Number_of_orders",
          "Recency",
          "Number_of_articles",
          "log_Spending",
          "cool_stuff",
          "pet_shop",
          "home_confort",
          "health_beauty",
          "electronics",
          "industry_commerce_construction",
          "arts_video_audio",
          "clothing_and_bags",
          "auto",
          "MUM_of_payment_a",
          "delay_delivery",
          "distance",
          "cluster_t3",
          "cluster_M0"
         ],
         "type": "scatterpolar"
        },
        {
         "name": "cluster 8",
         "r": [
          0.2745932012244473,
          0.5004027710649267,
          0.29401628699190574,
          0.2658691799581118,
          0.5876985472417773,
          0.04886955587777243,
          0.005638794908973739,
          0.12534235540518995,
          0.09682616400837764,
          0.03471886579668117,
          0.01949411954245207,
          0.03522904247892189,
          0.019574673755437408,
          0.02344127597873369,
          0.319236346060899,
          -0.278533517097116,
          0.1492999041516198
         ],
         "theta": [
          "Cus_mean_review_score",
          "Number_of_orders",
          "Recency",
          "Number_of_articles",
          "log_Spending",
          "cool_stuff",
          "pet_shop",
          "home_confort",
          "health_beauty",
          "electronics",
          "industry_commerce_construction",
          "arts_video_audio",
          "clothing_and_bags",
          "auto",
          "MUM_of_payment_a",
          "delay_delivery",
          "distance",
          "cluster_t3",
          "cluster_M0"
         ],
         "type": "scatterpolar"
        },
        {
         "name": "cluster 1",
         "r": [
          0.8819892081084427,
          0.5000486121238636,
          0.3627734789047485,
          0.18513927373482644,
          0.5623477985913571,
          0.00014583637159107482,
          0.007364736765349278,
          0.5145107189733119,
          0.0001944484954547664,
          4.86121238636916e-05,
          0.0005833454863642993,
          0.0053473336250060765,
          null,
          0.01759758883865636,
          0.3117495503378543,
          0.09035804556095657,
          0.16613035818937372
         ],
         "theta": [
          "Cus_mean_review_score",
          "Number_of_orders",
          "Recency",
          "Number_of_articles",
          "log_Spending",
          "cool_stuff",
          "pet_shop",
          "home_confort",
          "health_beauty",
          "electronics",
          "industry_commerce_construction",
          "arts_video_audio",
          "clothing_and_bags",
          "auto",
          "MUM_of_payment_a",
          "delay_delivery",
          "distance",
          "cluster_t3",
          "cluster_M0"
         ],
         "type": "scatterpolar"
        },
        {
         "name": "cluster 6",
         "r": [
          0.8774279799896553,
          0.5003881317923063,
          0.365662238560389,
          0.15213534093987527,
          0.5682547153795292,
          0.14111979102489716,
          0.0045713299982749695,
          0.007374504053820942,
          0.0013800241504226323,
          0.0004312575470070726,
          0.003795066413662239,
          0.0038813179230636537,
          0.013455235466620665,
          0.01198895980679662,
          0.29424702432292565,
          0.19597374919685964,
          0.14817323595736187
         ],
         "theta": [
          "Cus_mean_review_score",
          "Number_of_orders",
          "Recency",
          "Number_of_articles",
          "log_Spending",
          "cool_stuff",
          "pet_shop",
          "home_confort",
          "health_beauty",
          "electronics",
          "industry_commerce_construction",
          "arts_video_audio",
          "clothing_and_bags",
          "auto",
          "MUM_of_payment_a",
          "delay_delivery",
          "distance",
          "cluster_t3",
          "cluster_M0"
         ],
         "type": "scatterpolar"
        },
        {
         "name": "cluster 5",
         "r": [
          0.8478490306298322,
          0.5017207754961569,
          0.3191698172414157,
          0.19150319299454746,
          0.5395819630467071,
          0.0020649305953883215,
          0.0024090856946197086,
          0.013077893770792704,
          0.0030973958930824827,
          0.1655003632748343,
          0.005850636686933578,
          0.02257657450957877,
          0.0006883101984627739,
          0.006080073419754503,
          0.34857175633818976,
          0.09477735830692627,
          0.17347509601335528
         ],
         "theta": [
          "Cus_mean_review_score",
          "Number_of_orders",
          "Recency",
          "Number_of_articles",
          "log_Spending",
          "cool_stuff",
          "pet_shop",
          "home_confort",
          "health_beauty",
          "electronics",
          "industry_commerce_construction",
          "arts_video_audio",
          "clothing_and_bags",
          "auto",
          "MUM_of_payment_a",
          "delay_delivery",
          "distance",
          "cluster_t3",
          "cluster_M0"
         ],
         "type": "scatterpolar"
        },
        {
         "name": "cluster 2",
         "r": [
          0.8850223214286002,
          0.5014508928571428,
          0.3556561434130721,
          0.17712053571430125,
          0.5820602047168763,
          0.038839285714285715,
          0.004408482142857143,
          0.007477678571428572,
          0.003236607142857143,
          0.0003348214285714286,
          0.00078125,
          0.07606026785714166,
          0.1748139880952309,
          0.00234375,
          0.35396205357142857,
          0.24932928781393282,
          0.17292014469732941
         ],
         "theta": [
          "Cus_mean_review_score",
          "Number_of_orders",
          "Recency",
          "Number_of_articles",
          "log_Spending",
          "cool_stuff",
          "pet_shop",
          "home_confort",
          "health_beauty",
          "electronics",
          "industry_commerce_construction",
          "arts_video_audio",
          "clothing_and_bags",
          "auto",
          "MUM_of_payment_a",
          "delay_delivery",
          "distance",
          "cluster_t3",
          "cluster_M0"
         ],
         "type": "scatterpolar"
        }
       ],
       "layout": {
        "polar": {
         "radialaxis": {
          "range": [
           0,
           1
          ],
          "visible": true
         }
        },
        "showlegend": true,
        "template": {
         "data": {
          "bar": [
           {
            "error_x": {
             "color": "#2a3f5f"
            },
            "error_y": {
             "color": "#2a3f5f"
            },
            "marker": {
             "line": {
              "color": "#E5ECF6",
              "width": 0.5
             },
             "pattern": {
              "fillmode": "overlay",
              "size": 10,
              "solidity": 0.2
             }
            },
            "type": "bar"
           }
          ],
          "barpolar": [
           {
            "marker": {
             "line": {
              "color": "#E5ECF6",
              "width": 0.5
             },
             "pattern": {
              "fillmode": "overlay",
              "size": 10,
              "solidity": 0.2
             }
            },
            "type": "barpolar"
           }
          ],
          "carpet": [
           {
            "aaxis": {
             "endlinecolor": "#2a3f5f",
             "gridcolor": "white",
             "linecolor": "white",
             "minorgridcolor": "white",
             "startlinecolor": "#2a3f5f"
            },
            "baxis": {
             "endlinecolor": "#2a3f5f",
             "gridcolor": "white",
             "linecolor": "white",
             "minorgridcolor": "white",
             "startlinecolor": "#2a3f5f"
            },
            "type": "carpet"
           }
          ],
          "choropleth": [
           {
            "colorbar": {
             "outlinewidth": 0,
             "ticks": ""
            },
            "type": "choropleth"
           }
          ],
          "contour": [
           {
            "colorbar": {
             "outlinewidth": 0,
             "ticks": ""
            },
            "colorscale": [
             [
              0,
              "#0d0887"
             ],
             [
              0.1111111111111111,
              "#46039f"
             ],
             [
              0.2222222222222222,
              "#7201a8"
             ],
             [
              0.3333333333333333,
              "#9c179e"
             ],
             [
              0.4444444444444444,
              "#bd3786"
             ],
             [
              0.5555555555555556,
              "#d8576b"
             ],
             [
              0.6666666666666666,
              "#ed7953"
             ],
             [
              0.7777777777777778,
              "#fb9f3a"
             ],
             [
              0.8888888888888888,
              "#fdca26"
             ],
             [
              1,
              "#f0f921"
             ]
            ],
            "type": "contour"
           }
          ],
          "contourcarpet": [
           {
            "colorbar": {
             "outlinewidth": 0,
             "ticks": ""
            },
            "type": "contourcarpet"
           }
          ],
          "heatmap": [
           {
            "colorbar": {
             "outlinewidth": 0,
             "ticks": ""
            },
            "colorscale": [
             [
              0,
              "#0d0887"
             ],
             [
              0.1111111111111111,
              "#46039f"
             ],
             [
              0.2222222222222222,
              "#7201a8"
             ],
             [
              0.3333333333333333,
              "#9c179e"
             ],
             [
              0.4444444444444444,
              "#bd3786"
             ],
             [
              0.5555555555555556,
              "#d8576b"
             ],
             [
              0.6666666666666666,
              "#ed7953"
             ],
             [
              0.7777777777777778,
              "#fb9f3a"
             ],
             [
              0.8888888888888888,
              "#fdca26"
             ],
             [
              1,
              "#f0f921"
             ]
            ],
            "type": "heatmap"
           }
          ],
          "heatmapgl": [
           {
            "colorbar": {
             "outlinewidth": 0,
             "ticks": ""
            },
            "colorscale": [
             [
              0,
              "#0d0887"
             ],
             [
              0.1111111111111111,
              "#46039f"
             ],
             [
              0.2222222222222222,
              "#7201a8"
             ],
             [
              0.3333333333333333,
              "#9c179e"
             ],
             [
              0.4444444444444444,
              "#bd3786"
             ],
             [
              0.5555555555555556,
              "#d8576b"
             ],
             [
              0.6666666666666666,
              "#ed7953"
             ],
             [
              0.7777777777777778,
              "#fb9f3a"
             ],
             [
              0.8888888888888888,
              "#fdca26"
             ],
             [
              1,
              "#f0f921"
             ]
            ],
            "type": "heatmapgl"
           }
          ],
          "histogram": [
           {
            "marker": {
             "pattern": {
              "fillmode": "overlay",
              "size": 10,
              "solidity": 0.2
             }
            },
            "type": "histogram"
           }
          ],
          "histogram2d": [
           {
            "colorbar": {
             "outlinewidth": 0,
             "ticks": ""
            },
            "colorscale": [
             [
              0,
              "#0d0887"
             ],
             [
              0.1111111111111111,
              "#46039f"
             ],
             [
              0.2222222222222222,
              "#7201a8"
             ],
             [
              0.3333333333333333,
              "#9c179e"
             ],
             [
              0.4444444444444444,
              "#bd3786"
             ],
             [
              0.5555555555555556,
              "#d8576b"
             ],
             [
              0.6666666666666666,
              "#ed7953"
             ],
             [
              0.7777777777777778,
              "#fb9f3a"
             ],
             [
              0.8888888888888888,
              "#fdca26"
             ],
             [
              1,
              "#f0f921"
             ]
            ],
            "type": "histogram2d"
           }
          ],
          "histogram2dcontour": [
           {
            "colorbar": {
             "outlinewidth": 0,
             "ticks": ""
            },
            "colorscale": [
             [
              0,
              "#0d0887"
             ],
             [
              0.1111111111111111,
              "#46039f"
             ],
             [
              0.2222222222222222,
              "#7201a8"
             ],
             [
              0.3333333333333333,
              "#9c179e"
             ],
             [
              0.4444444444444444,
              "#bd3786"
             ],
             [
              0.5555555555555556,
              "#d8576b"
             ],
             [
              0.6666666666666666,
              "#ed7953"
             ],
             [
              0.7777777777777778,
              "#fb9f3a"
             ],
             [
              0.8888888888888888,
              "#fdca26"
             ],
             [
              1,
              "#f0f921"
             ]
            ],
            "type": "histogram2dcontour"
           }
          ],
          "mesh3d": [
           {
            "colorbar": {
             "outlinewidth": 0,
             "ticks": ""
            },
            "type": "mesh3d"
           }
          ],
          "parcoords": [
           {
            "line": {
             "colorbar": {
              "outlinewidth": 0,
              "ticks": ""
             }
            },
            "type": "parcoords"
           }
          ],
          "pie": [
           {
            "automargin": true,
            "type": "pie"
           }
          ],
          "scatter": [
           {
            "marker": {
             "colorbar": {
              "outlinewidth": 0,
              "ticks": ""
             }
            },
            "type": "scatter"
           }
          ],
          "scatter3d": [
           {
            "line": {
             "colorbar": {
              "outlinewidth": 0,
              "ticks": ""
             }
            },
            "marker": {
             "colorbar": {
              "outlinewidth": 0,
              "ticks": ""
             }
            },
            "type": "scatter3d"
           }
          ],
          "scattercarpet": [
           {
            "marker": {
             "colorbar": {
              "outlinewidth": 0,
              "ticks": ""
             }
            },
            "type": "scattercarpet"
           }
          ],
          "scattergeo": [
           {
            "marker": {
             "colorbar": {
              "outlinewidth": 0,
              "ticks": ""
             }
            },
            "type": "scattergeo"
           }
          ],
          "scattergl": [
           {
            "marker": {
             "colorbar": {
              "outlinewidth": 0,
              "ticks": ""
             }
            },
            "type": "scattergl"
           }
          ],
          "scattermapbox": [
           {
            "marker": {
             "colorbar": {
              "outlinewidth": 0,
              "ticks": ""
             }
            },
            "type": "scattermapbox"
           }
          ],
          "scatterpolar": [
           {
            "marker": {
             "colorbar": {
              "outlinewidth": 0,
              "ticks": ""
             }
            },
            "type": "scatterpolar"
           }
          ],
          "scatterpolargl": [
           {
            "marker": {
             "colorbar": {
              "outlinewidth": 0,
              "ticks": ""
             }
            },
            "type": "scatterpolargl"
           }
          ],
          "scatterternary": [
           {
            "marker": {
             "colorbar": {
              "outlinewidth": 0,
              "ticks": ""
             }
            },
            "type": "scatterternary"
           }
          ],
          "surface": [
           {
            "colorbar": {
             "outlinewidth": 0,
             "ticks": ""
            },
            "colorscale": [
             [
              0,
              "#0d0887"
             ],
             [
              0.1111111111111111,
              "#46039f"
             ],
             [
              0.2222222222222222,
              "#7201a8"
             ],
             [
              0.3333333333333333,
              "#9c179e"
             ],
             [
              0.4444444444444444,
              "#bd3786"
             ],
             [
              0.5555555555555556,
              "#d8576b"
             ],
             [
              0.6666666666666666,
              "#ed7953"
             ],
             [
              0.7777777777777778,
              "#fb9f3a"
             ],
             [
              0.8888888888888888,
              "#fdca26"
             ],
             [
              1,
              "#f0f921"
             ]
            ],
            "type": "surface"
           }
          ],
          "table": [
           {
            "cells": {
             "fill": {
              "color": "#EBF0F8"
             },
             "line": {
              "color": "white"
             }
            },
            "header": {
             "fill": {
              "color": "#C8D4E3"
             },
             "line": {
              "color": "white"
             }
            },
            "type": "table"
           }
          ]
         },
         "layout": {
          "annotationdefaults": {
           "arrowcolor": "#2a3f5f",
           "arrowhead": 0,
           "arrowwidth": 1
          },
          "autotypenumbers": "strict",
          "coloraxis": {
           "colorbar": {
            "outlinewidth": 0,
            "ticks": ""
           }
          },
          "colorscale": {
           "diverging": [
            [
             0,
             "#8e0152"
            ],
            [
             0.1,
             "#c51b7d"
            ],
            [
             0.2,
             "#de77ae"
            ],
            [
             0.3,
             "#f1b6da"
            ],
            [
             0.4,
             "#fde0ef"
            ],
            [
             0.5,
             "#f7f7f7"
            ],
            [
             0.6,
             "#e6f5d0"
            ],
            [
             0.7,
             "#b8e186"
            ],
            [
             0.8,
             "#7fbc41"
            ],
            [
             0.9,
             "#4d9221"
            ],
            [
             1,
             "#276419"
            ]
           ],
           "sequential": [
            [
             0,
             "#0d0887"
            ],
            [
             0.1111111111111111,
             "#46039f"
            ],
            [
             0.2222222222222222,
             "#7201a8"
            ],
            [
             0.3333333333333333,
             "#9c179e"
            ],
            [
             0.4444444444444444,
             "#bd3786"
            ],
            [
             0.5555555555555556,
             "#d8576b"
            ],
            [
             0.6666666666666666,
             "#ed7953"
            ],
            [
             0.7777777777777778,
             "#fb9f3a"
            ],
            [
             0.8888888888888888,
             "#fdca26"
            ],
            [
             1,
             "#f0f921"
            ]
           ],
           "sequentialminus": [
            [
             0,
             "#0d0887"
            ],
            [
             0.1111111111111111,
             "#46039f"
            ],
            [
             0.2222222222222222,
             "#7201a8"
            ],
            [
             0.3333333333333333,
             "#9c179e"
            ],
            [
             0.4444444444444444,
             "#bd3786"
            ],
            [
             0.5555555555555556,
             "#d8576b"
            ],
            [
             0.6666666666666666,
             "#ed7953"
            ],
            [
             0.7777777777777778,
             "#fb9f3a"
            ],
            [
             0.8888888888888888,
             "#fdca26"
            ],
            [
             1,
             "#f0f921"
            ]
           ]
          },
          "colorway": [
           "#636efa",
           "#EF553B",
           "#00cc96",
           "#ab63fa",
           "#FFA15A",
           "#19d3f3",
           "#FF6692",
           "#B6E880",
           "#FF97FF",
           "#FECB52"
          ],
          "font": {
           "color": "#2a3f5f"
          },
          "geo": {
           "bgcolor": "white",
           "lakecolor": "white",
           "landcolor": "#E5ECF6",
           "showlakes": true,
           "showland": true,
           "subunitcolor": "white"
          },
          "hoverlabel": {
           "align": "left"
          },
          "hovermode": "closest",
          "mapbox": {
           "style": "light"
          },
          "paper_bgcolor": "white",
          "plot_bgcolor": "#E5ECF6",
          "polar": {
           "angularaxis": {
            "gridcolor": "white",
            "linecolor": "white",
            "ticks": ""
           },
           "bgcolor": "#E5ECF6",
           "radialaxis": {
            "gridcolor": "white",
            "linecolor": "white",
            "ticks": ""
           }
          },
          "scene": {
           "xaxis": {
            "backgroundcolor": "#E5ECF6",
            "gridcolor": "white",
            "gridwidth": 2,
            "linecolor": "white",
            "showbackground": true,
            "ticks": "",
            "zerolinecolor": "white"
           },
           "yaxis": {
            "backgroundcolor": "#E5ECF6",
            "gridcolor": "white",
            "gridwidth": 2,
            "linecolor": "white",
            "showbackground": true,
            "ticks": "",
            "zerolinecolor": "white"
           },
           "zaxis": {
            "backgroundcolor": "#E5ECF6",
            "gridcolor": "white",
            "gridwidth": 2,
            "linecolor": "white",
            "showbackground": true,
            "ticks": "",
            "zerolinecolor": "white"
           }
          },
          "shapedefaults": {
           "line": {
            "color": "#2a3f5f"
           }
          },
          "ternary": {
           "aaxis": {
            "gridcolor": "white",
            "linecolor": "white",
            "ticks": ""
           },
           "baxis": {
            "gridcolor": "white",
            "linecolor": "white",
            "ticks": ""
           },
           "bgcolor": "#E5ECF6",
           "caxis": {
            "gridcolor": "white",
            "linecolor": "white",
            "ticks": ""
           }
          },
          "title": {
           "x": 0.05
          },
          "xaxis": {
           "automargin": true,
           "gridcolor": "white",
           "linecolor": "white",
           "ticks": "",
           "title": {
            "standoff": 15
           },
           "zerolinecolor": "white",
           "zerolinewidth": 2
          },
          "yaxis": {
           "automargin": true,
           "gridcolor": "white",
           "linecolor": "white",
           "ticks": "",
           "title": {
            "standoff": 15
           },
           "zerolinecolor": "white",
           "zerolinewidth": 2
          }
         }
        }
       }
      },
      "text/html": [
       "<div>                            <div id=\"5efd3dd2-e2ef-4614-9f4e-4bb538062aea\" class=\"plotly-graph-div\" style=\"height:525px; width:100%;\"></div>            <script type=\"text/javascript\">                require([\"plotly\"], function(Plotly) {                    window.PLOTLYENV=window.PLOTLYENV || {};                                    if (document.getElementById(\"5efd3dd2-e2ef-4614-9f4e-4bb538062aea\")) {                    Plotly.newPlot(                        \"5efd3dd2-e2ef-4614-9f4e-4bb538062aea\",                        [{\"name\":\"cluster 3\",\"r\":[0.7357742050732421,0.16906037870668375,0.3441820699673703,0.18792425866380869,0.5854624109045495,0.004372990353697751,0.0022508038585209,0.14268488745980712,0.005466237942122186,0.005466237942122186,0.007556270096463023,0.0020670647680293983,0.005787781350482315,0.0038585209003215433,0.31414790996784564,0.1949199313176511,0.1552720499708856],\"theta\":[\"Cus_mean_review_score\",\"Number_of_orders\",\"Recency\",\"Number_of_articles\",\"log_Spending\",\"cool_stuff\",\"pet_shop\",\"home_confort\",\"health_beauty\",\"electronics\",\"industry_commerce_construction\",\"arts_video_audio\",\"clothing_and_bags\",\"auto\",\"MUM_of_payment_a\",\"delay_delivery\",\"distance\",\"cluster_t3\",\"cluster_M0\"],\"type\":\"scatterpolar\"},{\"name\":\"cluster 4\",\"r\":[0.8547600816743469,0.5040199081163859,0.26217607076256977,0.11939765186321029,0.5611557794729066,0.0015313935681470138,0.01990811638591115,0.003381827462991322,0.0010209290454313426,0.0011485451761102604,0.06196826612216818,0.0010209290454313426,0.0007656967840735069,0.05313084907265725,0.3096286370597244,0.23118495532375793,0.17082110446975837],\"theta\":[\"Cus_mean_review_score\",\"Number_of_orders\",\"Recency\",\"Number_of_articles\",\"log_Spending\",\"cool_stuff\",\"pet_shop\",\"home_confort\",\"health_beauty\",\"electronics\",\"industry_commerce_construction\",\"arts_video_audio\",\"clothing_and_bags\",\"auto\",\"MUM_of_payment_a\",\"delay_delivery\",\"distance\",\"cluster_t3\",\"cluster_M0\"],\"type\":\"scatterpolar\"},{\"name\":\"cluster 0\",\"r\":[0.8261590992986342,0.16662052417866255,0.29669505767794635,0.12814428096820468,0.678887009743503,0.02833148763381327,0.008068343616516377,0.05614617940199378,0.05144228233929282,0.0161960132890366,0.008157991878922098,0.011904761904761902,0.032207456626061275,0.010520487264673311,0.30398671096345514,0.17282570152292437,0.17337847833338055],\"theta\":[\"Cus_mean_review_score\",\"Number_of_orders\",\"Recency\",\"Number_of_articles\",\"log_Spending\",\"cool_stuff\",\"pet_shop\",\"home_confort\",\"health_beauty\",\"electronics\",\"industry_commerce_construction\",\"arts_video_audio\",\"clothing_and_bags\",\"auto\",\"MUM_of_payment_a\",\"delay_delivery\",\"distance\",\"cluster_t3\",\"cluster_M0\"],\"type\":\"scatterpolar\"},{\"name\":\"cluster 7\",\"r\":[0.8883998409120801,1.0,0.33282313692493654,0.36311812276280114,0.567467706949228,0.00026514649343762427,6.628662335940607e-05,0.0011268725971099033,0.2719408723319634,6.628662335940607e-05,0.00013257324671881213,0.00033143311679703034,null,6.628662335940607e-05,0.31570661540501127,0.19865020014528495,0.16502090773716946],\"theta\":[\"Cus_mean_review_score\",\"Number_of_orders\",\"Recency\",\"Number_of_articles\",\"log_Spending\",\"cool_stuff\",\"pet_shop\",\"home_confort\",\"health_beauty\",\"electronics\",\"industry_commerce_construction\",\"arts_video_audio\",\"clothing_and_bags\",\"auto\",\"MUM_of_payment_a\",\"delay_delivery\",\"distance\",\"cluster_t3\",\"cluster_M0\"],\"type\":\"scatterpolar\"},{\"name\":\"cluster 8\",\"r\":[0.2745932012244473,0.5004027710649267,0.29401628699190574,0.2658691799581118,0.5876985472417773,0.04886955587777243,0.005638794908973739,0.12534235540518995,0.09682616400837764,0.03471886579668117,0.01949411954245207,0.03522904247892189,0.019574673755437408,0.02344127597873369,0.319236346060899,-0.278533517097116,0.1492999041516198],\"theta\":[\"Cus_mean_review_score\",\"Number_of_orders\",\"Recency\",\"Number_of_articles\",\"log_Spending\",\"cool_stuff\",\"pet_shop\",\"home_confort\",\"health_beauty\",\"electronics\",\"industry_commerce_construction\",\"arts_video_audio\",\"clothing_and_bags\",\"auto\",\"MUM_of_payment_a\",\"delay_delivery\",\"distance\",\"cluster_t3\",\"cluster_M0\"],\"type\":\"scatterpolar\"},{\"name\":\"cluster 1\",\"r\":[0.8819892081084427,0.5000486121238636,0.3627734789047485,0.18513927373482644,0.5623477985913571,0.00014583637159107482,0.007364736765349278,0.5145107189733119,0.0001944484954547664,4.86121238636916e-05,0.0005833454863642993,0.0053473336250060765,null,0.01759758883865636,0.3117495503378543,0.09035804556095657,0.16613035818937372],\"theta\":[\"Cus_mean_review_score\",\"Number_of_orders\",\"Recency\",\"Number_of_articles\",\"log_Spending\",\"cool_stuff\",\"pet_shop\",\"home_confort\",\"health_beauty\",\"electronics\",\"industry_commerce_construction\",\"arts_video_audio\",\"clothing_and_bags\",\"auto\",\"MUM_of_payment_a\",\"delay_delivery\",\"distance\",\"cluster_t3\",\"cluster_M0\"],\"type\":\"scatterpolar\"},{\"name\":\"cluster 6\",\"r\":[0.8774279799896553,0.5003881317923063,0.365662238560389,0.15213534093987527,0.5682547153795292,0.14111979102489716,0.0045713299982749695,0.007374504053820942,0.0013800241504226323,0.0004312575470070726,0.003795066413662239,0.0038813179230636537,0.013455235466620665,0.01198895980679662,0.29424702432292565,0.19597374919685964,0.14817323595736187],\"theta\":[\"Cus_mean_review_score\",\"Number_of_orders\",\"Recency\",\"Number_of_articles\",\"log_Spending\",\"cool_stuff\",\"pet_shop\",\"home_confort\",\"health_beauty\",\"electronics\",\"industry_commerce_construction\",\"arts_video_audio\",\"clothing_and_bags\",\"auto\",\"MUM_of_payment_a\",\"delay_delivery\",\"distance\",\"cluster_t3\",\"cluster_M0\"],\"type\":\"scatterpolar\"},{\"name\":\"cluster 5\",\"r\":[0.8478490306298322,0.5017207754961569,0.3191698172414157,0.19150319299454746,0.5395819630467071,0.0020649305953883215,0.0024090856946197086,0.013077893770792704,0.0030973958930824827,0.1655003632748343,0.005850636686933578,0.02257657450957877,0.0006883101984627739,0.006080073419754503,0.34857175633818976,0.09477735830692627,0.17347509601335528],\"theta\":[\"Cus_mean_review_score\",\"Number_of_orders\",\"Recency\",\"Number_of_articles\",\"log_Spending\",\"cool_stuff\",\"pet_shop\",\"home_confort\",\"health_beauty\",\"electronics\",\"industry_commerce_construction\",\"arts_video_audio\",\"clothing_and_bags\",\"auto\",\"MUM_of_payment_a\",\"delay_delivery\",\"distance\",\"cluster_t3\",\"cluster_M0\"],\"type\":\"scatterpolar\"},{\"name\":\"cluster 2\",\"r\":[0.8850223214286002,0.5014508928571428,0.3556561434130721,0.17712053571430125,0.5820602047168763,0.038839285714285715,0.004408482142857143,0.007477678571428572,0.003236607142857143,0.0003348214285714286,0.00078125,0.07606026785714166,0.1748139880952309,0.00234375,0.35396205357142857,0.24932928781393282,0.17292014469732941],\"theta\":[\"Cus_mean_review_score\",\"Number_of_orders\",\"Recency\",\"Number_of_articles\",\"log_Spending\",\"cool_stuff\",\"pet_shop\",\"home_confort\",\"health_beauty\",\"electronics\",\"industry_commerce_construction\",\"arts_video_audio\",\"clothing_and_bags\",\"auto\",\"MUM_of_payment_a\",\"delay_delivery\",\"distance\",\"cluster_t3\",\"cluster_M0\"],\"type\":\"scatterpolar\"}],                        {\"template\":{\"data\":{\"bar\":[{\"error_x\":{\"color\":\"#2a3f5f\"},\"error_y\":{\"color\":\"#2a3f5f\"},\"marker\":{\"line\":{\"color\":\"#E5ECF6\",\"width\":0.5},\"pattern\":{\"fillmode\":\"overlay\",\"size\":10,\"solidity\":0.2}},\"type\":\"bar\"}],\"barpolar\":[{\"marker\":{\"line\":{\"color\":\"#E5ECF6\",\"width\":0.5},\"pattern\":{\"fillmode\":\"overlay\",\"size\":10,\"solidity\":0.2}},\"type\":\"barpolar\"}],\"carpet\":[{\"aaxis\":{\"endlinecolor\":\"#2a3f5f\",\"gridcolor\":\"white\",\"linecolor\":\"white\",\"minorgridcolor\":\"white\",\"startlinecolor\":\"#2a3f5f\"},\"baxis\":{\"endlinecolor\":\"#2a3f5f\",\"gridcolor\":\"white\",\"linecolor\":\"white\",\"minorgridcolor\":\"white\",\"startlinecolor\":\"#2a3f5f\"},\"type\":\"carpet\"}],\"choropleth\":[{\"colorbar\":{\"outlinewidth\":0,\"ticks\":\"\"},\"type\":\"choropleth\"}],\"contour\":[{\"colorbar\":{\"outlinewidth\":0,\"ticks\":\"\"},\"colorscale\":[[0.0,\"#0d0887\"],[0.1111111111111111,\"#46039f\"],[0.2222222222222222,\"#7201a8\"],[0.3333333333333333,\"#9c179e\"],[0.4444444444444444,\"#bd3786\"],[0.5555555555555556,\"#d8576b\"],[0.6666666666666666,\"#ed7953\"],[0.7777777777777778,\"#fb9f3a\"],[0.8888888888888888,\"#fdca26\"],[1.0,\"#f0f921\"]],\"type\":\"contour\"}],\"contourcarpet\":[{\"colorbar\":{\"outlinewidth\":0,\"ticks\":\"\"},\"type\":\"contourcarpet\"}],\"heatmap\":[{\"colorbar\":{\"outlinewidth\":0,\"ticks\":\"\"},\"colorscale\":[[0.0,\"#0d0887\"],[0.1111111111111111,\"#46039f\"],[0.2222222222222222,\"#7201a8\"],[0.3333333333333333,\"#9c179e\"],[0.4444444444444444,\"#bd3786\"],[0.5555555555555556,\"#d8576b\"],[0.6666666666666666,\"#ed7953\"],[0.7777777777777778,\"#fb9f3a\"],[0.8888888888888888,\"#fdca26\"],[1.0,\"#f0f921\"]],\"type\":\"heatmap\"}],\"heatmapgl\":[{\"colorbar\":{\"outlinewidth\":0,\"ticks\":\"\"},\"colorscale\":[[0.0,\"#0d0887\"],[0.1111111111111111,\"#46039f\"],[0.2222222222222222,\"#7201a8\"],[0.3333333333333333,\"#9c179e\"],[0.4444444444444444,\"#bd3786\"],[0.5555555555555556,\"#d8576b\"],[0.6666666666666666,\"#ed7953\"],[0.7777777777777778,\"#fb9f3a\"],[0.8888888888888888,\"#fdca26\"],[1.0,\"#f0f921\"]],\"type\":\"heatmapgl\"}],\"histogram\":[{\"marker\":{\"pattern\":{\"fillmode\":\"overlay\",\"size\":10,\"solidity\":0.2}},\"type\":\"histogram\"}],\"histogram2d\":[{\"colorbar\":{\"outlinewidth\":0,\"ticks\":\"\"},\"colorscale\":[[0.0,\"#0d0887\"],[0.1111111111111111,\"#46039f\"],[0.2222222222222222,\"#7201a8\"],[0.3333333333333333,\"#9c179e\"],[0.4444444444444444,\"#bd3786\"],[0.5555555555555556,\"#d8576b\"],[0.6666666666666666,\"#ed7953\"],[0.7777777777777778,\"#fb9f3a\"],[0.8888888888888888,\"#fdca26\"],[1.0,\"#f0f921\"]],\"type\":\"histogram2d\"}],\"histogram2dcontour\":[{\"colorbar\":{\"outlinewidth\":0,\"ticks\":\"\"},\"colorscale\":[[0.0,\"#0d0887\"],[0.1111111111111111,\"#46039f\"],[0.2222222222222222,\"#7201a8\"],[0.3333333333333333,\"#9c179e\"],[0.4444444444444444,\"#bd3786\"],[0.5555555555555556,\"#d8576b\"],[0.6666666666666666,\"#ed7953\"],[0.7777777777777778,\"#fb9f3a\"],[0.8888888888888888,\"#fdca26\"],[1.0,\"#f0f921\"]],\"type\":\"histogram2dcontour\"}],\"mesh3d\":[{\"colorbar\":{\"outlinewidth\":0,\"ticks\":\"\"},\"type\":\"mesh3d\"}],\"parcoords\":[{\"line\":{\"colorbar\":{\"outlinewidth\":0,\"ticks\":\"\"}},\"type\":\"parcoords\"}],\"pie\":[{\"automargin\":true,\"type\":\"pie\"}],\"scatter\":[{\"marker\":{\"colorbar\":{\"outlinewidth\":0,\"ticks\":\"\"}},\"type\":\"scatter\"}],\"scatter3d\":[{\"line\":{\"colorbar\":{\"outlinewidth\":0,\"ticks\":\"\"}},\"marker\":{\"colorbar\":{\"outlinewidth\":0,\"ticks\":\"\"}},\"type\":\"scatter3d\"}],\"scattercarpet\":[{\"marker\":{\"colorbar\":{\"outlinewidth\":0,\"ticks\":\"\"}},\"type\":\"scattercarpet\"}],\"scattergeo\":[{\"marker\":{\"colorbar\":{\"outlinewidth\":0,\"ticks\":\"\"}},\"type\":\"scattergeo\"}],\"scattergl\":[{\"marker\":{\"colorbar\":{\"outlinewidth\":0,\"ticks\":\"\"}},\"type\":\"scattergl\"}],\"scattermapbox\":[{\"marker\":{\"colorbar\":{\"outlinewidth\":0,\"ticks\":\"\"}},\"type\":\"scattermapbox\"}],\"scatterpolar\":[{\"marker\":{\"colorbar\":{\"outlinewidth\":0,\"ticks\":\"\"}},\"type\":\"scatterpolar\"}],\"scatterpolargl\":[{\"marker\":{\"colorbar\":{\"outlinewidth\":0,\"ticks\":\"\"}},\"type\":\"scatterpolargl\"}],\"scatterternary\":[{\"marker\":{\"colorbar\":{\"outlinewidth\":0,\"ticks\":\"\"}},\"type\":\"scatterternary\"}],\"surface\":[{\"colorbar\":{\"outlinewidth\":0,\"ticks\":\"\"},\"colorscale\":[[0.0,\"#0d0887\"],[0.1111111111111111,\"#46039f\"],[0.2222222222222222,\"#7201a8\"],[0.3333333333333333,\"#9c179e\"],[0.4444444444444444,\"#bd3786\"],[0.5555555555555556,\"#d8576b\"],[0.6666666666666666,\"#ed7953\"],[0.7777777777777778,\"#fb9f3a\"],[0.8888888888888888,\"#fdca26\"],[1.0,\"#f0f921\"]],\"type\":\"surface\"}],\"table\":[{\"cells\":{\"fill\":{\"color\":\"#EBF0F8\"},\"line\":{\"color\":\"white\"}},\"header\":{\"fill\":{\"color\":\"#C8D4E3\"},\"line\":{\"color\":\"white\"}},\"type\":\"table\"}]},\"layout\":{\"annotationdefaults\":{\"arrowcolor\":\"#2a3f5f\",\"arrowhead\":0,\"arrowwidth\":1},\"autotypenumbers\":\"strict\",\"coloraxis\":{\"colorbar\":{\"outlinewidth\":0,\"ticks\":\"\"}},\"colorscale\":{\"diverging\":[[0,\"#8e0152\"],[0.1,\"#c51b7d\"],[0.2,\"#de77ae\"],[0.3,\"#f1b6da\"],[0.4,\"#fde0ef\"],[0.5,\"#f7f7f7\"],[0.6,\"#e6f5d0\"],[0.7,\"#b8e186\"],[0.8,\"#7fbc41\"],[0.9,\"#4d9221\"],[1,\"#276419\"]],\"sequential\":[[0.0,\"#0d0887\"],[0.1111111111111111,\"#46039f\"],[0.2222222222222222,\"#7201a8\"],[0.3333333333333333,\"#9c179e\"],[0.4444444444444444,\"#bd3786\"],[0.5555555555555556,\"#d8576b\"],[0.6666666666666666,\"#ed7953\"],[0.7777777777777778,\"#fb9f3a\"],[0.8888888888888888,\"#fdca26\"],[1.0,\"#f0f921\"]],\"sequentialminus\":[[0.0,\"#0d0887\"],[0.1111111111111111,\"#46039f\"],[0.2222222222222222,\"#7201a8\"],[0.3333333333333333,\"#9c179e\"],[0.4444444444444444,\"#bd3786\"],[0.5555555555555556,\"#d8576b\"],[0.6666666666666666,\"#ed7953\"],[0.7777777777777778,\"#fb9f3a\"],[0.8888888888888888,\"#fdca26\"],[1.0,\"#f0f921\"]]},\"colorway\":[\"#636efa\",\"#EF553B\",\"#00cc96\",\"#ab63fa\",\"#FFA15A\",\"#19d3f3\",\"#FF6692\",\"#B6E880\",\"#FF97FF\",\"#FECB52\"],\"font\":{\"color\":\"#2a3f5f\"},\"geo\":{\"bgcolor\":\"white\",\"lakecolor\":\"white\",\"landcolor\":\"#E5ECF6\",\"showlakes\":true,\"showland\":true,\"subunitcolor\":\"white\"},\"hoverlabel\":{\"align\":\"left\"},\"hovermode\":\"closest\",\"mapbox\":{\"style\":\"light\"},\"paper_bgcolor\":\"white\",\"plot_bgcolor\":\"#E5ECF6\",\"polar\":{\"angularaxis\":{\"gridcolor\":\"white\",\"linecolor\":\"white\",\"ticks\":\"\"},\"bgcolor\":\"#E5ECF6\",\"radialaxis\":{\"gridcolor\":\"white\",\"linecolor\":\"white\",\"ticks\":\"\"}},\"scene\":{\"xaxis\":{\"backgroundcolor\":\"#E5ECF6\",\"gridcolor\":\"white\",\"gridwidth\":2,\"linecolor\":\"white\",\"showbackground\":true,\"ticks\":\"\",\"zerolinecolor\":\"white\"},\"yaxis\":{\"backgroundcolor\":\"#E5ECF6\",\"gridcolor\":\"white\",\"gridwidth\":2,\"linecolor\":\"white\",\"showbackground\":true,\"ticks\":\"\",\"zerolinecolor\":\"white\"},\"zaxis\":{\"backgroundcolor\":\"#E5ECF6\",\"gridcolor\":\"white\",\"gridwidth\":2,\"linecolor\":\"white\",\"showbackground\":true,\"ticks\":\"\",\"zerolinecolor\":\"white\"}},\"shapedefaults\":{\"line\":{\"color\":\"#2a3f5f\"}},\"ternary\":{\"aaxis\":{\"gridcolor\":\"white\",\"linecolor\":\"white\",\"ticks\":\"\"},\"baxis\":{\"gridcolor\":\"white\",\"linecolor\":\"white\",\"ticks\":\"\"},\"bgcolor\":\"#E5ECF6\",\"caxis\":{\"gridcolor\":\"white\",\"linecolor\":\"white\",\"ticks\":\"\"}},\"title\":{\"x\":0.05},\"xaxis\":{\"automargin\":true,\"gridcolor\":\"white\",\"linecolor\":\"white\",\"ticks\":\"\",\"title\":{\"standoff\":15},\"zerolinecolor\":\"white\",\"zerolinewidth\":2},\"yaxis\":{\"automargin\":true,\"gridcolor\":\"white\",\"linecolor\":\"white\",\"ticks\":\"\",\"title\":{\"standoff\":15},\"zerolinecolor\":\"white\",\"zerolinewidth\":2}}},\"polar\":{\"radialaxis\":{\"visible\":true,\"range\":[0,1]}},\"showlegend\":true},                        {\"responsive\": true}                    ).then(function(){\n",
       "                            \n",
       "var gd = document.getElementById('5efd3dd2-e2ef-4614-9f4e-4bb538062aea');\n",
       "var x = new MutationObserver(function (mutations, observer) {{\n",
       "        var display = window.getComputedStyle(gd).display;\n",
       "        if (!display || display === 'none') {{\n",
       "            console.log([gd, 'removed!']);\n",
       "            Plotly.purge(gd);\n",
       "            observer.disconnect();\n",
       "        }}\n",
       "}});\n",
       "\n",
       "// Listen for the removal of the full notebook cells\n",
       "var notebookContainer = gd.closest('#notebook-container');\n",
       "if (notebookContainer) {{\n",
       "    x.observe(notebookContainer, {childList: true});\n",
       "}}\n",
       "\n",
       "// Listen for the clearing of the current output cell\n",
       "var outputEl = gd.closest('.output');\n",
       "if (outputEl) {{\n",
       "    x.observe(outputEl, {childList: true});\n",
       "}}\n",
       "\n",
       "                        })                };                });            </script>        </div>"
      ]
     },
     "metadata": {},
     "output_type": "display_data"
    }
   ],
   "source": [
    "polarplt(df3, 'cluster_t3', selection)"
   ]
  },
  {
   "cell_type": "code",
   "execution_count": 218,
   "metadata": {},
   "outputs": [
    {
     "data": {
      "application/vnd.plotly.v1+json": {
       "config": {
        "plotlyServerURL": "https://plot.ly"
       },
       "data": [
        {
         "name": "cluster 3",
         "r": [
          0.8312058913777262,
          1,
          0.34466148710247974,
          0.25997238416692237,
          0.5824693985391093,
          0.19471080085915926,
          0.008898435102792267,
          0.043878490334458425,
          null,
          null,
          0.029571954587296716,
          null,
          null,
          0.032857727319218065,
          0.5321417612764652,
          0.17647474494834348,
          0.16928358325589696
         ],
         "theta": [
          "Cus_mean_review_score",
          "Number_of_orders",
          "Recency",
          "Number_of_articles",
          "log_Spending",
          "cool_stuff",
          "pet_shop",
          "home_confort",
          "health_beauty",
          "electronics",
          "industry_commerce_construction",
          "arts_video_audio",
          "clothing_and_bags",
          "auto",
          "MUM_of_payment_a",
          "delay_delivery",
          "distance",
          "cluster_t3",
          "cluster_M0"
         ],
         "type": "scatterpolar"
        },
        {
         "name": "cluster 4",
         "r": [
          0.8941311266709377,
          0.5013367281985996,
          0.21829760164772838,
          0.15082749840865692,
          0.5552467518715625,
          0.0001273074474856779,
          0.00859325270528326,
          0.003946530872056015,
          0.0002546148949713558,
          0.08621896880967536,
          0.052535539995757406,
          0.0005092297899427117,
          null,
          0.026798217695734986,
          0.3429344366645449,
          0.10381150113778358,
          0.1591047011415425
         ],
         "theta": [
          "Cus_mean_review_score",
          "Number_of_orders",
          "Recency",
          "Number_of_articles",
          "log_Spending",
          "cool_stuff",
          "pet_shop",
          "home_confort",
          "health_beauty",
          "electronics",
          "industry_commerce_construction",
          "arts_video_audio",
          "clothing_and_bags",
          "auto",
          "MUM_of_payment_a",
          "delay_delivery",
          "distance",
          "cluster_t3",
          "cluster_M0"
         ],
         "type": "scatterpolar"
        },
        {
         "name": "cluster 0",
         "r": [
          0.3065320334261969,
          0.5021587743732591,
          0.288073668917553,
          0.18481894150418302,
          0.5667298507597094,
          0.03384401114206128,
          0.006963788300835654,
          0.12195914577530403,
          0.07994428969359331,
          0.04355849582172702,
          0.026114206128133706,
          0.026323119777158625,
          0.02214484679665738,
          0.013370473537604422,
          0.34268802228412254,
          -0.15759683057348894,
          0.13528065041082368
         ],
         "theta": [
          "Cus_mean_review_score",
          "Number_of_orders",
          "Recency",
          "Number_of_articles",
          "log_Spending",
          "cool_stuff",
          "pet_shop",
          "home_confort",
          "health_beauty",
          "electronics",
          "industry_commerce_construction",
          "arts_video_audio",
          "clothing_and_bags",
          "auto",
          "MUM_of_payment_a",
          "delay_delivery",
          "distance",
          "cluster_t3",
          "cluster_M0"
         ],
         "type": "scatterpolar"
        },
        {
         "name": "cluster 7",
         "r": [
          0.9014555542886565,
          0.5002470261847756,
          0.37544394258333225,
          0.27201383346634744,
          0.5869921906297884,
          0.032341428191388286,
          0.011610230684452553,
          0.38070535476760536,
          0.0015961691939345571,
          0.03712993577319196,
          0.004332459240679512,
          0.042317485653479266,
          0.0037243947858473,
          0.016987800706874927,
          0.3290673811424011,
          0.12094668650848403,
          0.148389702861566
         ],
         "theta": [
          "Cus_mean_review_score",
          "Number_of_orders",
          "Recency",
          "Number_of_articles",
          "log_Spending",
          "cool_stuff",
          "pet_shop",
          "home_confort",
          "health_beauty",
          "electronics",
          "industry_commerce_construction",
          "arts_video_audio",
          "clothing_and_bags",
          "auto",
          "MUM_of_payment_a",
          "delay_delivery",
          "distance",
          "cluster_t3",
          "cluster_M0"
         ],
         "type": "scatterpolar"
        },
        {
         "name": "cluster 8",
         "r": [
          0.8074816446402346,
          0.14711820851688756,
          0.30085191107779335,
          0.13714075938745637,
          0.6412829956351564,
          0.03524229074889868,
          0.007158590308370044,
          0.04955947136563876,
          0.11868051185231883,
          0.015969162995594713,
          0.014390602055800283,
          0.007709251101321586,
          0.006057268722466961,
          0.009361233480176211,
          0.30231277533039647,
          0.2781489792784528,
          0.17298256421148797
         ],
         "theta": [
          "Cus_mean_review_score",
          "Number_of_orders",
          "Recency",
          "Number_of_articles",
          "log_Spending",
          "cool_stuff",
          "pet_shop",
          "home_confort",
          "health_beauty",
          "electronics",
          "industry_commerce_construction",
          "arts_video_audio",
          "clothing_and_bags",
          "auto",
          "MUM_of_payment_a",
          "delay_delivery",
          "distance",
          "cluster_t3",
          "cluster_M0"
         ],
         "type": "scatterpolar"
        },
        {
         "name": "cluster 1",
         "r": [
          0.8327365728900394,
          0.5429302155644866,
          0.44951116601612123,
          0.17310402421837476,
          0.5723431160692395,
          0.040503157784852646,
          0.0025575447570332483,
          0.005480453050785532,
          0.007124588966021191,
          0.06379247351114178,
          0.0034709535988308366,
          0.019510412860796623,
          0.12139203507489953,
          0.001826817683595177,
          0.35467665327000364,
          0.21112969117716737,
          0.2091152262495802
         ],
         "theta": [
          "Cus_mean_review_score",
          "Number_of_orders",
          "Recency",
          "Number_of_articles",
          "log_Spending",
          "cool_stuff",
          "pet_shop",
          "home_confort",
          "health_beauty",
          "electronics",
          "industry_commerce_construction",
          "arts_video_audio",
          "clothing_and_bags",
          "auto",
          "MUM_of_payment_a",
          "delay_delivery",
          "distance",
          "cluster_t3",
          "cluster_M0"
         ],
         "type": "scatterpolar"
        },
        {
         "name": "cluster 6",
         "r": [
          0.758297742186632,
          0.1859081303525734,
          0.32874514136252797,
          0.16504004004003883,
          0.5882109476730326,
          0.010552218885552208,
          0.004790504790504792,
          0.11966132799466106,
          0.012679346012679336,
          0.007057057057057066,
          0.010510510510510513,
          0.0036822536822536836,
          0.009938509938509931,
          0.004754754754754755,
          0.3139389389389389,
          0.17521963451207126,
          0.15545453537545906
         ],
         "theta": [
          "Cus_mean_review_score",
          "Number_of_orders",
          "Recency",
          "Number_of_articles",
          "log_Spending",
          "cool_stuff",
          "pet_shop",
          "home_confort",
          "health_beauty",
          "electronics",
          "industry_commerce_construction",
          "arts_video_audio",
          "clothing_and_bags",
          "auto",
          "MUM_of_payment_a",
          "delay_delivery",
          "distance",
          "cluster_t3",
          "cluster_M0"
         ],
         "type": "scatterpolar"
        },
        {
         "name": "cluster 5",
         "r": [
          0.8870729762062783,
          0.500697859896318,
          0.33335728551026983,
          0.3575479640214237,
          0.5680118188807699,
          0.0007310913199521467,
          6.646284726837697e-05,
          0.0007975541672205237,
          0.5345606805795561,
          0.00033231423634188487,
          0.00039877708361026184,
          0.0013957197926359164,
          null,
          null,
          0.31423634188488636,
          0.19817318873262882,
          0.16119921029090856
         ],
         "theta": [
          "Cus_mean_review_score",
          "Number_of_orders",
          "Recency",
          "Number_of_articles",
          "log_Spending",
          "cool_stuff",
          "pet_shop",
          "home_confort",
          "health_beauty",
          "electronics",
          "industry_commerce_construction",
          "arts_video_audio",
          "clothing_and_bags",
          "auto",
          "MUM_of_payment_a",
          "delay_delivery",
          "distance",
          "cluster_t3",
          "cluster_M0"
         ],
         "type": "scatterpolar"
        },
        {
         "name": "cluster 2",
         "r": [
          0.9164528969482628,
          0.3447589562140486,
          0.23947903909277646,
          0.10391788294264556,
          0.5542556454565865,
          0.002764263600176913,
          0.021395400265369305,
          0.003980539584254755,
          0.0017691287041132243,
          null,
          0.04367536488279571,
          0.0011057054400707652,
          0.050457024915230596,
          0.006910659000442282,
          0.3073308270676692,
          0.23892147901957023,
          0.114330129246699
         ],
         "theta": [
          "Cus_mean_review_score",
          "Number_of_orders",
          "Recency",
          "Number_of_articles",
          "log_Spending",
          "cool_stuff",
          "pet_shop",
          "home_confort",
          "health_beauty",
          "electronics",
          "industry_commerce_construction",
          "arts_video_audio",
          "clothing_and_bags",
          "auto",
          "MUM_of_payment_a",
          "delay_delivery",
          "distance",
          "cluster_t3",
          "cluster_M0"
         ],
         "type": "scatterpolar"
        }
       ],
       "layout": {
        "polar": {
         "radialaxis": {
          "range": [
           0,
           1
          ],
          "visible": true
         }
        },
        "showlegend": true,
        "template": {
         "data": {
          "bar": [
           {
            "error_x": {
             "color": "#2a3f5f"
            },
            "error_y": {
             "color": "#2a3f5f"
            },
            "marker": {
             "line": {
              "color": "#E5ECF6",
              "width": 0.5
             },
             "pattern": {
              "fillmode": "overlay",
              "size": 10,
              "solidity": 0.2
             }
            },
            "type": "bar"
           }
          ],
          "barpolar": [
           {
            "marker": {
             "line": {
              "color": "#E5ECF6",
              "width": 0.5
             },
             "pattern": {
              "fillmode": "overlay",
              "size": 10,
              "solidity": 0.2
             }
            },
            "type": "barpolar"
           }
          ],
          "carpet": [
           {
            "aaxis": {
             "endlinecolor": "#2a3f5f",
             "gridcolor": "white",
             "linecolor": "white",
             "minorgridcolor": "white",
             "startlinecolor": "#2a3f5f"
            },
            "baxis": {
             "endlinecolor": "#2a3f5f",
             "gridcolor": "white",
             "linecolor": "white",
             "minorgridcolor": "white",
             "startlinecolor": "#2a3f5f"
            },
            "type": "carpet"
           }
          ],
          "choropleth": [
           {
            "colorbar": {
             "outlinewidth": 0,
             "ticks": ""
            },
            "type": "choropleth"
           }
          ],
          "contour": [
           {
            "colorbar": {
             "outlinewidth": 0,
             "ticks": ""
            },
            "colorscale": [
             [
              0,
              "#0d0887"
             ],
             [
              0.1111111111111111,
              "#46039f"
             ],
             [
              0.2222222222222222,
              "#7201a8"
             ],
             [
              0.3333333333333333,
              "#9c179e"
             ],
             [
              0.4444444444444444,
              "#bd3786"
             ],
             [
              0.5555555555555556,
              "#d8576b"
             ],
             [
              0.6666666666666666,
              "#ed7953"
             ],
             [
              0.7777777777777778,
              "#fb9f3a"
             ],
             [
              0.8888888888888888,
              "#fdca26"
             ],
             [
              1,
              "#f0f921"
             ]
            ],
            "type": "contour"
           }
          ],
          "contourcarpet": [
           {
            "colorbar": {
             "outlinewidth": 0,
             "ticks": ""
            },
            "type": "contourcarpet"
           }
          ],
          "heatmap": [
           {
            "colorbar": {
             "outlinewidth": 0,
             "ticks": ""
            },
            "colorscale": [
             [
              0,
              "#0d0887"
             ],
             [
              0.1111111111111111,
              "#46039f"
             ],
             [
              0.2222222222222222,
              "#7201a8"
             ],
             [
              0.3333333333333333,
              "#9c179e"
             ],
             [
              0.4444444444444444,
              "#bd3786"
             ],
             [
              0.5555555555555556,
              "#d8576b"
             ],
             [
              0.6666666666666666,
              "#ed7953"
             ],
             [
              0.7777777777777778,
              "#fb9f3a"
             ],
             [
              0.8888888888888888,
              "#fdca26"
             ],
             [
              1,
              "#f0f921"
             ]
            ],
            "type": "heatmap"
           }
          ],
          "heatmapgl": [
           {
            "colorbar": {
             "outlinewidth": 0,
             "ticks": ""
            },
            "colorscale": [
             [
              0,
              "#0d0887"
             ],
             [
              0.1111111111111111,
              "#46039f"
             ],
             [
              0.2222222222222222,
              "#7201a8"
             ],
             [
              0.3333333333333333,
              "#9c179e"
             ],
             [
              0.4444444444444444,
              "#bd3786"
             ],
             [
              0.5555555555555556,
              "#d8576b"
             ],
             [
              0.6666666666666666,
              "#ed7953"
             ],
             [
              0.7777777777777778,
              "#fb9f3a"
             ],
             [
              0.8888888888888888,
              "#fdca26"
             ],
             [
              1,
              "#f0f921"
             ]
            ],
            "type": "heatmapgl"
           }
          ],
          "histogram": [
           {
            "marker": {
             "pattern": {
              "fillmode": "overlay",
              "size": 10,
              "solidity": 0.2
             }
            },
            "type": "histogram"
           }
          ],
          "histogram2d": [
           {
            "colorbar": {
             "outlinewidth": 0,
             "ticks": ""
            },
            "colorscale": [
             [
              0,
              "#0d0887"
             ],
             [
              0.1111111111111111,
              "#46039f"
             ],
             [
              0.2222222222222222,
              "#7201a8"
             ],
             [
              0.3333333333333333,
              "#9c179e"
             ],
             [
              0.4444444444444444,
              "#bd3786"
             ],
             [
              0.5555555555555556,
              "#d8576b"
             ],
             [
              0.6666666666666666,
              "#ed7953"
             ],
             [
              0.7777777777777778,
              "#fb9f3a"
             ],
             [
              0.8888888888888888,
              "#fdca26"
             ],
             [
              1,
              "#f0f921"
             ]
            ],
            "type": "histogram2d"
           }
          ],
          "histogram2dcontour": [
           {
            "colorbar": {
             "outlinewidth": 0,
             "ticks": ""
            },
            "colorscale": [
             [
              0,
              "#0d0887"
             ],
             [
              0.1111111111111111,
              "#46039f"
             ],
             [
              0.2222222222222222,
              "#7201a8"
             ],
             [
              0.3333333333333333,
              "#9c179e"
             ],
             [
              0.4444444444444444,
              "#bd3786"
             ],
             [
              0.5555555555555556,
              "#d8576b"
             ],
             [
              0.6666666666666666,
              "#ed7953"
             ],
             [
              0.7777777777777778,
              "#fb9f3a"
             ],
             [
              0.8888888888888888,
              "#fdca26"
             ],
             [
              1,
              "#f0f921"
             ]
            ],
            "type": "histogram2dcontour"
           }
          ],
          "mesh3d": [
           {
            "colorbar": {
             "outlinewidth": 0,
             "ticks": ""
            },
            "type": "mesh3d"
           }
          ],
          "parcoords": [
           {
            "line": {
             "colorbar": {
              "outlinewidth": 0,
              "ticks": ""
             }
            },
            "type": "parcoords"
           }
          ],
          "pie": [
           {
            "automargin": true,
            "type": "pie"
           }
          ],
          "scatter": [
           {
            "marker": {
             "colorbar": {
              "outlinewidth": 0,
              "ticks": ""
             }
            },
            "type": "scatter"
           }
          ],
          "scatter3d": [
           {
            "line": {
             "colorbar": {
              "outlinewidth": 0,
              "ticks": ""
             }
            },
            "marker": {
             "colorbar": {
              "outlinewidth": 0,
              "ticks": ""
             }
            },
            "type": "scatter3d"
           }
          ],
          "scattercarpet": [
           {
            "marker": {
             "colorbar": {
              "outlinewidth": 0,
              "ticks": ""
             }
            },
            "type": "scattercarpet"
           }
          ],
          "scattergeo": [
           {
            "marker": {
             "colorbar": {
              "outlinewidth": 0,
              "ticks": ""
             }
            },
            "type": "scattergeo"
           }
          ],
          "scattergl": [
           {
            "marker": {
             "colorbar": {
              "outlinewidth": 0,
              "ticks": ""
             }
            },
            "type": "scattergl"
           }
          ],
          "scattermapbox": [
           {
            "marker": {
             "colorbar": {
              "outlinewidth": 0,
              "ticks": ""
             }
            },
            "type": "scattermapbox"
           }
          ],
          "scatterpolar": [
           {
            "marker": {
             "colorbar": {
              "outlinewidth": 0,
              "ticks": ""
             }
            },
            "type": "scatterpolar"
           }
          ],
          "scatterpolargl": [
           {
            "marker": {
             "colorbar": {
              "outlinewidth": 0,
              "ticks": ""
             }
            },
            "type": "scatterpolargl"
           }
          ],
          "scatterternary": [
           {
            "marker": {
             "colorbar": {
              "outlinewidth": 0,
              "ticks": ""
             }
            },
            "type": "scatterternary"
           }
          ],
          "surface": [
           {
            "colorbar": {
             "outlinewidth": 0,
             "ticks": ""
            },
            "colorscale": [
             [
              0,
              "#0d0887"
             ],
             [
              0.1111111111111111,
              "#46039f"
             ],
             [
              0.2222222222222222,
              "#7201a8"
             ],
             [
              0.3333333333333333,
              "#9c179e"
             ],
             [
              0.4444444444444444,
              "#bd3786"
             ],
             [
              0.5555555555555556,
              "#d8576b"
             ],
             [
              0.6666666666666666,
              "#ed7953"
             ],
             [
              0.7777777777777778,
              "#fb9f3a"
             ],
             [
              0.8888888888888888,
              "#fdca26"
             ],
             [
              1,
              "#f0f921"
             ]
            ],
            "type": "surface"
           }
          ],
          "table": [
           {
            "cells": {
             "fill": {
              "color": "#EBF0F8"
             },
             "line": {
              "color": "white"
             }
            },
            "header": {
             "fill": {
              "color": "#C8D4E3"
             },
             "line": {
              "color": "white"
             }
            },
            "type": "table"
           }
          ]
         },
         "layout": {
          "annotationdefaults": {
           "arrowcolor": "#2a3f5f",
           "arrowhead": 0,
           "arrowwidth": 1
          },
          "autotypenumbers": "strict",
          "coloraxis": {
           "colorbar": {
            "outlinewidth": 0,
            "ticks": ""
           }
          },
          "colorscale": {
           "diverging": [
            [
             0,
             "#8e0152"
            ],
            [
             0.1,
             "#c51b7d"
            ],
            [
             0.2,
             "#de77ae"
            ],
            [
             0.3,
             "#f1b6da"
            ],
            [
             0.4,
             "#fde0ef"
            ],
            [
             0.5,
             "#f7f7f7"
            ],
            [
             0.6,
             "#e6f5d0"
            ],
            [
             0.7,
             "#b8e186"
            ],
            [
             0.8,
             "#7fbc41"
            ],
            [
             0.9,
             "#4d9221"
            ],
            [
             1,
             "#276419"
            ]
           ],
           "sequential": [
            [
             0,
             "#0d0887"
            ],
            [
             0.1111111111111111,
             "#46039f"
            ],
            [
             0.2222222222222222,
             "#7201a8"
            ],
            [
             0.3333333333333333,
             "#9c179e"
            ],
            [
             0.4444444444444444,
             "#bd3786"
            ],
            [
             0.5555555555555556,
             "#d8576b"
            ],
            [
             0.6666666666666666,
             "#ed7953"
            ],
            [
             0.7777777777777778,
             "#fb9f3a"
            ],
            [
             0.8888888888888888,
             "#fdca26"
            ],
            [
             1,
             "#f0f921"
            ]
           ],
           "sequentialminus": [
            [
             0,
             "#0d0887"
            ],
            [
             0.1111111111111111,
             "#46039f"
            ],
            [
             0.2222222222222222,
             "#7201a8"
            ],
            [
             0.3333333333333333,
             "#9c179e"
            ],
            [
             0.4444444444444444,
             "#bd3786"
            ],
            [
             0.5555555555555556,
             "#d8576b"
            ],
            [
             0.6666666666666666,
             "#ed7953"
            ],
            [
             0.7777777777777778,
             "#fb9f3a"
            ],
            [
             0.8888888888888888,
             "#fdca26"
            ],
            [
             1,
             "#f0f921"
            ]
           ]
          },
          "colorway": [
           "#636efa",
           "#EF553B",
           "#00cc96",
           "#ab63fa",
           "#FFA15A",
           "#19d3f3",
           "#FF6692",
           "#B6E880",
           "#FF97FF",
           "#FECB52"
          ],
          "font": {
           "color": "#2a3f5f"
          },
          "geo": {
           "bgcolor": "white",
           "lakecolor": "white",
           "landcolor": "#E5ECF6",
           "showlakes": true,
           "showland": true,
           "subunitcolor": "white"
          },
          "hoverlabel": {
           "align": "left"
          },
          "hovermode": "closest",
          "mapbox": {
           "style": "light"
          },
          "paper_bgcolor": "white",
          "plot_bgcolor": "#E5ECF6",
          "polar": {
           "angularaxis": {
            "gridcolor": "white",
            "linecolor": "white",
            "ticks": ""
           },
           "bgcolor": "#E5ECF6",
           "radialaxis": {
            "gridcolor": "white",
            "linecolor": "white",
            "ticks": ""
           }
          },
          "scene": {
           "xaxis": {
            "backgroundcolor": "#E5ECF6",
            "gridcolor": "white",
            "gridwidth": 2,
            "linecolor": "white",
            "showbackground": true,
            "ticks": "",
            "zerolinecolor": "white"
           },
           "yaxis": {
            "backgroundcolor": "#E5ECF6",
            "gridcolor": "white",
            "gridwidth": 2,
            "linecolor": "white",
            "showbackground": true,
            "ticks": "",
            "zerolinecolor": "white"
           },
           "zaxis": {
            "backgroundcolor": "#E5ECF6",
            "gridcolor": "white",
            "gridwidth": 2,
            "linecolor": "white",
            "showbackground": true,
            "ticks": "",
            "zerolinecolor": "white"
           }
          },
          "shapedefaults": {
           "line": {
            "color": "#2a3f5f"
           }
          },
          "ternary": {
           "aaxis": {
            "gridcolor": "white",
            "linecolor": "white",
            "ticks": ""
           },
           "baxis": {
            "gridcolor": "white",
            "linecolor": "white",
            "ticks": ""
           },
           "bgcolor": "#E5ECF6",
           "caxis": {
            "gridcolor": "white",
            "linecolor": "white",
            "ticks": ""
           }
          },
          "title": {
           "x": 0.05
          },
          "xaxis": {
           "automargin": true,
           "gridcolor": "white",
           "linecolor": "white",
           "ticks": "",
           "title": {
            "standoff": 15
           },
           "zerolinecolor": "white",
           "zerolinewidth": 2
          },
          "yaxis": {
           "automargin": true,
           "gridcolor": "white",
           "linecolor": "white",
           "ticks": "",
           "title": {
            "standoff": 15
           },
           "zerolinecolor": "white",
           "zerolinewidth": 2
          }
         }
        }
       }
      },
      "text/html": [
       "<div>                            <div id=\"83c5f311-bcef-46cc-aed1-0e443518997e\" class=\"plotly-graph-div\" style=\"height:525px; width:100%;\"></div>            <script type=\"text/javascript\">                require([\"plotly\"], function(Plotly) {                    window.PLOTLYENV=window.PLOTLYENV || {};                                    if (document.getElementById(\"83c5f311-bcef-46cc-aed1-0e443518997e\")) {                    Plotly.newPlot(                        \"83c5f311-bcef-46cc-aed1-0e443518997e\",                        [{\"name\":\"cluster 3\",\"r\":[0.8312058913777262,1.0,0.34466148710247974,0.25997238416692237,0.5824693985391093,0.19471080085915926,0.008898435102792267,0.043878490334458425,null,null,0.029571954587296716,null,null,0.032857727319218065,0.5321417612764652,0.17647474494834348,0.16928358325589696],\"theta\":[\"Cus_mean_review_score\",\"Number_of_orders\",\"Recency\",\"Number_of_articles\",\"log_Spending\",\"cool_stuff\",\"pet_shop\",\"home_confort\",\"health_beauty\",\"electronics\",\"industry_commerce_construction\",\"arts_video_audio\",\"clothing_and_bags\",\"auto\",\"MUM_of_payment_a\",\"delay_delivery\",\"distance\",\"cluster_t3\",\"cluster_M0\"],\"type\":\"scatterpolar\"},{\"name\":\"cluster 4\",\"r\":[0.8941311266709377,0.5013367281985996,0.21829760164772838,0.15082749840865692,0.5552467518715625,0.0001273074474856779,0.00859325270528326,0.003946530872056015,0.0002546148949713558,0.08621896880967536,0.052535539995757406,0.0005092297899427117,null,0.026798217695734986,0.3429344366645449,0.10381150113778358,0.1591047011415425],\"theta\":[\"Cus_mean_review_score\",\"Number_of_orders\",\"Recency\",\"Number_of_articles\",\"log_Spending\",\"cool_stuff\",\"pet_shop\",\"home_confort\",\"health_beauty\",\"electronics\",\"industry_commerce_construction\",\"arts_video_audio\",\"clothing_and_bags\",\"auto\",\"MUM_of_payment_a\",\"delay_delivery\",\"distance\",\"cluster_t3\",\"cluster_M0\"],\"type\":\"scatterpolar\"},{\"name\":\"cluster 0\",\"r\":[0.3065320334261969,0.5021587743732591,0.288073668917553,0.18481894150418302,0.5667298507597094,0.03384401114206128,0.006963788300835654,0.12195914577530403,0.07994428969359331,0.04355849582172702,0.026114206128133706,0.026323119777158625,0.02214484679665738,0.013370473537604422,0.34268802228412254,-0.15759683057348894,0.13528065041082368],\"theta\":[\"Cus_mean_review_score\",\"Number_of_orders\",\"Recency\",\"Number_of_articles\",\"log_Spending\",\"cool_stuff\",\"pet_shop\",\"home_confort\",\"health_beauty\",\"electronics\",\"industry_commerce_construction\",\"arts_video_audio\",\"clothing_and_bags\",\"auto\",\"MUM_of_payment_a\",\"delay_delivery\",\"distance\",\"cluster_t3\",\"cluster_M0\"],\"type\":\"scatterpolar\"},{\"name\":\"cluster 7\",\"r\":[0.9014555542886565,0.5002470261847756,0.37544394258333225,0.27201383346634744,0.5869921906297884,0.032341428191388286,0.011610230684452553,0.38070535476760536,0.0015961691939345571,0.03712993577319196,0.004332459240679512,0.042317485653479266,0.0037243947858473,0.016987800706874927,0.3290673811424011,0.12094668650848403,0.148389702861566],\"theta\":[\"Cus_mean_review_score\",\"Number_of_orders\",\"Recency\",\"Number_of_articles\",\"log_Spending\",\"cool_stuff\",\"pet_shop\",\"home_confort\",\"health_beauty\",\"electronics\",\"industry_commerce_construction\",\"arts_video_audio\",\"clothing_and_bags\",\"auto\",\"MUM_of_payment_a\",\"delay_delivery\",\"distance\",\"cluster_t3\",\"cluster_M0\"],\"type\":\"scatterpolar\"},{\"name\":\"cluster 8\",\"r\":[0.8074816446402346,0.14711820851688756,0.30085191107779335,0.13714075938745637,0.6412829956351564,0.03524229074889868,0.007158590308370044,0.04955947136563876,0.11868051185231883,0.015969162995594713,0.014390602055800283,0.007709251101321586,0.006057268722466961,0.009361233480176211,0.30231277533039647,0.2781489792784528,0.17298256421148797],\"theta\":[\"Cus_mean_review_score\",\"Number_of_orders\",\"Recency\",\"Number_of_articles\",\"log_Spending\",\"cool_stuff\",\"pet_shop\",\"home_confort\",\"health_beauty\",\"electronics\",\"industry_commerce_construction\",\"arts_video_audio\",\"clothing_and_bags\",\"auto\",\"MUM_of_payment_a\",\"delay_delivery\",\"distance\",\"cluster_t3\",\"cluster_M0\"],\"type\":\"scatterpolar\"},{\"name\":\"cluster 1\",\"r\":[0.8327365728900394,0.5429302155644866,0.44951116601612123,0.17310402421837476,0.5723431160692395,0.040503157784852646,0.0025575447570332483,0.005480453050785532,0.007124588966021191,0.06379247351114178,0.0034709535988308366,0.019510412860796623,0.12139203507489953,0.001826817683595177,0.35467665327000364,0.21112969117716737,0.2091152262495802],\"theta\":[\"Cus_mean_review_score\",\"Number_of_orders\",\"Recency\",\"Number_of_articles\",\"log_Spending\",\"cool_stuff\",\"pet_shop\",\"home_confort\",\"health_beauty\",\"electronics\",\"industry_commerce_construction\",\"arts_video_audio\",\"clothing_and_bags\",\"auto\",\"MUM_of_payment_a\",\"delay_delivery\",\"distance\",\"cluster_t3\",\"cluster_M0\"],\"type\":\"scatterpolar\"},{\"name\":\"cluster 6\",\"r\":[0.758297742186632,0.1859081303525734,0.32874514136252797,0.16504004004003883,0.5882109476730326,0.010552218885552208,0.004790504790504792,0.11966132799466106,0.012679346012679336,0.007057057057057066,0.010510510510510513,0.0036822536822536836,0.009938509938509931,0.004754754754754755,0.3139389389389389,0.17521963451207126,0.15545453537545906],\"theta\":[\"Cus_mean_review_score\",\"Number_of_orders\",\"Recency\",\"Number_of_articles\",\"log_Spending\",\"cool_stuff\",\"pet_shop\",\"home_confort\",\"health_beauty\",\"electronics\",\"industry_commerce_construction\",\"arts_video_audio\",\"clothing_and_bags\",\"auto\",\"MUM_of_payment_a\",\"delay_delivery\",\"distance\",\"cluster_t3\",\"cluster_M0\"],\"type\":\"scatterpolar\"},{\"name\":\"cluster 5\",\"r\":[0.8870729762062783,0.500697859896318,0.33335728551026983,0.3575479640214237,0.5680118188807699,0.0007310913199521467,6.646284726837697e-05,0.0007975541672205237,0.5345606805795561,0.00033231423634188487,0.00039877708361026184,0.0013957197926359164,null,null,0.31423634188488636,0.19817318873262882,0.16119921029090856],\"theta\":[\"Cus_mean_review_score\",\"Number_of_orders\",\"Recency\",\"Number_of_articles\",\"log_Spending\",\"cool_stuff\",\"pet_shop\",\"home_confort\",\"health_beauty\",\"electronics\",\"industry_commerce_construction\",\"arts_video_audio\",\"clothing_and_bags\",\"auto\",\"MUM_of_payment_a\",\"delay_delivery\",\"distance\",\"cluster_t3\",\"cluster_M0\"],\"type\":\"scatterpolar\"},{\"name\":\"cluster 2\",\"r\":[0.9164528969482628,0.3447589562140486,0.23947903909277646,0.10391788294264556,0.5542556454565865,0.002764263600176913,0.021395400265369305,0.003980539584254755,0.0017691287041132243,null,0.04367536488279571,0.0011057054400707652,0.050457024915230596,0.006910659000442282,0.3073308270676692,0.23892147901957023,0.114330129246699],\"theta\":[\"Cus_mean_review_score\",\"Number_of_orders\",\"Recency\",\"Number_of_articles\",\"log_Spending\",\"cool_stuff\",\"pet_shop\",\"home_confort\",\"health_beauty\",\"electronics\",\"industry_commerce_construction\",\"arts_video_audio\",\"clothing_and_bags\",\"auto\",\"MUM_of_payment_a\",\"delay_delivery\",\"distance\",\"cluster_t3\",\"cluster_M0\"],\"type\":\"scatterpolar\"}],                        {\"template\":{\"data\":{\"bar\":[{\"error_x\":{\"color\":\"#2a3f5f\"},\"error_y\":{\"color\":\"#2a3f5f\"},\"marker\":{\"line\":{\"color\":\"#E5ECF6\",\"width\":0.5},\"pattern\":{\"fillmode\":\"overlay\",\"size\":10,\"solidity\":0.2}},\"type\":\"bar\"}],\"barpolar\":[{\"marker\":{\"line\":{\"color\":\"#E5ECF6\",\"width\":0.5},\"pattern\":{\"fillmode\":\"overlay\",\"size\":10,\"solidity\":0.2}},\"type\":\"barpolar\"}],\"carpet\":[{\"aaxis\":{\"endlinecolor\":\"#2a3f5f\",\"gridcolor\":\"white\",\"linecolor\":\"white\",\"minorgridcolor\":\"white\",\"startlinecolor\":\"#2a3f5f\"},\"baxis\":{\"endlinecolor\":\"#2a3f5f\",\"gridcolor\":\"white\",\"linecolor\":\"white\",\"minorgridcolor\":\"white\",\"startlinecolor\":\"#2a3f5f\"},\"type\":\"carpet\"}],\"choropleth\":[{\"colorbar\":{\"outlinewidth\":0,\"ticks\":\"\"},\"type\":\"choropleth\"}],\"contour\":[{\"colorbar\":{\"outlinewidth\":0,\"ticks\":\"\"},\"colorscale\":[[0.0,\"#0d0887\"],[0.1111111111111111,\"#46039f\"],[0.2222222222222222,\"#7201a8\"],[0.3333333333333333,\"#9c179e\"],[0.4444444444444444,\"#bd3786\"],[0.5555555555555556,\"#d8576b\"],[0.6666666666666666,\"#ed7953\"],[0.7777777777777778,\"#fb9f3a\"],[0.8888888888888888,\"#fdca26\"],[1.0,\"#f0f921\"]],\"type\":\"contour\"}],\"contourcarpet\":[{\"colorbar\":{\"outlinewidth\":0,\"ticks\":\"\"},\"type\":\"contourcarpet\"}],\"heatmap\":[{\"colorbar\":{\"outlinewidth\":0,\"ticks\":\"\"},\"colorscale\":[[0.0,\"#0d0887\"],[0.1111111111111111,\"#46039f\"],[0.2222222222222222,\"#7201a8\"],[0.3333333333333333,\"#9c179e\"],[0.4444444444444444,\"#bd3786\"],[0.5555555555555556,\"#d8576b\"],[0.6666666666666666,\"#ed7953\"],[0.7777777777777778,\"#fb9f3a\"],[0.8888888888888888,\"#fdca26\"],[1.0,\"#f0f921\"]],\"type\":\"heatmap\"}],\"heatmapgl\":[{\"colorbar\":{\"outlinewidth\":0,\"ticks\":\"\"},\"colorscale\":[[0.0,\"#0d0887\"],[0.1111111111111111,\"#46039f\"],[0.2222222222222222,\"#7201a8\"],[0.3333333333333333,\"#9c179e\"],[0.4444444444444444,\"#bd3786\"],[0.5555555555555556,\"#d8576b\"],[0.6666666666666666,\"#ed7953\"],[0.7777777777777778,\"#fb9f3a\"],[0.8888888888888888,\"#fdca26\"],[1.0,\"#f0f921\"]],\"type\":\"heatmapgl\"}],\"histogram\":[{\"marker\":{\"pattern\":{\"fillmode\":\"overlay\",\"size\":10,\"solidity\":0.2}},\"type\":\"histogram\"}],\"histogram2d\":[{\"colorbar\":{\"outlinewidth\":0,\"ticks\":\"\"},\"colorscale\":[[0.0,\"#0d0887\"],[0.1111111111111111,\"#46039f\"],[0.2222222222222222,\"#7201a8\"],[0.3333333333333333,\"#9c179e\"],[0.4444444444444444,\"#bd3786\"],[0.5555555555555556,\"#d8576b\"],[0.6666666666666666,\"#ed7953\"],[0.7777777777777778,\"#fb9f3a\"],[0.8888888888888888,\"#fdca26\"],[1.0,\"#f0f921\"]],\"type\":\"histogram2d\"}],\"histogram2dcontour\":[{\"colorbar\":{\"outlinewidth\":0,\"ticks\":\"\"},\"colorscale\":[[0.0,\"#0d0887\"],[0.1111111111111111,\"#46039f\"],[0.2222222222222222,\"#7201a8\"],[0.3333333333333333,\"#9c179e\"],[0.4444444444444444,\"#bd3786\"],[0.5555555555555556,\"#d8576b\"],[0.6666666666666666,\"#ed7953\"],[0.7777777777777778,\"#fb9f3a\"],[0.8888888888888888,\"#fdca26\"],[1.0,\"#f0f921\"]],\"type\":\"histogram2dcontour\"}],\"mesh3d\":[{\"colorbar\":{\"outlinewidth\":0,\"ticks\":\"\"},\"type\":\"mesh3d\"}],\"parcoords\":[{\"line\":{\"colorbar\":{\"outlinewidth\":0,\"ticks\":\"\"}},\"type\":\"parcoords\"}],\"pie\":[{\"automargin\":true,\"type\":\"pie\"}],\"scatter\":[{\"marker\":{\"colorbar\":{\"outlinewidth\":0,\"ticks\":\"\"}},\"type\":\"scatter\"}],\"scatter3d\":[{\"line\":{\"colorbar\":{\"outlinewidth\":0,\"ticks\":\"\"}},\"marker\":{\"colorbar\":{\"outlinewidth\":0,\"ticks\":\"\"}},\"type\":\"scatter3d\"}],\"scattercarpet\":[{\"marker\":{\"colorbar\":{\"outlinewidth\":0,\"ticks\":\"\"}},\"type\":\"scattercarpet\"}],\"scattergeo\":[{\"marker\":{\"colorbar\":{\"outlinewidth\":0,\"ticks\":\"\"}},\"type\":\"scattergeo\"}],\"scattergl\":[{\"marker\":{\"colorbar\":{\"outlinewidth\":0,\"ticks\":\"\"}},\"type\":\"scattergl\"}],\"scattermapbox\":[{\"marker\":{\"colorbar\":{\"outlinewidth\":0,\"ticks\":\"\"}},\"type\":\"scattermapbox\"}],\"scatterpolar\":[{\"marker\":{\"colorbar\":{\"outlinewidth\":0,\"ticks\":\"\"}},\"type\":\"scatterpolar\"}],\"scatterpolargl\":[{\"marker\":{\"colorbar\":{\"outlinewidth\":0,\"ticks\":\"\"}},\"type\":\"scatterpolargl\"}],\"scatterternary\":[{\"marker\":{\"colorbar\":{\"outlinewidth\":0,\"ticks\":\"\"}},\"type\":\"scatterternary\"}],\"surface\":[{\"colorbar\":{\"outlinewidth\":0,\"ticks\":\"\"},\"colorscale\":[[0.0,\"#0d0887\"],[0.1111111111111111,\"#46039f\"],[0.2222222222222222,\"#7201a8\"],[0.3333333333333333,\"#9c179e\"],[0.4444444444444444,\"#bd3786\"],[0.5555555555555556,\"#d8576b\"],[0.6666666666666666,\"#ed7953\"],[0.7777777777777778,\"#fb9f3a\"],[0.8888888888888888,\"#fdca26\"],[1.0,\"#f0f921\"]],\"type\":\"surface\"}],\"table\":[{\"cells\":{\"fill\":{\"color\":\"#EBF0F8\"},\"line\":{\"color\":\"white\"}},\"header\":{\"fill\":{\"color\":\"#C8D4E3\"},\"line\":{\"color\":\"white\"}},\"type\":\"table\"}]},\"layout\":{\"annotationdefaults\":{\"arrowcolor\":\"#2a3f5f\",\"arrowhead\":0,\"arrowwidth\":1},\"autotypenumbers\":\"strict\",\"coloraxis\":{\"colorbar\":{\"outlinewidth\":0,\"ticks\":\"\"}},\"colorscale\":{\"diverging\":[[0,\"#8e0152\"],[0.1,\"#c51b7d\"],[0.2,\"#de77ae\"],[0.3,\"#f1b6da\"],[0.4,\"#fde0ef\"],[0.5,\"#f7f7f7\"],[0.6,\"#e6f5d0\"],[0.7,\"#b8e186\"],[0.8,\"#7fbc41\"],[0.9,\"#4d9221\"],[1,\"#276419\"]],\"sequential\":[[0.0,\"#0d0887\"],[0.1111111111111111,\"#46039f\"],[0.2222222222222222,\"#7201a8\"],[0.3333333333333333,\"#9c179e\"],[0.4444444444444444,\"#bd3786\"],[0.5555555555555556,\"#d8576b\"],[0.6666666666666666,\"#ed7953\"],[0.7777777777777778,\"#fb9f3a\"],[0.8888888888888888,\"#fdca26\"],[1.0,\"#f0f921\"]],\"sequentialminus\":[[0.0,\"#0d0887\"],[0.1111111111111111,\"#46039f\"],[0.2222222222222222,\"#7201a8\"],[0.3333333333333333,\"#9c179e\"],[0.4444444444444444,\"#bd3786\"],[0.5555555555555556,\"#d8576b\"],[0.6666666666666666,\"#ed7953\"],[0.7777777777777778,\"#fb9f3a\"],[0.8888888888888888,\"#fdca26\"],[1.0,\"#f0f921\"]]},\"colorway\":[\"#636efa\",\"#EF553B\",\"#00cc96\",\"#ab63fa\",\"#FFA15A\",\"#19d3f3\",\"#FF6692\",\"#B6E880\",\"#FF97FF\",\"#FECB52\"],\"font\":{\"color\":\"#2a3f5f\"},\"geo\":{\"bgcolor\":\"white\",\"lakecolor\":\"white\",\"landcolor\":\"#E5ECF6\",\"showlakes\":true,\"showland\":true,\"subunitcolor\":\"white\"},\"hoverlabel\":{\"align\":\"left\"},\"hovermode\":\"closest\",\"mapbox\":{\"style\":\"light\"},\"paper_bgcolor\":\"white\",\"plot_bgcolor\":\"#E5ECF6\",\"polar\":{\"angularaxis\":{\"gridcolor\":\"white\",\"linecolor\":\"white\",\"ticks\":\"\"},\"bgcolor\":\"#E5ECF6\",\"radialaxis\":{\"gridcolor\":\"white\",\"linecolor\":\"white\",\"ticks\":\"\"}},\"scene\":{\"xaxis\":{\"backgroundcolor\":\"#E5ECF6\",\"gridcolor\":\"white\",\"gridwidth\":2,\"linecolor\":\"white\",\"showbackground\":true,\"ticks\":\"\",\"zerolinecolor\":\"white\"},\"yaxis\":{\"backgroundcolor\":\"#E5ECF6\",\"gridcolor\":\"white\",\"gridwidth\":2,\"linecolor\":\"white\",\"showbackground\":true,\"ticks\":\"\",\"zerolinecolor\":\"white\"},\"zaxis\":{\"backgroundcolor\":\"#E5ECF6\",\"gridcolor\":\"white\",\"gridwidth\":2,\"linecolor\":\"white\",\"showbackground\":true,\"ticks\":\"\",\"zerolinecolor\":\"white\"}},\"shapedefaults\":{\"line\":{\"color\":\"#2a3f5f\"}},\"ternary\":{\"aaxis\":{\"gridcolor\":\"white\",\"linecolor\":\"white\",\"ticks\":\"\"},\"baxis\":{\"gridcolor\":\"white\",\"linecolor\":\"white\",\"ticks\":\"\"},\"bgcolor\":\"#E5ECF6\",\"caxis\":{\"gridcolor\":\"white\",\"linecolor\":\"white\",\"ticks\":\"\"}},\"title\":{\"x\":0.05},\"xaxis\":{\"automargin\":true,\"gridcolor\":\"white\",\"linecolor\":\"white\",\"ticks\":\"\",\"title\":{\"standoff\":15},\"zerolinecolor\":\"white\",\"zerolinewidth\":2},\"yaxis\":{\"automargin\":true,\"gridcolor\":\"white\",\"linecolor\":\"white\",\"ticks\":\"\",\"title\":{\"standoff\":15},\"zerolinecolor\":\"white\",\"zerolinewidth\":2}}},\"polar\":{\"radialaxis\":{\"visible\":true,\"range\":[0,1]}},\"showlegend\":true},                        {\"responsive\": true}                    ).then(function(){\n",
       "                            \n",
       "var gd = document.getElementById('83c5f311-bcef-46cc-aed1-0e443518997e');\n",
       "var x = new MutationObserver(function (mutations, observer) {{\n",
       "        var display = window.getComputedStyle(gd).display;\n",
       "        if (!display || display === 'none') {{\n",
       "            console.log([gd, 'removed!']);\n",
       "            Plotly.purge(gd);\n",
       "            observer.disconnect();\n",
       "        }}\n",
       "}});\n",
       "\n",
       "// Listen for the removal of the full notebook cells\n",
       "var notebookContainer = gd.closest('#notebook-container');\n",
       "if (notebookContainer) {{\n",
       "    x.observe(notebookContainer, {childList: true});\n",
       "}}\n",
       "\n",
       "// Listen for the clearing of the current output cell\n",
       "var outputEl = gd.closest('.output');\n",
       "if (outputEl) {{\n",
       "    x.observe(outputEl, {childList: true});\n",
       "}}\n",
       "\n",
       "                        })                };                });            </script>        </div>"
      ]
     },
     "metadata": {},
     "output_type": "display_data"
    }
   ],
   "source": [
    "polarplt(df3, 'cluster_M0', selection)"
   ]
  },
  {
   "cell_type": "markdown",
   "metadata": {},
   "source": [
    "<a id='Ari' />\n",
    "\n",
    "# Part 4 - Ari Score"
   ]
  },
  {
   "cell_type": "code",
   "execution_count": 199,
   "metadata": {},
   "outputs": [
    {
     "data": {
      "text/plain": [
       "Text(0, 0.5, 'Score')"
      ]
     },
     "execution_count": 199,
     "metadata": {},
     "output_type": "execute_result"
    },
    {
     "data": {
      "image/png": "[encoded data removed]",
      "text/plain": [
       "<Figure size 648x432 with 1 Axes>"
      ]
     },
     "metadata": {},
     "output_type": "display_data"
    }
   ],
   "source": [
    "ari1 = 0.8872556073100312+(0.9288137950574238-0.8872556073100312)/2\n",
    "ari2 = 0.6286037269077773+2*(0.8872556073100312-0.6286037269077773)/3\n",
    "ari3 = 0.6286037269077773+(0.8872556073100312-0.6286037269077773)/3\n",
    "\n",
    "ari_time = ['t0', '+1 month', '', '+3 months', ' ', '  ', '+6 months']\n",
    "ari_tab = [1, 0.9288137950574238, ari1, 0.8872556073100312, ari2, ari3, 0.6286037269077773]\n",
    "\n",
    "\n",
    "\n",
    "fig = plt.figure(figsize=(7,5))\n",
    "ax = plt.axes()\n",
    "\n",
    "ax.plot(ari_time, ari_tab)\n",
    "plt.title('Ari score', fontsize=16)\n",
    "plt.xlabel('Time', fontsize=16)\n",
    "plt.xticks(fontsize=14)\n",
    "plt.yticks(fontsize=14)\n",
    "plt.ylabel('Score', fontsize=16)\n",
    "plt.grid(visible=True, alpha=0.6)"
   ]
  }
 ],
 "metadata": {
  "kernelspec": {
   "display_name": "Python 3 (ipykernel)",
   "language": "python",
   "name": "python3"
  },
  "language_info": {
   "codemirror_mode": {
    "name": "ipython",
    "version": 3
   },
   "file_extension": ".py",
   "mimetype": "text/x-python",
   "name": "python",
   "nbconvert_exporter": "python",
   "pygments_lexer": "ipython3",
   "version": "3.9.7"
  }
 },
 "nbformat": 4,
 "nbformat_minor": 4
}
